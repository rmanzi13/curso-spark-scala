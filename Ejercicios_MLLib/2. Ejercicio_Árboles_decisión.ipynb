{
 "cells": [
  {
   "cell_type": "markdown",
   "id": "fdcc928b-ad26-4022-925a-e7b3f0a31cc3",
   "metadata": {},
   "source": [
    "### Ejercicio: Árboles de Decisión para Clasificación\n",
    "\n",
    "**Objetivo**:\n",
    "\n",
    "Entrenar un modelo de árbol de decisión para predecir si una paciente tiene diabetes en función de ciertas mediciones diagnósticas incluidas en el conjunto de datos.. Evaluar el modelo utilizando métricas de clasificación y visualizar el árbol de decisión."
   ]
  },
  {
   "cell_type": "markdown",
   "id": "937a3db6-416b-4c7f-abbc-4ad918561002",
   "metadata": {},
   "source": [
    "**Pasos del ejercicio**:\n",
    "\n",
    "**1.** Cargar los datos.\n",
    "\n",
    "**2.** Preparar los datos: Crear un vector de características y dividir los datos en conjuntos de entrenamiento y prueba.\n",
    "\n",
    "**3.** Entrenar el modelo de árbol de decisión.\n",
    "\n",
    "**4.** Evaluar el modelo: Calcular métricas de clasificación (exactitud, precisión, recall, F1-score).\n",
    "\n",
    "**5.** Interpretar los resultados.\n",
    "\n",
    "**6.** Visualizar el árbol de decisión (opcional, si usas una herramienta externa como Graphviz).\n",
    "\n",
    "**Código en Scala con Spark MLlib**"
   ]
  },
  {
   "cell_type": "code",
   "execution_count": null,
   "id": "8da00a19-0a30-4a66-9daf-2e69b33cb6fe",
   "metadata": {},
   "outputs": [],
   "source": []
  }
 ],
 "metadata": {
  "kernelspec": {
   "display_name": "Apache Toree - Scala",
   "language": "scala",
   "name": "apache_toree_scala"
  },
  "language_info": {
   "codemirror_mode": "text/x-scala",
   "file_extension": ".scala",
   "mimetype": "text/x-scala",
   "name": "scala",
   "pygments_lexer": "scala",
   "version": "2.12.15"
  }
 },
 "nbformat": 4,
 "nbformat_minor": 5
}
