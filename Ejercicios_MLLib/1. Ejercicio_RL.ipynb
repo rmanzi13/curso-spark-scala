{
 "cells": [
  {
   "cell_type": "markdown",
   "id": "fe92d40a-51aa-493d-9d8a-c0fc21a28bbe",
   "metadata": {},
   "source": [
    "## Regresión Lineal"
   ]
  },
  {
   "cell_type": "markdown",
   "id": "30249b31-2a26-4474-8444-1aad6b15b16e",
   "metadata": {},
   "source": [
    "### Ejercicio: Regresión Lineal con Spark MLlib\n",
    "\n",
    "**Objetivo**:\n",
    "\n",
    "Implementar un modelo de regresión lineal para predecir la calidad del vino (quality) en función de las características químicas proporcionadas en el dataset winequality-red. Evaluar el rendimiento del modelo utilizando las métricas RMSE y R²."
   ]
  },
  {
   "cell_type": "markdown",
   "id": "b86de0fc-6ee7-451d-bc5c-adeeddb36e70",
   "metadata": {},
   "source": [
    "**Pasos del ejercicio**:\n",
    "\n",
    "Cargar los datos. [data](https://archive.ics.uci.edu/dataset/186/wine+quality)\n",
    "\n",
    "**1.** Preparar los datos: Crear un vector de características y dividir los datos en conjuntos de entrenamiento y prueba.\n",
    "\n",
    "**2.** Entrenar el modelo de regresión lineal.\n",
    "\n",
    "**3.** Evaluar el modelo: Calcular RMSE y R².\n",
    "\n",
    "**4.** Interpretar los resultados.\n",
    "\n",
    "**Código en Scala con Spark MLlib**:"
   ]
  },
  {
   "cell_type": "markdown",
   "id": "4d18b7bb-0f88-426f-b5dd-503a79020793",
   "metadata": {},
   "source": []
  }
 ],
 "metadata": {
  "kernelspec": {
   "display_name": "Apache Toree - Scala",
   "language": "scala",
   "name": "apache_toree_scala"
  },
  "language_info": {
   "codemirror_mode": "text/x-scala",
   "file_extension": ".scala",
   "mimetype": "text/x-scala",
   "name": "scala",
   "pygments_lexer": "scala",
   "version": "2.12.15"
  }
 },
 "nbformat": 4,
 "nbformat_minor": 5
}
