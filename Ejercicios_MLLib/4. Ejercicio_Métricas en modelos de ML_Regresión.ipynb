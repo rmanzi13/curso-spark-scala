{
 "cells": [
  {
   "cell_type": "markdown",
   "id": "70292fd6-4a57-40cd-bcc8-24e82bef3b27",
   "metadata": {},
   "source": [
    "**Regresión: Métricas de Regresión**"
   ]
  },
  {
   "cell_type": "code",
   "execution_count": null,
   "id": "8c49c801-40ac-4736-bfb6-14f1de7f4f44",
   "metadata": {},
   "outputs": [],
   "source": [
    "import org.apache.spark.sql.SparkSession\n",
    "import org.apache.spark.ml.feature.VectorAssembler\n",
    "import org.apache.spark.ml.regression.RandomForestRegressor\n",
    "import org.apache.spark.ml.evaluation.RegressionEvaluator\n",
    "\n",
    "// 1. Crear una sesión de Spark\n",
    "val spark = SparkSession.builder()\n",
    "  .appName(\"Regression Metrics Example\")\n",
    "  .master(\"local[*]\")\n",
    "  .getOrCreate()\n",
    "\n",
    "// 2. Cargar el dataset winequality-red\n",
    "val data = spark.read\n",
    "  .option(\"header\", \"true\")\n",
    "  .option(\"inferSchema\", \"true\")\n",
    "  .csv(\"winequality-red.csv\") // Reemplaza con la ruta correcta\n",
    "\n",
    "// 3. Preparar los datos: Crear un vector de características\n",
    "val featureColumns = Array(\n",
    "  \"fixed_acidity\", \"volatile_acidity\", \"citric_acid\", \"residual_sugar\",\n",
    "  \"chlorides\", \"free_sulf_dioxide\", \"total_sulfur_dioxide\", \"density\",\n",
    "  \"pH\", \"sulphates\", \"alcohol\"\n",
    ")\n",
    "\n",
    "val assembler = new VectorAssembler()\n",
    "  .setInputCols(featureColumns)\n",
    "  .setOutputCol(\"features\")\n",
    "\n",
    "val assembledData = assembler.transform(data)\n",
    "\n",
    "// 4. Dividir los datos en conjuntos de entrenamiento y prueba (80% - 20%)\n",
    "val Array(trainingData, testData) = assembledData.randomSplit(Array(0.8, 0.2), seed = 42)\n",
    "\n",
    "// 5. Entrenar un modelo de regresión (Random Forest)\n",
    "val rf = new RandomForestRegressor()\n",
    "  .setLabelCol(\"quality\")\n",
    "  .setFeaturesCol(\"features\")\n",
    "  .setNumTrees(50)\n",
    "  .setSeed(42)\n",
    "\n",
    "val model = rf.fit(trainingData)\n",
    "\n",
    "// 6. Hacer predicciones sobre el conjunto de prueba\n",
    "val predictions = model.transform(testData)\n",
    "\n",
    "// 7. Calcular métricas de regresión\n",
    "val evaluator = new RegressionEvaluator()\n",
    "  .setLabelCol(\"quality\")\n",
    "  .setPredictionCol(\"prediction\")\n",
    "\n",
    "val rmse = evaluator.setMetricName(\"rmse\").evaluate(predictions)\n",
    "val r2 = evaluator.setMetricName(\"r2\").evaluate(predictions)\n",
    "val mae = evaluator.setMetricName(\"mae\").evaluate(predictions)\n",
    "\n",
    "println(s\"RMSE: $rmse\")\n",
    "println(s\"R²: $r2\")\n",
    "println(s\"MAE: $mae\")\n",
    "\n",
    "// 8. Detener la sesión de Spark\n",
    "spark.stop()"
   ]
  },
  {
   "cell_type": "markdown",
   "id": "2c35d938-271e-452b-bf39-f081c3c76520",
   "metadata": {},
   "source": [
    " ### Interpretación de Resultados\n",
    "\n",
    "- **Regresión**:\n",
    "\n",
    "    - **RMSE**: El error promedio en la predicción de la calidad del vino.\n",
    "\n",
    "    - **R²**: Cuánta variabilidad en la calidad del vino es explicada por el modelo.\n",
    "\n",
    "    - MAE**: El error absoluto promedio en la predicción."
   ]
  },
  {
   "cell_type": "code",
   "execution_count": null,
   "id": "03a94bb3-1c9e-4ba7-bdfa-0cdba3b69509",
   "metadata": {},
   "outputs": [],
   "source": []
  }
 ],
 "metadata": {
  "kernelspec": {
   "display_name": "Apache Toree - Scala",
   "language": "scala",
   "name": "apache_toree_scala"
  },
  "language_info": {
   "codemirror_mode": "text/x-scala",
   "file_extension": ".scala",
   "mimetype": "text/x-scala",
   "name": "scala",
   "pygments_lexer": "scala",
   "version": "2.12.15"
  }
 },
 "nbformat": 4,
 "nbformat_minor": 5
}
