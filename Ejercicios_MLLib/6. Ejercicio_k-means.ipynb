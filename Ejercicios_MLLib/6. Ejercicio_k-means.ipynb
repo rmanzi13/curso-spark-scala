{
 "cells": [
  {
   "cell_type": "markdown",
   "id": "bf9b9b91-4944-4faa-b2f9-f6f7a7d32d72",
   "metadata": {},
   "source": [
    "## K-means\n",
    "\n",
    "### Ejercicio: K-means con Spark MLlib"
   ]
  },
  {
   "cell_type": "markdown",
   "id": "308104a2-fa9e-49c0-9b18-cf51bdc0590f",
   "metadata": {},
   "source": [
    "### Objetivo del ejercicio:\n",
    "\n",
    "Implementar un modelo de K-Means para predecir el comportamiento de compra de los clientes en función de las características proporcionadas por el archivo wholesale customers data.csv.\n",
    "\n",
    "El modelo de K-Means se utilizará para segmentar a los clientes en grupos (clusters) según sus patrones de compra de productos en categorías como Fresh, Milk, Grocery, Frozen, Detergents_Paper, y Delicassen. Estos grupos pueden ayudar a identificar comportamientos comunes entre los clientes y apoyar decisiones comerciales como la personalización de ofertas y marketing dirigido."
   ]
  },
  {
   "cell_type": "markdown",
   "id": "fd7b4219-ae95-4026-a5fa-65cd1de81d3b",
   "metadata": {},
   "source": [
    "**Pasos del ejercicio**:\n",
    "\n",
    "Cargar los datos. data\n",
    "\n",
    "**1.** Preparar los datos: Crear un vector de características y dividir los datos en conjuntos de entrenamiento y prueba.\n",
    "\n",
    "**2.** Entrenar el modelo de k-means.\n",
    "\n",
    "**3.** Evaluar el modelo: \n",
    "\n",
    "- Obtener las predicciones del modelo utilizando el conjunto de prueba.\n",
    "  \n",
    "- Analizar los resultados y la calidad del modelo, como la interpretación de los centroides de los clusters y las asignaciones de clusters a las observaciones.\n",
    "\n",
    "**4.** Interpretar los clusters.\n",
    "\n",
    "\n",
    "\n",
    "\n",
    "\n",
    "Código en Scala con Spark MLlib:"
   ]
  }
 ],
 "metadata": {
  "kernelspec": {
   "display_name": "Apache Toree - Scala",
   "language": "scala",
   "name": "apache_toree_scala"
  },
  "language_info": {
   "codemirror_mode": "text/x-scala",
   "file_extension": ".scala",
   "mimetype": "text/x-scala",
   "name": "scala",
   "pygments_lexer": "scala",
   "version": "2.12.15"
  }
 },
 "nbformat": 4,
 "nbformat_minor": 5
}
