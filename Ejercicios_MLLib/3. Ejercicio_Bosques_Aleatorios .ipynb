{
 "cells": [
  {
   "cell_type": "markdown",
   "id": "dab7312d-9540-476d-8c5b-f416709ca1f8",
   "metadata": {},
   "source": [
    "### Ejercicio: Bosques Aleatorios para Predicción de Cargas de Calefacción y Refrigeración\n",
    "\n",
    "**Objetivo**:\n",
    "\n",
    "Implementar un modelo de Bosques Aleatorios (Random Forest) para predecir la carga de calefacción (heating_load) y la carga de refrigeración (cooling_load) en función de las características del edificio. Comparar el rendimiento del modelo de Bosques Aleatorios con un Árbol de Decisión individual."
   ]
  },
  {
   "cell_type": "markdown",
   "id": "47231be2-d52e-4ad6-ba18-ec93d7b2a75e",
   "metadata": {},
   "source": [
    "**Pasos del ejercicio**:\n",
    "\n",
    "**1.** Cargar y preparar los datos: Renombrar las variables y crear un vector de características.\n",
    "\n",
    "**2.** Dividir los datos: Crear conjuntos de entrenamiento y prueba.\n",
    "\n",
    "**3.** Entrenar un modelo de Árbol de Decisión.\n",
    "\n",
    "**4.** Entrenar un modelo de Bosques Aleatorios.\n",
    "\n",
    "**5.** Evaluar y comparar los modelos: Calcular métricas de regresión (RMSE, R²).\n",
    "\n",
    "**6.** Interpretar los resultados."
   ]
  },
  {
   "cell_type": "code",
   "execution_count": null,
   "id": "20652a6e-c80b-4b70-a242-4d2ac7999e85",
   "metadata": {},
   "outputs": [],
   "source": []
  }
 ],
 "metadata": {
  "kernelspec": {
   "display_name": "Apache Toree - Scala",
   "language": "scala",
   "name": "apache_toree_scala"
  },
  "language_info": {
   "codemirror_mode": "text/x-scala",
   "file_extension": ".scala",
   "mimetype": "text/x-scala",
   "name": "scala",
   "pygments_lexer": "scala",
   "version": "2.12.15"
  }
 },
 "nbformat": 4,
 "nbformat_minor": 5
}
