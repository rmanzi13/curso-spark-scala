{
 "cells": [
  {
   "cell_type": "markdown",
   "id": "0b1c3f35-91d3-4cde-ba60-ee9de1d9e38b",
   "metadata": {},
   "source": [
    "##  Introducción a GraphX"
   ]
  },
  {
   "cell_type": "markdown",
   "id": "81973963-fea8-4ba4-a736-e0c02c5920af",
   "metadata": {},
   "source": [
    "### ¿Qué es GraphX?\n",
    "\n",
    "#### **Definición**:\n",
    "\n",
    "- GraphX es una API de Apache Spark diseñada para el procesamiento distribuido de grafos. Combina la manipulación de grafos con el procesamiento de datos a gran escala, permitiendo a los usuarios analizar y transformar grafos de manera eficiente en un entorno distribuido.\n",
    "\n",
    "#### **Relación con Spark**:\n",
    "\n",
    "GraphX extiende el modelo de Resilient Distributed Datasets (RDDs) de Spark para soportar operaciones específicas de grafos, como la creación, manipulación y análisis de estructuras de grafos."
   ]
  },
  {
   "cell_type": "markdown",
   "id": "90b08d88-2926-43bb-a533-b5362fe5ae7f",
   "metadata": {},
   "source": [
    " ### Casos de uso comunes\n",
    " \n",
    "GraphX es especialmente útil en aplicaciones que involucran relaciones complejas entre entidades. Algunos ejemplos incluyen:\n",
    "\n",
    "**Redes sociales**:\n",
    "\n",
    "- Análisis de comunidades, detección de influencers, estudio de patrones de conexión entre usuarios.\n",
    "\n",
    "**Análisis de rutas**:\n",
    "\n",
    "- Optimización de rutas en redes de transporte, logística y sistemas de navegación.\n",
    "\n",
    "**Sistemas de recomendación**:\n",
    "\n",
    "- Generación de recomendaciones basadas en relaciones entre usuarios y productos (por ejemplo, \"personas que compraron X también compraron Y\").\n"
   ]
  },
  {
   "cell_type": "markdown",
   "id": "5822bb68-592c-43ac-858e-6439401aacf5",
   "metadata": {},
   "source": [
    "### Componentes clave de GraphX\n",
    "\n",
    "GraphX se basa en tres conceptos fundamentales:\n",
    "\n",
    "**1.** **Vértices (Vertex)**:\n",
    "Representan entidades en el grafo (por ejemplo, usuarios en una red social). Cada vértice tiene un identificador único (ID) y puede contener atributos (por ejemplo, edad, género, etc.).\n",
    "\n",
    "**2.** **Aristas (Edge)**:\n",
    "Representan las relaciones entre vértices (por ejemplo, amistades en una red social). Las aristas también pueden tener atributos (por ejemplo, peso, tipo de relación).\n",
    "\n",
    "**3.** **Grafos de propiedades**:\n",
    "Son grafos que permiten almacenar propiedades (atributos) tanto en vértices como en aristas. Esto facilita el análisis de datos complejos."
   ]
  },
  {
   "cell_type": "markdown",
   "id": "c412c0e8-0ad2-4653-82ae-5681d7ce6b74",
   "metadata": {},
   "source": [
    " ### VertexRDD y EdgeRDD\n",
    "GraphX utiliza dos estructuras de datos principales para representar grafos:\n",
    "\n",
    "**1.** **VertexRDD**:\n",
    "\n",
    "- Es una colección distribuida de vértices, donde cada vértice tiene un identificador único (ID) y un conjunto de atributos.\n",
    "\n",
    "- Está optimizada para operaciones como joins y agregaciones sobre vértices.\n",
    "\n",
    "**2.** **EdgeRDD**:\n",
    "\n",
    "- Es una colección distribuida de aristas, donde cada arista contiene los IDs de los vértices de origen y destino, junto con atributos adicionales.\n",
    "\n",
    "- Permite operaciones eficientes sobre las relaciones entre vértices.\n",
    "\n"
   ]
  },
  {
   "cell_type": "markdown",
   "id": "59f57347-3913-4291-9d92-62c1cc34ed23",
   "metadata": {},
   "source": [
    "### Pregel API\n",
    "\n",
    "- **Modelo de computación**:\n",
    "Pregel es un modelo de computación basado en el paso de mensajes, diseñado para procesar grafos de manera iterativa. Fue introducido por Google y es ampliamente utilizado en GraphX.\n",
    "\n",
    "- **Funcionamiento**:\n",
    "\n",
    "  - En cada iteración (superstep), los vértices reciben mensajes de sus vecinos, procesan la información y envían mensajes a otros vértices.\n",
    "\n",
    "  - El proceso continúa hasta que no se envían más mensajes o se alcanza un criterio de convergencia.\n",
    "\n",
    "- **Ventajas**:\n",
    "\n",
    "  - Permite implementar algoritmos iterativos de manera eficiente, como el cálculo de caminos más cortos (Dijkstra) o la detección de comunidades.\n"
   ]
  },
  {
   "cell_type": "markdown",
   "id": "a8f384a9-293a-4b35-9660-5717cb751c07",
   "metadata": {},
   "source": [
    "### Resumen \n",
    "\n",
    "- GraphX es una herramienta poderosa para el procesamiento distribuido de grafos en Spark.\n",
    "\n",
    "- Sus componentes clave (vértices, aristas, VertexRDD, EdgeRDD) permiten modelar y analizar relaciones complejas.\n",
    "\n",
    "- La API de Pregel facilita la implementación de algoritmos iterativos basados en grafos."
   ]
  }
 ],
 "metadata": {
  "kernelspec": {
   "display_name": "Apache Toree - Scala",
   "language": "scala",
   "name": "apache_toree_scala"
  },
  "language_info": {
   "codemirror_mode": "text/x-scala",
   "file_extension": ".scala",
   "mimetype": "text/x-scala",
   "name": "scala",
   "pygments_lexer": "scala",
   "version": "2.12.15"
  }
 },
 "nbformat": 4,
 "nbformat_minor": 5
}
