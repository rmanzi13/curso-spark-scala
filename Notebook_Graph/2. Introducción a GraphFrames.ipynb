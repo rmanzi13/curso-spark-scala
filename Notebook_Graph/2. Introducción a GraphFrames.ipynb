{
 "cells": [
  {
   "cell_type": "markdown",
   "id": "cdf6f0ea-032a-44ab-b282-f7fd29f795d0",
   "metadata": {},
   "source": [
    "##  Introducción a GraphFrames"
   ]
  },
  {
   "cell_type": "markdown",
   "id": "874eead0-e06b-4485-8efe-3c6c0ad44e21",
   "metadata": {},
   "source": [
    "### Qué es GraphFrames?\n",
    "\n",
    "#### **Definición**:\n",
    "GraphFrames es un paquete de Apache Spark diseñado para el procesamiento de grafos, pero con una diferencia clave: está basado en DataFrames en lugar de RDDs (Resilient Distributed Datasets). Esto lo hace más eficiente y fácil de usar, especialmente para quienes ya están familiarizados con Spark SQL y DataFrames.\n",
    "\n",
    "#### **Relación con Spark**:\n",
    "GraphFrames combina la potencia de los grafos con la flexibilidad y optimización de los DataFrames, permitiendo consultas y operaciones más rápidas y expresivas.\n"
   ]
  },
  {
   "cell_type": "markdown",
   "id": "ada450af-d9d1-4b23-b2be-bea9adfce619",
   "metadata": {},
   "source": [
    "### Ventajas de GraphFrames\n",
    "GraphFrames ofrece varias ventajas sobre otras APIs de grafos, como GraphX:\n",
    "\n",
    "**1.** **Integración con Spark SQL**:\n",
    "\n",
    "  - Permite ejecutar consultas SQL directamente sobre los grafos, lo que facilita el análisis de datos estructurados.\n",
    "\n",
    "  - Ejemplo: Filtrar vértices o aristas usando expresiones SQL.\n",
    "\n",
    "**2.** **Facilidad de uso**:\n",
    "\n",
    "  - Al estar basado en DataFrames, GraphFrames es más intuitivo para usuarios que ya trabajan con Spark SQL.\n",
    "\n",
    "  - Proporciona una API de alto nivel que simplifica la manipulación de grafos.\n",
    "\n",
    "**3.** **Optimización de consultas**:\n",
    "\n",
    "  - Spark optimiza automáticamente las operaciones sobre DataFrames, lo que mejora el rendimiento en comparación con RDDs.\n",
    "\n",
    "**4.** **Soporte para grafos dirigidos y no dirigidos**:\n",
    "\n",
    "  - GraphFrames puede manejar tanto grafos dirigidos (con dirección en las aristas) como no dirigidos (sin dirección)."
   ]
  },
  {
   "cell_type": "markdown",
   "id": "9ab260cf-b003-49fa-aeb9-1cd936ec8e52",
   "metadata": {},
   "source": [
    "### Representación de vértices y aristas con DataFrames\n",
    "En GraphFrames, los grafos se representan utilizando dos DataFrames:\n",
    "\n",
    "**1.** **Vértices (Vertices)**:\n",
    "\n",
    "- Cada fila del DataFrame representa un vértice.\n",
    "\n",
    "- La estructura típica incluye:\n",
    "\n",
    "  - id: Identificador único del vértice.\n",
    "\n",
    "  - atributos: Columnas adicionales que almacenan propiedades del vértice (por ejemplo, nombre, edad, etc.).\n",
    "\n",
    "**Ejemplo de DataFrame de vértices**:"
   ]
  },
  {
   "cell_type": "code",
   "execution_count": null,
   "id": "ecce22d5-3374-4385-9716-6338884bfce5",
   "metadata": {},
   "outputs": [],
   "source": [
    "+---+-------+-----+\n",
    "| id| nombre| edad|\n",
    "+---+-------+-----+\n",
    "|  1|  Alice|   34|\n",
    "|  2|    Bob|   28|\n",
    "+---+-------+-----+"
   ]
  },
  {
   "cell_type": "markdown",
   "id": "738a4530-0770-4fe2-ac32-83249abe02a7",
   "metadata": {},
   "source": [
    "#### Este DataFrame te dice que el grafo tiene dos nodos:\n",
    "- Un nodo con id=1, que representa a Alice, de 34 años.\n",
    "\n",
    "- Un nodo con id=2, que representa a Bob, de 28 años."
   ]
  },
  {
   "cell_type": "markdown",
   "id": "5c3d051a-0b36-4808-bfc4-b66880502e6a",
   "metadata": {},
   "source": [
    "**2.** **Aristas (Edges)**:\n",
    "\n",
    "- Cada fila del DataFrame representa una arista.\n",
    "\n",
    "- La estructura típica incluye:\n",
    "\n",
    "  - **src**: ID del vértice de origen.\n",
    "\n",
    "  - **dst**: ID del vértice de destino.\n",
    "\n",
    "  - **atributos**: Columnas adicionales que almacenan propiedades de la arista (por ejemplo, peso, tipo de relación, etc.).\n",
    "\n",
    "**Ejemplo de DataFrame de aristas**:"
   ]
  },
  {
   "cell_type": "code",
   "execution_count": null,
   "id": "605b381b-0ea5-4a12-9490-420450f29e2f",
   "metadata": {},
   "outputs": [],
   "source": [
    "+---+---+------------+\n",
    "|src|dst|  relación  |\n",
    "+---+---+------------+\n",
    "|  1|  2|    amigo    |\n",
    "|  2|  1|    sigue    |\n",
    "+---+---+------------+"
   ]
  },
  {
   "cell_type": "markdown",
   "id": "542ee8f6-a250-4050-a7b9-e17fa6572071",
   "metadata": {},
   "source": [
    "#### Interpretación:\n",
    "Este DataFrame de aristas te dice lo siguiente:\n",
    "\n",
    "**1.** **La primera fila** (de src = 1 a dst = 2) indica que Alice (id=1) tiene una relación de amigo con Bob (id=2).\n",
    "\n",
    "**2.** **La segunda fila** (de src = 2 a dst = 1) indica que Bob (id=2) sigue a Alice (id=1), es decir, la relación es dirigida.\n",
    "\n",
    "**Resumen de relaciones**:\n",
    "\n",
    "- Alice es amiga de Bob.\n",
    "- Bob sigue a Alice."
   ]
  },
  {
   "cell_type": "markdown",
   "id": "45282cd3-b369-405a-bcb0-b7bcb6eef6c8",
   "metadata": {},
   "source": [
    "### Construcción de grafos en GraphFrames\n",
    "Para construir un grafo en GraphFrames, se siguen estos pasos:\n",
    "\n",
    "**1.** **Crear DataFrames para vértices y aristas**:\n",
    "\n",
    "- Definir los DataFrames que representan los vértices y las aristas, como se mostró anteriormente.\n",
    "\n",
    "**2.** **Usar el constructor de GraphFrames**:\n",
    "- Una vez que tienes los DataFrames, puedes crear un grafo utilizando el constructor GraphFrame.\n",
    "\n",
    "**Ejemplo en código**:"
   ]
  },
  {
   "cell_type": "code",
   "execution_count": null,
   "id": "674963dc-c191-4205-9f76-80d96eedc3c2",
   "metadata": {},
   "outputs": [],
   "source": [
    "from graphframes import GraphFrame\n",
    "\n",
    "// Crear DataFrames\n",
    "vertices = spark.createDataFrame([(1, \"Alice\", 34), (2, \"Bob\", 28)], [\"id\", \"nombre\", \"edad\"])\n",
    "edges = spark.createDataFrame([(1, 2, \"amigo\"), (2, 1, \"sigue\")], [\"src\", \"dst\", \"relación\"])\n",
    "\n",
    "// Construir el grafo\n",
    "grafo = GraphFrame(vertices, edges)"
   ]
  },
  {
   "cell_type": "markdown",
   "id": "51180b14-f327-402e-a314-34cab729be07",
   "metadata": {},
   "source": [
    "**3.** **Operaciones sobre el grafo**:\n",
    "\n",
    "- Una vez construido el grafo, puedes realizar operaciones como:\n",
    "\n",
    "  - Consultas de vértices y aristas.\n",
    "\n",
    "  - Algoritmos de grafos (por ejemplo, PageRank, BFS, detección de comunidades).\n",
    "\n",
    "  - Transformaciones y filtrados."
   ]
  },
  {
   "cell_type": "markdown",
   "id": "d618629b-eba7-4cd7-b32b-c7ca9c944b7a",
   "metadata": {},
   "source": [
    " ### Ejemplo práctico\n",
    "- Caso de uso:\n",
    "Supongamos que tienes una red social y quieres encontrar a los usuarios más influyentes (PageRank) o los caminos más cortos entre dos usuarios (BFS).\n",
    "\n",
    "- Pasos:\n",
    "\n",
    "    **1.** Crear los DataFrames de vértices y aristas.\n",
    "\n",
    "    **2.** Construir el grafo con GraphFrame.\n",
    "\n",
    "    **3.** Ejecutar algoritmos como PageRank o BFS.\n",
    "\n",
    "    **4.** Visualizar o exportar los resultados."
   ]
  },
  {
   "cell_type": "code",
   "execution_count": null,
   "id": "16f2a538-24d9-40f2-b46a-52972b61ec04",
   "metadata": {},
   "outputs": [],
   "source": []
  }
 ],
 "metadata": {
  "kernelspec": {
   "display_name": "Apache Toree - Scala",
   "language": "scala",
   "name": "apache_toree_scala"
  },
  "language_info": {
   "codemirror_mode": "text/x-scala",
   "file_extension": ".scala",
   "mimetype": "text/x-scala",
   "name": "scala",
   "pygments_lexer": "scala",
   "version": "2.12.15"
  }
 },
 "nbformat": 4,
 "nbformat_minor": 5
}
