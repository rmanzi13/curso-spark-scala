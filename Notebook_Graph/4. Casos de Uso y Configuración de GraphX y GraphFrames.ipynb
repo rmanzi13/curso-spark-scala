{
 "cells": [
  {
   "cell_type": "markdown",
   "id": "eb66fdb8-15ec-4c66-99dc-2eb5e4c12dc1",
   "metadata": {},
   "source": [
    "##  Casos de Uso y Configuración de GraphX y GraphFrames"
   ]
  },
  {
   "cell_type": "markdown",
   "id": "04787e47-cc50-4d13-84cf-91c1027badec",
   "metadata": {},
   "source": [
    "### 1. ¿Cuándo usar GraphX o GraphFrames?"
   ]
  },
  {
   "cell_type": "markdown",
   "id": "d2197743-e5f8-40ba-97ad-9cdbab5a1cbd",
   "metadata": {},
   "source": [
    "#### a) GraphX: Algoritmos complejos y control granular\n",
    "\n",
    "- **Características clave**:\n",
    "\n",
    "  - Basado en RDDs (Resilient Distributed Datasets).\n",
    "\n",
    "  - Proporciona un control fino sobre las operaciones de grafos.\n",
    "\n",
    "  - Ideal para algoritmos iterativos y personalizados.\n",
    "\n",
    "- **Casos de uso**:\n",
    "\n",
    "    **1.** **Algoritmos complejos**:\n",
    "\n",
    "    - **PageRank**: Calcular la importancia de los nodos en un grafo (por ejemplo, identificar usuarios influyentes en una red social).\n",
    "\n",
    "    - **BFS (Breadth-First Search)**: Encontrar el camino más corto entre dos nodos (por ejemplo, rutas en un mapa).\n",
    "\n",
    "    - **Detección de comunidades**: Identificar grupos de nodos fuertemente conectados (por ejemplo, comunidades en redes sociales).\n",
    "\n",
    "    - **Algoritmo de Dijkstra**: Encontrar caminos más cortos en grafos ponderados (por ejemplo, optimización de rutas de transporte).\n",
    "\n",
    "    **2. Control granular**:\n",
    "\n",
    "    - Permite implementar operaciones personalizadas y optimizadas para casos específicos.\n",
    "\n",
    "    - Ejemplo: Modificar el comportamiento de un algoritmo iterativo para adaptarlo a un problema particular.\n",
    "\n",
    "- **Importancia**:\n",
    "\n",
    "  - GraphX es esencial cuando se requiere un alto nivel de control y se trabaja con algoritmos que necesitan múltiples iteraciones o procesamiento distribuido avanzado."
   ]
  },
  {
   "cell_type": "markdown",
   "id": "99df988e-a25d-4ba9-8a2b-88dff2c04186",
   "metadata": {},
   "source": [
    "#### b) GraphFrames: Análisis exploratorio e integración con SQL\n",
    "\n",
    "- **Características clave**:\n",
    "\n",
    "  - Basado en DataFrames.\n",
    "\n",
    "  - Integración nativa con Spark SQL.\n",
    "\n",
    "  - Facilita el análisis de grafos mediante consultas SQL y operaciones de alto nivel.\n",
    "\n",
    "  **Casos de uso**:\n",
    "\n",
    "     **1.** **Análisis exploratorio**:\n",
    "\n",
    "    - Consultas ad-hoc para explorar la estructura del grafo.\n",
    "\n",
    "    - Ejemplo: Filtrar nodos o aristas basados en propiedades específicas (por ejemplo, encontrar todos los usuarios mayores de 30 años en una red social).\n",
    "\n",
    "     **2.** **Integración con SQL**:\n",
    "\n",
    "    - Permite ejecutar consultas SQL directamente sobre los grafos.\n",
    "\n",
    "    - Ejemplo: Realizar joins entre vértices y aristas para obtener información combinada.\n",
    "\n",
    "    **3.** **Operaciones rápidas**:\n",
    "\n",
    "    - Algoritmos como BFS o consultas de conectividad se ejecutan de manera eficiente.\n",
    "\n",
    "    - Ejemplo: Encontrar si dos usuarios están conectados en una red social.\n",
    "\n",
    "**Importancia**:\n",
    "\n",
    "  - GraphFrames es ideal para usuarios que priorizan la facilidad de uso y necesitan realizar análisis rápidos y flexibles."
   ]
  },
  {
   "cell_type": "markdown",
   "id": "847ff1dd-fb79-4949-87ab-01a0684105b0",
   "metadata": {},
   "source": [
    "### 3. Configuración y elección de la herramienta adecuada"
   ]
  },
  {
   "cell_type": "markdown",
   "id": "9f93a5ce-9cca-4cd1-8699-8a57dea5bb99",
   "metadata": {},
   "source": [
    "#### a) Factores para elegir entre GraphX y GraphFrames\n",
    "\n",
    "- **Complejidad del proble**:\n",
    "\n",
    "  - Usa GraphX para algoritmos complejos y personalizados.\n",
    "\n",
    "  - Usa GraphFrames para análisis exploratorio y consultas rápidas.\n",
    "\n",
    "- **Conocimiento técnico**:\n",
    "\n",
    "  - **GraphX**: Requiere conocimiento avanzado de Spark y programación funcional.\n",
    "\n",
    "  - **GraphFrames**: Más accesible para usuarios familiarizados con SQL y DataFrames.\n",
    "\n",
    "- **Integración con el ecosistema Spark**:\n",
    "\n",
    "  - GraphFrames: Ideal si ya se utiliza Spark SQL y se prioriza la integración con otras herramientas de Spark.\n",
    "\n"
   ]
  },
  {
   "cell_type": "markdown",
   "id": "2e176e2d-a294-407d-a064-ef680a01543c",
   "metadata": {},
   "source": [
    "#### b) Configuración básica\n",
    "\n",
    "- **GraphX**:\n",
    "\n",
    "   - Requiere configurar RDDs y operaciones distribuidas manualmente.\n",
    "\n",
    "   - Ejemplo:"
   ]
  },
  {
   "cell_type": "code",
   "execution_count": null,
   "id": "5d599c24-83f3-4f5b-8165-21975631937a",
   "metadata": {},
   "outputs": [],
   "source": [
    "val graph = Graph(verticesRDD, edgesRDD)"
   ]
  },
  {
   "cell_type": "markdown",
   "id": "f7ffba1b-2949-4ac2-b842-e341aa17105a",
   "metadata": {},
   "source": [
    "- **GraphFrames**:\n",
    "\n",
    "   - Configuración más sencilla gracias a la integración con DataFrames.\n",
    "\n",
    "   - Ejemplo:"
   ]
  },
  {
   "cell_type": "code",
   "execution_count": null,
   "id": "07ff404c-ca04-471c-b1b7-e69bf1056464",
   "metadata": {},
   "outputs": [],
   "source": [
    "val graphFrame = GraphFrame(verticesDF, edgesDF)"
   ]
  },
  {
   "cell_type": "markdown",
   "id": "bdb26ba4-14ae-46a0-8b5d-da5b89abb75b",
   "metadata": {},
   "source": [
    "### 4. Ejemplos prácticos"
   ]
  },
  {
   "cell_type": "markdown",
   "id": "cb7abd74-919b-44de-99c4-86acc724af5f",
   "metadata": {},
   "source": [
    "#### a) GraphX: Implementación de PageRank\n",
    "\n",
    "- Código:"
   ]
  },
  {
   "cell_type": "code",
   "execution_count": null,
   "id": "a76c5763-55b9-4667-a779-d125baaa86c7",
   "metadata": {},
   "outputs": [],
   "source": [
    "val pageRank = graph.pageRank.resetProbability(0.15).maxIter(10).run()\n",
    "pageRank.vertices.show()"
   ]
  },
  {
   "cell_type": "markdown",
   "id": "8f174026-1a28-45ed-ad7f-cdbb2773467a",
   "metadata": {},
   "source": [
    "- **Uso**: Calcular la importancia de los nodos en una red social."
   ]
  },
  {
   "cell_type": "markdown",
   "id": "c58ce970-44c9-4cf4-8fda-baecebd7ca0b",
   "metadata": {},
   "source": [
    "#### b) GraphFrames: Consulta de BFS\n",
    "\n",
    "- **Código**:"
   ]
  },
  {
   "cell_type": "code",
   "execution_count": null,
   "id": "d99f85cb-9993-42b6-9366-741db71bfa98",
   "metadata": {},
   "outputs": [],
   "source": [
    "val paths = graphFrame.bfs.fromExpr(\"id = 1\").toExpr(\"id = 5\").run()\n",
    "paths.show()"
   ]
  },
  {
   "cell_type": "markdown",
   "id": "d8f61f98-4abd-4858-a164-0e246a93447c",
   "metadata": {},
   "source": [
    "### 5. Conclusión\n",
    "\n",
    "- **GraphX**: Es la mejor opción para algoritmos complejos y personalizados que requieren un control granular.\n",
    "\n",
    "- **GraphFrames**: Es ideal para análisis exploratorio, consultas rápidas y proyectos que priorizan la facilidad de uso y la integración con Spark SQL.\n",
    "\n"
   ]
  },
  {
   "cell_type": "code",
   "execution_count": null,
   "id": "4b1a95c6-9252-4d59-9e9a-e36b2a64569f",
   "metadata": {},
   "outputs": [],
   "source": []
  }
 ],
 "metadata": {
  "kernelspec": {
   "display_name": "Apache Toree - Scala",
   "language": "scala",
   "name": "apache_toree_scala"
  },
  "language_info": {
   "codemirror_mode": "text/x-scala",
   "file_extension": ".scala",
   "mimetype": "text/x-scala",
   "name": "scala",
   "pygments_lexer": "scala",
   "version": "2.12.15"
  }
 },
 "nbformat": 4,
 "nbformat_minor": 5
}
