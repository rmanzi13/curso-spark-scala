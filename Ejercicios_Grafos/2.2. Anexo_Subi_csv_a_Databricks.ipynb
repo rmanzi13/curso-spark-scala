{
 "cells": [
  {
   "cell_type": "markdown",
   "id": "5477f3dc-e1b0-4621-9362-4bc8132fc6a3",
   "metadata": {},
   "source": [
    "### CÓMO SUBIR UN CSV A DATABRICKS"
   ]
  },
  {
   "cell_type": "markdown",
   "id": "5ecae91b-0145-4339-a441-d1b38ff629bc",
   "metadata": {},
   "source": [
    "#### a) subir csv a tu drive\n",
    "\n",
    "#### b) importar pandas (trabajar con el kernel de python para este paso)\n",
    "\n",
    "- **\"import pandas as pd\"**\n",
    "  \n",
    "#### c) Enlace de descarga directa\n",
    "\n",
    "- **url = \"https://drive.google.com/uc?id=YOUR_FILE_ID\"**\n",
    "  \n",
    "#### d) Leer el CSV correctamente\n",
    "\n",
    "- **\"df = pd.read_csv(url)\"**\n",
    "\n",
    "#### e) Convertirlo a DataFrame de Spark\n",
    "\n",
    "- **\"df_spark = spark.createDataFrame(df)\"**\n",
    "  \n",
    "#### f) Mostrar las primeras filas\n",
    "\n",
    "- **\"df_spark.show()\"**\n",
    "\n",
    "#### g) Crear el directorio en Databricks\n",
    "\n",
    "- **\"dbutils.fs.mkdirs(\"/FileStore/tables/\")\"**\n",
    "  \n",
    "#### h) Guardar temporalmente en una ruta estándar\n",
    "\n",
    "- **\"temp_path = \"/tmp/mi_archivo.csv\"\"**\n",
    "  \n",
    "- **\"df.to_csv(temp_path, index=False)\"**\n",
    "  \n",
    "#### i) Mover el archivo al FileStore de Databricks\n",
    "\n",
    "- **\"dbutils.fs.cp(f\"file:{temp_path}\", \"dbfs:/FileStore/tables/mi_archivo.csv\")\"**\n",
    "  \n",
    "#### j) Comprobar que tenemos el archivo\n",
    "\n",
    "- **\"display(dbutils.fs.ls(\"/FileStore/tables/\"))\"**\n"
   ]
  },
  {
   "cell_type": "code",
   "execution_count": null,
   "id": "be7a143e-7e58-4b45-9f9e-25b59101e365",
   "metadata": {},
   "outputs": [],
   "source": [
    "//Cargar el CSV en un DataFrame en Scala\n",
    "\n",
    "import org.apache.spark.sql.SparkSession\n",
    "\n",
    "val spark = SparkSession.builder.appName(\"CSVLoader\").getOrCreate()\n",
    "\n",
    "// Leer el CSV con encabezado\n",
    "val df = spark.read\n",
    "  .option(\"header\", \"true\") // Indica que la primera fila contiene los nombres de las columnas\n",
    "  .option(\"inferSchema\", \"true\") // Detecta automáticamente los tipos de datos\n",
    "  .csv(\"dbfs:/FileStore/tables/mi_archivo.csv\") # Nombre que le habran puesto ustedes\n",
    "\n",
    "// Mostrar las primeras filas\n",
    "df.show()\n"
   ]
  }
 ],
 "metadata": {
  "kernelspec": {
   "display_name": "Apache Toree - Scala",
   "language": "scala",
   "name": "apache_toree_scala"
  },
  "language_info": {
   "codemirror_mode": "text/x-scala",
   "file_extension": ".scala",
   "mimetype": "text/x-scala",
   "name": "scala",
   "pygments_lexer": "scala",
   "version": "2.12.15"
  }
 },
 "nbformat": 4,
 "nbformat_minor": 5
}
