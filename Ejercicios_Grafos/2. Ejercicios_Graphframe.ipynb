{
 "cells": [
  {
   "cell_type": "markdown",
   "id": "5b88b9cd-4385-4900-ad70-4531b0a99cae",
   "metadata": {},
   "source": [
    "## Ejercicio 1\n",
    "\n",
    "**1.** Importar Spark y GraphFrames\n",
    "\n",
    "**2.** Crear sesión de Spark\n",
    "\n",
    "**3.** Crear vértices (nodos)\n",
    "\n",
    "**4.** Crear aristas (relaciones)\n",
    "\n",
    "**5.**  Crear el GraphFrame\n",
    "\n",
    "**6.**  Mostrar los nodos y conexiones\n",
    "\n",
    "**7.** Fitrar vértices donde el nombre empiece con \"A\" o la letra de inicio de nombres que tengáis\n",
    "\n",
    "**8.** Añadir una nueva columna al DataFrame de vértices \"\"llamada age que tenga un valor constante de 30 para todos los vértices\""
   ]
  },
  {
   "cell_type": "code",
   "execution_count": null,
   "id": "eca618af-8f79-41df-94e3-b194523a11bc",
   "metadata": {},
   "outputs": [],
   "source": []
  },
  {
   "cell_type": "markdown",
   "id": "f81b447d-4a88-4511-82bd-00796dd2b92b",
   "metadata": {},
   "source": [
    "## Ejercicio 2\n",
    "\n",
    "#### **Parte 1**\n",
    "\n",
    "**1.** Importar Spark y GraphFrames\n",
    "\n",
    "**2.** Crear sesión de Spark\n",
    "\n",
    "**3.** Crear Dataframe vértices (nodos)\n",
    "\n",
    "**4.** Crear Dataframe aristas (relaciones)\n",
    "\n",
    "**5.**  Crear el Grapho\n",
    "\n",
    "**6.**  Mostrar con display\n",
    "\n",
    "**7.**  Mostrar los nodos y conexiones\n",
    "\n"
   ]
  },
  {
   "cell_type": "code",
   "execution_count": null,
   "id": "02b74d3f-6432-4e00-b71f-dbf0c5635657",
   "metadata": {},
   "outputs": [],
   "source": []
  },
  {
   "cell_type": "markdown",
   "id": "bcd0f491-b8d0-45d2-bb1b-1c38905ecfb9",
   "metadata": {},
   "source": [
    "## Ejercicio 2\n",
    "\n",
    "#### **Parte 2**\n",
    "\n",
    "**1.** Registrar los DataFrames como vistas temporales\n",
    "\n",
    "   - Consulta SQL para encontrar vértices con edad mayor a 30\n",
    "\n",
    "   - Consulta SQL para encontrar aristas con una relación específica\n",
    "\n",
    "**2.** Seleccionar solo los nombres de los vértices\n",
    "\n",
    "**3.** Crear Dataframe vértices (nodos)\n",
    "\n",
    "**4.** Agrupar vértices por edad y contar\n",
    "\n",
    "**5.**  Unir vértices y aristas para obtener información combinada\n",
    "\n",
    "**6.**  Mostrar grados de los vértices\n"
   ]
  },
  {
   "cell_type": "markdown",
   "id": "a54f7bda-2694-4216-a82e-757cc9182ae4",
   "metadata": {},
   "source": []
  },
  {
   "cell_type": "markdown",
   "id": "14e1cf28-bb7a-4397-85c6-371f808dd785",
   "metadata": {},
   "source": [
    "## Ejercicio 3"
   ]
  },
  {
   "cell_type": "code",
   "execution_count": null,
   "id": "1c4a4fce-7088-4bc9-8b73-cd3c0425f09e",
   "metadata": {},
   "outputs": [],
   "source": [
    "import org.apache.spark.sql.SparkSession\n",
    "import org.graphframes.GraphFrame\n",
    "\n",
    "// Crear SparkSession\n",
    "val spark = SparkSession.builder.appName(\"GraphFrame Example\").getOrCreate()\n",
    "\n",
    "// Crear datos de los vértices (nodos)\n",
    "val vertices = spark.createDataFrame(Seq(\n",
    "  (\"1\", \"Alice\"),\n",
    "  (\"2\", \"Bob\"),\n",
    "  (\"3\", \"Charlie\"),\n",
    "  (\"4\", \"David\"),\n",
    "  (\"5\", \"Eve\")\n",
    ")).toDF(\"id\", \"name\")\n",
    "\n",
    "// Crear datos de las aristas (relaciones)\n",
    "val edges = spark.createDataFrame(Seq(\n",
    "  (\"1\", \"2\", \"friend\"),\n",
    "  (\"2\", \"3\", \"friend\"),\n",
    "  (\"3\", \"4\", \"friend\"),\n",
    "  (\"4\", \"5\", \"friend\"),\n",
    "  (\"5\", \"1\", \"friend\")\n",
    ")).toDF(\"src\", \"dst\", \"relationship\")\n",
    "\n",
    "// Crear el GraphFrame\n",
    "val g = GraphFrame(vertices, edges)\n"
   ]
  }
 ],
 "metadata": {
  "kernelspec": {
   "display_name": "Apache Toree - Scala",
   "language": "scala",
   "name": "apache_toree_scala"
  },
  "language_info": {
   "codemirror_mode": "text/x-scala",
   "file_extension": ".scala",
   "mimetype": "text/x-scala",
   "name": "scala",
   "pygments_lexer": "scala",
   "version": "2.12.15"
  }
 },
 "nbformat": 4,
 "nbformat_minor": 5
}
