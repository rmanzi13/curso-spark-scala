{
 "cells": [
  {
   "cell_type": "markdown",
   "id": "2ff00e07-3898-49af-b910-88383b5f0756",
   "metadata": {},
   "source": [
    "## PASOS EN DATABRICKS"
   ]
  },
  {
   "cell_type": "markdown",
   "id": "8311557b-da45-4d59-884e-dba229812579",
   "metadata": {},
   "source": [
    "### A)  Crear un Cluster\n",
    "\n",
    "El cluster es donde se ejecutará tu código.\n",
    "\n",
    "**1.** En el menú izquierdo, haz clic en \"Compute\".\n",
    "\n",
    "**2.** Luego, haz clic en \"Create Cluster\".\n",
    "\n",
    "**3.** Configura el cluster:\n",
    "\n",
    "  - Cluster Name: Ponle un nombre (ej. GraphFrames-Scala).\n",
    "\n",
    "  - Databricks Runtime: Selecciona una versión compatible con Spark 3.0 o superior.\n",
    "\n",
    "  - Node Type: Déjalo en la opción predeterminada.\n",
    "\n",
    "**4.** Haz clic en \"Create Cluster\" y espera a que se inicie (puede tardar unos minutos)."
   ]
  },
  {
   "cell_type": "markdown",
   "id": "3364425a-e545-4b51-8f94-62ee5477d173",
   "metadata": {},
   "source": [
    "### B) Crear un Notebook\n",
    "\n",
    "**1.** En el menú izquierdo, haz clic en \"Workspace\".\n",
    "\n",
    "**2.** Abre la carpeta \"Shared\" y haz clic en \"Create\" → \"Notebook\".\n",
    "\n",
    "**3.** Ponle un nombre, como GraphFrames_Ejercicios.\n",
    "\n",
    "**4.** En \"Default Language\", selecciona Scala.\n",
    "\n",
    "**5.*+ Haz clic en \"Create\".\n"
   ]
  },
  {
   "cell_type": "markdown",
   "id": "21773381-602b-4477-9296-56ba4784d531",
   "metadata": {},
   "source": [
    "### PASOS PARA USAR GRAPHFRAMES EN DATABRICKS (SCALA)\n",
    "\n",
    "#### **1. Instalar GraphFrames en el Cluster**\n",
    "\n",
    "**a)** Ve a \"Compute\" en el menú izquierdo.\n",
    "\n",
    "**b)** Selecciona tu cluster (el que creaste antes).\n",
    "\n",
    "**c)** Ve a la pestaña \"Libraries\" y haz clic en \"Install New\".\n",
    "\n",
    "**d)** Selecciona \"Maven\".\n",
    "\n",
    "**e)** En el campo \"Coordinates\", escribe:\n"
   ]
  },
  {
   "cell_type": "markdown",
   "id": "20f1d90b-6f81-4e3b-aa1d-b4c9ddc581ff",
   "metadata": {},
   "source": [
    "  -  Graphframes:graphframes:0.8.1-spark3.0-s_2.12\n",
    " \n",
    "  -  graphframes:graphframes:0.8.2-spark3.0-s_2.12"
   ]
  },
  {
   "cell_type": "markdown",
   "id": "8c28536f-26e3-4b09-aa6e-74a2d13aaee1",
   "metadata": {},
   "source": [
    "**f)** 6. Haz clic en \"Install\" y espera a que termine.\n",
    "\n"
   ]
  },
  {
   "cell_type": "code",
   "execution_count": null,
   "id": "dca3cdfa-c6f8-4dc3-84ce-a4b016f93d5b",
   "metadata": {},
   "outputs": [],
   "source": [
    "#### Tu Notebook creado:\n",
    "\n",
    "  - Asocia el notebook a tu cluster (arriba a la derecha en el Notebook, elige el cluster).\n"
   ]
  }
 ],
 "metadata": {
  "kernelspec": {
   "display_name": "Apache Toree - Scala",
   "language": "scala",
   "name": "apache_toree_scala"
  },
  "language_info": {
   "codemirror_mode": "text/x-scala",
   "file_extension": ".scala",
   "mimetype": "text/x-scala",
   "name": "scala",
   "pygments_lexer": "scala",
   "version": "2.12.15"
  }
 },
 "nbformat": 4,
 "nbformat_minor": 5
}
