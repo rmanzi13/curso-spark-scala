{
 "cells": [
  {
   "cell_type": "markdown",
   "id": "4a08db01-ab28-4fc4-bde1-1d02447f333b",
   "metadata": {},
   "source": [
    "### Ejercicio 1: Crear el Grafo\n",
    "\n",
    "- Crea un GraphFrame a partir de los DataFrame de vértices y aristas."
   ]
  },
  {
   "cell_type": "code",
   "execution_count": null,
   "id": "c5e4054e-a1f9-48ba-98ad-50dbd3d9890b",
   "metadata": {},
   "outputs": [],
   "source": []
  },
  {
   "cell_type": "markdown",
   "id": "579a43d6-72f3-43d8-b4b7-a376e8a2cd86",
   "metadata": {},
   "source": [
    "### Ejercicio 2: Contar Vértices y Aristas\n",
    "\n",
    "- Obtén el número total de nodos y relaciones en el grafo."
   ]
  },
  {
   "cell_type": "code",
   "execution_count": null,
   "id": "ee6d8123-387b-4453-b943-0ac284573e3e",
   "metadata": {},
   "outputs": [],
   "source": []
  },
  {
   "cell_type": "markdown",
   "id": "4fbed7f9-41f0-4b9f-b6c0-263060e03072",
   "metadata": {},
   "source": [
    "### Ejercicio 3.: Mostrar las conexiones de un usuario específico\n",
    "\n",
    "- Encuentra todas las relaciones de \"Juan Pérez\" (id = 1)"
   ]
  },
  {
   "cell_type": "code",
   "execution_count": null,
   "id": "949ed012-bbc5-4a9e-aede-63e5577288bd",
   "metadata": {},
   "outputs": [],
   "source": []
  },
  {
   "cell_type": "markdown",
   "id": "73d83042-2532-42a8-914b-35c9af37aab1",
   "metadata": {},
   "source": [
    "### Ejercicio 4: Filtrar relaciones de amistad\n",
    "\n",
    "- Obtén solo las conexiones con tipo_relacion = \"amistad\"."
   ]
  },
  {
   "cell_type": "code",
   "execution_count": null,
   "id": "402ec97c-2ec8-4907-8315-fff8fdb47012",
   "metadata": {},
   "outputs": [],
   "source": []
  },
  {
   "cell_type": "markdown",
   "id": "df44db2c-df25-4b04-aebb-63014f673fad",
   "metadata": {},
   "source": [
    "### Ejercicio 5: Usuarios con más conexiones\n",
    "\n",
    "- Lista los usuarios con el mayor número de conexiones (entrantes + salientes)."
   ]
  },
  {
   "cell_type": "code",
   "execution_count": null,
   "id": "ef18586a-9c4d-4ed0-8b25-a06f943450e2",
   "metadata": {},
   "outputs": [],
   "source": []
  },
  {
   "cell_type": "markdown",
   "id": "3d6f4540-6013-43c0-b6ac-92899c2a142b",
   "metadata": {},
   "source": [
    "### Ejercicio 6: Búsqueda de vecinos\n",
    "\n",
    "- Encuentra los amigos directos de \"Ana Gómez\" (id = 2)."
   ]
  },
  {
   "cell_type": "code",
   "execution_count": null,
   "id": "2c538029-19f1-466f-9adf-7facb0cb9631",
   "metadata": {},
   "outputs": [],
   "source": []
  },
  {
   "cell_type": "markdown",
   "id": "748da2e1-15e4-4156-9e85-df03b0e71785",
   "metadata": {},
   "source": [
    "### Ejercico 7: Camino más corto entre dos usuarios\n",
    "\n",
    "- Encuentra la distancia más corta entre \"Juan Pérez\" (id = 1) y \"Elena Vargas\" (id = 10)."
   ]
  },
  {
   "cell_type": "code",
   "execution_count": null,
   "id": "a968d566-ed21-49c5-a84f-eb736f11c646",
   "metadata": {},
   "outputs": [],
   "source": []
  },
  {
   "cell_type": "markdown",
   "id": "f2b0907d-ff14-4980-b584-ad8dda9e5706",
   "metadata": {},
   "source": [
    "### Ejercicio 8: Filtrar usuarios por intereses comunes\n",
    "\n",
    "- Filtra a los usuarios que tienen intereses comunes en música y muestra sus nombres.\n",
    "\n",
    "**Instrucciones**:\n",
    "\n",
    "**1.** Usa el DataFrame verticeDF que ya contiene la información de los usuarios.\n",
    "\n",
    "**2.** Filtra a los usuarios que tienen \"música\" entre sus intereses.\n",
    "\n",
    "**3.** Muestra los resultados con los nombres de los usuarios que comparten ese interés."
   ]
  },
  {
   "cell_type": "code",
   "execution_count": null,
   "id": "99ef1592-4e08-4696-82f6-d35e83976c28",
   "metadata": {},
   "outputs": [],
   "source": []
  },
  {
   "cell_type": "markdown",
   "id": "c25e028d-f6d7-433a-8334-37f62f327183",
   "metadata": {},
   "source": [
    "### Ejercicio 9: Subgrafo de usuarios con intereses en 'tecnología'\n",
    "\n",
    "- Crea un subgrafo con solo usuarios interesados en tecnología."
   ]
  },
  {
   "cell_type": "code",
   "execution_count": null,
   "id": "79284d06-cec2-447e-b17d-5e7cd9d164d3",
   "metadata": {},
   "outputs": [],
   "source": []
  },
  {
   "cell_type": "markdown",
   "id": "ccf57fde-bc4a-43ba-b266-f255abc4cecb",
   "metadata": {},
   "source": [
    "### Ejercicio 10: Clustering Coefficient\n",
    "\n",
    "- Calcula el coeficiente de agrupamiento del grafo."
   ]
  },
  {
   "cell_type": "code",
   "execution_count": null,
   "id": "2f18a7c1-d377-4015-80a2-d9f37ccdd952",
   "metadata": {},
   "outputs": [],
   "source": []
  },
  {
   "cell_type": "markdown",
   "id": "139ee2a3-5c83-4caf-aa55-73de7f65ab83",
   "metadata": {},
   "source": [
    "### Ejercicio 11: PageRank\n",
    "\n",
    "- Ejecuta el algoritmo de PageRank para identificar los usuarios más influyentes."
   ]
  },
  {
   "cell_type": "code",
   "execution_count": null,
   "id": "8c0d6bb6-e402-40b2-a8d2-006bf38eab9d",
   "metadata": {},
   "outputs": [],
   "source": []
  },
  {
   "cell_type": "markdown",
   "id": "9deac773-e4fb-4c67-b539-e86feca4b371",
   "metadata": {},
   "source": [
    "### Ejercicio 12: Detección de comunidades\n",
    "\n",
    "- Usa el algoritmo de Label Propagation para agrupar usuarios en comunidades."
   ]
  },
  {
   "cell_type": "code",
   "execution_count": null,
   "id": "a68a5e81-4e7b-4f38-be08-fc7482415e01",
   "metadata": {},
   "outputs": [],
   "source": []
  },
  {
   "cell_type": "markdown",
   "id": "42a42fbb-10a6-4a38-bc75-0d5968820c9d",
   "metadata": {},
   "source": [
    "### Ejercicio 13: Análisis de Centralidad\n",
    "\n",
    "- Calcula la centralidad de grado y de intermediación para cada usuario."
   ]
  },
  {
   "cell_type": "code",
   "execution_count": null,
   "id": "457da727-9c93-49f2-9238-0f53708ccedd",
   "metadata": {},
   "outputs": [],
   "source": []
  },
  {
   "cell_type": "markdown",
   "id": "4c8e464b-d6fa-4a07-9d3e-174d4a192836",
   "metadata": {},
   "source": [
    "### Ejercicio 14: Predicción de nuevas conexiones\n",
    "\n",
    "- Usa GraphFrames para encontrar posibles amistades futuras basadas en conexiones mutuas."
   ]
  },
  {
   "cell_type": "code",
   "execution_count": null,
   "id": "9364d73d-ef9c-460c-a684-e5454ae8e911",
   "metadata": {},
   "outputs": [],
   "source": []
  }
 ],
 "metadata": {
  "kernelspec": {
   "display_name": "Apache Toree - Scala",
   "language": "scala",
   "name": "apache_toree_scala"
  },
  "language_info": {
   "codemirror_mode": "text/x-scala",
   "file_extension": ".scala",
   "mimetype": "text/x-scala",
   "name": "scala",
   "pygments_lexer": "scala",
   "version": "2.12.15"
  }
 },
 "nbformat": 4,
 "nbformat_minor": 5
}
