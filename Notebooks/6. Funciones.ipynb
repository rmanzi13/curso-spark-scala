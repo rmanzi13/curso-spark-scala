{
 "cells": [
  {
   "cell_type": "markdown",
   "id": "0af4d32d-3cf4-46cd-ab87-9908b104fa35",
   "metadata": {},
   "source": [
    "# Funciones."
   ]
  },
  {
   "cell_type": "markdown",
   "id": "efe20d8f-e28b-4b19-b011-67154d69fd51",
   "metadata": {},
   "source": [
    "Scala es un lenguaje de programación que combina la orientación a objetos y la programación funcional en un solo paradigma. Uno de los pilares fundamentales de la programación funcional es la creación y manipulación de funciones."
   ]
  },
  {
   "cell_type": "markdown",
   "id": "29d161be-c98e-43d0-bad7-9101d6f15302",
   "metadata": {},
   "source": [
    "En programación, una función es un bloque de código que realiza una tarea específica o calcula un valor y puede ser llamado o invocado desde otras partes del programa. Las funciones son una forma fundamental de modularizar y reutilizar código, ya que permiten encapsular una pieza de lógica en un bloque autónomo y darle un nombre que se puede utilizar para ejecutar esa lógica en diferentes lugares del programa sin tener que volver a escribirla.\n",
    "\n",
    "Las funciones tienen varios elementos que la conforman."
   ]
  },
  {
   "cell_type": "markdown",
   "id": "37f80372-f83b-4e9f-adfc-988fe28b696d",
   "metadata": {},
   "source": [
    "- **Nombre**: Cada función tiene un nombre que la identifica. Este nombre se utiliza para llamar a la función desde otras partes del programa.\n",
    "- **Parámetros**: Las funciones pueden recibir cero o más parámetros (también llamados argumentos), que son valores que se pasan a la función para que los utilice en su lógica. Los parámetros son variables locales a la función y pueden tener tipos de datos específicos.\n",
    "-  **Cuerpo de la Función**: El cuerpo de la función es el bloque de código que contiene la lógica de la función. Aquí es donde se realizan las operaciones necesarias y se pueden utilizar los parámetros para asignar valores/objetos específicos que se utilziar;an dentro de la función.\n",
    "- **Valor de Retorno**: Las funciones pueden devolver un valor como resultado de su ejecución. Este valor de retorno se especifica en la firma de la función y se utiliza para comunicar el resultado de la función.\n",
    "- **Invocación**: Para utilizar una función, se la llama o invoca mediante su nombre, y se pueden pasar los argumentos necesarios. La función se ejecuta, realiza su tarea y puede devolver un valor de retorno. \n",
    "- **Reutilización**: Una de las ventajas fundamentales de las funciones es la reutilización de código. Puedes definir una función una vez y llamarla en múltiples lugares de tu programa, evitando así la duplicación de código."
   ]
  },
  {
   "cell_type": "markdown",
   "id": "5302b82e-63b0-4691-bb78-dad030b10708",
   "metadata": {},
   "source": [
    "## Definición de una función."
   ]
  },
  {
   "cell_type": "markdown",
   "id": "947b21ee-cf21-46dd-b468-59848944c652",
   "metadata": {},
   "source": [
    "Existen varias formas de  definir una función en Scala.\n",
    "\n",
    "```\n",
    "def <nombre>(<param 1>, <param 2> ... <param n>): <tipo> = {\n",
    "  ...\n",
    "  ...\n",
    "<expresión>\n",
    "}\n",
    "```\n",
    "En otros lenguajes de programación, se utiliza  algún comando como `return` para indicar el objeto que regresará una función. En el caso de Scala, la función regresa el  resultado de la última expresión. Si la función no regresa algún objeto, se indica que regresa `Unit`."
   ]
  },
  {
   "cell_type": "markdown",
   "id": "1507be18-3193-464b-a157-efedab5d270e",
   "metadata": {},
   "source": [
    "**Ejemplos:**"
   ]
  },
  {
   "cell_type": "markdown",
   "id": "49739752-2e73-40bc-bed0-4570a0de531c",
   "metadata": {},
   "source": [
    "* Se  definirá la función `suma()` que define los parámetros `x` y `y`. La función regresará la suma de los  dos parámetros."
   ]
  },
  {
   "cell_type": "code",
   "execution_count": null,
   "id": "b295b7a5-0120-4b84-b0d9-4f9802ad63d7",
   "metadata": {},
   "outputs": [],
   "source": [
    "def suma(x: Double, y: Double): Double = {\n",
    "    x + y\n",
    "}"
   ]
  },
  {
   "cell_type": "code",
   "execution_count": null,
   "id": "4986a671-801c-40d8-bc72-4d93df35e965",
   "metadata": {},
   "outputs": [],
   "source": [
    "suma(1, 2)"
   ]
  },
  {
   "cell_type": "code",
   "execution_count": null,
   "id": "21f907a4-cdb0-4b8c-9929-c985f5b86ad2",
   "metadata": {},
   "outputs": [],
   "source": [
    "suma()"
   ]
  },
  {
   "cell_type": "code",
   "execution_count": null,
   "id": "50401769-b4b2-45ff-ac45-11dfc4860656",
   "metadata": {
    "scrolled": true
   },
   "outputs": [],
   "source": [
    "suma( \"uno\", false)"
   ]
  },
  {
   "cell_type": "code",
   "execution_count": null,
   "id": "b8a48dff-ebae-4f45-8f04-5a332526e2ed",
   "metadata": {
    "scrolled": true
   },
   "outputs": [],
   "source": [
    "suma(1)"
   ]
  },
  {
   "cell_type": "markdown",
   "id": "a439e252-2dfe-4740-825b-57b03b91dcbd",
   "metadata": {},
   "source": [
    "* Sse definirá la función `despliega_suma`, la cual no regresa ningún valor."
   ]
  },
  {
   "cell_type": "code",
   "execution_count": null,
   "id": "374aaddc-ed36-4c38-a938-3f4c4534087e",
   "metadata": {},
   "outputs": [],
   "source": [
    "def despliega_suma(x: Double, y: Double): Unit = {\n",
    "    println(x + y)\n",
    "}"
   ]
  },
  {
   "cell_type": "code",
   "execution_count": null,
   "id": "6904731d-b9c2-43d9-9aff-1d3a401b2f63",
   "metadata": {},
   "outputs": [],
   "source": [
    "despliega_suma(2, 2)"
   ]
  },
  {
   "cell_type": "markdown",
   "id": "f69df745-1663-4a1c-a72f-cf6d4ced985f",
   "metadata": {},
   "source": [
    "* El tipo `Any` perite indicar a la función que el valor resultante puede ser cualquiera."
   ]
  },
  {
   "cell_type": "code",
   "execution_count": null,
   "id": "62cb2154-11dd-4ae2-a917-9221684bb963",
   "metadata": {},
   "outputs": [],
   "source": [
    "def operacion(x: Int, y: String):  Any = {\n",
    "     y * x\n",
    "}"
   ]
  },
  {
   "cell_type": "code",
   "execution_count": null,
   "id": "d1636416-1424-4bf5-a104-884d1b7a261a",
   "metadata": {},
   "outputs": [],
   "source": [
    "operacion(3, \"2\")"
   ]
  },
  {
   "cell_type": "markdown",
   "id": "2c6134c8-411d-43fa-8eaf-fe556302c0a2",
   "metadata": {},
   "source": [
    "### Parámetros con argumentos por defecto.\n",
    "Al definir una función, es posible definir el argumento por defecto de un parámetro.\n",
    "\n",
    "```\n",
    "<parámetro> : <tipo> = valor\n",
    "```\n",
    "Si al llamar a una función, se omite un argumento, la función utilizará el valor del argumento por defecto.\n",
    "\n",
    "La sustitución de argumentos se realiza de izquierda a derecha."
   ]
  },
  {
   "cell_type": "markdown",
   "id": "aee356d1-cc8e-4164-853d-57775416d887",
   "metadata": {},
   "source": [
    "**Ejemplo:**"
   ]
  },
  {
   "cell_type": "markdown",
   "id": "dc085aef-96aa-4775-aacd-a05bba563563",
   "metadata": {},
   "source": [
    "* Se define la función  `sumas()`, la cual define a los parámetros:\n",
    "  *  `x` con valor por defecto igual a `1`.\n",
    "  *  `y` con valor por defecto igual a `2`.\n",
    "  *  `z` con valor por defecto igual a `3`."
   ]
  },
  {
   "cell_type": "code",
   "execution_count": null,
   "id": "11cdfad1-399f-48be-97c1-f3f48486e853",
   "metadata": {},
   "outputs": [],
   "source": [
    "def sumas(x: Double = 1, y: Double = 2, z: Double = 3): Double = {\n",
    "    x + y + z\n",
    "}"
   ]
  },
  {
   "cell_type": "markdown",
   "id": "ee8f15c2-7464-4076-884a-661724a265b6",
   "metadata": {},
   "source": [
    "* La siguiente celda usará los valores de los argumentos asignados por defecto para la función  `sumas()`, dando por resultado: `6`. "
   ]
  },
  {
   "cell_type": "code",
   "execution_count": null,
   "id": "3ec43f8c-db54-45d3-9abf-0fc4624ada55",
   "metadata": {},
   "outputs": [],
   "source": [
    "sumas()"
   ]
  },
  {
   "cell_type": "markdown",
   "id": "57a0312f-f9ea-4867-89a8-3f91ce95602e",
   "metadata": {},
   "source": [
    "* En la siguiente celda se ingresarán un sólo argumento a la función `sumas()` con valor igual a `11` . Dicho argumento se asignará al parámetro `x`, regresando `16`."
   ]
  },
  {
   "cell_type": "code",
   "execution_count": null,
   "id": "7d12c900-a8cb-42c2-aadd-9751d13d1e43",
   "metadata": {},
   "outputs": [],
   "source": [
    "sumas(11)"
   ]
  },
  {
   "cell_type": "markdown",
   "id": "88055ee8-14d1-430a-a0ef-614dfbbca6ba",
   "metadata": {},
   "source": [
    "* En la siguiente celda se ingresarán dos argumentos a la función `sumas()`. Dichos argumento se asignará a los parámetros `x` y `y`\n",
    "* , correspondiendo al orden de ingreso, regresando `15`."
   ]
  },
  {
   "cell_type": "code",
   "execution_count": null,
   "id": "acd84de7-8aa4-4207-ab3a-66f6b69f33f4",
   "metadata": {},
   "outputs": [],
   "source": [
    "sumas(5, 7)"
   ]
  },
  {
   "cell_type": "markdown",
   "id": "d4d32280-801b-4500-9e89-ce6d14a50613",
   "metadata": {},
   "source": [
    "* En la siguiente celda se ingresarán todos los argumentos a la funcióm `sumas()`, regresando `24`."
   ]
  },
  {
   "cell_type": "code",
   "execution_count": null,
   "id": "2cfd3e9e-d735-471b-815e-f7d32c7f5fc0",
   "metadata": {
    "scrolled": true
   },
   "outputs": [],
   "source": [
    "sumas(7, 8, 9)"
   ]
  },
  {
   "cell_type": "markdown",
   "id": "bbc388e6-11e3-4694-b04d-d86662d6ed33",
   "metadata": {},
   "source": [
    "* En la siguiente celda se ingresarán más argumentos que los parámetros definidos, lo que generará una exzcepción."
   ]
  },
  {
   "cell_type": "code",
   "execution_count": null,
   "id": "916f5f36-07e2-4851-9761-f2537504fc5c",
   "metadata": {
    "scrolled": true
   },
   "outputs": [],
   "source": [
    "sumas(7, 8, 9, 10)"
   ]
  },
  {
   "cell_type": "markdown",
   "id": "5303c3f2-5eca-44be-8c0d-1f4ee25978cf",
   "metadata": {},
   "source": [
    "### Orden de los parámetros con argumentos por defecto.\n",
    "\n",
    "Si una función es definida con parámetros sin argumentos por defecto, éstos deberán serán enumerados al principio. "
   ]
  },
  {
   "cell_type": "markdown",
   "id": "d7a16e51-9ef9-4b0b-af9e-5407967546b8",
   "metadata": {},
   "source": [
    "**Ejemplos:**"
   ]
  },
  {
   "cell_type": "code",
   "execution_count": null,
   "id": "ff0cef84-8018-4375-9f45-52cff1ad62ee",
   "metadata": {},
   "outputs": [],
   "source": [
    "def sumatoria(x: Int, y: Int = 1): Int = {\n",
    "    x + y\n",
    "}\n",
    "println(sumatoria(2))\n",
    "println(sumatoria(2, 2))"
   ]
  },
  {
   "cell_type": "code",
   "execution_count": null,
   "id": "795d438f-8dea-4a3f-81fe-db522a7708e3",
   "metadata": {},
   "outputs": [],
   "source": [
    "def sumatoria_incorrecta(x: Int = 1, y: Int): Int = {\n",
    "    x + y\n",
    "}\n",
    "sumatoria_incorrecta(2)"
   ]
  },
  {
   "cell_type": "markdown",
   "id": "f354e362-74c5-43d6-9973-9fa7a19ebf1e",
   "metadata": {},
   "source": [
    "### Ingreso de parámetros con argumentos definidos.\n",
    "\n",
    "Scala permite ingresar argumentos que indican el a qué parámetro se le asigna el valor. \n",
    "En caso de combinar parámetros con argumento definido y argumentos posicionales, es obligatorio seguir  el  orden definido."
   ]
  },
  {
   "cell_type": "markdown",
   "id": "01464d4a-35f7-4ddf-8d9e-f50fde04fb92",
   "metadata": {},
   "source": [
    "**Ejemplo:**"
   ]
  },
  {
   "cell_type": "code",
   "execution_count": null,
   "id": "134afd2a-8add-4e49-8803-c71bc222ba24",
   "metadata": {},
   "outputs": [],
   "source": [
    "def suma_triple(x: Double = 1, y: Double = 2, z: Double = 3): Double = {\n",
    "    x + y + z\n",
    "}"
   ]
  },
  {
   "cell_type": "code",
   "execution_count": null,
   "id": "ae6b3cf8-31bc-44b8-8383-3cd53417aae6",
   "metadata": {},
   "outputs": [],
   "source": [
    "suma_triple(x = 3.5)"
   ]
  },
  {
   "cell_type": "code",
   "execution_count": null,
   "id": "50adf12a-6e8d-4443-865d-c7ef6a89b0b9",
   "metadata": {},
   "outputs": [],
   "source": [
    "suma_triple(y = 3.5)"
   ]
  },
  {
   "cell_type": "code",
   "execution_count": null,
   "id": "80b77e11-016f-4647-a651-087552784d66",
   "metadata": {},
   "outputs": [],
   "source": [
    "suma_triple(z = 3.5)"
   ]
  },
  {
   "cell_type": "code",
   "execution_count": null,
   "id": "144bfa6b-37ba-45e6-a2c0-561263d6044e",
   "metadata": {},
   "outputs": [],
   "source": [
    "suma_triple(z = 11, x = 3.5)"
   ]
  },
  {
   "cell_type": "code",
   "execution_count": null,
   "id": "d1b4efaf-0ce0-4f64-93c9-84c3229b5615",
   "metadata": {},
   "outputs": [],
   "source": [
    "suma_triple(1, y = 4, 3)"
   ]
  },
  {
   "cell_type": "markdown",
   "id": "4131a197-25b5-4f0a-9067-4ac167a44701",
   "metadata": {},
   "source": [
    "* En este caso, el segundo argumento posicional corresponde  al parámetro `y`, pero  al ismo tiempo, se usa el argumento `y = 4`. Este  generará  una excepción.   "
   ]
  },
  {
   "cell_type": "code",
   "execution_count": null,
   "id": "118359d3-6b04-46ef-a2c6-0b1efa2810bd",
   "metadata": {},
   "outputs": [],
   "source": [
    "suma_triple(1, 2, y = 4)"
   ]
  },
  {
   "cell_type": "code",
   "execution_count": null,
   "id": "7747b333-ebbf-4160-9e93-4ac5685ac9d6",
   "metadata": {},
   "outputs": [],
   "source": [
    "suma_triple(z = 11, 1, 2)"
   ]
  },
  {
   "cell_type": "code",
   "execution_count": null,
   "id": "c751bbe8-57c0-4a21-8722-cfe31320d773",
   "metadata": {
    "scrolled": true
   },
   "outputs": [],
   "source": [
    "suma_triple(11, 2, x = 3.5)"
   ]
  },
  {
   "cell_type": "markdown",
   "id": "65a6dfd8-d451-4ba9-8a1f-940adf21b992",
   "metadata": {},
   "source": [
    "## Funciones con un número indterminado de argumentos."
   ]
  },
  {
   "cell_type": "markdown",
   "id": "c172817e-7491-439a-ba42-5b85ca116585",
   "metadata": {},
   "source": [
    "Es posible que una función reciba un número variable de argumentos y que dichos argumentos sena  guardados en una colección de tipo `Seq`, usando la siguiente sintaxis.\n",
    "\n",
    "```\n",
    "def <nombre>(<paramétro>*) ...\n",
    "```"
   ]
  },
  {
   "cell_type": "markdown",
   "id": "7bc2dcc0-1e59-46c7-8678-b045b0b5d09d",
   "metadata": {},
   "source": [
    "**Ejemplos:**"
   ]
  },
  {
   "cell_type": "code",
   "execution_count": null,
   "id": "b7d1f13f-e101-4103-a75b-12af41e028d1",
   "metadata": {},
   "outputs": [],
   "source": [
    "def multiplicador( numeros: Int*): Int = {\n",
    "    var resultado = 1\n",
    "    for (i <- numeros) {\n",
    "        resultado = resultado * i\n",
    "    }\n",
    "    resultado\n",
    "}"
   ]
  },
  {
   "cell_type": "code",
   "execution_count": null,
   "id": "49f61201-1922-43a0-be82-e283b3961a75",
   "metadata": {},
   "outputs": [],
   "source": [
    "multiplicador(1, 2, 3, 4, 5)"
   ]
  },
  {
   "cell_type": "code",
   "execution_count": null,
   "id": "5ceb095b-c00a-4d73-869e-dac65493884a",
   "metadata": {},
   "outputs": [],
   "source": [
    "multiplicador(1)"
   ]
  },
  {
   "cell_type": "code",
   "execution_count": null,
   "id": "17ecdcca-d817-4e63-bacd-088367ff2cdd",
   "metadata": {},
   "outputs": [],
   "source": [
    "multiplicador(11, -34, 0)"
   ]
  },
  {
   "cell_type": "markdown",
   "id": "7ef7217a-31ec-409e-9360-10a98c7e1b59",
   "metadata": {},
   "source": [
    "Es posible definir parámeros posicionales antes de un parámetro `Seq`. "
   ]
  },
  {
   "cell_type": "code",
   "execution_count": null,
   "id": "66ab147a-1760-4256-93fd-604f363e53ae",
   "metadata": {},
   "outputs": [],
   "source": [
    "def multiplicador_con_titulo(titulo: String, numeros: Int*): (String,  Int) = {\n",
    "    var resultado = 1\n",
    "    for (i <- numeros) {\n",
    "        resultado = resultado * i\n",
    "    }\n",
    "    (titulo, resultado)\n",
    "}"
   ]
  },
  {
   "cell_type": "code",
   "execution_count": null,
   "id": "5025d65c-241a-4ecf-906e-694dd89f32a7",
   "metadata": {
    "scrolled": true
   },
   "outputs": [],
   "source": [
    "multiplicador_con_titulo(\"Hola\", 1, 2, 3, 4)"
   ]
  },
  {
   "cell_type": "markdown",
   "id": "4c2a3c31-d239-4939-838c-1b11c6fe26e4",
   "metadata": {},
   "source": [
    "* Definir un parámetro `Seq` antes que otros parámetros no es válido.  "
   ]
  },
  {
   "cell_type": "code",
   "execution_count": null,
   "id": "f1c4a70e-aa0d-499b-b705-a3600b681acd",
   "metadata": {},
   "outputs": [],
   "source": [
    "def multiplicador_incorrecto(numeros: Int*, otro_numero:Int): Int = {\n",
    "    var resultado = 1\n",
    "    for (i <- numeros) {\n",
    "        resultado = resultado * i\n",
    "    }\n",
    "    resultado + otro_numero\n",
    "}"
   ]
  },
  {
   "cell_type": "code",
   "execution_count": null,
   "id": "c0745540-b0fe-4eb2-8619-5c94b39d5b4d",
   "metadata": {},
   "outputs": [],
   "source": [
    "def multiplicador_varios(otro_numero: Int, numeros: Int*): Int = {\n",
    "    var resultado = 1\n",
    "    println(numeros)\n",
    "    for (i <- numeros) {\n",
    "        resultado = resultado * i\n",
    "    }\n",
    "    resultado + otro_numero\n",
    "}"
   ]
  },
  {
   "cell_type": "code",
   "execution_count": null,
   "id": "fc32d267-3ab2-44e9-8860-8f682f2515c6",
   "metadata": {},
   "outputs": [],
   "source": [
    "multiplicador_varios(1, 2, 3, 4, 5)"
   ]
  },
  {
   "cell_type": "markdown",
   "id": "ae36237f-6dea-4821-98f3-876cdaf50545",
   "metadata": {},
   "source": [
    "## Funciones lambda."
   ]
  },
  {
   "cell_type": "markdown",
   "id": "2fa81d85-5e77-4e69-a72a-76e2f19b6763",
   "metadata": {},
   "source": [
    "Scala permite definir funciones dentro de una sola expresión.\n",
    "```\n",
    "val <nombre>: (<tipo param 1>, <tipo param 2>) => <tipo salida>  = (<param 1>, <param 2>, ... <param n>) => <expresión> \n",
    "```"
   ]
  },
  {
   "cell_type": "markdown",
   "id": "e82ee7dd-b42e-41eb-bc25-8433640eaba1",
   "metadata": {},
   "source": [
    "**Ejemplo:**"
   ]
  },
  {
   "cell_type": "code",
   "execution_count": null,
   "id": "098c9aad-eddb-4c5d-816c-17cf0a15ac1e",
   "metadata": {},
   "outputs": [],
   "source": [
    "val multiplicacion: (Int, Int) => Int = (x: Int, y: Int) => x + y"
   ]
  },
  {
   "cell_type": "code",
   "execution_count": null,
   "id": "aaed2f8b-272f-401a-9039-a6d8f86285e1",
   "metadata": {},
   "outputs": [],
   "source": [
    "multiplicacion(2, 4)"
   ]
  },
  {
   "cell_type": "markdown",
   "id": "5c619b42-88c9-4850-a5c0-aa03c68e0a1d",
   "metadata": {},
   "source": [
    "## Funciones de orden superior."
   ]
  },
  {
   "cell_type": "markdown",
   "id": "6cf5b209-9a90-46a1-b828-806b0bac9643",
   "metadata": {},
   "source": [
    "Una función de orden superior es una función capaz de recibir una función como argumento y regresar una función."
   ]
  },
  {
   "cell_type": "markdown",
   "id": "e52e4d32-2cbd-4a85-8bbc-25201baa1447",
   "metadata": {},
   "source": [
    "**Ejemplo:**"
   ]
  },
  {
   "cell_type": "markdown",
   "id": "052c48a5-e50d-4db8-8607-489d6da36430",
   "metadata": {},
   "source": [
    "* La función multilpica_funcion() define:\n",
    "  * al parametro multiplicador tipo Int\n",
    "  * al parámetro parametro_funcion que corresponde a una función que debe de recibir dos argumentos de tipo Int y debe de regresar un objeto de tipo Int."
   ]
  },
  {
   "cell_type": "code",
   "execution_count": null,
   "id": "79985c1e-42eb-4124-a303-4d3163e18ee8",
   "metadata": {},
   "outputs": [],
   "source": [
    "def multiplica_funcion(multiplicador: Int, parametro_funcion: (Int, Int) => Int): Int = {\n",
    "    multiplicador * parametro_funcion(3 , 2)\n",
    "}"
   ]
  },
  {
   "cell_type": "code",
   "execution_count": null,
   "id": "724fc04c-f903-45be-be59-4e5e95ed5ac6",
   "metadata": {},
   "outputs": [],
   "source": [
    "val suma_numeros = (x: Int, y: Int) => x + y\n",
    "val multiplica_numeros = (x: Int, y: Int) => x * y"
   ]
  },
  {
   "cell_type": "code",
   "execution_count": null,
   "id": "19ed4c37-fa98-47ea-84e5-14972bf332a1",
   "metadata": {},
   "outputs": [],
   "source": [
    "multiplica_funcion(3, suma_numeros)"
   ]
  },
  {
   "cell_type": "code",
   "execution_count": null,
   "id": "c24cb71d-ef0e-4840-b47c-8166cad5f8ca",
   "metadata": {},
   "outputs": [],
   "source": [
    "multiplica_funcion(3, multiplica_numeros)"
   ]
  },
  {
   "cell_type": "code",
   "execution_count": null,
   "id": "61eede44-7836-4c3e-b5b2-287a7c1b317c",
   "metadata": {},
   "outputs": [],
   "source": [
    "val concatena: (String, String) => String = (x: String, y: String) => x + y"
   ]
  },
  {
   "cell_type": "code",
   "execution_count": null,
   "id": "f8dbd7d3-a671-4373-91a9-d2589afa5919",
   "metadata": {},
   "outputs": [],
   "source": [
    "concatena(\"Hola\", \"Mundo\" )"
   ]
  },
  {
   "cell_type": "code",
   "execution_count": null,
   "id": "2c1cb1a6-5adb-4f24-925e-18ee46f5b831",
   "metadata": {
    "scrolled": true
   },
   "outputs": [],
   "source": [
    "multiplica_funcion(3, concatena)"
   ]
  },
  {
   "cell_type": "markdown",
   "id": "39ddfb50-9710-4b80-9681-156076782b7a",
   "metadata": {},
   "source": [
    "## Funciones de primer orden.\n",
    "Las funciones de primer orden son funciones que reciben funciones como argumento y regresan funciones."
   ]
  },
  {
   "cell_type": "code",
   "execution_count": null,
   "id": "87ef8101-4f17-4bbd-abac-3c2ace7a780b",
   "metadata": {},
   "outputs": [],
   "source": [
    "def regresa_sumando(funcion_interna: (Int, Int) => Int): (Int, Int) => Int = {\n",
    "  (a: Int, b: Int) => 2 + funcion_interna(a, b)\n",
    "}"
   ]
  },
  {
   "cell_type": "code",
   "execution_count": null,
   "id": "52b009df-5c61-4546-9133-a190b4cac2f3",
   "metadata": {},
   "outputs": [],
   "source": [
    "val suma_numeros = (x: Int, y: Int) => x + y"
   ]
  },
  {
   "cell_type": "code",
   "execution_count": null,
   "id": "9deba642-7a1b-47a8-9d16-9c787e45f655",
   "metadata": {},
   "outputs": [],
   "source": [
    "val nueva_funcion = regresa_sumando(suma_numeros)"
   ]
  },
  {
   "cell_type": "code",
   "execution_count": null,
   "id": "2d49ce35-d8f5-45c7-a2d5-cf146ce0c565",
   "metadata": {},
   "outputs": [],
   "source": [
    "nueva_funcion(2, 3)"
   ]
  },
  {
   "cell_type": "code",
   "execution_count": null,
   "id": "d4e9e7b8-d9a0-4c55-bafc-be2c34e303ff",
   "metadata": {},
   "outputs": [],
   "source": [
    "val multipica_numeros = (x: Int, y: Int) => x * y"
   ]
  },
  {
   "cell_type": "code",
   "execution_count": null,
   "id": "02fe8751-64a4-4819-948b-cdfd275d94d4",
   "metadata": {},
   "outputs": [],
   "source": [
    "val otra_funcion = regresa_sumando(multipica_numeros)"
   ]
  },
  {
   "cell_type": "code",
   "execution_count": null,
   "id": "8d63ed10-dd0a-4f14-ad07-3b456be44ae9",
   "metadata": {},
   "outputs": [],
   "source": [
    "otra_funcion(2, 3)"
   ]
  },
  {
   "cell_type": "markdown",
   "id": "488df580-488f-4028-a5fa-3fd8782b6097",
   "metadata": {},
   "source": [
    "## Funciones anidadas."
   ]
  },
  {
   "cell_type": "code",
   "execution_count": null,
   "id": "80931739-892d-4f29-992f-88445d17009f",
   "metadata": {},
   "outputs": [],
   "source": [
    "def html(texto:String): String = {\n",
    "    val parrafo: (String) => String = (contenido:String) => s\"<p>$contenido</p>\"\n",
    "    val p = parrafo(texto)\n",
    "    s\"\"\"\n",
    "    <HTML>\n",
    "      <BODY>\n",
    "          $p\n",
    "      </BODY>\n",
    "    </HTML>\"\"\"\n",
    "}"
   ]
  },
  {
   "cell_type": "code",
   "execution_count": null,
   "id": "b7563bff-0bd9-417f-97fc-6b44da98adae",
   "metadata": {},
   "outputs": [],
   "source": [
    "html(\"Esta es una línea\")"
   ]
  },
  {
   "cell_type": "code",
   "execution_count": null,
   "id": "1b258266-72f3-445a-8a72-24b2828cf70d",
   "metadata": {},
   "outputs": [],
   "source": [
    "parrafo()"
   ]
  },
  {
   "cell_type": "markdown",
   "id": "6786fbca-4f15-4019-a3de-8fe69393bf6b",
   "metadata": {},
   "source": [
    "## Recursividad."
   ]
  },
  {
   "cell_type": "markdown",
   "id": "f87c84b0-f403-44f2-9fb5-b30f14f94ea6",
   "metadata": {},
   "source": [
    "La recursividad es un concepto fundamental en programación y matemáticas que se refiere a la capacidad de una función o algoritmo para llamarse a sí mismo para resolver un problema. En términos simples, la recursividad implica dividir un problema en subproblemas más pequeños y resolverlos de manera similar, hasta que se llegue a un caso base en el cual la solución es trivial.\n",
    "\n",
    "En programación, la recursividad se utiliza comúnmente para resolver problemas que tienen una estructura repetitiva o recursiva intrínseca. Los problemas matemáticos como el cálculo de factoriales, la sucesión de Fibonacci y la torre de Hanoi son ejemplos clásicos de problemas que se pueden resolver de manera eficiente mediante la recursión.\n",
    "\n",
    "Los elementos clave de la recursividad son:\n",
    "\n",
    "* Caso Base: Es el punto de parada de la recursión. Cuando se alcanza el caso base, la función recursiva deja de llamarse a sí misma y comienza a devolver un valor o realizar una acción específica.\n",
    "* Llamada Recursiva: La función se llama a sí misma con argumentos diferentes o reducidos en cada iteración o nivel de recursión. Esta llamada debe acercar el problema hacia el caso base.\n",
    "* División del Problema: La recursividad implica dividir un problema grande en subproblemas más pequeños, lo que simplifica la resolución de cada subproblema."
   ]
  },
  {
   "cell_type": "code",
   "execution_count": null,
   "id": "8ddbd30c-185f-4a8f-b8d9-d265e61f11cd",
   "metadata": {},
   "outputs": [],
   "source": [
    "val factorial: (Int => Int) = (numero: Int) => if (numero <= 1) 1 else numero * factorial(numero - 1)"
   ]
  },
  {
   "cell_type": "code",
   "execution_count": null,
   "id": "6cd28534-2651-4951-b1da-93a0d34afed4",
   "metadata": {},
   "outputs": [],
   "source": [
    "factorial(5)"
   ]
  },
  {
   "cell_type": "code",
   "execution_count": null,
   "id": "ef7a42be-7102-4202-a0fe-17f41aa1fa3a",
   "metadata": {},
   "outputs": [],
   "source": [
    "def factorial_expresivo(numero: Int): Int = {\n",
    "  println(s\"Ahora numero es: $numero\") // Utiliza s antes de las comillas para interpolación de cadenas\n",
    "  if (numero <= 1) {\n",
    "    1\n",
    "  } else {\n",
    "      val resultado = numero * factorial_expresivo(numero - 1)\n",
    "      println(s\"El factorial de $numero es $resultado\")\n",
    "      resultado \n",
    "  }\n",
    "}   "
   ]
  },
  {
   "cell_type": "code",
   "execution_count": null,
   "id": "1e7dc5f8-83be-4bc6-8d76-98839fa0a171",
   "metadata": {},
   "outputs": [],
   "source": [
    "factorial_expresivo(5)"
   ]
  }
 ],
 "metadata": {
  "kernelspec": {
   "display_name": "Apache Toree - Scala",
   "language": "scala",
   "name": "apache_toree_scala"
  },
  "language_info": {
   "codemirror_mode": "text/x-scala",
   "file_extension": ".scala",
   "mimetype": "text/x-scala",
   "name": "scala",
   "pygments_lexer": "scala",
   "version": "2.12.15"
  }
 },
 "nbformat": 4,
 "nbformat_minor": 5
}
