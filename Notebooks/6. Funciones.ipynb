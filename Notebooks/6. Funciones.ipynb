{
 "cells": [
  {
   "cell_type": "markdown",
   "id": "dd97fbfc-9459-49aa-9ca9-2b134bb6d722",
   "metadata": {},
   "source": [
    "## Funciones en Scala"
   ]
  },
  {
   "cell_type": "markdown",
   "id": "659fb9a8-a0d0-4d7a-8fdd-27205b1dada8",
   "metadata": {},
   "source": [
    "Las funciones son bloques de código que realizan una tarea específica o calculan un valor. En Scala, las funciones son ciudadanos de primera clase, lo que significa que pueden ser pasadas como argumentos, devueltas como resultados y asignadas a variables. Scala combina la programación orientada a objetos y la programación funcional, lo que hace que las funciones sean una parte fundamental del lenguaje."
   ]
  },
  {
   "cell_type": "markdown",
   "id": "1eae79bc-65ed-492c-b97f-be9e1fccee5f",
   "metadata": {},
   "source": [
    "### Elementos de una Función\n",
    "\n",
    "**1.** Nombre: Identifica la función y se usa para llamarla.\n",
    "\n",
    "**2.** Parámetros: Valores que se pasan a la función para que los utilice en su lógica. Pueden tener tipos específicos.\n",
    "\n",
    "**3.** Cuerpo de la Función: Bloque de código que contiene la lógica de la función.\n",
    "\n",
    "**4.** Valor de Retorno: Resultado que devuelve la función después de ejecutarse.\n",
    "\n",
    "**5.** Invocación: Llamada a la función para ejecutarla.\n",
    "\n",
    "**6.** Reutilización: Las funciones permiten evitar la duplicación de código al ser llamadas en múltiples lugares."
   ]
  },
  {
   "cell_type": "markdown",
   "id": "cb6e7cc0-cfa5-4cd8-80af-58331e543c6a",
   "metadata": {},
   "source": [
    "#### Definición de una Función\n",
    "En Scala, las funciones se definen usando la palabra clave def. La sintaxis básica es:"
   ]
  },
  {
   "cell_type": "code",
   "execution_count": null,
   "id": "1adbd99e-db98-4c28-893f-99d083d8f815",
   "metadata": {},
   "outputs": [],
   "source": [
    "def nombre(param1: Tipo1, param2: Tipo2): TipoRetorno = {\n",
    "  // Cuerpo de la función\n",
    "  expresión\n",
    "}"
   ]
  },
  {
   "cell_type": "markdown",
   "id": "fa003200-52ed-4ba7-9c20-6021e6143dcf",
   "metadata": {},
   "source": [
    "- Ejemplo de función con retorno:"
   ]
  },
  {
   "cell_type": "code",
   "execution_count": 1,
   "id": "a823dd7e-efdb-4180-b72c-b1f32a006e90",
   "metadata": {},
   "outputs": [
    {
     "data": {
      "text/plain": [
       "defined \u001b[32mfunction\u001b[39m \u001b[36msuma\u001b[39m"
      ]
     },
     "execution_count": 1,
     "metadata": {},
     "output_type": "execute_result"
    }
   ],
   "source": [
    "def suma(x: Double, y: Double): Double = {\n",
    "    x + y\n",
    "}"
   ]
  },
  {
   "cell_type": "markdown",
   "id": "e505b471-cf8d-466e-810d-c750d875ff40",
   "metadata": {},
   "source": [
    "- Ejemplo de función sin retorno (Unit):"
   ]
  },
  {
   "cell_type": "code",
   "execution_count": 2,
   "id": "2c54d3aa-18a6-4adb-ae81-9c2baf9b3ed0",
   "metadata": {},
   "outputs": [
    {
     "data": {
      "text/plain": [
       "defined \u001b[32mfunction\u001b[39m \u001b[36mdespliega_suma\u001b[39m"
      ]
     },
     "execution_count": 2,
     "metadata": {},
     "output_type": "execute_result"
    }
   ],
   "source": [
    "def despliega_suma(x: Double, y: Double): Unit = {\n",
    "    println(x + y)\n",
    "}"
   ]
  },
  {
   "cell_type": "markdown",
   "id": "0fa79598-5f01-43c0-ba79-5dfe361aba76",
   "metadata": {},
   "source": [
    "- Ejemplo de función con tipo Any:"
   ]
  },
  {
   "cell_type": "code",
   "execution_count": 3,
   "id": "9a05948b-588d-45dd-921f-042beff1fbad",
   "metadata": {},
   "outputs": [
    {
     "data": {
      "text/plain": [
       "defined \u001b[32mfunction\u001b[39m \u001b[36moperacion\u001b[39m"
      ]
     },
     "execution_count": 3,
     "metadata": {},
     "output_type": "execute_result"
    }
   ],
   "source": [
    "def operacion(x: Int, y: String): Any = {\n",
    "    y * x\n",
    "}"
   ]
  },
  {
   "cell_type": "markdown",
   "id": "2141ac06-2885-4e4d-ac1d-46c2097d58e2",
   "metadata": {},
   "source": [
    "#### Parámetros con Argumentos por Defecto\n",
    "Scala permite definir valores por defecto para los parámetros. Si no se proporciona un argumento, se usa el valor por defecto.\n",
    "\n",
    "**Ejemplo:**"
   ]
  },
  {
   "cell_type": "markdown",
   "id": "2c90c617-822d-4095-ad99-088c80c67111",
   "metadata": {},
   "source": [
    "def sumas(x: Double = 1, y: Double = 2, z: Double = 3): Double = {\n",
    "    x + y + z\n",
    "}"
   ]
  },
  {
   "cell_type": "markdown",
   "id": "4a6a546e-6217-4a15-a1b5-88764efac636",
   "metadata": {},
   "source": [
    "**Uso**"
   ]
  },
  {
   "cell_type": "code",
   "execution_count": null,
   "id": "380ac6d7-33c9-4262-ae70-3ba4b75eb61e",
   "metadata": {},
   "outputs": [],
   "source": [
    "sumas()          // Usa valores por defecto: 1 + 2 + 3 = 6\n",
    "sumas(11)        // x = 11, y = 2, z = 3 → 16\n",
    "sumas(5, 7)      // x = 5, y = 7, z = 3 → 15\n",
    "sumas(7, 8, 9)   // x = 7, y = 8, z = 9 → 24"
   ]
  },
  {
   "cell_type": "markdown",
   "id": "50d4f924-7c52-44d9-a279-619be0af6d74",
   "metadata": {},
   "source": [
    "#### Funciones lambda en General\n",
    "\n",
    "- Definición:\n",
    "  - Son funciones anónimas, es decir, funciones que no tienen un nombre definido con la palabra clave def.\n",
    "  - Se utilizan para crear funciones de forma concisa, especialmente cuando se necesitan funciones como argumentos para otras funciones (funciones de orden superior).\n",
    "    \n",
    "- Parámetros:\n",
    "  \n",
    "  - Pueden tener cero, uno o múltiples parámetros.\n",
    "  - La sintaxis general es (parámetros) => expresión.\n",
    "     \n",
    "- El Guión Bajo _:\n",
    "\n",
    "    - **Marcador de Posición:**\n",
    "      - Es un marcador de posición para un parámetro único.\n",
    "      - Se utiliza para abreviar la sintaxis de funciones lambda con un solo parámetro.\n",
    "      - Scala infiere el tipo del parámetro a partir del contexto.\n",
    "      \n",
    "    - **Limitaciones:**\n",
    "      - Solo se puede usar cuando la función lambda tiene exactamente un parámetro.\n",
    "      - Solo se puede usar una vez dentro de la función lambda.\n",
    "      \n",
    "**1. Función Lambda con Múltiples Parámetros (sin _):**"
   ]
  },
  {
   "cell_type": "code",
   "execution_count": null,
   "id": "3784ebef-c6a2-4805-a97d-c81595f8cbd8",
   "metadata": {},
   "outputs": [],
   "source": [
    "val suma: (Int, Int) => Int = (a, b) => a + b\n",
    "println(suma(3, 5)) // Imprime: 8"
   ]
  },
  {
   "cell_type": "markdown",
   "id": "59abb1c8-336f-4738-9d6d-25c291f4e5f2",
   "metadata": {},
   "source": [
    "- Aquí, (a, b) => a + b es una función lambda con dos parámetros (a y b).\n",
    "- No se usa el guión bajo _ porque hay múltiples parámetros."
   ]
  },
  {
   "cell_type": "markdown",
   "id": "53b7a48d-da49-4569-bb35-c9c7bf11c518",
   "metadata": {},
   "source": [
    "**2. Función Lambda con un Solo Parámetro (con _):**"
   ]
  },
  {
   "cell_type": "code",
   "execution_count": null,
   "id": "06ecfb40-e239-4127-a505-b284ed34bef9",
   "metadata": {},
   "outputs": [],
   "source": [
    "val cuadrado: Int => Int = _ * _\n",
    "println(cuadrado(4)) // Imprime: 16"
   ]
  },
  {
   "cell_type": "markdown",
   "id": "2a2b8242-1a93-4733-b64e-a02ec7c446d0",
   "metadata": {},
   "source": [
    "- Aquí, _ * _ es una función lambda abreviada con un solo parámetro.\n",
    "- El guión bajo _ representa el parámetro único."
   ]
  },
  {
   "cell_type": "markdown",
   "id": "4079a09a-8208-42da-bf22-5a252a06740b",
   "metadata": {},
   "source": [
    "**3. Función Lambda con un Solo Parámetro (sin _):**"
   ]
  },
  {
   "cell_type": "code",
   "execution_count": null,
   "id": "e548086b-816f-41f2-8d09-1a90e9218e79",
   "metadata": {},
   "outputs": [],
   "source": [
    "val cuadrado: Int => Int = x => x * x\n",
    "println(cuadrado(4)) // Imprime: 16"
   ]
  },
  {
   "cell_type": "markdown",
   "id": "84cffca8-b4a3-40c1-b0c3-4abb454e5ef9",
   "metadata": {},
   "source": [
    "- Este ejemplo es equivalente al anterior, pero usa un parámetro explícito x en lugar del guión bajo _.\n",
    "\n",
    "**Ejemplo de uso con un solo guion bajo**:"
   ]
  },
  {
   "cell_type": "code",
   "execution_count": null,
   "id": "d8589103-99d1-4ea1-89aa-22b627e0da92",
   "metadata": {},
   "outputs": [],
   "source": [
    "val lista = List(1, 2, 3, 4, 5)\n",
    "val resultado = lista.map(_ * 2)\n",
    "println(resultado)  // Resultado: List(2, 4, 6, 8, 10)"
   ]
  },
  {
   "cell_type": "markdown",
   "id": "1029aa24-b86e-4877-8932-211d8549e94d",
   "metadata": {},
   "source": [
    "- El guion bajo (_) actúa como un marcador de parámetro en una función anónima, indicando que Scala lo rellenará con el valor de entrada de manera implícita.\n",
    "- En este ejemplo, map(_ * 2) multiplica cada número en la lista por 2."
   ]
  },
  {
   "cell_type": "markdown",
   "id": "5911eaef-86d9-4604-a8bc-b62e35e89c0c",
   "metadata": {},
   "source": [
    "**En Resumen:**\n",
    "\n",
    "- Las funciones lambda pueden tener cualquier número de parámetros.\n",
    "- El guión bajo _ es una sintaxis abreviada específica para funciones lambda con un solo parámetro."
   ]
  },
  {
   "cell_type": "markdown",
   "id": "d4709af6-ea23-417a-a7cf-2be18c2f21bc",
   "metadata": {},
   "source": [
    "#### Funciones de Orden Superior\n",
    "Una función de orden superior es la que lleva un paso más allá esta capacidad, y entonces ya puede operar directamente con otras funciones, tomándolas como entrada o devolviéndolas como resultado.\n",
    "\n",
    "**Ejemplo:**"
   ]
  },
  {
   "cell_type": "code",
   "execution_count": 1,
   "id": "553d3863-a446-426d-abac-4dd937a92940",
   "metadata": {},
   "outputs": [
    {
     "data": {
      "text/plain": [
       "multiplica_funcion: (multiplicador: Int, parametro_funcion: (Int, Int) => Int)Int\n",
       "suma_numeros = > Int = $Lambda$2006/0x00007fa584940230@eae1aec\n"
      ]
     },
     "metadata": {},
     "output_type": "display_data",
     "source": "user"
    },
    {
     "data": {
      "text/plain": [
       "15"
      ]
     },
     "execution_count": 1,
     "metadata": {},
     "output_type": "execute_result"
    }
   ],
   "source": [
    "def multiplica_funcion(multiplicador: Int, parametro_funcion: (Int, Int) => Int): Int = {\n",
    "    multiplicador * parametro_funcion(3, 2)\n",
    "}\n",
    "\n",
    "val suma_numeros = (x: Int, y: Int) => x + y\n",
    "multiplica_funcion(3, suma_numeros)  // Resultado: 15"
   ]
  },
  {
   "cell_type": "markdown",
   "id": "849b8083-a7a2-4a86-8bdf-068b8042f5e5",
   "metadata": {},
   "source": [
    "#### Funciones Anidadas\n",
    "Scala permite definir funciones dentro de otras funciones. Estas funciones anidadas solo son accesibles dentro de la función que las contiene.\n",
    "\n",
    "**Ejemplo:**"
   ]
  },
  {
   "cell_type": "code",
   "execution_count": 2,
   "id": "b9773eea-0681-48fb-87f8-3ed50dd833aa",
   "metadata": {},
   "outputs": [
    {
     "data": {
      "text/plain": [
       "saludo: (nombre: String)String\n"
      ]
     },
     "metadata": {},
     "output_type": "display_data",
     "source": "user"
    },
    {
     "name": "stdout",
     "output_type": "stream",
     "text": [
      "Hola, Carlos!\n"
     ]
    }
   ],
   "source": [
    "def saludo(nombre: String): String = {\n",
    "  val mensaje: (String) => String = (n: String) => s\"Hola, $n!\"\n",
    "  mensaje(nombre)\n",
    "}\n",
    "\n",
    "println(saludo(\"Carlos\"))  // Salida: Hola, Carlos!\n"
   ]
  },
  {
   "cell_type": "markdown",
   "id": "3ebeac21-29f8-4530-a946-a5355472e4e2",
   "metadata": {},
   "source": [
    "#### Recursividad\n",
    "La recursividad es una técnica en la que una función se llama a sí misma para resolver un problema. Es útil para problemas que se pueden dividir en subproblemas más pequeños.\n",
    "\n",
    "- **Elementos clave:**\n",
    "\n",
    "   - Caso Base: Condición que detiene la recursión.\n",
    "\n",
    "   - Llamada Recursiva: La función se llama a sí misma con argumentos reducidos.\n",
    "\n",
    "   - División del Problema: El problema se divide en subproblemas más pequeños.\n",
    " \n",
    "#### Diferencia entre Recursión Normal y Recursión de Cola\n",
    "\n",
    "- **Recursión Normal** → La llamada recursiva no es la última operación.\n",
    "\n",
    "- **Recursión de Cola (Tail Recursion)** → La llamada recursiva es la última operación de la función, lo que permite optimización.\n",
    "\n",
    "**Ejemplo de factorial recursivo:**"
   ]
  },
  {
   "cell_type": "code",
   "execution_count": null,
   "id": "01a72b40-e117-4555-bfc4-8418f94d8aab",
   "metadata": {},
   "outputs": [],
   "source": [
    "def factorial(numero: Int): Int = {\n",
    "    if (numero <= 1) 1\n",
    "    else numero * factorial(numero - 1)\n",
    "}\n",
    "factorial(5)  // Resultado: 120"
   ]
  },
  {
   "cell_type": "markdown",
   "id": "87030a66-fd92-429d-bcd4-a39b27489050",
   "metadata": {},
   "source": [
    "**Problema**: Cada llamada queda pendiente en la pila, lo que puede causar Stack Overflow en entradas grandes."
   ]
  },
  {
   "cell_type": "markdown",
   "id": "8fd4de58-8131-4561-91a3-fb78d0416726",
   "metadata": {},
   "source": [
    "- La recursividad en general implica que una función se llama a sí misma para resolver un problema.\n",
    "\n",
    "- La recursión de cola es un tipo especial donde la llamada recursiva es la última operación, permitiendo optimización."
   ]
  },
  {
   "cell_type": "markdown",
   "id": "c073a1c0-355e-4de0-b327-ab42b6267a54",
   "metadata": {},
   "source": [
    "#### Funciones de Primer Orden\n",
    "Una función de primer orden es como un dato más: se puede guardar en variables, pasar a funciones, etc., pero no trabaja directamente con otras funciones.\n",
    "\n",
    "**Ejemplo:**"
   ]
  },
  {
   "cell_type": "code",
   "execution_count": null,
   "id": "86b0645a-b7bd-459c-af31-4addd396d4c1",
   "metadata": {},
   "outputs": [],
   "source": [
    "def regresa_sumando(funcion_interna: (Int, Int) => Int): (Int, Int) => Int = {\n",
    "    (a: Int, b: Int) => 2 + funcion_interna(a, b)\n",
    "}\n",
    "\n",
    "val suma_numeros = (x: Int, y: Int) => x + y\n",
    "val nueva_funcion = regresa_sumando(suma_numeros)\n",
    "nueva_funcion(2, 3)  // Resultado: 7"
   ]
  },
  {
   "cell_type": "markdown",
   "id": "75da2b83-4cdb-488a-ac45-0fee46dea17b",
   "metadata": {},
   "source": [
    "Característica | Funciones de Primer Orden | Funciones de Orden Superior\r\n",
    "---|---|---\r\n",
    "Qué hacen | Trabajan con valores o tipos básicos, sin operar directamente sobre funciones. | Trabajan con funciones, ya sea recibiendo funciones como parámetros o devolviendo funciones.\r\n",
    "Reciben funciones como parámetros? | No | Sí\r\n",
    "Devuelven funciones como resultado? | No | Sí\r\n",
    "Ejemplo de uso | Operaciones simples entre valores (Int, String). | Manipulación de funciones, como `map`, `filter`, funciones que crean otras funciones.\r\n",
    "Ejemplo | `def suma(a: Int, b: Int): Int = a + b` | `def aplicarOperacion(a: Int, b: Int, operacion: (Int, Int) => Int): Int = operacion(a, b)`<br>`def regresa_sumando(funcion_interna: (Int, Int) => Int): (Int, Int) => Int = { (a: Int, b: Int) => 2 + funcion_interna(a, b) }`\r\n",
    "Flexibilidad | Baja (solo se trabaja con valores). | Alta (se pueden pasar y devolver funciones dinámicamente).\r\n",
    "Abstracción | Baja (solo operaciones sobre datos). | Alta (permiten tratar las funciones como valores)."
   ]
  },
  {
   "cell_type": "markdown",
   "id": "9fe5fbb4-5778-4b22-9402-0281613eb871",
   "metadata": {},
   "source": [
    "**Conclusión**\n",
    "\n",
    "- Las funciones en Scala son bloques de código reutilizables que pueden recibir parámetros y devolver valores.\n",
    "\n",
    "- Scala soporta parámetros con valores por defecto, funciones con número variable de argumentos, y funciones lambda.\n",
    "\n",
    "- Las funciones de orden superior permiten pasar funciones como argumentos o devolver funciones como resultados.\n",
    "\n",
    "- La recursividad es una técnica poderosa para resolver problemas que se pueden dividir en subproblemas más pequeños.\n",
    "\n",
    "- Las funciones anidadas son características avanzadas que permiten un mayor nivel de abstracción y modularidad.\n",
    "\n",
    "- Las funciones de primer orden son aquellas que pueden ser tratadas como valores, pudiendo ser asignadas a variables, o pasadas como parametro a funciones de orden superior."
   ]
  },
  {
   "cell_type": "code",
   "execution_count": null,
   "id": "f34e81da-0167-43bd-a9e4-5ed261c7805b",
   "metadata": {},
   "outputs": [],
   "source": []
  }
 ],
 "metadata": {
  "kernelspec": {
   "display_name": "Apache Toree - Scala",
   "language": "scala",
   "name": "apache_toree_scala"
  },
  "language_info": {
   "codemirror_mode": "text/x-scala",
   "file_extension": ".scala",
   "mimetype": "text/x-scala",
   "name": "scala",
   "pygments_lexer": "scala",
   "version": "2.12.15"
  }
 },
 "nbformat": 4,
 "nbformat_minor": 5
}
