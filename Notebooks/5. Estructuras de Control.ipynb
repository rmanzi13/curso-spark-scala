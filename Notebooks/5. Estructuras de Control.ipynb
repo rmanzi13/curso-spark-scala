{
 "cells": [
  {
   "cell_type": "markdown",
   "id": "1267ab02-ffb4-4d55-ae61-b54817a71cb8",
   "metadata": {},
   "source": [
    "## Estructuras de Control en Scala"
   ]
  },
  {
   "cell_type": "markdown",
   "id": "7d083b40-6bdd-460c-9db9-5892badb4723",
   "metadata": {},
   "source": [
    "Las estructuras de control son fundamentales en cualquier lenguaje de programación, ya que permiten controlar el flujo de ejecución del código. Scala, al ser un lenguaje que combina programación funcional y orientada a objetos, ofrece una variedad de estructuras de control que son poderosas y flexibles."
   ]
  },
  {
   "cell_type": "markdown",
   "id": "218acb94-b999-4c85-9c33-aaa6b916bd20",
   "metadata": {},
   "source": [
    "**1. Estructura if/else**\n",
    "El if/else en Scala se utiliza para tomar decisiones basadas en condiciones booleanas. A diferencia de muchos lenguajes, en Scala el if/else es una expresión, lo que significa que devuelve un valor.\n",
    "\n",
    "**Sintaxis Básica:**"
   ]
  },
  {
   "cell_type": "code",
   "execution_count": null,
   "id": "b54c7af6-d465-4639-90b1-2926c9b944dc",
   "metadata": {},
   "outputs": [],
   "source": [
    "if (condición) {\n",
    "    // Código si la condición es verdadera\n",
    "} else {\n",
    "    // Código si la condición es falsa\n",
    "}"
   ]
  },
  {
   "cell_type": "markdown",
   "id": "800160bd-6972-4ade-aa84-f79a8049ced8",
   "metadata": {},
   "source": [
    "**Ejemplo:**"
   ]
  },
  {
   "cell_type": "code",
   "execution_count": null,
   "id": "4b44e11c-bc05-43be-a123-336b1b5c62e2",
   "metadata": {},
   "outputs": [],
   "source": [
    "val numero = 12\n",
    "val es_mayor_a_cinco = if (numero > 5) \"sí\" else \"no\""
   ]
  },
  {
   "cell_type": "markdown",
   "id": "56445756-807e-48a6-884b-96b2f53dbedc",
   "metadata": {},
   "source": [
    "if/else **Anidado:**"
   ]
  },
  {
   "cell_type": "code",
   "execution_count": null,
   "id": "92803b7a-459f-474c-b5df-e17618775069",
   "metadata": {},
   "outputs": [],
   "source": [
    "if (condición1) {\n",
    "    // Código para condición1\n",
    "} else if (condición2) {\n",
    "    // Código para condición2\n",
    "} else {\n",
    "    // Código si ninguna condición es verdadera\n",
    "}"
   ]
  },
  {
   "cell_type": "markdown",
   "id": "5e3f8f24-8ef9-46b0-916d-9b8531782cd3",
   "metadata": {},
   "source": [
    "**2. Identificación de Patrones con match**\n",
    "El match en Scala es similar al switch-case en otros lenguajes, pero es mucho más poderoso. Permite hacer coincidir valores con patrones específicos y ejecutar código en función de esa coincidencia.\n",
    "\n",
    "**Sintaxis Básica:**"
   ]
  },
  {
   "cell_type": "code",
   "execution_count": null,
   "id": "38692f8f-9f75-4727-bc78-e4f9a75d4b83",
   "metadata": {},
   "outputs": [],
   "source": [
    "variable match {\n",
    "  case patrón1 => valor1\n",
    "  case patrón2 => valor2\n",
    "  case _ => valor_por_defecto\n",
    "}"
   ]
  },
  {
   "cell_type": "markdown",
   "id": "128f80a3-3675-43dc-a5e6-d69eaaad63a6",
   "metadata": {},
   "source": [
    "**Ejemplo:**\n",
    "- **match** es una estructura de control similar a switch en Java, pero más poderosa.\n",
    "- siempre se usa con case, ya que case define los patrones que se van a evaluar dentro del match.\n",
    "- Aquí, match evalúa numero y compara su valor con los casos (case).\n",
    "- match en Scala permite hacer **pattern matching**, lo que significa que puedes comparar no solo valores, sino también tipos y estructuras más complejas.\n",
    "- **Es una expresión**: Devuelve un valor, a diferencia de switch, que es una estructura de control sin retorno de valor."
   ]
  },
  {
   "cell_type": "code",
   "execution_count": null,
   "id": "10ecf488-c041-453d-b22f-8f73d24e5fa8",
   "metadata": {},
   "outputs": [],
   "source": [
    "val number = 3\n",
    "number match {\n",
    "  case 1 => \"Uno\"\n",
    "  case 2 => \"Dos\"\n",
    "  case 3 => \"Tres\"\n",
    "  case _ => \"Otro número\"\n",
    "}"
   ]
  },
  {
   "cell_type": "markdown",
   "id": "d2c65b9a-e6df-444e-9f27-bcb8a37ecbda",
   "metadata": {},
   "source": [
    "case **con Patrones y Guardas:**"
   ]
  },
  {
   "cell_type": "code",
   "execution_count": null,
   "id": "b2de9884-95ee-4038-b198-9fa4edcc0bea",
   "metadata": {},
   "outputs": [],
   "source": [
    "val number = -3\n",
    "number match {\n",
    "  case a if a > 0 => \"Positivo\"\n",
    "  case a if a < 0 => \"Negativo\"\n",
    "  case _ => \"Cero\"\n",
    "}"
   ]
  },
  {
   "cell_type": "markdown",
   "id": "f3245793-6e28-41c5-8751-3e03ca941663",
   "metadata": {},
   "source": [
    "**3. Iteraciones con for**\n",
    "\n",
    "El bucle for en Scala es muy flexible y puede usarse para iterar sobre colecciones, aplicar filtros y transformar datos.\n",
    "\n",
    "**Bucle for Básico:**"
   ]
  },
  {
   "cell_type": "code",
   "execution_count": null,
   "id": "42987d4f-2f90-4bcb-a3f0-7455ee2c603e",
   "metadata": {},
   "outputs": [],
   "source": [
    "for (i <- 1 to 5) { //i toma valores de la colección o rango. <-  significa \"para cada i en el rango del 1 al 5\".\n",
    "  println(i)\n",
    "}"
   ]
  },
  {
   "cell_type": "markdown",
   "id": "98fe4e6f-5152-49f5-b760-f4049433b426",
   "metadata": {},
   "source": [
    "for **con Filtros (Guardas):**"
   ]
  },
  {
   "cell_type": "code",
   "execution_count": null,
   "id": "f0047486-2afe-4f3b-8a11-b3ec55dc298b",
   "metadata": {},
   "outputs": [],
   "source": [
    "val personas = List(Persona(\"Alice\", 30), Persona(\"Bob\", 25))\n",
    "for (persona <- personas if persona.edad > 25) {\n",
    "  println(persona.nombre)\n",
    "}"
   ]
  },
  {
   "cell_type": "markdown",
   "id": "2effea69-5740-4c78-96fa-92b12e6ac506",
   "metadata": {},
   "source": [
    "for**Comprehensions (Transformación de Colecciones):**"
   ]
  },
  {
   "cell_type": "code",
   "execution_count": null,
   "id": "b93d92ee-dedb-4a31-9a4e-a5af1b071d98",
   "metadata": {},
   "outputs": [],
   "source": [
    "val nombres = for (persona <- personas) yield persona.nombre  //yield genera una nueva lista"
   ]
  },
  {
   "cell_type": "markdown",
   "id": "23768cb0-a2ef-4c84-a2c3-a3878f63e1ca",
   "metadata": {},
   "source": [
    "**Ciclos Anidados:**"
   ]
  },
  {
   "cell_type": "code",
   "execution_count": null,
   "id": "da6672b5-4e26-4568-85c8-06adfbe56cac",
   "metadata": {},
   "outputs": [],
   "source": [
    "for {\n",
    "  x <- 1 to 3\n",
    "  y <- 1 to 3\n",
    "} println(s\"($x, $y)\")"
   ]
  },
  {
   "cell_type": "markdown",
   "id": "29167ab0-3b9c-4dbd-ae86-7bff72df1fcb",
   "metadata": {},
   "source": [
    "**4. Ciclos while y do/while**\n",
    "Aunque Scala fomenta un enfoque funcional, los bucles while y do/while están disponibles para casos donde se necesita iterar basado en una condición.\n",
    "\n",
    "**Bucle while:**"
   ]
  },
  {
   "cell_type": "code",
   "execution_count": null,
   "id": "6657f257-54bc-4efa-87a8-d595e8a6d843",
   "metadata": {},
   "outputs": [],
   "source": [
    "var contador = 0\n",
    "while (contador < 5) {\n",
    "  println(\"Contando: \" + contador)\n",
    "  contador += 1\n",
    "}"
   ]
  },
  {
   "cell_type": "markdown",
   "id": "8a29af42-58c3-41de-a01d-662912518d48",
   "metadata": {},
   "source": [
    "**5. Alternativas Funcionales a while**\n",
    "Scala fomenta el uso de enfoques funcionales en lugar de bucles while. Algunas alternativas incluyen:\n",
    "\n",
    "**Recursividad Tail-Recursive:**"
   ]
  },
  {
   "cell_type": "code",
   "execution_count": null,
   "id": "da26e998-427c-4e87-9474-bb8f47486144",
   "metadata": {},
   "outputs": [],
   "source": [
    "def contarHastaCinco(contador: Int): Unit = {\n",
    "  if (contador < 5) {\n",
    "    println(\"Contando: \" + contador)\n",
    "    contarHastaCinco(contador + 1)\n",
    "  }\n",
    "}\n",
    "contarHastaCinco(0)"
   ]
  },
  {
   "cell_type": "markdown",
   "id": "6f86ca41-abc8-49ad-8814-5fd8cf73ffd7",
   "metadata": {},
   "source": [
    "Métodos de Colecciones: foreach, map, flatMap, filter, etc"
   ]
  },
  {
   "cell_type": "markdown",
   "id": "705cc020-b0f1-4f62-ba80-7138aace0310",
   "metadata": {},
   "source": [
    "**foreach** en Scala se usa para iterar sobre una colección y ejecutar una operación en cada elemento, sin devolver un nuevo resultado. Es similar a un for tradicional, pero más funcional.\n",
    "\n",
    "**Ejemplo 1: Iterar sobre una lista**"
   ]
  },
  {
   "cell_type": "code",
   "execution_count": 1,
   "id": "6fb9852e-b308-4a26-9c3e-0db59411a0d0",
   "metadata": {},
   "outputs": [
    {
     "name": "stdout",
     "output_type": "stream",
     "text": [
      "1\n",
      "2\n",
      "3\n",
      "4\n",
      "5\n"
     ]
    },
    {
     "data": {
      "text/plain": [
       "\u001b[36mnumeros\u001b[39m: \u001b[32mList\u001b[39m[\u001b[32mInt\u001b[39m] = \u001b[33mList\u001b[39m(\u001b[32m1\u001b[39m, \u001b[32m2\u001b[39m, \u001b[32m3\u001b[39m, \u001b[32m4\u001b[39m, \u001b[32m5\u001b[39m)"
      ]
     },
     "execution_count": 1,
     "metadata": {},
     "output_type": "execute_result"
    }
   ],
   "source": [
    "val numeros = List(1, 2, 3, 4, 5)\n",
    "\n",
    "numeros.foreach(n => println(n)) // Imprime cada número en una línea"
   ]
  },
  {
   "cell_type": "markdown",
   "id": "3f731293-dae2-4125-830a-509dce155591",
   "metadata": {},
   "source": [
    "foreach no devuelve nada (Unit), solo ejecuta la función."
   ]
  },
  {
   "cell_type": "markdown",
   "id": "bcae6130-24aa-44b7-b007-8bf7e9052b6a",
   "metadata": {},
   "source": [
    "**Ejemplo 2: Con strings**"
   ]
  },
  {
   "cell_type": "code",
   "execution_count": 4,
   "id": "d304f4a7-2f6b-4068-a3d8-6c585f66cdce",
   "metadata": {},
   "outputs": [
    {
     "name": "stdout",
     "output_type": "stream",
     "text": [
      "Lenguaje: Scala\n",
      "Lenguaje: Java\n",
      "Lenguaje: Python\n"
     ]
    },
    {
     "data": {
      "text/plain": [
       "\u001b[36mpalabras\u001b[39m: \u001b[32mList\u001b[39m[\u001b[32mString\u001b[39m] = \u001b[33mList\u001b[39m(\u001b[32m\"Scala\"\u001b[39m, \u001b[32m\"Java\"\u001b[39m, \u001b[32m\"Python\"\u001b[39m)"
      ]
     },
     "execution_count": 4,
     "metadata": {},
     "output_type": "execute_result"
    }
   ],
   "source": [
    "val palabras = List(\"Scala\", \"Java\", \"Python\")\n",
    "\n",
    "palabras.foreach(palabra => println(s\"Lenguaje: $palabra\"))\n"
   ]
  },
  {
   "cell_type": "markdown",
   "id": "9a343cbb-c095-4b33-a9d6-7ce80beedcb9",
   "metadata": {},
   "source": [
    "**Diferencia con map**\n",
    "\n",
    "map devuelve una nueva colección transformada:"
   ]
  },
  {
   "cell_type": "code",
   "execution_count": 3,
   "id": "d681446a-a121-4b3b-9edd-9941c2874740",
   "metadata": {},
   "outputs": [
    {
     "data": {
      "text/plain": [
       "\u001b[36mduplicados\u001b[39m: \u001b[32mList\u001b[39m[\u001b[32mInt\u001b[39m] = \u001b[33mList\u001b[39m(\u001b[32m2\u001b[39m, \u001b[32m4\u001b[39m, \u001b[32m6\u001b[39m, \u001b[32m8\u001b[39m, \u001b[32m10\u001b[39m)"
      ]
     },
     "execution_count": 3,
     "metadata": {},
     "output_type": "execute_result"
    }
   ],
   "source": [
    "val duplicados = numeros.map(_ * 2) // Devuelve List(2, 4, 6, 8, 10)"
   ]
  },
  {
   "cell_type": "markdown",
   "id": "133d2d28-be62-4669-b8c1-eaeaebdfca10",
   "metadata": {},
   "source": [
    "Usa **foreach** cuando solo necesitas realizar acciones (ej. imprimir, escribir en un archivo) sin modificar la colección."
   ]
  },
  {
   "cell_type": "markdown",
   "id": "c9f3ffa1-8f5e-4ba9-8cf3-b2c4ab575072",
   "metadata": {},
   "source": [
    "**6. Try-Catch**\n",
    "\n",
    "**El bloque Try-Catch es una estructura de control que permite:**\n",
    "\n",
    "  - Intentar ejecutar un bloque de código que podría generar una excepción (dentro del bloque try).\n",
    "\n",
    "  - Capturar y manejar la excepción si ocurre (dentro del bloque catch).\n",
    "\n",
    "  - Opcionalmente, ejecutar un bloque de código que siempre se ejecutará, ya sea que ocurra una excepción o no (dentro del bloque finally).\n",
    "\n",
    "**Sintaxis Básica**"
   ]
  },
  {
   "cell_type": "code",
   "execution_count": null,
   "id": "2a76b260-9c39-417f-987e-a2e7eb3e2885",
   "metadata": {},
   "outputs": [],
   "source": [
    "try {\n",
    "  // Código que puede lanzar una excepción\n",
    "} catch {\n",
    "  case e: Exception => println(\"Ocurrió un error: \" + e.getMessage)\n",
    "} finally {\n",
    "  // Código que se ejecuta siempre, haya o no excepción\n",
    "}"
   ]
  },
  {
   "cell_type": "markdown",
   "id": "194bdf54-ffe6-43d0-96e4-998d04fbe62b",
   "metadata": {},
   "source": [
    "**Partes del Try-Catch**\n",
    "\n",
    "**1. Bloque try:**\n",
    "\n",
    "- Aquí colocas el código que podría generar una excepción.\n",
    "\n",
    "- Si ocurre una excepción, la ejecución del bloque try se detiene y se pasa al bloque catch.\n",
    "\n",
    "**2. Bloque catch:**\n",
    "\n",
    "- Aquí defines cómo manejar la excepción.\n",
    "\n",
    "- Puedes capturar diferentes tipos de excepciones usando case.\n",
    "\n",
    "- Cada case maneja un tipo específico de excepción.\n",
    "\n",
    "**3. Bloque finally (opcional):**\n",
    "\n",
    "- Este bloque se ejecuta siempre, sin importar si ocurrió una excepción o no.\n",
    "\n",
    "- Es útil para liberar recursos (como cerrar archivos o conexiones a bases de datos).\n",
    "\n",
    "**Ejemplo Práctico**"
   ]
  },
  {
   "cell_type": "markdown",
   "id": "f4d0b822-b3ff-449f-bd6d-66c96f900f6e",
   "metadata": {},
   "source": [
    "Escribe un programa que intente dividir dos números. Si el divisor es cero, captura la excepción y muestra un mensaje de error. Además, incluye un bloque finally para indicar que la operación ha finalizado."
   ]
  },
  {
   "cell_type": "code",
   "execution_count": null,
   "id": "4193e09e-934c-46fb-976c-a9a0577d7a26",
   "metadata": {},
   "outputs": [],
   "source": [
    "val dividendo: Int = 10\n",
    "val divisor: Int = 0\n",
    "\n",
    "try {\n",
    "  // Intenta realizar la división\n",
    "  val resultado = dividendo / divisor\n",
    "  println(s\"Resultado: $resultado\")\n",
    "} catch {\n",
    "  // Captura la excepción específica (división por cero)\n",
    "  case e: ArithmeticException => println(\"Error: División por cero no permitida.\")\n",
    "} finally {\n",
    "  // Este bloque siempre se ejecuta\n",
    "  println(\"Operación finalizada.\")\n",
    "}"
   ]
  },
  {
   "cell_type": "markdown",
   "id": "856f8fa4-5760-4488-ae8c-5b3cd349e47d",
   "metadata": {},
   "source": [
    "**Explicación del Ejemplo**\n",
    "\n",
    "**1. Bloque try:**\n",
    "\n",
    "- Se intenta dividir dividendo entre divisor.\n",
    "\n",
    "- Como divisor es 0, se lanza una excepción ArithmeticException.\n",
    "\n",
    "**2. Bloque catch:**\n",
    "\n",
    "_ Captura la excepción ArithmeticException.\n",
    "\n",
    "- Muestra un mensaje de error: \"Error: División por cero no permitida.\"\n",
    "\n",
    "**3. Bloque finally:**\n",
    "\n",
    "- Este bloque se ejecuta siempre, independientemente de si ocurrió una excepción o no.\n",
    "\n",
    "- Muestra el mensaje: \"Operación finalizada.\"\n",
    "\n",
    "**Tipos de Excepciones Comunes**\n",
    "\n",
    "En Scala, todas las excepciones son subclases de Throwable. Algunas excepciones comunes incluyen:\n",
    "\n",
    "- **ArithmeticException:** Errores aritméticos, como división por cero.\n",
    "\n",
    "- **NullPointerException:** Acceso a un objeto que es null.\n",
    "\n",
    "- **ArrayIndexOutOfBoundsException:** Acceso a un índice inválido en un arreglo.\n",
    "\n",
    "- **NumberFormatException:** Error al convertir una cadena a un número"
   ]
  },
  {
   "cell_type": "code",
   "execution_count": null,
   "id": "da837b0a-1ae3-400c-b656-d7d86dc23aaf",
   "metadata": {},
   "outputs": [],
   "source": [
    "Throwable\n",
    "├── Error\n",
    "│   ├── OutOfMemoryError\n",
    "│   ├── StackOverflowError\n",
    "│   └── ... (otros errores graves)\n",
    "└── Exception\n",
    "    ├── RuntimeException (Excepciones no verificadas)\n",
    "    │   ├── NullPointerException\n",
    "    │   ├── ArithmeticException\n",
    "    │   ├── ArrayIndexOutOfBoundsException\n",
    "    │   └── ... (otras excepciones no verificadas)\n",
    "    └── Otras excepciones verificadas\n",
    "        ├── IOException\n",
    "        ├── SQLException\n",
    "        └── ... (otras excepciones verificadas)"
   ]
  },
  {
   "cell_type": "markdown",
   "id": "8b358692-3d96-41b5-b4a9-89d6965a7120",
   "metadata": {},
   "source": [
    "Conclusión\n",
    "if/else: Se usa para tomar decisiones y es una expresión que devuelve un valor.\n",
    "\n",
    "match: Es una alternativa poderosa a if/else para manejar múltiples casos.\n",
    "\n",
    "for: Es flexible y permite iterar sobre colecciones, aplicar filtros y transformar datos.\n",
    "\n",
    "while y do/while: Útiles para iteraciones basadas en condiciones, aunque se prefieren enfoques funcionales.\n",
    "\n",
    "Alternativas Funcionales: Scala fomenta el uso de recursividad y métodos de colecciones en lugar de bucles tradicionales.\n",
    "\n",
    "Manejo de Excepciones: Se realiza con try/catch/finally."
   ]
  }
 ],
 "metadata": {
  "kernelspec": {
   "display_name": "Apache Toree - Scala",
   "language": "scala",
   "name": "apache_toree_scala"
  },
  "language_info": {
   "codemirror_mode": "text/x-scala",
   "file_extension": ".scala",
   "mimetype": "text/x-scala",
   "name": "scala",
   "pygments_lexer": "scala",
   "version": "2.12.15"
  }
 },
 "nbformat": 4,
 "nbformat_minor": 5
}
