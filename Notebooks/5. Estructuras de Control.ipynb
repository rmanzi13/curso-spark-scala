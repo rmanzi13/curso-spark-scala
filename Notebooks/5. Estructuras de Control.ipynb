{
 "cells": [
  {
   "cell_type": "markdown",
   "id": "fc7971f5-4707-47a1-96b2-a932386f8ae6",
   "metadata": {},
   "source": [
    "## Estructuras de control."
   ]
  },
  {
   "cell_type": "markdown",
   "id": "0243d937-5ffe-440e-b5b6-cad5f4811210",
   "metadata": {},
   "source": [
    "En programación, una estructura de control es un bloque de código que permite alterar el flujo de ejecución de un programa. Esto significa que, en lugar de ejecutar las instrucciones de forma secuencial, podemos decidir qué partes del código se ejecutan y cuándo."
   ]
  },
  {
   "cell_type": "markdown",
   "id": "612bbebe-aac1-43fa-9f1f-d7cff529725e",
   "metadata": {},
   "source": [
    "### Estructura if/else."
   ]
  },
  {
   "cell_type": "markdown",
   "id": "466c5e61-eeda-463c-b332-f16b32ce4f03",
   "metadata": {},
   "source": [
    "Al igual que en muchos otros lenguajes de programación, if y else en Scala se utilizan para ejecutar bloques de código basados en condiciones booleanas."
   ]
  },
  {
   "cell_type": "code",
   "execution_count": null,
   "id": "f49b8226-bd55-4cb7-b24a-9f09d5216b6d",
   "metadata": {},
   "outputs": [],
   "source": [
    "if (condición) {\n",
    "    // Código si la condición es verdadera\n",
    "} else {\n",
    "    // Código si la condición es falsa\n",
    "}"
   ]
  },
  {
   "cell_type": "markdown",
   "id": "092695ce-f409-4c6b-8a42-1bf03f72b02f",
   "metadata": {},
   "source": [
    "### if / else como expresion."
   ]
  },
  {
   "cell_type": "markdown",
   "id": "94e49d04-ae07-457c-833d-9973c9693202",
   "metadata": {},
   "source": [
    "Esta estructura básica permite a los programas tomar decisiones y bifurcar el flujo de ejecución dependiendo de si una condición específica es verdadera o falsa.\n",
    "\n",
    "A diferencia de muchos lenguajes imperativos, en Scala, casi todo es una expresión, incluyendo if/else. Esto significa que if/else no solo controla el flujo, sino que también devuelve un valor."
   ]
  },
  {
   "cell_type": "markdown",
   "id": "d07b746d-ec31-4de2-a78f-870964099cbf",
   "metadata": {},
   "source": [
    "<span style=\"color:green\">val</span> result = <span style=\"color:green\">if</span> (<condición>) <span style=\"color:red\">\"Verdadero\" <span style=\"color:green\">else <span style=\"color:red\">\"Falso\""
   ]
  },
  {
   "cell_type": "code",
   "execution_count": null,
   "id": "55706be3-d50c-4820-8914-3ed602bc2866",
   "metadata": {},
   "outputs": [],
   "source": [
    "val numero  = 12"
   ]
  },
  {
   "cell_type": "code",
   "execution_count": null,
   "id": "1a14e575-56a1-439c-9003-4196a3266a7f",
   "metadata": {
    "scrolled": true
   },
   "outputs": [],
   "source": [
    "val es_mayor_a_cinco = if (numero > 5) \"sí\" else \"no\""
   ]
  },
  {
   "cell_type": "markdown",
   "id": "f7334ca1-3b60-44ad-966d-056d726d693f",
   "metadata": {},
   "source": [
    "### if/ else anidado."
   ]
  },
  {
   "cell_type": "markdown",
   "id": "5af060e8-23c8-4cee-aa6d-9cead231199c",
   "metadata": {},
   "source": [
    "Scala también soporta if anidados y estructuras de tipo escalera if-else-if, que son útiles para verificar múltiples condiciones.\n",
    "\n",
    "if (<condición1>) {\n",
    "    // Código para condición1\n",
    "} else if (<condición2>) {\n",
    "    // Código para condición2\n",
    "...\n",
    "...\n",
    "} else {\n",
    "    // Código si ninguna condición anterior es verdadera\n",
    "}\n",
    "\n",
    "Dada la naturaleza expresiva de if/else en Scala, se integra perfectamente en el estilo de programación funcional. Por ejemplo, se puede utilizar en \n",
    "combinación con funciones de orden superior, pasando funciones como parámetros o retornando funciones de un bloque if/else."
   ]
  },
  {
   "cell_type": "markdown",
   "id": "30e11908-af84-4f9d-b726-dfa4afa3c906",
   "metadata": {},
   "source": [
    "### Identificación de patrones con match"
   ]
  },
  {
   "cell_type": "markdown",
   "id": "fda4f36b-c143-4db8-8773-bd05ce21ae19",
   "metadata": {},
   "source": [
    "<span style=\"color:green\">match</span> como estructura de control\n",
    "\n",
    "La expresión <span style=\"color:green\">match</span> en Scala cumple con esta definición al permitirnos seleccionar qué bloque de código ejecutar basándonos en el valor de una expresión. Funciona de manera similar a la declaración switch en otros lenguajes, pero con mayor flexibilidad y poder."
   ]
  },
  {
   "cell_type": "markdown",
   "id": "6b4b6124-3349-4fff-994f-3c6ef437020f",
   "metadata": {},
   "source": [
    "**Características que hacen de match una estructura de control:**\n",
    "\n",
    "- **Selección de flujo:** match evalúa una expresión y la compara con una serie de patrones (casos). Cuando encuentra un patrón que coincide, ejecuta    el bloque de código asociado a ese patrón. Esto altera el flujo de ejecución, ya que solo se ejecuta el bloque correspondiente al patrón coincidente.  \n",
    "- **Múltiples opciones:** A diferencia de un simple if-else, match puede manejar múltiples casos, lo que lo hace ideal para situaciones con muchas posibles ramificaciones.  \n",
    "- **Desestructuración:** match permite desestructurar datos complejos (como tuplas o case classes) directamente en los patrones. Esto facilita la extracción de valores y la toma de decisiones basadas en la estructura de los datos.  \n",
    "- **Guards:** Podemos agregar condiciones adicionales (guards) a los patrones para refinar aún más la selección de casos.\n",
    "\n",
    "**Ejemplo sencillo:**"
   ]
  },
  {
   "cell_type": "code",
   "execution_count": null,
   "id": "c1b043c9-98e2-4189-8038-d1c1b1e39038",
   "metadata": {},
   "outputs": [],
   "source": [
    "val x = 3\n",
    "val resultado = x match {\n",
    "  case 1 => \"Uno\"\n",
    "  case 2 => \"Dos\"\n",
    "  case 3 => \"Tres\"\n",
    "  case _ => \"Otro número\" // Caso por defecto\n",
    "}\n",
    "println(resultado) // Imprime \"Tres\""
   ]
  },
  {
   "cell_type": "markdown",
   "id": "773d10b9-20d7-44ff-9f5e-07929c901419",
   "metadata": {},
   "source": [
    "En este ejemplo, match decide qué cadena asignar a resultado basándose en el valor de x. Esto demuestra cómo match controla el flujo de ejecución.\n",
    "\n",
    "**resumen:**  \n",
    "<span style=\"color:green\">match</span> es una poderosa estructura de control en Scala que permite la selección de flujo basada en patrones, desestructuración y guards. Su flexibilidad y expresividad lo convierten en una herramienta fundamental para la programación funcional en Scala."
   ]
  },
  {
   "cell_type": "markdown",
   "id": "fab9cf2b-e47b-498b-8d58-b7cfd6531dc0",
   "metadata": {},
   "source": [
    "### Uso de <span style=\"color:green\">case</span> con guardas."
   ]
  },
  {
   "cell_type": "markdown",
   "id": "2830b2e6-d2ed-4e59-9040-da5a71a3befe",
   "metadata": {},
   "source": [
    "Scala permite agregar condiciones adicionales a los casos mediante guardas. Esto se hace usando if dentro de un caso para proporcionar una condición \n",
    "extra.\n",
    "\n",
    "<variable> match {\n",
    "  case <intermedia> if <expresión 1> => <valor 1>\n",
    "  case <intermedia> if <expresión2> => <valor 2>\n",
    "   ...\n",
    "   ...\n",
    "  case <intermedia> if <expresión n> => <valor n>\n",
    "}  case _ => <valor por defecto>\n"
   ]
  },
  {
   "cell_type": "code",
   "execution_count": null,
   "id": "1f273065-e323-4b03-beec-8c71bdf544fb",
   "metadata": {},
   "outputs": [],
   "source": [
    "val number = - 3\n",
    "number match {\n",
    "  case a if a > 0 => \"Positivo\"\n",
    "  case a if a < 0 => \"Negativo\"\n",
    "  case _ => \"Cero\"\n",
    "}"
   ]
  },
  {
   "cell_type": "markdown",
   "id": "f084a8d8-4d4d-4693-93af-a0b2382df2a7",
   "metadata": {},
   "source": [
    "### Iteraciones con for"
   ]
  },
  {
   "cell_type": "markdown",
   "id": "58deaae6-0025-4bbf-ac23-e1e0795b87eb",
   "metadata": {},
   "source": [
    "Scala ofrece una estructura de control for que es notablemente poderosa y flexible. A diferencia de los bucles for tradicionales en muchos otros lenguajes, el for en Scala puede hacer mucho más que simplemente iterar sobre rangos o colecciones."
   ]
  },
  {
   "cell_type": "markdown",
   "id": "3fc73e68-61b1-4d6c-abeb-a4a4d7f70dfe",
   "metadata": {},
   "source": [
    "**1. For Básico: Iterando sobre Colecciones**  \n",
    "\n",
    "El uso más común del bucle for es iterar sobre una colección de elementos, como una lista o un arreglo.\n",
    "\n",
    "**Ejemplo Básico:**"
   ]
  },
  {
   "cell_type": "code",
   "execution_count": null,
   "id": "95c0dfbb-edf9-4bcb-a6ad-4ccbc3294438",
   "metadata": {},
   "outputs": [],
   "source": [
    "for (i <- 1 to 5) {\n",
    "  println(i)\n",
    "}"
   ]
  },
  {
   "cell_type": "markdown",
   "id": "686c6afd-2ef3-4d61-bab7-7c8ae7a08173",
   "metadata": {},
   "source": [
    "**2. For con Colecciones Complejas**\n",
    "\n",
    "Scala permite iterar sobre colecciones más complejas, como listas de objetos o estructuras anidadas.\n",
    "\n",
    "**Ejemplo con Lista de Objetos:**"
   ]
  },
  {
   "cell_type": "code",
   "execution_count": null,
   "id": "05daf32e-6508-41f6-be0a-274b5a154caa",
   "metadata": {},
   "outputs": [],
   "source": [
    "case class Persona(nombre: String, edad: Int)"
   ]
  },
  {
   "cell_type": "code",
   "execution_count": null,
   "id": "59acf3ab-5a6a-42dc-96ae-b308047a7db8",
   "metadata": {},
   "outputs": [],
   "source": [
    "val personas = List(Persona(\"Alice\", 30), Persona(\"Bob\", 25))"
   ]
  },
  {
   "cell_type": "code",
   "execution_count": null,
   "id": "106d0cef-d35d-4173-b331-5c34bc43e832",
   "metadata": {},
   "outputs": [],
   "source": [
    "for (persona <- personas) {\n",
    "  println(s\"${persona.nombre} tiene ${persona.edad} años\")\n",
    "}"
   ]
  },
  {
   "cell_type": "markdown",
   "id": "018a4820-aa16-4dc4-a569-7c046f292e41",
   "metadata": {},
   "source": [
    "### 3. For con Filtros (Guardas)"
   ]
  },
  {
   "cell_type": "markdown",
   "id": "43b00077-7be9-4b0f-9eec-7eaff49fd12d",
   "metadata": {},
   "source": [
    "Scala permite agregar filtros o guardas dentro de un bucle for para seleccionar elementos específicos de la colección."
   ]
  },
  {
   "cell_type": "code",
   "execution_count": null,
   "id": "1573e62c-e027-412c-80f3-4af96487de8f",
   "metadata": {
    "scrolled": true
   },
   "outputs": [],
   "source": [
    "for (persona <- personas if persona.edad > 25) {\n",
    "  println(persona.nombre)\n",
    "}"
   ]
  },
  {
   "cell_type": "markdown",
   "id": "773289e1-772a-4472-899f-f38d54b9f8b0",
   "metadata": {},
   "source": [
    "### 4. Ciclos anidados"
   ]
  },
  {
   "cell_type": "code",
   "execution_count": null,
   "id": "c8b4e65d-21da-4533-8749-5c4b809c1ac6",
   "metadata": {},
   "outputs": [],
   "source": [
    "for {\n",
    "  x <- 1 to 3\n",
    "  y <- 1 to 3\n",
    "} println(s\"($x, $y)\")"
   ]
  },
  {
   "cell_type": "markdown",
   "id": "cc6a1336-1ea3-4bf3-9c9c-8c0df581f276",
   "metadata": {},
   "source": [
    "### 5. For Comprehensions: Combinando Iteración y Transformación"
   ]
  },
  {
   "cell_type": "code",
   "execution_count": null,
   "id": "ffc9e2ef-a801-433c-b2ed-6ea9b104b01a",
   "metadata": {
    "scrolled": true
   },
   "outputs": [],
   "source": [
    "val nombres = for (persona <- personas) yield persona.nombre // yield genera una nueva lista"
   ]
  },
  {
   "cell_type": "code",
   "execution_count": null,
   "id": "a2c6e489-fb27-44a5-8ba2-482bf36c1822",
   "metadata": {
    "scrolled": true
   },
   "outputs": [],
   "source": [
    "nombres"
   ]
  },
  {
   "cell_type": "markdown",
   "id": "3e2a4d76-6b9d-4aa2-bd12-bfdf4dfd36b1",
   "metadata": {},
   "source": [
    "**Qué hace <span style=\"color:green\">yield</span> aquí**\n",
    "- <span style=\"color:green\">for</span> (persona <- personas) <span style=\"color:green\">yield</span> persona.nombre\n",
    "     - Recorre la lista personas\n",
    "     - Extrae el campo nombre de cada objeto\n",
    "     - Crea una nueva lista nombres con esos valores"
   ]
  },
  {
   "cell_type": "markdown",
   "id": "5ffcd11f-44d5-4c1b-96bb-8a739acf6f2a",
   "metadata": {},
   "source": [
    "### Ciclos while."
   ]
  },
  {
   "cell_type": "markdown",
   "id": "dbfbb144-7d91-4ae0-abd2-e94fa639fbb0",
   "metadata": {},
   "source": [
    " En Scala, el uso de while y do/while no es tan común ni se considera la forma más idiomática de escribir código, especialmente en comparación con otros lenguajes imperativos como Java o C++. Esto se debe principalmente a la naturaleza funcional de Scala y a las alternativas más expresivas que ofrece."
   ]
  },
  {
   "cell_type": "markdown",
   "id": "59b06ff2-bee9-4bdd-a1dc-201b166aa709",
   "metadata": {},
   "source": [
    "**Razones por las que while y do/while no son tan populares en Scala:**\n",
    "\n",
    "- **Enfoque funcional:**\n",
    "    - Scala fomenta la programación funcional, donde se prefieren las funciones puras y la inmutabilidad. Los bucles while y do/while a menudo implican efectos secundarios y mutabilidad, lo que va en contra de este paradigma."
   ]
  },
  {
   "cell_type": "markdown",
   "id": "e07b3770-1fd0-4af3-b8c6-348980cd5a96",
   "metadata": {},
   "source": [
    "**Alternativas más expresivas:**\n",
    "\n",
    "- **Scala proporciona alternativas más poderosas y concisas para la iteración, como:**\n",
    "    - for comprehensions: Son muy versátiles para iterar sobre colecciones y generar nuevas colecciones.\n",
    "    - Funciones de orden superior (map, filter, reduce, etc.): Permiten realizar operaciones sobre colecciones de manera declarativa y sin efectos secundarios.\n",
    "    - Recursión: Es una técnica fundamental en la programación funcional que puede reemplazar muchos bucles."
   ]
  },
  {
   "cell_type": "markdown",
   "id": "10d0cefa-2ff5-4807-bb3f-a3c3c4b8d7a4",
   "metadata": {},
   "source": [
    "**Mutabilidad:**\n",
    "\n",
    "- Los bucles while a menudo requieren variables mutables para controlar la condición de salida. Scala desalienta la mutabilidad para evitar efectos secundarios y facilitar el razonamiento sobre el código."
   ]
  },
  {
   "cell_type": "markdown",
   "id": "b622dfc6-26b1-408e-a3c0-10ce6a9c2999",
   "metadata": {},
   "source": [
    "**¿Cuándo se pueden usar while y do/while?**\n",
    "\n",
    "Aunque no son la opción preferida, hay situaciones en las que los bucles while pueden ser útiles:"
   ]
  },
  {
   "cell_type": "markdown",
   "id": "39e0ef5e-ed7b-4690-888a-7d4c9e3a0bfa",
   "metadata": {},
   "source": [
    "- **Interacción con código imperativo:**\n",
    "    - Si estás trabajando con bibliotecas o APIs que son inherentemente imperativas, es posible que necesites usar bucles while para interactuar con ellas.\n",
    "- **Casos de rendimiento crítico:**\n",
    "    - En algunos casos raros, los bucles while pueden ofrecer un ligero aumento de rendimiento en comparación con las alternativas funcionales. Sin embargo, esto generalmente no es significativo y la legibilidad del código debe ser la prioridad.\n",
    "- **Cuando no hay una alternativa clara:**\n",
    "    - Existen situaciones en las que implementar una solución con recursividad puede complicar mucho el código, en estos casos while puede ser la mejor opcion."
   ]
  },
  {
   "cell_type": "markdown",
   "id": "71c3f6b0-1736-4ab2-ad28-87328e079df6",
   "metadata": {},
   "source": [
    "### Try-Catch"
   ]
  },
  {
   "cell_type": "markdown",
   "id": "322a2a91-92c8-4aee-bd64-a8ad5c89940b",
   "metadata": {},
   "source": [
    "**El bloque Try-Catch es una estructura de control que permite:**\n",
    "\n",
    "- Intentar ejecutar un bloque de código que podría generar una excepción (dentro del bloque try).\n",
    "\n",
    "- Capturar y manejar la excepción si ocurre (dentro del bloque catch).\n",
    "\n",
    "- Opcionalmente, ejecutar un bloque de código que siempre se ejecutará, ya sea que ocurra una excepción o no (dentro del bloque finally).\n",
    "\n",
    "**Sintaxis Básica**"
   ]
  },
  {
   "cell_type": "code",
   "execution_count": null,
   "id": "f7b8bc57-97ba-45e6-ab1c-67e10ed075e6",
   "metadata": {},
   "outputs": [],
   "source": [
    "try {\n",
    "  // Bloque de código que podría lanzar una excepción\n",
    "} catch {\n",
    "  case ex: TipoDeExcepcion => // Manejo de la excepción\n",
    "} finally {\n",
    "  // Bloque de código que siempre se ejecuta (opcional)\n",
    "}"
   ]
  },
  {
   "cell_type": "markdown",
   "id": "779b5a26-b4de-46d6-b109-20f82b602e9e",
   "metadata": {},
   "source": [
    "**Partes del Try-Catch**  \n",
    "\n",
    "**1. Bloque try:**\n",
    "\n",
    "- Aquí colocas el código que podría generar una excepción.\n",
    "\n",
    "- Si ocurre una excepción, la ejecución del bloque try se detiene y se pasa al bloque catch.\n",
    "\n",
    "**2. Bloque catch:**\n",
    "\n",
    "- Aquí defines cómo manejar la excepción.\n",
    "\n",
    "- Puedes capturar diferentes tipos de excepciones usando case.\n",
    "\n",
    "- Cada case maneja un tipo específico de excepción.\n",
    "\n",
    "**3. Bloque finally (opcional):**\n",
    "\n",
    "- Este bloque se ejecuta siempre, sin importar si ocurrió una excepción o no.\n",
    "\n",
    "- Es útil para liberar recursos (como cerrar archivos o conexiones a bases de datos)."
   ]
  },
  {
   "cell_type": "markdown",
   "id": "4ffba0f0-8905-4888-9e03-5613259b3eb6",
   "metadata": {},
   "source": [
    "**Ejemplo Práctico**\n",
    "\n",
    "Escribe un programa que intente dividir dos números. Si el divisor es cero, captura la excepción y muestra un mensaje de error. Además, incluye un bloque finally para indicar que la operación ha finalizado."
   ]
  },
  {
   "cell_type": "code",
   "execution_count": null,
   "id": "c4370af1-1805-4d71-b4c5-43c2d12926e6",
   "metadata": {},
   "outputs": [],
   "source": [
    "val dividendo: Int = 10\n",
    "val divisor: Int = 0\n",
    "\n",
    "try {\n",
    "  // Intenta realizar la división\n",
    "  val resultado = dividendo / divisor\n",
    "  println(s\"Resultado: $resultado\")\n",
    "} catch {\n",
    "  // Captura la excepción específica (división por cero)\n",
    "  case e: ArithmeticException => println(\"Error: División por cero no permitida.\")\n",
    "} finally {\n",
    "  // Este bloque siempre se ejecuta\n",
    "  println(\"Operación finalizada.\")\n",
    "}"
   ]
  },
  {
   "cell_type": "markdown",
   "id": "199b42bb-1dd2-4226-a633-a88a18ee8b13",
   "metadata": {},
   "source": [
    "**Explicación del Ejemplo**\n",
    "**1. Bloque try:**\n",
    "\n",
    "- Se intenta dividir dividendo entre divisor.\n",
    "\n",
    "- Como divisor es 0, se lanza una excepción ArithmeticException.\n",
    "\n",
    "**2. Bloque catch:**\n",
    "\n",
    "- Captura la excepción ArithmeticException.\n",
    "\n",
    "- Muestra un mensaje de error: \"Error: División por cero no permitida.\"\n",
    "\n",
    "**3. Bloque finally:**\n",
    "\n",
    "- Este bloque se ejecuta siempre, independientemente de si ocurrió una excepción o no.\n",
    "\n",
    "- Muestra el mensaje: \"Operación finalizada.\""
   ]
  },
  {
   "cell_type": "markdown",
   "id": "6d8de515-0fc7-48a3-b9a0-368a0ed8d368",
   "metadata": {},
   "source": [
    "**Tipos de Excepciones Comunes**\n",
    "En Scala, todas las excepciones son subclases de Throwable. Algunas excepciones comunes incluyen:\n",
    "\n",
    " - **ArithmeticException:** Errores aritméticos, como división por cero.\n",
    "\n",
    " - **NullPointerException:** Acceso a un objeto que es null.\n",
    "\n",
    " - **ArrayIndexOutOfBoundsException:** Acceso a un índice inválido en un arreglo.\n",
    "\n",
    " - **NumberFormatException:** Error al convertir una cadena a un número."
   ]
  },
  {
   "cell_type": "markdown",
   "id": "df5ee51b-0f49-47a2-aea5-42efa870c5a3",
   "metadata": {},
   "source": [
    "### Jerarquía de Throwable"
   ]
  },
  {
   "cell_type": "markdown",
   "id": "686a598e-272f-43c7-978d-5d820f8585b7",
   "metadata": {},
   "source": [
    "Throwable\n",
    "├── Error\n",
    "│   ├── OutOfMemoryError\n",
    "│   ├── StackOverflowError\n",
    "│   └── ...\n",
    "└── Exception\n",
    "    ├── RuntimeException (Excepciones no verificadas)\n",
    "    │   ├── NullPointerException\n",
    "    │   ├── ArithmeticException\n",
    "    │   ├── ArrayIndexOutOfBoundsException\n",
    "    │   └── ...\n",
    "    └── Otras excepciones verificadas\n",
    "        ├── IOException\n",
    "        ├── SQLException\n",
    "        └── ..."
   ]
  },
  {
   "cell_type": "code",
   "execution_count": null,
   "id": "94eb536a-61a8-4190-8183-b74750de4e34",
   "metadata": {},
   "outputs": [],
   "source": []
  }
 ],
 "metadata": {
  "kernelspec": {
   "display_name": "Scala",
   "language": "scala",
   "name": "scala"
  },
  "language_info": {
   "codemirror_mode": "text/x-scala",
   "file_extension": ".sc",
   "mimetype": "text/x-scala",
   "name": "scala",
   "nbconvert_exporter": "script",
   "version": "2.13.16"
  }
 },
 "nbformat": 4,
 "nbformat_minor": 5
}
