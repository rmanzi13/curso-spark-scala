{
 "cells": [
  {
   "cell_type": "markdown",
   "id": "1f1cd05d-ce0e-4d03-b5f5-abba61f29cf4",
   "metadata": {},
   "source": [
    "## Variables en Scala"
   ]
  },
  {
   "cell_type": "markdown",
   "id": "7af301ed-b58c-4288-b98b-864a98f29209",
   "metadata": {},
   "source": [
    "En Scala, las variables se definen usando las palabras clave val y var. Estas palabras clave reflejan dos enfoques diferentes en la programación: inmutabilidad y mutabilidad."
   ]
  },
  {
   "cell_type": "markdown",
   "id": "b76bf9df-5e53-41fa-a011-474a5e5e4cb0",
   "metadata": {},
   "source": [
    "**1. val: Inmutabilidad por Defecto**\n",
    "- val se usa para declarar variables inmutables, es decir, su valor no puede cambiar después de la asignación.\n",
    "\n",
    "**Ejemplo:**"
   ]
  },
  {
   "cell_type": "code",
   "execution_count": null,
   "id": "ac5f1c68-1af2-43c2-8aef-e24123b88484",
   "metadata": {},
   "outputs": [],
   "source": [
    "val pi = 3.14"
   ]
  },
  {
   "cell_type": "markdown",
   "id": "e384b73b-1fef-477d-8f87-94acadf7bf38",
   "metadata": {},
   "source": [
    "Aquí, pi es una constante y no puede ser modificada.\n",
    "\n",
    "**Ventajas de val:**\n",
    "\n",
    "   - Seguridad en Concurrencia: Evita problemas como condiciones de carrera.(cuando múltiples hilos o procesos intentan acceder y modificar datos simultáneamente) \n",
    "\n",
    "   - Código Predecible: Facilita el razonamiento sobre el flujo del programa.\n",
    "\n",
    "   - Fomenta la Programación Funcional: La inmutabilidad es clave en la programación funcional."
   ]
  },
  {
   "cell_type": "markdown",
   "id": "abbe3034-2873-4fe0-bd00-3cf2b1417964",
   "metadata": {},
   "source": [
    "**2. var: Mutabilidad Cuando es Necesario**\n",
    "- var se usa para declarar variables mutables, es decir, su valor puede cambiar después de la asignación.\n",
    "\n",
    "**Ejemplo:**"
   ]
  },
  {
   "cell_type": "code",
   "execution_count": null,
   "id": "1ddbed99-9e06-44b1-8cd6-4e7e8f3de3e5",
   "metadata": {},
   "outputs": [],
   "source": [
    "var contador = 0\n",
    "contador = contador + 1"
   ]
  },
  {
   "cell_type": "markdown",
   "id": "b11d16aa-c500-4890-a80c-808f83fac94f",
   "metadata": {},
   "source": [
    "Aquí, contador puede ser modificado después de su inicialización.\n",
    "\n",
    "**Cuándo Usar var:**\n",
    "\n",
    "   - Requerimientos de Rendimiento: En algunos casos, la mutabilidad puede mejorar el rendimiento.\n",
    "\n",
    "   - Interacción con APIs Java: Algunas APIs de Java requieren objetos mutables."
   ]
  },
  {
   "cell_type": "markdown",
   "id": "192d7d94-791d-44e5-b323-369a38ba8da8",
   "metadata": {},
   "source": [
    "**3. Buenas Prácticas en la Definición de Variables**\n",
    "   - Preferir val sobre var: La inmutabilidad es preferible para escribir código más seguro y mantenible.\n",
    "\n",
    "   - Claridad y Expresividad: Nombra las variables de manera clara y descriptiva.\n",
    "\n",
    "   - Limitar el Alcance: Restringe el alcance de las variables para evitar efectos secundarios."
   ]
  },
  {
   "cell_type": "markdown",
   "id": "17396178-eec0-4241-bc1a-34f0c6649050",
   "metadata": {},
   "source": [
    "### Tipos de Datos en Scala"
   ]
  },
  {
   "cell_type": "markdown",
   "id": "0a8abb23-675f-4d68-b850-506c11d36e41",
   "metadata": {},
   "source": [
    "Scala tiene un sistema de tipos fuerte y estático, lo que significa que los tipos se verifican en tiempo de compilación. Además, Scala tiene inferencia de tipos, lo que permite omitir la declaración explícita de tipos en muchos casos."
   ]
  },
  {
   "cell_type": "markdown",
   "id": "6403dda1-3fd8-4f6f-9581-7bd72c496e3d",
   "metadata": {},
   "source": [
    "#### Tipos Primitivos\n",
    "  - Int: Entero de 32 bits."
   ]
  },
  {
   "cell_type": "code",
   "execution_count": null,
   "id": "0a4a0e35-0a56-40eb-aaa7-a42f69cc6330",
   "metadata": {},
   "outputs": [],
   "source": [
    "val numero: Int = 42"
   ]
  },
  {
   "cell_type": "markdown",
   "id": "88584b7e-d106-45bd-b136-9c830a0e0771",
   "metadata": {},
   "source": [
    "  - Long: Entero de 64 bits."
   ]
  },
  {
   "cell_type": "code",
   "execution_count": null,
   "id": "e1860dcc-3d8f-40cb-831e-543127a80174",
   "metadata": {},
   "outputs": [],
   "source": [
    "val bigNumber: Long = 1234567890L"
   ]
  },
  {
   "cell_type": "markdown",
   "id": "85d1bb7b-6901-4bf5-a079-fdc744160d80",
   "metadata": {},
   "source": [
    "  - Float: Número de punto flotante de 32 bits."
   ]
  },
  {
   "cell_type": "code",
   "execution_count": null,
   "id": "7a20f61f-8349-4ab1-8fbe-1ae121394c59",
   "metadata": {},
   "outputs": [],
   "source": [
    "val decimalNumber: Float = 3.14f"
   ]
  },
  {
   "cell_type": "markdown",
   "id": "463fe05a-0499-4e61-a54c-d2a868a3fb87",
   "metadata": {},
   "source": [
    "  - Double: Número de punto flotante de 64 bits."
   ]
  },
  {
   "cell_type": "code",
   "execution_count": null,
   "id": "1842b12a-f3e3-4614-9d20-c2b0a4b145de",
   "metadata": {},
   "outputs": [],
   "source": [
    "val bigDecimalNumber: Double = 3.14159265359"
   ]
  },
  {
   "cell_type": "markdown",
   "id": "aa81f7e8-39fc-4e2a-b8dd-bbc826e16cb2",
   "metadata": {},
   "source": [
    "  - Char: Carácter Unicode de 16 bits."
   ]
  },
  {
   "cell_type": "code",
   "execution_count": null,
   "id": "194a06bd-4f7d-472b-8d5b-807ea070dcaa",
   "metadata": {},
   "outputs": [],
   "source": [
    "val letter: Char = 'A'"
   ]
  },
  {
   "cell_type": "markdown",
   "id": "7574d68e-5080-4801-9078-b513936f0ad3",
   "metadata": {},
   "source": [
    "  - Boolean: Valor verdadero o falso."
   ]
  },
  {
   "cell_type": "code",
   "execution_count": null,
   "id": "f95a6954-3575-4e91-9dc0-d1e197543b06",
   "metadata": {},
   "outputs": [],
   "source": [
    "val isScalaFun: Boolean = true"
   ]
  },
  {
   "cell_type": "markdown",
   "id": "2eeb4d70-9bef-44f1-bf66-f4c718239b2c",
   "metadata": {},
   "source": [
    "#### Tipos No Primitivos\n",
    "   - String: Secuencia de caracteres."
   ]
  },
  {
   "cell_type": "code",
   "execution_count": null,
   "id": "8ac15fd2-7656-46b6-9aaf-77892931ddf9",
   "metadata": {},
   "outputs": [],
   "source": [
    "val greeting: String = \"Hello, Scala!\""
   ]
  },
  {
   "cell_type": "markdown",
   "id": "ff87e846-838b-4a8a-9be1-54e3d9352cbf",
   "metadata": {},
   "source": [
    "  - List: Lista inmutable de elementos."
   ]
  },
  {
   "cell_type": "code",
   "execution_count": null,
   "id": "0e535dcc-81a3-4710-b565-1034cb0e7bd1",
   "metadata": {},
   "outputs": [],
   "source": [
    "val fruits: List[String] = List(\"apple\", \"banana\", \"cherry\")"
   ]
  },
  {
   "cell_type": "markdown",
   "id": "9b9e076a-d5f8-4153-8ffc-10b0e4a53770",
   "metadata": {},
   "source": [
    "  - Tuple: Agrupación de elementos de diferentes tipos."
   ]
  },
  {
   "cell_type": "code",
   "execution_count": null,
   "id": "728c05eb-1b60-4669-8207-96b05c608d76",
   "metadata": {},
   "outputs": [],
   "source": [
    "val person: (String, Int) = (\"Alice\", 25)"
   ]
  },
  {
   "cell_type": "markdown",
   "id": "8dbef3f4-5298-40dc-9fbe-9e35cab3e7ad",
   "metadata": {},
   "source": [
    "  - Option: Representa un valor opcional."
   ]
  },
  {
   "cell_type": "code",
   "execution_count": null,
   "id": "8f6382c1-48ff-4cae-af18-ccdf950e36e6",
   "metadata": {},
   "outputs": [],
   "source": [
    "val optionalNumber: Option[Int] = Some(5)"
   ]
  },
  {
   "cell_type": "markdown",
   "id": "81a3b730-3c1e-47cd-83ef-4b805b68aed8",
   "metadata": {},
   "source": [
    "  - val optionalNumber: Option[Int] = Some(5)"
   ]
  },
  {
   "cell_type": "code",
   "execution_count": null,
   "id": "c55cd2e8-4f7a-4e3b-a17c-0db6306a51db",
   "metadata": {},
   "outputs": [],
   "source": [
    "val ageMap: Map[String, Int] = Map(\"Alice\" -> 25, \"Bob\" -> 29)"
   ]
  },
  {
   "cell_type": "markdown",
   "id": "9d648b64-1fe6-404c-9e80-4d2e91e8f138",
   "metadata": {},
   "source": [
    "**Operadores en Scala**  \n",
    "Scala ofrece una variedad de operadores para realizar operaciones aritméticas, de comparación y lógicas.\n",
    "\n",
    "**Operadores Aritméticos**\n",
    "- Suma (+):"
   ]
  },
  {
   "cell_type": "code",
   "execution_count": null,
   "id": "847a414b-fef0-4abb-b1f1-187578e2ab10",
   "metadata": {},
   "outputs": [],
   "source": [
    "10 + 5  // Resultado: 15"
   ]
  },
  {
   "cell_type": "markdown",
   "id": "b3fe03c5-be01-4722-8538-f0c35daceff7",
   "metadata": {},
   "source": [
    "- Resta (-):"
   ]
  },
  {
   "cell_type": "code",
   "execution_count": null,
   "id": "a4169620-a604-4b42-8b2c-a187a8a8e015",
   "metadata": {},
   "outputs": [],
   "source": [
    "10 - 5  // Resultado: 5"
   ]
  },
  {
   "cell_type": "markdown",
   "id": "08f18836-96b2-4893-88a2-17c02765b30e",
   "metadata": {},
   "source": [
    "- Multiplicación (*):"
   ]
  },
  {
   "cell_type": "code",
   "execution_count": null,
   "id": "67b5357f-3daf-4bff-85ac-ae543808cf31",
   "metadata": {},
   "outputs": [],
   "source": [
    "10 * 5  // Resultado: 50"
   ]
  },
  {
   "cell_type": "markdown",
   "id": "7f4afd1d-33dd-4a6c-be13-0fa0c1b1f10f",
   "metadata": {},
   "source": [
    "- División (/):"
   ]
  },
  {
   "cell_type": "code",
   "execution_count": null,
   "id": "c21bc8d1-5f70-4816-82c6-1ff69f5896e9",
   "metadata": {},
   "outputs": [],
   "source": [
    "10 / 5  // Resultado: 2"
   ]
  },
  {
   "cell_type": "markdown",
   "id": "59a66e5a-53b8-4385-b223-fbcb99ca355e",
   "metadata": {},
   "source": [
    "- Módulo (%):"
   ]
  },
  {
   "cell_type": "code",
   "execution_count": null,
   "id": "bb72968e-18d4-41ca-b657-b68352c0e6bf",
   "metadata": {},
   "outputs": [],
   "source": [
    "10 % 5  // Resultado: 0"
   ]
  },
  {
   "cell_type": "markdown",
   "id": "a3243995-a502-4aaa-af2a-94f731a048b4",
   "metadata": {},
   "source": [
    "**Operadores de Comparación**\n",
    "- Igualdad (==):"
   ]
  },
  {
   "cell_type": "code",
   "execution_count": null,
   "id": "8c41a255-6f1c-420b-ba27-2c2b733ac31b",
   "metadata": {},
   "outputs": [],
   "source": [
    "10 == 5  // Resultado: false"
   ]
  },
  {
   "cell_type": "markdown",
   "id": "c161deac-69e4-4534-9fe2-22ddd2902b4a",
   "metadata": {},
   "source": [
    "- Desigualdad (!=):"
   ]
  },
  {
   "cell_type": "code",
   "execution_count": null,
   "id": "caa5dfc7-4871-460e-bd41-054cca8e52cf",
   "metadata": {},
   "outputs": [],
   "source": [
    "10 != 5  // Resultado: true"
   ]
  },
  {
   "cell_type": "markdown",
   "id": "1910f6f5-4b4a-4c2e-8ae3-6a8998151568",
   "metadata": {},
   "source": [
    "- Menor que (<):"
   ]
  },
  {
   "cell_type": "code",
   "execution_count": null,
   "id": "17393057-3516-4f9d-a439-64e14646eef0",
   "metadata": {},
   "outputs": [],
   "source": [
    "10 < 5  // Resultado: false"
   ]
  },
  {
   "cell_type": "markdown",
   "id": "c8dbd628-48b1-445b-835c-7403a6912453",
   "metadata": {},
   "source": [
    "- Mayor que (>):"
   ]
  },
  {
   "cell_type": "code",
   "execution_count": null,
   "id": "abb71b4f-bdab-4b8d-a9ca-15fd943db862",
   "metadata": {},
   "outputs": [],
   "source": [
    "10 > 5  // Resultado: true"
   ]
  },
  {
   "cell_type": "markdown",
   "id": "aa20ac1d-e560-4fc0-8f94-15fed393f1e1",
   "metadata": {},
   "source": [
    "**Operadores Lógicos**\n",
    "- AND lógico (&&):"
   ]
  },
  {
   "cell_type": "code",
   "execution_count": null,
   "id": "280c3ad9-34ca-499c-a8f5-337f57a8fe84",
   "metadata": {},
   "outputs": [],
   "source": [
    "true && false  // Resultado: false"
   ]
  },
  {
   "cell_type": "markdown",
   "id": "c5b1c343-4cdc-495a-b7fc-755b812ab36d",
   "metadata": {},
   "source": [
    "- OR lógico (||):"
   ]
  },
  {
   "cell_type": "code",
   "execution_count": null,
   "id": "94d1afb8-6369-4a3f-9c31-5903843d5e8a",
   "metadata": {},
   "outputs": [],
   "source": [
    "true || false  // Resultado: true"
   ]
  },
  {
   "cell_type": "markdown",
   "id": "02730b23-fb4d-4ae3-a375-76f8a1a95d3b",
   "metadata": {},
   "source": [
    "- NOT lógico (!):"
   ]
  },
  {
   "cell_type": "code",
   "execution_count": null,
   "id": "535fb477-8b0c-4370-8b40-ffab7fccfe1b",
   "metadata": {},
   "outputs": [],
   "source": [
    "!true  // Resultado: false"
   ]
  },
  {
   "cell_type": "markdown",
   "id": "002610ee-5a89-412c-a925-5d39c8a517a7",
   "metadata": {},
   "source": [
    "**Operadores Específicos de Scala**\n",
    "- Concatenación (++):"
   ]
  },
  {
   "cell_type": "code",
   "execution_count": null,
   "id": "43f0a1a5-02c9-4495-902a-6264f1ca7e23",
   "metadata": {},
   "outputs": [],
   "source": [
    "\"Hola, \" ++ \"Mundo\"  // Resultado: \"Hola, Mundo\""
   ]
  },
  {
   "cell_type": "markdown",
   "id": "19387c2e-41f9-4b4d-a11a-8dd6b6cd4579",
   "metadata": {},
   "source": [
    "- Prepend (::):"
   ]
  },
  {
   "cell_type": "code",
   "execution_count": null,
   "id": "a43d0c3d-04ee-4d19-9be6-b33765d3f8b5",
   "metadata": {},
   "outputs": [],
   "source": [
    "5 :: List(1, 2)  // Resultado: List(5, 1, 2)"
   ]
  },
  {
   "cell_type": "markdown",
   "id": "33c13891-33bd-4c83-94c7-e7f1172f13f3",
   "metadata": {},
   "source": [
    "#### Cadenas de Caracteres\n",
    "**Cadenas de Varias Líneas**\n",
    "- Se pueden definir cadenas de varias líneas usando triples comillas (\"\"\")."
   ]
  },
  {
   "cell_type": "code",
   "execution_count": null,
   "id": "b01058fb-945e-4a32-b69f-c574335ea6d6",
   "metadata": {},
   "outputs": [],
   "source": [
    "val mensaje = \\\"\\\"\\\"Hola.\n",
    "Este es un mensaje\n",
    "de varias líneas.\\\"\\\"\\\""
   ]
  },
  {
   "cell_type": "markdown",
   "id": "192f30ec-618d-418c-8655-b7e0d914210a",
   "metadata": {},
   "source": [
    "**Cadenas Formateadas**\n",
    "- Scala permite interpolar variables dentro de cadenas usando s\"\"."
   ]
  },
  {
   "cell_type": "code",
   "execution_count": null,
   "id": "3a514522-7b69-4ce2-9efa-84c883268e9e",
   "metadata": {},
   "outputs": [],
   "source": [
    "val nombre = \"Juan\"\n",
    "val edad = 22\n",
    "println(s\"Hola $nombre. Tu edad es $edad\")"
   ]
  },
  {
   "cell_type": "markdown",
   "id": "3c37dd5d-49f7-4a69-9cc6-02c8b5396b8f",
   "metadata": {},
   "source": [
    "**Conclusión**\n",
    "\n",
    "- val es preferible para variables inmutables, mientras que var se usa cuando se necesita mutabilidad.\n",
    "\n",
    "- Scala tiene un sistema de tipos fuerte y estático, con inferencia de tipos para reducir la verbosidad del código.\n",
    "\n",
    "- Los operadores en Scala permiten realizar operaciones aritméticas, de comparación y lógicas, además de operaciones específicas como concatenación y prepend.\n",
    "\n",
    "- Las cadenas de caracteres pueden ser multilínea y formateadas con interpolación de variables."
   ]
  },
  {
   "cell_type": "code",
   "execution_count": null,
   "id": "f7fe48ef-2b74-4214-aa47-eec73109d788",
   "metadata": {},
   "outputs": [],
   "source": []
  }
 ],
 "metadata": {
  "kernelspec": {
   "display_name": "Scala",
   "language": "scala",
   "name": "scala"
  },
  "language_info": {
   "codemirror_mode": "text/x-scala",
   "file_extension": ".sc",
   "mimetype": "text/x-scala",
   "name": "scala",
   "nbconvert_exporter": "script",
   "version": "2.13.16"
  }
 },
 "nbformat": 4,
 "nbformat_minor": 5
}
