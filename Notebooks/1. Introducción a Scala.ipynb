{
 "cells": [
  {
   "cell_type": "markdown",
   "id": "1ab9784b-3173-4ffe-8b6b-82adfb724d0c",
   "metadata": {},
   "source": [
    "## Introducción a Scala"
   ]
  },
  {
   "cell_type": "markdown",
   "id": "90d6d503-a6c8-49f8-ad8a-489adae06032",
   "metadata": {},
   "source": [
    "Scala es un lenguaje de programación moderno que combina lo mejor de la programación orientada a objetos y la programación funcional. Fue creado por Martin Odersky en 2003 y se ejecuta en la Java Virtual Machine (JVM), lo que le permite ser compatible con Java y aprovechar su ecosistema."
   ]
  },
  {
   "cell_type": "markdown",
   "id": "ecc9d21e-67ef-4f28-84e9-ee59d1390e1c",
   "metadata": {},
   "source": [
    "### Características Clave de Scala"
   ]
  },
  {
   "cell_type": "markdown",
   "id": "7d53d74d-497f-4243-9e36-ce56be62cb9c",
   "metadata": {},
   "source": [
    "**1. Orientación a Objetos y Funcional:**\n",
    "\n",
    "  - Scala es un lenguaje orientado a objetos donde todo es un objeto, incluyendo números y funciones.\n",
    "\n",
    "  - También es un lenguaje funcional, lo que permite escribir código más conciso y expresivo.\n",
    "\n",
    "**2. Tipado Estático y Fuerte:**\n",
    "\n",
    "  - Scala es de tipado estático, lo que significa que los tipos se verifican en tiempo de compilación.\n",
    "\n",
    "  - Es de tipado fuerte, lo que evita conversiones implícitas de tipos y reduce errores en tiempo de ejecución.\n",
    "\n",
    "  - Scala tiene inferencia de tipos, lo que permite omitir la declaración explícita de tipos en muchos casos.\n",
    "\n",
    "**3. Concurrencia y Paralelismo**\n",
    "\n",
    "  - Scala ofrece herramientas avanzadas para la programación concurrente, como el modelo de actores.\n",
    "\n",
    "  - Se integra perfectamente con la JVM, lo que facilita la interoperabilidad con Java.\n",
    "\n",
    "**4. Biblioteca Rica y Ecosistema Activo:**\n",
    "\n",
    "  - Scala tiene una biblioteca estándar extensa que cubre desde operaciones básicas hasta programación funcional avanzada.\n",
    "\n",
    "  - Cuenta con un ecosistema activo que incluye frameworks como Akka (sistemas distribuidos), Play (aplicaciones web) y Spark (procesamiento de datos a gran escala).\n",
    "\n",
    "**5. Compatibilidad con Java:**\n",
    "\n",
    "  - Scala es totalmente compatible con Java, lo que permite usar bibliotecas de Java en proyectos Scala y viceversa.\n",
    "\n",
    "**6. Comunidad y Recursos:**\n",
    "\n",
    "- Scala tiene una comunidad activa y muchos recursos educativos disponibles, como tutoriales, cursos y libros."
   ]
  },
  {
   "cell_type": "markdown",
   "id": "16ffaf3f-789a-40b3-9865-5c333593fe29",
   "metadata": {},
   "source": [
    "**Ejecución y Compilación en Scala**\n",
    "\n",
    "**1. Intérprete de Scala:**\n",
    "  - Permite ejecutar código Scala de manera interactiva.\n",
    "\n",
    "  - Ideal para experimentar y probar conceptos rápidamente.\n",
    "\n",
    "  - Se inicia con el comando scala en la terminal.\n",
    "\n",
    "**2. Compilación Manual con scalac:**\n",
    "\n",
    "  - Para proyectos más grandes, se compila el código con el comando scalac.\n",
    "\n",
    "**Ejemplo:**"
   ]
  },
  {
   "cell_type": "code",
   "execution_count": null,
   "id": "7ef8ce8f-d03a-499b-892e-648572b36cc9",
   "metadata": {},
   "outputs": [],
   "source": [
    "scalac MiArchivo.scala //clase principal sería MiClasePrincipal, que contiene el método main, esta clase será la que se ejecutará más tarde.\n",
    "scala MiClasePrincipal //Si no contiene una clase principal, el compilador no sabrá qué ejecutar."
   ]
  },
  {
   "cell_type": "markdown",
   "id": "cff5159e-569f-4f5f-a36b-dec84cd47428",
   "metadata": {},
   "source": [
    "**Comparación entre Scala y Java**\n",
    "\n",
    "**1. Sintaxis Concisa:**\n",
    "\n",
    "- Scala tiene una sintaxis más corta y expresiva que Java.\n",
    "\n",
    "**Ejemplo scala:**"
   ]
  },
  {
   "cell_type": "code",
   "execution_count": null,
   "id": "f6764be7-947a-4e73-9f9c-23d5258dc595",
   "metadata": {},
   "outputs": [],
   "source": [
    "object HolaMundo {\n",
    "  def main(args: Array[String]): Unit = {\n",
    "    println(\"Hola, Mundo\")\n",
    "  }\n",
    "}"
   ]
  },
  {
   "cell_type": "markdown",
   "id": "2344c1ee-f9bd-4220-8fc9-ca0387472cee",
   "metadata": {},
   "source": [
    "**Ejemplo java:**"
   ]
  },
  {
   "cell_type": "code",
   "execution_count": null,
   "id": "a7aba722-f00c-415a-a53f-08d02f1384a1",
   "metadata": {},
   "outputs": [],
   "source": [
    "public class HolaMundo {\n",
    "  public static void main(String[] args) {\n",
    "    System.out.println(\"Hola, Mundo\");\n",
    "  }\n",
    "}"
   ]
  },
  {
   "cell_type": "markdown",
   "id": "e9a10da4-bb4e-42ea-8c7a-15a388a47c11",
   "metadata": {},
   "source": [
    "**2. Programación Funcional:**\n",
    "\n",
    "- Scala permite tratar funciones como ciudadanos de primera clase.\n",
    "\n",
    "**Ejemplo:**"
   ]
  },
  {
   "cell_type": "code",
   "execution_count": null,
   "id": "a24630fb-8d1b-4097-9668-df836875cdbd",
   "metadata": {},
   "outputs": [],
   "source": [
    "def suma(a: Int, b: Int): Int = a + b"
   ]
  },
  {
   "cell_type": "markdown",
   "id": "8005522d-6cdd-4239-b33e-8ded46cf190d",
   "metadata": {},
   "source": [
    "- Ejemplo de Programación Funcional en **Java**"
   ]
  },
  {
   "cell_type": "code",
   "execution_count": null,
   "id": "71af52e5-bb90-4550-88ca-32f9dddb7eaf",
   "metadata": {},
   "outputs": [],
   "source": [
    "import java.util.List;\n",
    "import java.util.stream.Collectors;\n",
    "\n",
    "public class Main {\n",
    "  public static void main(String[] args) {\n",
    "    List<Integer> numeros = List.of(1, 2, 3, 4, 5);\n",
    "    List<Integer> resultado = numeros.stream()\n",
    "                                     .filter(n -> n % 2 == 0)\n",
    "                                     .map(n -> n * 2)\n",
    "                                     .collect(Collectors.toList());\n",
    "    System.out.println(resultado);  // Imprime: [4, 8]\n",
    "  }\n",
    "}\n"
   ]
  },
  {
   "cell_type": "markdown",
   "id": "1e73fa93-387e-4cd4-b232-5be46161d059",
   "metadata": {},
   "source": [
    "**3. Inmutabilidad:**\n",
    "\n",
    "- Scala fomenta el uso de colecciones inmutables.\n",
    "\n",
    "**Ejemplo:**"
   ]
  },
  {
   "cell_type": "code",
   "execution_count": null,
   "id": "923b34f7-7bd5-41dc-9cb7-2626f710f813",
   "metadata": {},
   "outputs": [],
   "source": [
    "val lista = List(1, 2, 3)\n",
    "val nuevaLista = lista :+ 4"
   ]
  },
  {
   "cell_type": "markdown",
   "id": "a4dbad7a-8c09-46a3-b1f5-6d54ea9d9828",
   "metadata": {},
   "source": [
    "- Ejemplo de Inmutabilidad en **Java**"
   ]
  },
  {
   "cell_type": "code",
   "execution_count": null,
   "id": "b8fc6aac-16cd-4162-a293-8e0a07000cf7",
   "metadata": {},
   "outputs": [],
   "source": [
    "import java.util.List;\n",
    "\n",
    "public class Main {\n",
    "  public static void main(String[] args) {\n",
    "    List<Integer> lista = List.of(1, 2, 3);\n",
    "    // List<Integer> nuevaLista = lista.add(4); // Error: 'add' no está permitido en listas inmutables\n",
    "    System.out.println(lista);  // Imprime: [1, 2, 3]\n",
    "  }\n",
    "}\n"
   ]
  },
  {
   "cell_type": "markdown",
   "id": "908ec162-5c87-4232-a0b1-4c55c04685c6",
   "metadata": {},
   "source": [
    "**4. Inferencia de Tipos:**\n",
    "\n",
    "- Scala infiere automáticamente los tipos de las variables.\n",
    "\n",
    "**Ejemplo:**"
   ]
  },
  {
   "cell_type": "code",
   "execution_count": null,
   "id": "dc500268-bf9a-4fa5-98e1-73074c48fe6f",
   "metadata": {},
   "outputs": [],
   "source": [
    "val numero = 42  // El tipo Int se infiere automáticamente"
   ]
  },
  {
   "cell_type": "markdown",
   "id": "63f985ea-c6e9-46dc-83d0-cafc48f02c6b",
   "metadata": {},
   "source": [
    "- Ejemplo de Inferencia de tipo en **Java**\n",
    "- Java no tiene una inferencia de tipos tan avanzada como Scala. Antes de Java 10, necesitabas especificar el tipo de manera explícita. Con Java 10 y versiones posteriores, introdujo el var, que permite la inferencia de tipos, pero de forma más limitada que en Scala."
   ]
  },
  {
   "cell_type": "code",
   "execution_count": null,
   "id": "655cd2d5-293b-48c7-b0f8-f38228ee9506",
   "metadata": {},
   "outputs": [],
   "source": [
    "var numero = 42;  // El tipo `int` se infiere automáticamente\n",
    "System.out.println(numero);  // Imprime: 42"
   ]
  },
  {
   "cell_type": "markdown",
   "id": "afefaf6f-39b9-4191-a5cf-ea116a82e158",
   "metadata": {},
   "source": [
    " Aunque Java 10 y posteriores soportan var, la inferencia de tipos en Java no es tan expresiva ni tan flexible como en Scala, donde la inferencia de tipos está mucho más extendida en el lenguaje."
   ]
  },
  {
   "cell_type": "markdown",
   "id": "41517f3d-f03e-4289-a78a-da577c8bc6bb",
   "metadata": {},
   "source": [
    "#### Scala como Lenguaje Funcional\n",
    "\n",
    "**1.Inmutabilidad y Referencial Transparencia:**\n",
    "\n",
    "- Los datos inmutables garantizan que una función siempre produzca el mismo resultado con las mismas entradas.\n",
    "\n",
    "**Ejemplo:**"
   ]
  },
  {
   "cell_type": "code",
   "execution_count": null,
   "id": "0fc83096-bfc9-4556-b8d0-7f6865ab6141",
   "metadata": {},
   "outputs": [],
   "source": [
    "val listaOriginal = List(1, 2, 3)\n",
    "val listaNueva = listaOriginal :+ 4"
   ]
  },
  {
   "cell_type": "markdown",
   "id": "edb01756-863f-4255-8a14-3920204c8deb",
   "metadata": {},
   "source": [
    "**2. Funciones de Primera Clase:**\n",
    "\n",
    "- Las funciones pueden pasarse como argumentos, devolverse como resultados y asignarse a variables.\n",
    "\n",
    "**Ejemplo:**"
   ]
  },
  {
   "cell_type": "code",
   "execution_count": null,
   "id": "dd157a29-9a59-4889-9423-8ba889fd3178",
   "metadata": {},
   "outputs": [],
   "source": [
    "val suma = (a: Int, b: Int) => a + b //aqui se le asigna a una variabe\n",
    "\n",
    "// Invocación de la función\n",
    "val resultado = suma(3, 4)  // resultado es 7 // aqui se invoca directamente luego de ser asignada\n",
    "println(resultado)"
   ]
  },
  {
   "cell_type": "markdown",
   "id": "55f16508-2ad5-4f4f-a684-e86e2d2b656f",
   "metadata": {},
   "source": [
    "**2. Funciones de Orden Superior:**\n",
    "\n",
    "- Funciones que toman otras funciones como argumentos o devuelven funciones.\n",
    "\n",
    "**Ejemplo:**"
   ]
  },
  {
   "cell_type": "code",
   "execution_count": null,
   "id": "27a68cc3-252f-49e9-b48e-91109142029d",
   "metadata": {},
   "outputs": [],
   "source": [
    "val numeros = List(1, 2, 3, 4, 5)\n",
    "val cuadrados = numeros.map(numero => numero * numero)"
   ]
  },
  {
   "cell_type": "markdown",
   "id": "c2d15c3a-cba8-4344-935f-920a5ea4c064",
   "metadata": {},
   "source": [
    "**3. Composición de Funciones:**\n",
    "\n",
    "- Permite combinar funciones para crear nuevas funcionalidades.\n",
    "\n",
    "**Ejemplo:**"
   ]
  },
  {
   "cell_type": "code",
   "execution_count": null,
   "id": "aa706600-2f53-48e1-8ab9-621256d81a88",
   "metadata": {},
   "outputs": [],
   "source": [
    "val duplicar = (x: Int) => x * 2\n",
    "val sumarUno = (x: Int) => x + 1\n",
    "val duplicarYSumarUno = duplicar andThen sumarUno"
   ]
  },
  {
   "cell_type": "markdown",
   "id": "02adb443-005b-4853-bf6a-68b5c12ae741",
   "metadata": {},
   "source": [
    "**4. Pattern Matching:**\n",
    "\n",
    "- Simplifica el manejo de estructuras de datos complejas.\n",
    "\n",
    "**Ejemplo:**"
   ]
  },
  {
   "cell_type": "code",
   "execution_count": null,
   "id": "56f7be8e-3bf6-4386-86c0-5ee0a0c14705",
   "metadata": {},
   "outputs": [],
   "source": [
    "sealed trait Forma\n",
    "case class Circulo(radio: Double) extends Forma\n",
    "case class Rectangulo(ancho: Double, alto: Double) extends Forma\n",
    "\n",
    "def area(forma: Forma): Double = forma match {\n",
    "  case Circulo(radio) => 3.1416 * radio * radio\n",
    "  case Rectangulo(ancho, alto) => ancho * alto\n",
    "}"
   ]
  },
  {
   "cell_type": "markdown",
   "id": "850a56fa-a5ea-4382-ab29-760a61d7cad5",
   "metadata": {},
   "source": [
    "#### Scala 2 vs. Scala 3\n",
    "\n",
    "**1. Simplificación del Lenguaje:**\n",
    "\n",
    "- Scala 3 elimina complejidades y hace el lenguaje más coherente.\n",
    "\n",
    "**2. Mejoras en el Sistema de Tipos:**\n",
    "\n",
    "- Scala 3 introduce nuevos tipos como match types y union types.\n",
    "\n",
    "**3. Nuevas Características:**\n",
    "\n",
    "- Scala 3 añade enums mejorados, métodos de extensión y tipos opacos.\n",
    "\n",
    "**4. Metaprogramación:**\n",
    "\n",
    "- Scala 3 introduce un nuevo sistema de metaprogramación más seguro y fácil de usar.\n",
    "\n",
    "**5. Compatibilidad:**\n",
    "\n",
    "- Scala 3 es compatible con Scala 2, lo que facilita la migración de proyectos."
   ]
  },
  {
   "cell_type": "code",
   "execution_count": null,
   "id": "77514af2-f6fb-4a83-abbe-aaeb00e50f27",
   "metadata": {},
   "outputs": [],
   "source": []
  }
 ],
 "metadata": {
  "kernelspec": {
   "display_name": "Scala",
   "language": "scala",
   "name": "scala"
  },
  "language_info": {
   "codemirror_mode": "text/x-scala",
   "file_extension": ".sc",
   "mimetype": "text/x-scala",
   "name": "scala",
   "nbconvert_exporter": "script",
   "version": "2.13.16"
  }
 },
 "nbformat": 4,
 "nbformat_minor": 5
}
