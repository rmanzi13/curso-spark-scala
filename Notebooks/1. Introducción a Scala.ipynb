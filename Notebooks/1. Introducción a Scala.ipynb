{
 "cells": [
  {
   "cell_type": "markdown",
   "id": "1ab9784b-3173-4ffe-8b6b-82adfb724d0c",
   "metadata": {},
   "source": [
    "## Introducción a Scala"
   ]
  },
  {
   "cell_type": "markdown",
   "id": "90d6d503-a6c8-49f8-ad8a-489adae06032",
   "metadata": {},
   "source": [
    "Scala es un lenguaje de programación moderno que combina lo mejor de la programación orientada a objetos y la programación funcional. Fue creado por Martin Odersky en 2003 y se ejecuta en la Java Virtual Machine (JVM), lo que le permite ser compatible con Java y aprovechar su ecosistema."
   ]
  },
  {
   "cell_type": "markdown",
   "id": "ecc9d21e-67ef-4f28-84e9-ee59d1390e1c",
   "metadata": {},
   "source": [
    "### Características Clave de Scala"
   ]
  },
  {
   "cell_type": "markdown",
   "id": "7d53d74d-497f-4243-9e36-ce56be62cb9c",
   "metadata": {},
   "source": [
    "#### **1. Orientación a Objetos y Funcional:**\n",
    "\n",
    "  - Scala es un lenguaje orientado a objetos donde todo es un objeto, incluyendo números y funciones.\n",
    "\n",
    "  - También es un lenguaje funcional, Soporta funciones de primera clase, inmutabilidad y expresiones concisas.\n",
    "\n",
    "**Ejemplo**"
   ]
  },
  {
   "cell_type": "code",
   "execution_count": null,
   "id": "44bc394f-cfe2-4cda-a137-bd7dd989d443",
   "metadata": {},
   "outputs": [],
   "source": [
    "// Programación orientada a objetos\n",
    "class Persona(val nombre: String) {\n",
    "  def saludar(): String = s\"Hola, soy $nombre\"\n",
    "}\n",
    "\n",
    "// Programación funcional\n",
    "val suma = (a: Int, b: Int) => a + b\n",
    "println(suma(3, 5)) // Salida: 8\n"
   ]
  },
  {
   "cell_type": "markdown",
   "id": "e0da6d2b-d5eb-44dc-895f-2e2fefb86ae1",
   "metadata": {},
   "source": [
    "### En Scala, una función es como cualquier otro valor. Esto significa que puedes:\n",
    "\n",
    "- Asignar una función a una variable   \n",
    "- Pasar una función como argumento a otra función\n",
    "- Devolver una función como resultado de otra función\n",
    "\n",
    "**Esto permite escribir código más flexible y reutilizable.**\n",
    "\n",
    "**Ejemplos**"
   ]
  },
  {
   "cell_type": "markdown",
   "id": "168b7957-2fb8-41cc-b885-9ab2fc6c96ef",
   "metadata": {},
   "source": [
    "#### **a)** Asignar una función a una variable  (función de primera clase)\n",
    "\n",
    "- Aquí, **suma** es una variable que almacena una función que suma dos números."
   ]
  },
  {
   "cell_type": "code",
   "execution_count": null,
   "id": "cb962a9f-e832-4107-8a9b-e01f89f9ff9a",
   "metadata": {},
   "outputs": [],
   "source": [
    "val suma = (a: Int, b: Int) => a + b\n",
    "println(suma(3, 5)) // Salida: 8"
   ]
  },
  {
   "cell_type": "markdown",
   "id": "b0f7ca58-9d74-41fb-918b-320d91bd39ff",
   "metadata": {},
   "source": [
    "#### **b)**  Pasar una función como argumento a otra función (función de orden superior)\n",
    "\n",
    "- **operar** recibe tres argumentos: dos números y una función.\n",
    "- En este caso, le pasamos la función resta como argumento.\n",
    "\n"
   ]
  },
  {
   "cell_type": "code",
   "execution_count": null,
   "id": "1b161d6a-97be-4d5e-bd58-29d9f8a3c12f",
   "metadata": {},
   "outputs": [],
   "source": [
    "def operar(a: Int, b: Int, funcion: (Int, Int) => Int): Int = {\n",
    "  funcion(a, b)\n",
    "}\n",
    "\n",
    "val resta = (x: Int, y: Int) => x - y\n",
    "\n",
    "println(operar(10, 4, resta)) // Salida: 6"
   ]
  },
  {
   "cell_type": "markdown",
   "id": "5b83dab3-b347-48d6-acab-ba586ff85ddb",
   "metadata": {},
   "source": [
    "#### **c)** Devolver una función como resultado (función de orden superior)\n",
    "\n",
    "- crearMultiplicador(2) devuelve una función que multiplica por 2.\n",
    "- Luego usamos porDos(5), que multiplica 5 por 2."
   ]
  },
  {
   "cell_type": "code",
   "execution_count": null,
   "id": "ce1712e2-5561-4ad2-92be-37e767bd95d9",
   "metadata": {
    "scrolled": true
   },
   "outputs": [],
   "source": [
    "def crearMultiplicador(factor: Int): Int => Int = {\n",
    "  (x: Int) => x * factor\n",
    "}\n",
    "\n",
    "val porDos = crearMultiplicador(2)\n",
    "println(porDos(5)) // Salida: 10"
   ]
  },
  {
   "cell_type": "markdown",
   "id": "7dc10bf9-03a8-43f8-9063-4b3f37c91de2",
   "metadata": {},
   "source": [
    "- **factor** es un parámetro de la función generadora crearMultiplicador.\n",
    "- **x** es el parámetro de la función resultante que devuelve crearMultiplicador."
   ]
  },
  {
   "cell_type": "markdown",
   "id": "05eefe2d-0b26-4e01-9fa0-b54186dbcd4b",
   "metadata": {},
   "source": [
    "#### **2. Tipado Estático y Fuerte**\n",
    "Scala verifica los tipos en tiempo de compilación, lo que reduce errores en tiempo de ejecución.\n",
    "\n",
    "- **Tipado estático**: Detecta errores antes de ejecutar el código.\n",
    "- **Tipado fuerte**: No permite conversiones implícitas inseguras.\n",
    "- **Inferencia de tipos**: Scala deduce los tipos sin necesidad de declararlos explícitamente.\n",
    "\n",
    "**Ejemplo**:"
   ]
  },
  {
   "cell_type": "code",
   "execution_count": 1,
   "id": "24df1734-1aca-4afe-a11f-3c12ce0dd643",
   "metadata": {},
   "outputs": [
    {
     "data": {
      "text/plain": [
       "mensaje = Hola, Scala\n",
       "numero = 42\n"
      ]
     },
     "metadata": {},
     "output_type": "display_data",
     "source": "user"
    },
    {
     "data": {
      "text/plain": [
       "42"
      ]
     },
     "execution_count": 1,
     "metadata": {},
     "output_type": "execute_result"
    }
   ],
   "source": [
    "val mensaje = \"Hola, Scala\"  // Scala infiere que mensaje es de tipo String\n",
    "val numero: Int = 42         // Declaración explícita"
   ]
  },
  {
   "cell_type": "markdown",
   "id": "8fcbec27-c63b-43cc-9edd-cc2106c7db64",
   "metadata": {},
   "source": [
    " **Ejemplo de error por tipado fuerte**:"
   ]
  },
  {
   "cell_type": "code",
   "execution_count": 2,
   "id": "77d682a5-1e59-492b-9a42-5b1cb45af36c",
   "metadata": {},
   "outputs": [
    {
     "ename": "Unknown Error",
     "evalue": "<console>:23: error: type mismatch;\n found   : String(\"Hola\")\n required: Int\n       val x: Int = \"Hola\"  // Error: No se puede asignar un String a un Int\n                    ^\n",
     "output_type": "error",
     "traceback": []
    }
   ],
   "source": [
    "val x: Int = \"Hola\"  // Error: No se puede asignar un String a un Int"
   ]
  },
  {
   "cell_type": "markdown",
   "id": "023df8b0-4b5f-4585-817e-b76043e75c8e",
   "metadata": {},
   "source": [
    "#### **3. Inmutabilidad**\n",
    "Scala fomenta la inmutabilidad, lo que significa que los valores no cambian después de ser creados. Esto ayuda a escribir código más seguro y predecible.\n",
    "\n",
    "**Ejemplo**:"
   ]
  },
  {
   "cell_type": "code",
   "execution_count": null,
   "id": "8fee26b0-b720-45bf-8d4a-8de69fd3f1a2",
   "metadata": {},
   "outputs": [],
   "source": [
    "val nombre = \"Scala\"\n",
    "// nombre = \"Otro\"  // ❌ Esto daría error porque `val` es inmutable"
   ]
  },
  {
   "cell_type": "markdown",
   "id": "dc87886d-9ae8-443b-a6e4-a24eab049691",
   "metadata": {},
   "source": [
    "#### **4. Pattern Matching**\n",
    "Scala tiene un poderoso Pattern Matching, que es como un switch mejorado para manejar diferentes casos de manera más clara y segura.\n",
    "\n",
    "**Ejemplo**:"
   ]
  },
  {
   "cell_type": "code",
   "execution_count": null,
   "id": "9b2f4824-05d8-4d95-be2c-e34c5f85be55",
   "metadata": {},
   "outputs": [],
   "source": [
    "val numero = 2\n",
    "val resultado = numero match {\n",
    "  case 1 => \"Uno\"\n",
    "  case 2 => \"Dos\"\n",
    "  case _ => \"Otro número\"\n",
    "}\n",
    "println(resultado) // Salida: \"Dos\"\n",
    "\n",
    "//También se usa en case classes, listas y más estructuras."
   ]
  },
  {
   "cell_type": "markdown",
   "id": "8c22a2b7-3e5e-499d-9a59-1828ad941a90",
   "metadata": {},
   "source": [
    "**Ventajas de Pattern Matc**:\n",
    "\n",
    "- Hace el código más ordenado y fácil de leer.\n",
    "- Evita usar muchos if-else.\n",
    "- Se usa para trabajar con estructuras más complejas, como listas y case classes."
   ]
  },
  {
   "cell_type": "code",
   "execution_count": null,
   "id": "b72e0328-cc54-4704-b054-3241f4f864c2",
   "metadata": {},
   "outputs": [],
   "source": [
    "val numero = 2\n",
    "if (numero == 1) {\n",
    "  println(\"Uno\")\n",
    "} else if (numero == 2) {\n",
    "  println(\"Dos\")\n",
    "} else {\n",
    "  println(\"Otro número\")\n",
    "}"
   ]
  },
  {
   "cell_type": "markdown",
   "id": "14413a22-80b4-4fd9-a6d3-411fab417795",
   "metadata": {},
   "source": [
    "#### **5. Concurrencia y Paralelismo**\n",
    "\n",
    "- **Concurrencia**: Varias tareas se intercalan, pero no necesariamente se ejecutan al mismo tiempo.\n",
    "\n",
    "- **Paralelismo**: Varias tareas se ejecutan al mismo tiempo en diferentes núcleos del procesador.\n",
    "\n",
    "Scala tiene varias herramientas para manejar tareas en paralelo sin complicaciones:\n",
    "\n",
    "- **Modelo de Actores (Akka)**: Se basa en el envío de mensajes entre componentes llamados \"actores\" en lugar de usar hilos directamente. Framework Para sistemas distribuidos y concurrentes.\n",
    "- **Futures y Promises**: Son una forma de ejecutar tareas en segundo plano sin bloquear el código principal.\n",
    "\n",
    "   - **Future**: Representa una tarea que se ejecuta en segundo plano y eventualmente devolverá un resultado. No se puede modificar directamente, solo leer su valor cuando esté listo.\n",
    "\n",
    "   - **Promise**: Es como un contenedor que permite completar un Future manualmente. Decidimos cuándo asignarle un valor o un error.\n"
   ]
  },
  {
   "cell_type": "markdown",
   "id": "05ea3d79-f8e0-46ca-80f2-4e8ec3ddeebc",
   "metadata": {},
   "source": [
    "#### **6 Ecosistema Rico**:\n",
    "Scala cuenta con una extensa biblioteca estándar y un ecosistema vibrante de frameworks y bibliotecas, como Akka, Play y Spark, que te permiten abordar una amplia gama de tareas, desde el desarrollo web hasta el procesamiento de big data.\n"
   ]
  },
  {
   "cell_type": "markdown",
   "id": "8bb18a9d-fdfa-4b78-9330-48e3885f6128",
   "metadata": {},
   "source": [
    "#### **7. Compatibilidad con Java:**\n",
    "\n",
    "  - Scala es totalmente compatible con Java, lo que permite usar bibliotecas de Java en proyectos Scala y viceversa.\n",
    "\n",
    "**Ejemplo: Llamando una clase de Java en Scala**:"
   ]
  },
  {
   "cell_type": "code",
   "execution_count": null,
   "id": "8990ff87-dbc6-456f-8efe-147bbe64fe68",
   "metadata": {},
   "outputs": [],
   "source": [
    "import java.util.Date\n",
    "\n",
    "val fecha: Date = new Date()\n",
    "println(fecha)"
   ]
  },
  {
   "cell_type": "markdown",
   "id": "54e16c44-ac8a-443a-ac94-cda04689e482",
   "metadata": {},
   "source": [
    "#### **8. Comunidad y Recursos:**\n",
    "\n",
    "- Scala tiene una comunidad activa y muchos recursos educativos disponibles, como tutoriales, cursos y libros."
   ]
  },
  {
   "cell_type": "markdown",
   "id": "63f985ea-c6e9-46dc-83d0-cafc48f02c6b",
   "metadata": {},
   "source": [
    "- Ejemplo de Inferencia de tipo en **Java**\n",
    "- Java no tiene una inferencia de tipos tan avanzada como Scala. Antes de Java 10, necesitabas especificar el tipo de manera explícita. Con Java 10 y versiones posteriores, introdujo el var, que permite la inferencia de tipos, pero de forma más limitada que en Scala."
   ]
  },
  {
   "cell_type": "markdown",
   "id": "afefaf6f-39b9-4191-a5cf-ea116a82e158",
   "metadata": {},
   "source": [
    " Aunque Java 10 y posteriores soportan var, la inferencia de tipos en Java no es tan expresiva ni tan flexible como en Scala, donde la inferencia de tipos está mucho más extendida en el lenguaje."
   ]
  },
  {
   "cell_type": "markdown",
   "id": "55f16508-2ad5-4f4f-a684-e86e2d2b656f",
   "metadata": {},
   "source": [
    "**2. Funciones de Orden Superior:**\n",
    "\n",
    "- Funciones que toman otras funciones como argumentos o devuelven funciones.\n",
    "\n",
    "**Ejemplo:**"
   ]
  },
  {
   "cell_type": "code",
   "execution_count": null,
   "id": "27a68cc3-252f-49e9-b48e-91109142029d",
   "metadata": {},
   "outputs": [],
   "source": [
    "val numeros = List(1, 2, 3, 4, 5)\n",
    "val cuadrados = numeros.map(numero => numero * numero)"
   ]
  },
  {
   "cell_type": "markdown",
   "id": "c2d15c3a-cba8-4344-935f-920a5ea4c064",
   "metadata": {},
   "source": [
    "**3. Composición de Funciones:**\n",
    "\n",
    "- Permite combinar funciones para crear nuevas funcionalidades.\n",
    "\n",
    "**Ejemplo:**"
   ]
  },
  {
   "cell_type": "code",
   "execution_count": null,
   "id": "aa706600-2f53-48e1-8ab9-621256d81a88",
   "metadata": {},
   "outputs": [],
   "source": [
    "val duplicar = (x: Int) => x * 2\n",
    "val sumarUno = (x: Int) => x + 1\n",
    "val duplicarYSumarUno = duplicar andThen sumarUno"
   ]
  },
  {
   "cell_type": "markdown",
   "id": "02adb443-005b-4853-bf6a-68b5c12ae741",
   "metadata": {},
   "source": [
    "**4. Pattern Matching:**\n",
    "\n",
    "- Simplifica el manejo de estructuras de datos complejas.\n",
    "\n",
    "**Ejemplo:**"
   ]
  },
  {
   "cell_type": "code",
   "execution_count": null,
   "id": "56f7be8e-3bf6-4386-86c0-5ee0a0c14705",
   "metadata": {},
   "outputs": [],
   "source": [
    "sealed trait Forma\n",
    "case class Circulo(radio: Double) extends Forma\n",
    "case class Rectangulo(ancho: Double, alto: Double) extends Forma\n",
    "\n",
    "def area(forma: Forma): Double = forma match {\n",
    "  case Circulo(radio) => 3.1416 * radio * radio\n",
    "  case Rectangulo(ancho, alto) => ancho * alto\n",
    "}"
   ]
  },
  {
   "cell_type": "markdown",
   "id": "850a56fa-a5ea-4382-ab29-760a61d7cad5",
   "metadata": {},
   "source": [
    "#### Scala 2 vs. Scala 3\n",
    "\n",
    "**1. Simplificación del Lenguaje:**\n",
    "\n",
    "- Scala 3 elimina complejidades y hace el lenguaje más coherente.\n",
    "\n",
    "**2. Mejoras en el Sistema de Tipos:**\n",
    "\n",
    "- Scala 3 introduce nuevos tipos como match types y union types.\n",
    "\n",
    "**3. Nuevas Características:**\n",
    "\n",
    "- Scala 3 añade enums mejorados, métodos de extensión y tipos opacos.\n",
    "\n",
    "**4. Metaprogramación:**\n",
    "\n",
    "- Scala 3 introduce un nuevo sistema de metaprogramación más seguro y fácil de usar.\n",
    "\n",
    "**5. Compatibilidad:**\n",
    "\n",
    "- Scala 3 es compatible con Scala 2, lo que facilita la migración de proyectos."
   ]
  },
  {
   "cell_type": "code",
   "execution_count": null,
   "id": "77514af2-f6fb-4a83-abbe-aaeb00e50f27",
   "metadata": {},
   "outputs": [],
   "source": []
  }
 ],
 "metadata": {
  "kernelspec": {
   "display_name": "Apache Toree - Scala",
   "language": "scala",
   "name": "apache_toree_scala"
  },
  "language_info": {
   "codemirror_mode": "text/x-scala",
   "file_extension": ".scala",
   "mimetype": "text/x-scala",
   "name": "scala",
   "pygments_lexer": "scala",
   "version": "2.12.15"
  }
 },
 "nbformat": 4,
 "nbformat_minor": 5
}
