{
 "cells": [
  {
   "cell_type": "markdown",
   "id": "ffaee8ab-0ae6-43e8-a4d0-93ed53a0b96f",
   "metadata": {},
   "source": [
    "# Introducción a Scala para Ciencia de Datos"
   ]
  },
  {
   "cell_type": "markdown",
   "id": "0c873210-5a8f-45b9-9187-2b2be8def270",
   "metadata": {},
   "source": [
    "## ¿Qué es Scala?\n",
    "Scala es un lenguaje de programación de propósito general que combina características de programación orientada a objetos y funcional en un solo lenguaje. Fue creado por Martin Odersky y lanzado en 2003. Se ha convertido en una herramienta popular en el campo de la Ciencia de Datos debido a su interoperabilidad con Java, su capacidad para manejar grandes volúmenes de datos y su integración con Apache Spark, una de las plataformas de procesamiento de datos más utilizadas."
   ]
  },
  {
   "cell_type": "markdown",
   "id": "539fea8a-efac-4a79-8411-37c137b105af",
   "metadata": {},
   "source": [
    "## Ventajas de Scala sobre Java\n",
    "\n",
    "**1. Programación Funcional:**\n",
    "\n",
    "- Scala adopta un paradigma de programación funcional, lo que permite escribir código más conciso, expresivo y fácil de mantener.\n",
    "- Las funciones de primera clase, las funciones anónimas (lambdas) y las funciones de orden superior son características fundamentales de Scala que    facilitan la escritura de código funcional.\n",
    "- La inmutabilidad de los datos es un principio central en Scala, lo que ayuda a prevenir efectos secundarios y facilita la programación concurrente.\n",
    "\n",
    "**2. Concisión y Expresividad:**\n",
    "\n",
    "- Scala tiende a requerir menos código que Java para realizar las mismas tareas, lo que mejora la legibilidad y reduce la posibilidad de errores.\n",
    "- Características como la inferencia de tipos, las clases de caso y el pattern matching permiten escribir código más elegante y conciso.\n",
    "\n",
    "**3. Concurrencia:**\n",
    "\n",
    "- Scala, con su enfoque en la inmutabilidad y la programación funcional, facilita la escritura de código concurrente y paralelo.\n",
    "- La biblioteca Akka, escrita en Scala, proporciona un modelo de actores para la concurrencia que es muy potente y eficiente.\n",
    "\n",
    "**4. Interoperabilidad con Java:**\n",
    "\n",
    "- Scala se ejecuta en la Máquina Virtual de Java (JVM), lo que le permite interoperar perfectamente con el código Java existente.\n",
    "- Puedes utilizar bibliotecas Java en Scala y viceversa, lo que facilita la migración y la integración con sistemas existentes.\n",
    "\n",
    "**5. Ecosistema:**\n",
    "\n",
    "- Scala tiene un ecosistema rico y en crecimiento, con bibliotecas y frameworks potentes como Spark, Akka y Play Framework.\n",
    "- Spark, en particular, está escrito en Scala y aprovecha al máximo sus características para el procesamiento distribuido de datos."
   ]
  },
  {
   "cell_type": "markdown",
   "id": "68e08072-c248-49c7-b11b-e4e835b19ee3",
   "metadata": {},
   "source": [
    "## Características de Scala "
   ]
  },
  {
   "cell_type": "markdown",
   "id": "e46e90b1-25bf-40eb-a5d2-ddbee6783093",
   "metadata": {},
   "source": [
    "### 1. Orientación a Objetos y Funcional\n",
    "\n",
    "Combina programación orientada a objetos y programación funcional de manera fluida. En Scala, todo es un objeto, incluso los números y las funciones.\n",
    "\n",
    "### 2. Tipado Estático y Tipado Fuerte\n",
    "\n",
    "- Tipado estático:\n",
    "     - Los tipos de datos se verifican en tiempo de compilación, antes de que el programa se ejecute.\n",
    "     - Esto ayuda a detectar errores de tipo temprano, mejorando la seguridad y el rendimiento.\n",
    "- Tipado fuerte:\n",
    "     - Los tipos de datos se imponen estrictamente, impidiendo operaciones entre tipos incompatibles.\n",
    "     - Esto evita errores inesperados y garantiza la integridad de los datos."
   ]
  },
  {
   "cell_type": "markdown",
   "id": "f0e99c73-7143-402c-932c-1c9f1d0f8a83",
   "metadata": {},
   "source": [
    "## Inferencia de Tipos:\n",
    "\n",
    "- La inferencia de tipos es la capacidad del compilador para deducir automáticamente el tipo de una variable o expresión sin que el programador tenga que declararlo explícitamente.\n",
    "- Por ejemplo, si escribes var x = 10;, el compilador puede inferir que x es un entero.\n",
    "\n",
    "- La inferencia de tipos es más común en lenguajes con tipado estático y fuerte.\n",
    "- Esto se debe a que el compilador necesita tener información precisa sobre los tipos de datos para realizar la inferencia de forma segura.\n",
    "- En un lenguaje con tipado fuerte, el compilador puede estar seguro de que los tipos inferidos son consistentes y no conducirán a errores en tiempo de ejecución.\n",
    "- La inferencia de tipos puede hacer que el código sea más conciso y legible, ya que reduce la necesidad de declaraciones de tipo explícitas.\n",
    "\n",
    "## En resumen: \n",
    "- el tipado fuerte crea el entorno seguro que la inferencia de datos necesita para funcionar correctamente.\n",
    "- el tipado fuerte establece las reglas, y la inferencia de tipos es una herramienta que aprovecha esas reglas para simplificar el código."
   ]
  },
  {
   "cell_type": "markdown",
   "id": "bcad86e5-f760-49fb-9b3e-def0bcdce16c",
   "metadata": {},
   "source": [
    "### 3. Concurrencia y Paralelismo\n",
    "\n",
    "**Concurrencia**: Manejo de múltiples tareas, pero no necesariamente ejecutadas al mismo tiempo. A veces se puede hacer en un solo procesador con la multitarea (intercalando el tiempo de ejecución).\n",
    "\n",
    "**Paralelismo**: Ejecución de múltiples tareas al mismo tiempo, usando varios procesadores o núcleos de CPU.\n",
    "La concurrencia puede generar problemas si no se gestionan correctamente los accesos concurrentes a recursos compartidos, lo que puede llevar a resultados erróneos o inesperados.\n",
    "\n",
    "La **concurrencia** puede generar problemas si no se gestionan correctamente los accesos concurrentes a recursos compartidos, lo que puede llevar a resultados erróneos o inesperados.\n"
   ]
  },
  {
   "cell_type": "markdown",
   "id": "e5d96287-daa7-4274-aab4-c10bffbf366d",
   "metadata": {},
   "source": [
    "## Scala como lenguaje de programacion funcional."
   ]
  },
  {
   "cell_type": "markdown",
   "id": "29a30207-ae4d-49ff-ab90-0bbc2eb7a8cd",
   "metadata": {},
   "source": [
    "**1. Inmutabilidad y Referencial Transparencia:**\n",
    "\n",
    "Uno de los pilares fundamentales de la programación funcional es la inmutabilidad de los datos. En Scala, las colecciones y objetos inmutables son la norma, lo que significa que una vez que se crea un objeto, no se puede cambiar. Esta característica garantiza la referencial transparencia, lo que significa que una función siempre producirá el mismo resultado dado el mismo conjunto de entradas, sin efectos secundarios. Esto hace que el código sea más predecible, fácil de razonar y menos propenso a errores.\n",
    "\n",
    "**Ejemplo:**"
   ]
  },
  {
   "cell_type": "code",
   "execution_count": 1,
   "id": "f9f3b452-d04b-43db-805f-50f45b92c138",
   "metadata": {},
   "outputs": [
    {
     "data": {
      "text/plain": [
       "\u001b[36mlistaOriginal\u001b[39m: \u001b[32mList\u001b[39m[\u001b[32mInt\u001b[39m] = \u001b[33mList\u001b[39m(\u001b[32m1\u001b[39m, \u001b[32m2\u001b[39m, \u001b[32m3\u001b[39m)\n",
       "\u001b[36mlistaNueva\u001b[39m: \u001b[32mList\u001b[39m[\u001b[32mInt\u001b[39m] = \u001b[33mList\u001b[39m(\u001b[32m1\u001b[39m, \u001b[32m2\u001b[39m, \u001b[32m3\u001b[39m, \u001b[32m4\u001b[39m)"
      ]
     },
     "execution_count": 1,
     "metadata": {},
     "output_type": "execute_result"
    }
   ],
   "source": [
    "val listaOriginal = List(1, 2, 3)\n",
    "val listaNueva = listaOriginal :+ 4  // Creación de una nueva lista en lugar de modificar la original"
   ]
  },
  {
   "cell_type": "markdown",
   "id": "14e9ef9f-48df-410d-a89f-22b38855c048",
   "metadata": {},
   "source": [
    "**2. Funciones de Primera Clase:**\n",
    "\n",
    "Scala trata las funciones como ciudadanos de primera clase, lo que significa que puedes pasar funciones como argumentos, devolver funciones desde otras funciones y asignar funciones a variables. Esto permite un alto nivel de abstracción y expresividad en la escritura de código.\n",
    "\n",
    "**Ejemplo:**"
   ]
  },
  {
   "cell_type": "code",
   "execution_count": 2,
   "id": "1bce0159-6804-4487-ac54-ce1fce9050b8",
   "metadata": {},
   "outputs": [
    {
     "data": {
      "text/plain": [
       "\u001b[36msuma\u001b[39m: (\u001b[32mInt\u001b[39m, \u001b[32mInt\u001b[39m) => \u001b[32mInt\u001b[39m = ammonite.$sess.cmd2$Helper$$Lambda$2976/0x0000000840d63840@49effd02\n",
       "\u001b[36mresultado\u001b[39m: \u001b[32mInt\u001b[39m = \u001b[32m7\u001b[39m"
      ]
     },
     "execution_count": 2,
     "metadata": {},
     "output_type": "execute_result"
    }
   ],
   "source": [
    "val suma = (a: Int, b: Int) => a + b\n",
    "val resultado = suma(3, 4)"
   ]
  },
  {
   "cell_type": "markdown",
   "id": "c821ee54-affd-43ea-a6eb-a2dc1a27bb35",
   "metadata": {},
   "source": [
    "**3. Funciones de Orden Superior:**\n",
    "\n",
    "Scala admite funciones de orden superior, que son funciones que toman una o más funciones como argumentos o devuelven una función como resultado. Esto permite patrones de diseño funcionales como el mapeo, el filtrado y la reducción de colecciones de manera concisa y legible.\n",
    "\n",
    "**Ejemplo:**"
   ]
  },
  {
   "cell_type": "code",
   "execution_count": 3,
   "id": "68e059dc-9178-4e28-86fb-38761eeb03fe",
   "metadata": {},
   "outputs": [
    {
     "data": {
      "text/plain": [
       "\u001b[36mnumeros\u001b[39m: \u001b[32mList\u001b[39m[\u001b[32mInt\u001b[39m] = \u001b[33mList\u001b[39m(\u001b[32m1\u001b[39m, \u001b[32m2\u001b[39m, \u001b[32m3\u001b[39m, \u001b[32m4\u001b[39m, \u001b[32m5\u001b[39m)\n",
       "\u001b[36mcuadrados\u001b[39m: \u001b[32mList\u001b[39m[\u001b[32mInt\u001b[39m] = \u001b[33mList\u001b[39m(\u001b[32m1\u001b[39m, \u001b[32m4\u001b[39m, \u001b[32m9\u001b[39m, \u001b[32m16\u001b[39m, \u001b[32m25\u001b[39m)"
      ]
     },
     "execution_count": 3,
     "metadata": {},
     "output_type": "execute_result"
    }
   ],
   "source": [
    "val numeros = List(1, 2, 3, 4, 5)\n",
    "val cuadrados = numeros.map(numero => numero * numero)"
   ]
  },
  {
   "cell_type": "markdown",
   "id": "c9c5e6ad-6e37-45dc-88ad-ff8c6d525d88",
   "metadata": {},
   "source": [
    "**4. Composición de Funciones:**\n",
    "\n",
    "La composición de funciones es una técnica común en la programación funcional. Scala proporciona operadores y métodos que facilitan la composición de funciones de manera eficiente.\n",
    "\n",
    "**Ejemplo:**"
   ]
  },
  {
   "cell_type": "code",
   "execution_count": 4,
   "id": "2e878f7c-508d-45ab-b2d5-9a9efb5940e9",
   "metadata": {},
   "outputs": [
    {
     "data": {
      "text/plain": [
       "\u001b[36mduplicar\u001b[39m: \u001b[32mInt\u001b[39m => \u001b[32mInt\u001b[39m = ammonite.$sess.cmd4$Helper$$Lambda$3138/0x0000000840dde040@5d180da1\n",
       "\u001b[36msumarUno\u001b[39m: \u001b[32mInt\u001b[39m => \u001b[32mInt\u001b[39m = ammonite.$sess.cmd4$Helper$$Lambda$3139/0x0000000840ddd840@67c0af4b\n",
       "\u001b[36mduplicarYSumarUno\u001b[39m: \u001b[32mInt\u001b[39m => \u001b[32mInt\u001b[39m = scala.Function1$$Lambda$3140/0x0000000840ddc840@16503e7a\n",
       "\u001b[36mresultado\u001b[39m: \u001b[32mInt\u001b[39m = \u001b[32m7\u001b[39m"
      ]
     },
     "execution_count": 4,
     "metadata": {},
     "output_type": "execute_result"
    }
   ],
   "source": [
    "val duplicar = (x: Int) => x * 2\n",
    "val sumarUno = (x: Int) => x + 1\n",
    "\n",
    "val duplicarYSumarUno = duplicar andThen sumarUno\n",
    "val resultado = duplicarYSumarUno(3)  // Resultado: 7"
   ]
  },
  {
   "cell_type": "markdown",
   "id": "cce0d33d-9094-42d2-9c07-d766686d530c",
   "metadata": {},
   "source": [
    "**5. Tipos de Datos Inmutables y Patrones de Coincidencia:**\n",
    "\n",
    "Scala permite la definición de tipos de datos inmutables, lo que facilita la creación de estructuras de datos complejas y seguras. Además, Scala ofrece un poderoso mecanismo de patrones de coincidencia que simplifica el manejo de datos enriquecidos y estructuras complejas.\n",
    "\n",
    "**Ejemplo:**"
   ]
  },
  {
   "cell_type": "code",
   "execution_count": 5,
   "id": "0d4757bf-2fea-431a-9002-2af2522073cd",
   "metadata": {},
   "outputs": [
    {
     "data": {
      "text/plain": [
       "defined \u001b[32mtrait\u001b[39m \u001b[36mForma\u001b[39m\n",
       "defined \u001b[32mclass\u001b[39m \u001b[36mCirculo\u001b[39m\n",
       "defined \u001b[32mclass\u001b[39m \u001b[36mRectangulo\u001b[39m\n",
       "defined \u001b[32mfunction\u001b[39m \u001b[36marea\u001b[39m"
      ]
     },
     "execution_count": 5,
     "metadata": {},
     "output_type": "execute_result"
    }
   ],
   "source": [
    "sealed trait Forma\n",
    "case class Circulo(radio: Double) extends Forma\n",
    "case class Rectangulo(ancho: Double, alto: Double) extends Forma\n",
    "\n",
    "def area(forma: Forma): Double = forma match {\n",
    "  case Circulo(radio) => 3.1416 * radio * radio\n",
    "  case Rectangulo(ancho, alto) => ancho * alto\n",
    "}"
   ]
  },
  {
   "cell_type": "code",
   "execution_count": 6,
   "id": "10871440-1186-42ab-b5e5-5927ef8898f2",
   "metadata": {},
   "outputs": [
    {
     "data": {
      "text/plain": [
       "\u001b[36muna_rueda\u001b[39m: \u001b[32mCirculo\u001b[39m = \u001b[33mCirculo\u001b[39m(radio = \u001b[32m12.0\u001b[39m)\n",
       "\u001b[36mres6_1\u001b[39m: \u001b[32mDouble\u001b[39m = \u001b[32m452.3904\u001b[39m"
      ]
     },
     "execution_count": 6,
     "metadata": {},
     "output_type": "execute_result"
    }
   ],
   "source": [
    "val una_rueda = Circulo(12)\n",
    "area(una_rueda)"
   ]
  },
  {
   "cell_type": "code",
   "execution_count": 7,
   "id": "df011545-6d94-4d25-9e43-ec93056fc55e",
   "metadata": {},
   "outputs": [
    {
     "data": {
      "text/plain": [
       "\u001b[36mun_cuadro\u001b[39m: \u001b[32mRectangulo\u001b[39m = \u001b[33mRectangulo\u001b[39m(ancho = \u001b[32m2.0\u001b[39m, alto = \u001b[32m2.0\u001b[39m)\n",
       "\u001b[36mres7_1\u001b[39m: \u001b[32mDouble\u001b[39m = \u001b[32m4.0\u001b[39m"
      ]
     },
     "execution_count": 7,
     "metadata": {},
     "output_type": "execute_result"
    }
   ],
   "source": [
    "val un_cuadro: Rectangulo = Rectangulo(2, 2)\n",
    "area(un_cuadro)"
   ]
  },
  {
   "cell_type": "code",
   "execution_count": null,
   "id": "f23fc477-7b4b-4413-9ab4-cd952bde3c11",
   "metadata": {},
   "outputs": [],
   "source": []
  }
 ],
 "metadata": {
  "kernelspec": {
   "display_name": "Scala",
   "language": "scala",
   "name": "scala"
  },
  "language_info": {
   "codemirror_mode": "text/x-scala",
   "file_extension": ".sc",
   "mimetype": "text/x-scala",
   "name": "scala",
   "nbconvert_exporter": "script",
   "version": "2.13.16"
  }
 },
 "nbformat": 4,
 "nbformat_minor": 5
}
