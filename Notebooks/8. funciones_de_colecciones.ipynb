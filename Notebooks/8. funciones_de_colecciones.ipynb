{
 "cells": [
  {
   "cell_type": "markdown",
   "id": "0af4d32d-3cf4-46cd-ab87-9908b104fa35",
   "metadata": {},
   "source": [
    "# Funciones para colecciones."
   ]
  },
  {
   "cell_type": "markdown",
   "id": "74698ee4-c3dc-483c-94bc-c32aa70299e6",
   "metadata": {},
   "source": [
    "## Operaciones de Alto Nivel\n",
    "Una de las grandes fortalezas de las colecciones de Scala es su rica API que permite realizar operaciones complejas de manera concisa y expresiva. Las operaciones como `map()`, `filter()`, `reduce()`, y `fold()` permiten transformar, filtrar y combinar colecciones de manera eficiente y elegante, siguiendo los principios de la programación funcional. Estas operaciones son aplicables de manera uniforme a casi todos los tipos de colecciones, lo que proporciona una gran flexibilidad y poder expresivo."
   ]
  },
  {
   "cell_type": "markdown",
   "id": "efd9bcc0-8edc-4f07-a324-04b59a43058e",
   "metadata": {},
   "source": [
    "| Función       | Descripción                                                                                         | Ejemplo                            |\n",
    "|---------------|-----------------------------------------------------------------------------------------------------|------------------------------------|\n",
    "| `map`         | Transforma cada elemento de una colección aplicando una función y devuelve una nueva colección.   | `lista.map(x => x * 2)`           |\n",
    "| `filter`      | Filtra elementos de una colección basados en un criterio y devuelve una nueva colección.          | `lista.filter(x => x % 2 == 0)`   |\n",
    "| `reduce`      | Combina los elementos de una colección en un solo valor aplicando una función de reducción.      | `lista.reduce((x, y) => x + y)`   |\n",
    "| `fold`        | Similar a `reduce`, pero permite especificar un valor inicial para la acumulación.                | `lista.fold(0)((x, y) => x + y)`  |\n",
    "| `flatMap`     | Aplica una función a cada elemento de una colección y aplanar los resultados en una sola colección. | `lista.flatMap(x => List(x, x))`  |\n",
    "| `foreach`     | Aplica una función a cada elemento de una colección sin generar una nueva colección.              | `lista.foreach(x => println(x))`  |\n",
    "| `groupBy`         | Agrupa los elementos de una colección según una clave dada y devuelve un mapa con las claves y las listas de elementos correspondientes. | `lista.groupBy(x => x % 2)`             |\n",
    "| `sorted`          | Ordena los elementos de una colección según un criterio dado y devuelve una nueva colección ordenada.          | `lista.sorted`                         |\n",
    "| `distinct`        | Elimina los elementos duplicados de una colección y devuelve una nueva colección con valores únicos.         | `lista.distinct`                       |\n",
    "| `zip`             | Combina dos colecciones en una nueva colección de pares (tuplas).                                             | `lista1.zip(lista2)`                   |\n",
    "| `partition`       | Divide una colección en dos colecciones separadas según un predicado y devuelve un par de colecciones.       | `lista.partition(x => x % 2 == 0)`     |\n",
    "| `take`            | Devuelve los primeros n elementos de una colección.                                                            | `lista.take(3)`                        |\n",
    "| `drop`            | Elimina los primeros n elementos de una colección y devuelve el resto.                                       | `lista.drop(2)`                        |\n",
    "| `slice`           | Devuelve una subcolección desde un rango específico de índices.                                                | `lista.slice(1, 4)`                    |\n",
    "| `head`            | Devuelve el primer elemento de una colección.                                                                   | `lista.head`                           |\n",
    "| `tail`            | Devuelve todos los elementos excepto el primero de una colección.                                              | `lista.tail`                           |\n",
    "| `last`            | Devuelve el último elemento de una colección.                                                                   | `lista.last`                           |\n",
    "| `init`            | Devuelve todos los elementos excepto el último de una colección.                                               | `lista.init`                           |\n",
    "| `isEmpty`         | Comprueba si una colección está vacía.                                                                          | `lista.isEmpty`                        |\n",
    "| `size`            | Devuelve el número dementos en una colección.                                                               | `lista.size`                            |\n",
    "| `sum`             | Calcula la suma de los elementos de una colección de números.                                                    | `lista.sum`                             |\n",
    "| `product`         | Calcula el producto de los elementos de una colección de números.                                                | `lista.product`                         |\n",
    "| `max`             | Devuelve el valor máximo en una colección.                                                                     | `lista.max`                             |\n",
    "| `min`             | Devuelve el valor mínimo en una colección.                                                                     | `lista.min`                             |\n",
    "| `exists`          | Comprueba si al menos un elemento de una colección satisface un predicado.                                       | `lista.exists(x => x > 10)`             |\n",
    "| `forall`          | Comprueba si todos los elementos de una colección satisfacen un predicado.                                       | `lista.forall(x => x < 100)`            |\n",
    "| `count`           | Cuenta el número de elementos en una colección que satisfacen un predicado.                                     | `lista.count(x => x % 2 == 0)`          |\n",
    "| `find`            | Devuelve el primer elemento que cumple con un predicado, o `None` si ninguno lo hace (trabaja con `Option`). | `lista.find(x => x > 5)`                |\n",
    "| `dropWhile`       | Elimina elementos iniciales de una colección mientras cumplan con un predicado.                                 | `lista.dropWhile(x => x < 3)`           |\n",
    "| `takeWhile`       | Devuelve elementos iniciales de una colección mientras cumplan con un predicado.                                 | `lista.takeWhile(x => x < 3)`           |\n",
    "| `distinctBy`      | Elimina elementos duplicados de una colección según un criterio específico.                                     | `lista.distinctBy(x => x % 2)`          |\n",
    "| `mkString`        | Convierte una colección en una cadena de texto concatenando elementos.                                           | `lista.mkString(\", \")`                  |`                  |"
   ]
  },
  {
   "cell_type": "markdown",
   "id": "3b87875a-c46f-4fcf-9499-8c3c5011e42e",
   "metadata": {},
   "source": [
    "**Ejemplos:**"
   ]
  },
  {
   "cell_type": "code",
   "execution_count": 1,
   "id": "25bc279a-c08c-4e48-87a0-57216ea1e746",
   "metadata": {},
   "outputs": [
    {
     "data": {
      "text/plain": [
       "\u001b[36mlista\u001b[39m: \u001b[32mList\u001b[39m[\u001b[32mInt\u001b[39m] = \u001b[33mList\u001b[39m(\u001b[32m11\u001b[39m, \u001b[32m2\u001b[39m, \u001b[32m3\u001b[39m, \u001b[32m4\u001b[39m, \u001b[32m5\u001b[39m, \u001b[32m6\u001b[39m, \u001b[32m6\u001b[39m, \u001b[32m8\u001b[39m)"
      ]
     },
     "execution_count": 1,
     "metadata": {},
     "output_type": "execute_result"
    }
   ],
   "source": [
    "val lista = List(11, 2, 3, 4, 5, 6, 6, 8)"
   ]
  },
  {
   "cell_type": "code",
   "execution_count": 2,
   "id": "7ada0647-e9fa-4580-8b5c-b9050d19ca55",
   "metadata": {},
   "outputs": [
    {
     "data": {
      "text/plain": [
       "\u001b[36mres2\u001b[39m: \u001b[32mList\u001b[39m[\u001b[32mInt\u001b[39m] = \u001b[33mList\u001b[39m(\u001b[32m22\u001b[39m, \u001b[32m4\u001b[39m, \u001b[32m6\u001b[39m, \u001b[32m8\u001b[39m, \u001b[32m10\u001b[39m, \u001b[32m12\u001b[39m, \u001b[32m12\u001b[39m, \u001b[32m16\u001b[39m)"
      ]
     },
     "execution_count": 2,
     "metadata": {},
     "output_type": "execute_result"
    }
   ],
   "source": [
    "lista.map(x => x * 2)"
   ]
  },
  {
   "cell_type": "code",
   "execution_count": 3,
   "id": "9f394388-59fb-49a8-beea-536acc58b44b",
   "metadata": {},
   "outputs": [
    {
     "data": {
      "text/plain": [
       "\u001b[36mres3\u001b[39m: \u001b[32mList\u001b[39m[\u001b[32mInt\u001b[39m] = \u001b[33mList\u001b[39m(\u001b[32m2\u001b[39m, \u001b[32m4\u001b[39m, \u001b[32m6\u001b[39m, \u001b[32m6\u001b[39m, \u001b[32m8\u001b[39m)"
      ]
     },
     "execution_count": 3,
     "metadata": {},
     "output_type": "execute_result"
    }
   ],
   "source": [
    "lista.filter(x => x % 2 == 0)"
   ]
  },
  {
   "cell_type": "code",
   "execution_count": 4,
   "id": "d1c76665-9370-4f78-8cb2-6c44b36558e9",
   "metadata": {},
   "outputs": [
    {
     "data": {
      "text/plain": [
       "\u001b[36mres4\u001b[39m: \u001b[32mInt\u001b[39m = \u001b[32m45\u001b[39m"
      ]
     },
     "execution_count": 4,
     "metadata": {},
     "output_type": "execute_result"
    }
   ],
   "source": [
    "lista.reduce((x, y) => x + y)"
   ]
  },
  {
   "cell_type": "code",
   "execution_count": 5,
   "id": "f6630f74-06d5-456a-aad9-1a92471c352d",
   "metadata": {},
   "outputs": [
    {
     "data": {
      "text/plain": [
       "\u001b[36mres5\u001b[39m: \u001b[32mInt\u001b[39m = \u001b[32m50\u001b[39m"
      ]
     },
     "execution_count": 5,
     "metadata": {},
     "output_type": "execute_result"
    }
   ],
   "source": [
    "lista.fold(5)((x, y) => x + y)"
   ]
  },
  {
   "cell_type": "code",
   "execution_count": 6,
   "id": "fd76190c-7976-453a-a133-fbc75251300c",
   "metadata": {},
   "outputs": [
    {
     "data": {
      "text/plain": [
       "\u001b[36mres6\u001b[39m: \u001b[32mList\u001b[39m[\u001b[32mList\u001b[39m[\u001b[32mInt\u001b[39m]] = \u001b[33mList\u001b[39m(\n",
       "  \u001b[33mList\u001b[39m(\u001b[32m11\u001b[39m, \u001b[32m11\u001b[39m),\n",
       "  \u001b[33mList\u001b[39m(\u001b[32m2\u001b[39m, \u001b[32m2\u001b[39m),\n",
       "  \u001b[33mList\u001b[39m(\u001b[32m3\u001b[39m, \u001b[32m3\u001b[39m),\n",
       "  \u001b[33mList\u001b[39m(\u001b[32m4\u001b[39m, \u001b[32m4\u001b[39m),\n",
       "  \u001b[33mList\u001b[39m(\u001b[32m5\u001b[39m, \u001b[32m5\u001b[39m),\n",
       "  \u001b[33mList\u001b[39m(\u001b[32m6\u001b[39m, \u001b[32m6\u001b[39m),\n",
       "  \u001b[33mList\u001b[39m(\u001b[32m6\u001b[39m, \u001b[32m6\u001b[39m),\n",
       "  \u001b[33mList\u001b[39m(\u001b[32m8\u001b[39m, \u001b[32m8\u001b[39m)\n",
       ")"
      ]
     },
     "execution_count": 6,
     "metadata": {},
     "output_type": "execute_result"
    }
   ],
   "source": [
    "lista.map(x => List(x, x))"
   ]
  },
  {
   "cell_type": "code",
   "execution_count": 7,
   "id": "f49f583e-6762-4a26-9b50-d0faa73db204",
   "metadata": {},
   "outputs": [
    {
     "data": {
      "text/plain": [
       "\u001b[36mres7\u001b[39m: \u001b[32mList\u001b[39m[\u001b[32mInt\u001b[39m] = \u001b[33mList\u001b[39m(\u001b[32m11\u001b[39m, \u001b[32m11\u001b[39m, \u001b[32m2\u001b[39m, \u001b[32m2\u001b[39m, \u001b[32m3\u001b[39m, \u001b[32m3\u001b[39m, \u001b[32m4\u001b[39m, \u001b[32m4\u001b[39m, \u001b[32m5\u001b[39m, \u001b[32m5\u001b[39m, \u001b[32m6\u001b[39m, \u001b[32m6\u001b[39m, \u001b[32m6\u001b[39m, \u001b[32m6\u001b[39m, \u001b[32m8\u001b[39m, \u001b[32m8\u001b[39m)"
      ]
     },
     "execution_count": 7,
     "metadata": {},
     "output_type": "execute_result"
    }
   ],
   "source": [
    " lista.flatMap(x => List(x, x))"
   ]
  },
  {
   "cell_type": "code",
   "execution_count": 8,
   "id": "c09e5c34-aae9-4364-826e-e60ce0ff9a33",
   "metadata": {},
   "outputs": [
    {
     "name": "stdout",
     "output_type": "stream",
     "text": [
      "11\n",
      "2\n",
      "3\n",
      "4\n",
      "5\n",
      "6\n",
      "6\n",
      "8\n"
     ]
    }
   ],
   "source": [
    "lista.foreach(x => println(x))"
   ]
  },
  {
   "cell_type": "code",
   "execution_count": 9,
   "id": "629b9810-84be-4363-aefd-cc1a1ca545a2",
   "metadata": {},
   "outputs": [
    {
     "name": "stdout",
     "output_type": "stream",
     "text": [
      "11\n",
      "2\n",
      "3\n",
      "4\n",
      "5\n",
      "6\n",
      "6\n",
      "8\n"
     ]
    }
   ],
   "source": [
    "lista.foreach(println)"
   ]
  },
  {
   "cell_type": "code",
   "execution_count": 10,
   "id": "033dc500-ad9d-4dae-922c-7ff978022044",
   "metadata": {},
   "outputs": [
    {
     "data": {
      "text/plain": [
       "\u001b[36mlistas_divididas\u001b[39m: \u001b[32mMap\u001b[39m[\u001b[32mInt\u001b[39m, \u001b[32mList\u001b[39m[\u001b[32mInt\u001b[39m]] = \u001b[33mHashMap\u001b[39m(\n",
       "  \u001b[32m0\u001b[39m -> \u001b[33mList\u001b[39m(\u001b[32m2\u001b[39m, \u001b[32m4\u001b[39m, \u001b[32m6\u001b[39m, \u001b[32m6\u001b[39m, \u001b[32m8\u001b[39m),\n",
       "  \u001b[32m1\u001b[39m -> \u001b[33mList\u001b[39m(\u001b[32m11\u001b[39m, \u001b[32m3\u001b[39m, \u001b[32m5\u001b[39m)\n",
       ")"
      ]
     },
     "execution_count": 10,
     "metadata": {},
     "output_type": "execute_result"
    }
   ],
   "source": [
    "val listas_divididas = lista.groupBy(x => x % 2)"
   ]
  },
  {
   "cell_type": "code",
   "execution_count": 11,
   "id": "26092231-c144-4679-abc0-fcaefa79d44c",
   "metadata": {},
   "outputs": [
    {
     "data": {
      "text/plain": [
       "\u001b[36mres11\u001b[39m: \u001b[32mList\u001b[39m[\u001b[32mInt\u001b[39m] = \u001b[33mList\u001b[39m(\u001b[32m2\u001b[39m, \u001b[32m4\u001b[39m, \u001b[32m6\u001b[39m, \u001b[32m6\u001b[39m, \u001b[32m8\u001b[39m)"
      ]
     },
     "execution_count": 11,
     "metadata": {},
     "output_type": "execute_result"
    }
   ],
   "source": [
    "listas_divididas(0)"
   ]
  },
  {
   "cell_type": "code",
   "execution_count": 12,
   "id": "55e491a7-b234-4480-835f-a8ab9dc2be68",
   "metadata": {},
   "outputs": [
    {
     "data": {
      "text/plain": [
       "\u001b[36mres12\u001b[39m: \u001b[32mList\u001b[39m[\u001b[32mInt\u001b[39m] = \u001b[33mList\u001b[39m(\u001b[32m2\u001b[39m, \u001b[32m3\u001b[39m, \u001b[32m4\u001b[39m, \u001b[32m5\u001b[39m, \u001b[32m6\u001b[39m, \u001b[32m6\u001b[39m, \u001b[32m8\u001b[39m, \u001b[32m11\u001b[39m)"
      ]
     },
     "execution_count": 12,
     "metadata": {},
     "output_type": "execute_result"
    }
   ],
   "source": [
    "lista.sorted"
   ]
  },
  {
   "cell_type": "code",
   "execution_count": 13,
   "id": "f98b837a-1cc7-4335-a9e1-94b4257aeabb",
   "metadata": {},
   "outputs": [
    {
     "data": {
      "text/plain": [
       "\u001b[36mres13\u001b[39m: \u001b[32mList\u001b[39m[\u001b[32mInt\u001b[39m] = \u001b[33mList\u001b[39m(\u001b[32m11\u001b[39m, \u001b[32m2\u001b[39m, \u001b[32m3\u001b[39m, \u001b[32m4\u001b[39m, \u001b[32m5\u001b[39m, \u001b[32m6\u001b[39m, \u001b[32m8\u001b[39m)"
      ]
     },
     "execution_count": 13,
     "metadata": {},
     "output_type": "execute_result"
    }
   ],
   "source": [
    "lista.distinct"
   ]
  },
  {
   "cell_type": "code",
   "execution_count": 14,
   "id": "27d41d99-375f-4ce3-8717-eec1fe8a5845",
   "metadata": {},
   "outputs": [
    {
     "data": {
      "text/plain": [
       "\u001b[36mres14\u001b[39m: \u001b[32mList\u001b[39m[(\u001b[32mInt\u001b[39m, \u001b[32mString\u001b[39m)] = \u001b[33mList\u001b[39m((\u001b[32m11\u001b[39m, \u001b[32m\"a\"\u001b[39m), (\u001b[32m2\u001b[39m, \u001b[32m\"b\"\u001b[39m), (\u001b[32m3\u001b[39m, \u001b[32m\"c\"\u001b[39m))"
      ]
     },
     "execution_count": 14,
     "metadata": {},
     "output_type": "execute_result"
    }
   ],
   "source": [
    "lista.zip(List(\"a\", \"b\", \"c\"))"
   ]
  },
  {
   "cell_type": "code",
   "execution_count": 15,
   "id": "c0f82dd2-1c28-4772-8328-b914f3ee7838",
   "metadata": {},
   "outputs": [
    {
     "data": {
      "text/plain": [
       "\u001b[36mres15\u001b[39m: \u001b[32mList\u001b[39m[(\u001b[32mInt\u001b[39m, \u001b[32mString\u001b[39m)] = \u001b[33mList\u001b[39m(\n",
       "  (\u001b[32m11\u001b[39m, \u001b[32m\"a\"\u001b[39m),\n",
       "  (\u001b[32m2\u001b[39m, \u001b[32m\"b\"\u001b[39m),\n",
       "  (\u001b[32m3\u001b[39m, \u001b[32m\"c\"\u001b[39m),\n",
       "  (\u001b[32m4\u001b[39m, \u001b[32m\"d\"\u001b[39m),\n",
       "  (\u001b[32m5\u001b[39m, \u001b[32m\"e\"\u001b[39m),\n",
       "  (\u001b[32m6\u001b[39m, \u001b[32m\"f\"\u001b[39m),\n",
       "  (\u001b[32m6\u001b[39m, \u001b[32m\"g\"\u001b[39m),\n",
       "  (\u001b[32m8\u001b[39m, \u001b[32m\"h\"\u001b[39m)\n",
       ")"
      ]
     },
     "execution_count": 15,
     "metadata": {},
     "output_type": "execute_result"
    }
   ],
   "source": [
    "lista.zip(List(\"a\", \"b\", \"c\", \"d\", \"e\", \"f\", \"g\", \"h\", \"i\",  \"j\"))"
   ]
  },
  {
   "cell_type": "code",
   "execution_count": 17,
   "id": "eaa11fc6-f7b3-4bf2-b910-c8d0d57ac683",
   "metadata": {},
   "outputs": [
    {
     "data": {
      "text/plain": [
       "\u001b[36mlista_particionada\u001b[39m: (\u001b[32mList\u001b[39m[\u001b[32mInt\u001b[39m], \u001b[32mList\u001b[39m[\u001b[32mInt\u001b[39m]) = (\n",
       "  \u001b[33mList\u001b[39m(\u001b[32m2\u001b[39m, \u001b[32m4\u001b[39m, \u001b[32m6\u001b[39m, \u001b[32m6\u001b[39m, \u001b[32m8\u001b[39m),\n",
       "  \u001b[33mList\u001b[39m(\u001b[32m11\u001b[39m, \u001b[32m3\u001b[39m, \u001b[32m5\u001b[39m)\n",
       ")"
      ]
     },
     "execution_count": 17,
     "metadata": {},
     "output_type": "execute_result"
    }
   ],
   "source": [
    "val lista_particionada = lista.partition(x => x % 2 == 0)"
   ]
  },
  {
   "cell_type": "code",
   "execution_count": 20,
   "id": "650ed93e-9330-45f5-b0ad-7621f96095ef",
   "metadata": {},
   "outputs": [
    {
     "data": {
      "text/plain": [
       "\u001b[36mres20\u001b[39m: \u001b[32mList\u001b[39m[\u001b[32mInt\u001b[39m] = \u001b[33mList\u001b[39m(\u001b[32m11\u001b[39m, \u001b[32m3\u001b[39m, \u001b[32m5\u001b[39m)"
      ]
     },
     "execution_count": 20,
     "metadata": {},
     "output_type": "execute_result"
    }
   ],
   "source": [
    "lista_particionada._2"
   ]
  },
  {
   "cell_type": "code",
   "execution_count": 21,
   "id": "ac7e4104-cb81-467d-94c4-8bc51f0619ae",
   "metadata": {},
   "outputs": [
    {
     "data": {
      "text/plain": [
       "\u001b[36mres21\u001b[39m: \u001b[32mList\u001b[39m[\u001b[32mInt\u001b[39m] = \u001b[33mList\u001b[39m(\u001b[32m11\u001b[39m, \u001b[32m2\u001b[39m, \u001b[32m3\u001b[39m)"
      ]
     },
     "execution_count": 21,
     "metadata": {},
     "output_type": "execute_result"
    }
   ],
   "source": [
    "lista.take(3)"
   ]
  },
  {
   "cell_type": "code",
   "execution_count": 22,
   "id": "242f9bb3-e899-444f-bb38-14e940ab71e3",
   "metadata": {},
   "outputs": [
    {
     "data": {
      "text/plain": [
       "\u001b[36mres22\u001b[39m: \u001b[32mList\u001b[39m[\u001b[32mInt\u001b[39m] = \u001b[33mList\u001b[39m(\u001b[32m11\u001b[39m, \u001b[32m2\u001b[39m, \u001b[32m3\u001b[39m, \u001b[32m4\u001b[39m, \u001b[32m5\u001b[39m, \u001b[32m6\u001b[39m, \u001b[32m6\u001b[39m, \u001b[32m8\u001b[39m)"
      ]
     },
     "execution_count": 22,
     "metadata": {},
     "output_type": "execute_result"
    }
   ],
   "source": [
    "lista"
   ]
  },
  {
   "cell_type": "code",
   "execution_count": 23,
   "id": "1f2f9a20-d263-4ee8-89cd-be4a0dd6e834",
   "metadata": {},
   "outputs": [
    {
     "data": {
      "text/plain": [
       "\u001b[36mres23\u001b[39m: \u001b[32mList\u001b[39m[\u001b[32mInt\u001b[39m] = \u001b[33mList\u001b[39m(\u001b[32m3\u001b[39m, \u001b[32m4\u001b[39m, \u001b[32m5\u001b[39m, \u001b[32m6\u001b[39m, \u001b[32m6\u001b[39m, \u001b[32m8\u001b[39m)"
      ]
     },
     "execution_count": 23,
     "metadata": {},
     "output_type": "execute_result"
    }
   ],
   "source": [
    "lista.drop(2)"
   ]
  },
  {
   "cell_type": "code",
   "execution_count": 24,
   "id": "54e7c8c8-48a4-4868-a09b-b19b2dcd7a45",
   "metadata": {},
   "outputs": [
    {
     "data": {
      "text/plain": [
       "\u001b[36mres24\u001b[39m: \u001b[32mList\u001b[39m[\u001b[32mInt\u001b[39m] = \u001b[33mList\u001b[39m(\u001b[32m2\u001b[39m, \u001b[32m3\u001b[39m, \u001b[32m4\u001b[39m)"
      ]
     },
     "execution_count": 24,
     "metadata": {},
     "output_type": "execute_result"
    }
   ],
   "source": [
    "lista.slice(1, 4)"
   ]
  },
  {
   "cell_type": "code",
   "execution_count": 25,
   "id": "0f08225c-f487-4a6b-8bdc-67ab5f107322",
   "metadata": {},
   "outputs": [
    {
     "data": {
      "text/plain": [
       "\u001b[36mres25\u001b[39m: \u001b[32mInt\u001b[39m = \u001b[32m11\u001b[39m"
      ]
     },
     "execution_count": 25,
     "metadata": {},
     "output_type": "execute_result"
    }
   ],
   "source": [
    "lista.head"
   ]
  },
  {
   "cell_type": "code",
   "execution_count": 26,
   "id": "82f43760-c64f-4449-b46b-c00e6d867e1c",
   "metadata": {},
   "outputs": [
    {
     "data": {
      "text/plain": [
       "\u001b[36mres26\u001b[39m: \u001b[32mList\u001b[39m[\u001b[32mInt\u001b[39m] = \u001b[33mList\u001b[39m(\u001b[32m2\u001b[39m, \u001b[32m3\u001b[39m, \u001b[32m4\u001b[39m, \u001b[32m5\u001b[39m, \u001b[32m6\u001b[39m, \u001b[32m6\u001b[39m, \u001b[32m8\u001b[39m)"
      ]
     },
     "execution_count": 26,
     "metadata": {},
     "output_type": "execute_result"
    }
   ],
   "source": [
    "lista.tail"
   ]
  },
  {
   "cell_type": "code",
   "execution_count": 27,
   "id": "54d96d21-1501-4cd1-b160-7ad28050381f",
   "metadata": {},
   "outputs": [
    {
     "data": {
      "text/plain": [
       "\u001b[36mres27\u001b[39m: \u001b[32mInt\u001b[39m = \u001b[32m8\u001b[39m"
      ]
     },
     "execution_count": 27,
     "metadata": {},
     "output_type": "execute_result"
    }
   ],
   "source": [
    "lista.last"
   ]
  },
  {
   "cell_type": "code",
   "execution_count": 28,
   "id": "c5c79216-cf27-43fa-86b7-9e0479fc749d",
   "metadata": {},
   "outputs": [
    {
     "data": {
      "text/plain": [
       "\u001b[36mres28\u001b[39m: \u001b[32mList\u001b[39m[\u001b[32mInt\u001b[39m] = \u001b[33mList\u001b[39m(\u001b[32m11\u001b[39m, \u001b[32m2\u001b[39m, \u001b[32m3\u001b[39m, \u001b[32m4\u001b[39m, \u001b[32m5\u001b[39m, \u001b[32m6\u001b[39m, \u001b[32m6\u001b[39m)"
      ]
     },
     "execution_count": 28,
     "metadata": {},
     "output_type": "execute_result"
    }
   ],
   "source": [
    "lista.init"
   ]
  },
  {
   "cell_type": "code",
   "execution_count": 29,
   "id": "2e5f983c-5b97-4f67-8b30-52ac9fbaaab3",
   "metadata": {},
   "outputs": [
    {
     "data": {
      "text/plain": [
       "\u001b[36mres29\u001b[39m: \u001b[32mBoolean\u001b[39m = \u001b[32mfalse\u001b[39m"
      ]
     },
     "execution_count": 29,
     "metadata": {},
     "output_type": "execute_result"
    }
   ],
   "source": [
    "lista.isEmpty"
   ]
  },
  {
   "cell_type": "code",
   "execution_count": 30,
   "id": "abbcedac-1abd-46ff-b482-0337ec5bebf5",
   "metadata": {},
   "outputs": [
    {
     "data": {
      "text/plain": [
       "\u001b[36mres30\u001b[39m: \u001b[32mInt\u001b[39m = \u001b[32m8\u001b[39m"
      ]
     },
     "execution_count": 30,
     "metadata": {},
     "output_type": "execute_result"
    }
   ],
   "source": [
    "lista.size"
   ]
  },
  {
   "cell_type": "code",
   "execution_count": 31,
   "id": "b7c425dd-0f33-408f-bd0d-dacd380053c4",
   "metadata": {},
   "outputs": [
    {
     "data": {
      "text/plain": [
       "\u001b[36mres31\u001b[39m: \u001b[32mInt\u001b[39m = \u001b[32m45\u001b[39m"
      ]
     },
     "execution_count": 31,
     "metadata": {},
     "output_type": "execute_result"
    }
   ],
   "source": [
    "lista.sum"
   ]
  },
  {
   "cell_type": "code",
   "execution_count": 32,
   "id": "2463720d-00dc-4fd7-966d-f53c2036a0f4",
   "metadata": {},
   "outputs": [
    {
     "data": {
      "text/plain": [
       "\u001b[36mres32\u001b[39m: \u001b[32mInt\u001b[39m = \u001b[32m380160\u001b[39m"
      ]
     },
     "execution_count": 32,
     "metadata": {},
     "output_type": "execute_result"
    }
   ],
   "source": [
    "lista.product"
   ]
  },
  {
   "cell_type": "code",
   "execution_count": 33,
   "id": "6391ed70-c11b-415f-9e27-5ed0633af027",
   "metadata": {},
   "outputs": [
    {
     "data": {
      "text/plain": [
       "\u001b[36mres33\u001b[39m: \u001b[32mInt\u001b[39m = \u001b[32m11\u001b[39m"
      ]
     },
     "execution_count": 33,
     "metadata": {},
     "output_type": "execute_result"
    }
   ],
   "source": [
    "lista.max"
   ]
  },
  {
   "cell_type": "code",
   "execution_count": 34,
   "id": "78466a91-ee45-496f-b103-d18b313cbb36",
   "metadata": {},
   "outputs": [
    {
     "data": {
      "text/plain": [
       "\u001b[36mres34\u001b[39m: \u001b[32mInt\u001b[39m = \u001b[32m2\u001b[39m"
      ]
     },
     "execution_count": 34,
     "metadata": {},
     "output_type": "execute_result"
    }
   ],
   "source": [
    "lista.min"
   ]
  },
  {
   "cell_type": "code",
   "execution_count": 35,
   "id": "cda1a8e6-9822-46bf-9163-3b7d95106bb2",
   "metadata": {},
   "outputs": [
    {
     "data": {
      "text/plain": [
       "\u001b[36mres35\u001b[39m: \u001b[32mBoolean\u001b[39m = \u001b[32mtrue\u001b[39m"
      ]
     },
     "execution_count": 35,
     "metadata": {},
     "output_type": "execute_result"
    }
   ],
   "source": [
    "lista.exists(x => x > 10)"
   ]
  },
  {
   "cell_type": "code",
   "execution_count": 36,
   "id": "9717fa0b-7005-4cef-99b9-858045661b1d",
   "metadata": {},
   "outputs": [
    {
     "data": {
      "text/plain": [
       "\u001b[36mres36\u001b[39m: \u001b[32mList\u001b[39m[\u001b[32mInt\u001b[39m] = \u001b[33mList\u001b[39m(\u001b[32m11\u001b[39m, \u001b[32m2\u001b[39m, \u001b[32m3\u001b[39m, \u001b[32m4\u001b[39m, \u001b[32m5\u001b[39m, \u001b[32m6\u001b[39m, \u001b[32m6\u001b[39m, \u001b[32m8\u001b[39m)"
      ]
     },
     "execution_count": 36,
     "metadata": {},
     "output_type": "execute_result"
    }
   ],
   "source": [
    "lista"
   ]
  },
  {
   "cell_type": "code",
   "execution_count": 37,
   "id": "8d6f32b3-e36a-4448-9f2f-4974160cbbc4",
   "metadata": {},
   "outputs": [
    {
     "data": {
      "text/plain": [
       "\u001b[36mres37\u001b[39m: \u001b[32mBoolean\u001b[39m = \u001b[32mtrue\u001b[39m"
      ]
     },
     "execution_count": 37,
     "metadata": {},
     "output_type": "execute_result"
    }
   ],
   "source": [
    "lista.forall(x => x < 100)"
   ]
  },
  {
   "cell_type": "code",
   "execution_count": 38,
   "id": "5235f298-19e3-4095-b515-ea7e17c323c4",
   "metadata": {},
   "outputs": [
    {
     "data": {
      "text/plain": [
       "\u001b[36mres38\u001b[39m: \u001b[32mBoolean\u001b[39m = \u001b[32mfalse\u001b[39m"
      ]
     },
     "execution_count": 38,
     "metadata": {},
     "output_type": "execute_result"
    }
   ],
   "source": [
    "lista.forall(x => x == 6)"
   ]
  },
  {
   "cell_type": "code",
   "execution_count": 39,
   "id": "d0ef583a-f6bf-415e-8ac0-86dab76a37d7",
   "metadata": {},
   "outputs": [
    {
     "data": {
      "text/plain": [
       "\u001b[36mres39\u001b[39m: \u001b[32mInt\u001b[39m = \u001b[32m5\u001b[39m"
      ]
     },
     "execution_count": 39,
     "metadata": {},
     "output_type": "execute_result"
    }
   ],
   "source": [
    "lista.count(x => x % 2 == 0)"
   ]
  },
  {
   "cell_type": "code",
   "execution_count": 40,
   "id": "ed1fe75c-0980-4879-bca9-f28928e2e442",
   "metadata": {},
   "outputs": [
    {
     "data": {
      "text/plain": [
       "\u001b[36mres40\u001b[39m: \u001b[32mOption\u001b[39m[\u001b[32mInt\u001b[39m] = \u001b[33mSome\u001b[39m(value = \u001b[32m11\u001b[39m)"
      ]
     },
     "execution_count": 40,
     "metadata": {},
     "output_type": "execute_result"
    }
   ],
   "source": [
    "lista.find(x => x > 5)"
   ]
  },
  {
   "cell_type": "code",
   "execution_count": 41,
   "id": "485c1551-09e5-4d53-b369-09f2cf1a8a29",
   "metadata": {},
   "outputs": [
    {
     "data": {
      "text/plain": [
       "\u001b[36mres41\u001b[39m: \u001b[32mString\u001b[39m = \u001b[32m\"11, 2, 3, 4, 5, 6, 6, 8\"\u001b[39m"
      ]
     },
     "execution_count": 41,
     "metadata": {},
     "output_type": "execute_result"
    }
   ],
   "source": [
    "lista.mkString(\", \")"
   ]
  },
  {
   "cell_type": "code",
   "execution_count": 42,
   "id": "add4197e-f523-4b1d-a8dd-50a62dc2e6fa",
   "metadata": {},
   "outputs": [
    {
     "data": {
      "text/plain": [
       "\u001b[36mres42\u001b[39m: \u001b[32mString\u001b[39m = \u001b[32m\"List(11, 2, 3, 4, 5, 6, 6, 8)\"\u001b[39m"
      ]
     },
     "execution_count": 42,
     "metadata": {},
     "output_type": "execute_result"
    }
   ],
   "source": [
    "lista.toString"
   ]
  },
  {
   "cell_type": "code",
   "execution_count": 43,
   "id": "7ae6474e-b209-4a65-9321-7399f3b9754e",
   "metadata": {},
   "outputs": [
    {
     "data": {
      "text/plain": [
       "\u001b[36mres43\u001b[39m: \u001b[32mList\u001b[39m[\u001b[32mInt\u001b[39m] = \u001b[33mList\u001b[39m(\u001b[32m11\u001b[39m, \u001b[32m2\u001b[39m, \u001b[32m3\u001b[39m, \u001b[32m4\u001b[39m, \u001b[32m5\u001b[39m, \u001b[32m6\u001b[39m, \u001b[32m6\u001b[39m, \u001b[32m8\u001b[39m)"
      ]
     },
     "execution_count": 43,
     "metadata": {},
     "output_type": "execute_result"
    }
   ],
   "source": [
    "lista"
   ]
  },
  {
   "cell_type": "code",
   "execution_count": 44,
   "id": "41a766d5-2038-47a9-b511-c6ce59c2fae1",
   "metadata": {},
   "outputs": [
    {
     "data": {
      "text/plain": [
       "\u001b[36mres44\u001b[39m: \u001b[32mList\u001b[39m[\u001b[32mInt\u001b[39m] = \u001b[33mList\u001b[39m(\u001b[32m11\u001b[39m)"
      ]
     },
     "execution_count": 44,
     "metadata": {},
     "output_type": "execute_result"
    }
   ],
   "source": [
    "lista.takeWhile(x => x > 3)"
   ]
  },
  {
   "cell_type": "code",
   "execution_count": 45,
   "id": "6266b36b-cc14-45da-bfcc-b4a8c5ae1e8a",
   "metadata": {
    "scrolled": true
   },
   "outputs": [
    {
     "data": {
      "text/plain": [
       "\u001b[36mres45\u001b[39m: \u001b[32mList\u001b[39m[\u001b[32mInt\u001b[39m] = \u001b[33mList\u001b[39m(\u001b[32m2\u001b[39m, \u001b[32m3\u001b[39m, \u001b[32m4\u001b[39m, \u001b[32m5\u001b[39m, \u001b[32m6\u001b[39m, \u001b[32m6\u001b[39m, \u001b[32m8\u001b[39m)"
      ]
     },
     "execution_count": 45,
     "metadata": {},
     "output_type": "execute_result"
    }
   ],
   "source": [
    "lista.dropWhile(x => x > 5)"
   ]
  },
  {
   "cell_type": "code",
   "execution_count": 46,
   "id": "8caab76e-eae1-489c-a53b-97218134d7a7",
   "metadata": {},
   "outputs": [
    {
     "data": {
      "text/plain": [
       "\u001b[36mres46\u001b[39m: \u001b[32mList\u001b[39m[\u001b[32mInt\u001b[39m] = \u001b[33mList\u001b[39m(\u001b[32m11\u001b[39m, \u001b[32m2\u001b[39m, \u001b[32m3\u001b[39m, \u001b[32m4\u001b[39m, \u001b[32m5\u001b[39m, \u001b[32m6\u001b[39m, \u001b[32m6\u001b[39m, \u001b[32m8\u001b[39m)"
      ]
     },
     "execution_count": 46,
     "metadata": {},
     "output_type": "execute_result"
    }
   ],
   "source": [
    "lista"
   ]
  },
  {
   "cell_type": "code",
   "execution_count": 47,
   "id": "7345fc1b-74f2-4864-9230-b2d701207013",
   "metadata": {},
   "outputs": [
    {
     "data": {
      "text/plain": [
       "\u001b[36mres47\u001b[39m: \u001b[32mList\u001b[39m[\u001b[32mInt\u001b[39m] = \u001b[33mList\u001b[39m(\u001b[32m1\u001b[39m, \u001b[32m0\u001b[39m, \u001b[32m1\u001b[39m, \u001b[32m0\u001b[39m, \u001b[32m1\u001b[39m, \u001b[32m0\u001b[39m, \u001b[32m0\u001b[39m, \u001b[32m0\u001b[39m)"
      ]
     },
     "execution_count": 47,
     "metadata": {},
     "output_type": "execute_result"
    }
   ],
   "source": [
    "lista.map(x => x % 2)"
   ]
  },
  {
   "cell_type": "code",
   "execution_count": 48,
   "id": "c265abeb-1a3f-45a5-80bd-97872a3fdbd8",
   "metadata": {},
   "outputs": [
    {
     "data": {
      "text/plain": [
       "\u001b[36mres48\u001b[39m: \u001b[32mList\u001b[39m[\u001b[32mInt\u001b[39m] = \u001b[33mList\u001b[39m(\u001b[32m11\u001b[39m, \u001b[32m2\u001b[39m)"
      ]
     },
     "execution_count": 48,
     "metadata": {},
     "output_type": "execute_result"
    }
   ],
   "source": [
    "lista.distinctBy(x => x % 2)"
   ]
  },
  {
   "cell_type": "code",
   "execution_count": 50,
   "id": "d238b6ef-c8dd-47f4-b993-0f897f2e2677",
   "metadata": {},
   "outputs": [
    {
     "data": {
      "text/plain": [
       "\u001b[36mres50\u001b[39m: \u001b[32mList\u001b[39m[(\u001b[32mInt\u001b[39m, \u001b[32mList\u001b[39m[\u001b[32mInt\u001b[39m])] = \u001b[33mList\u001b[39m(\n",
       "  (\u001b[32m0\u001b[39m, \u001b[33mList\u001b[39m(\u001b[32m2\u001b[39m, \u001b[32m4\u001b[39m, \u001b[32m6\u001b[39m, \u001b[32m6\u001b[39m, \u001b[32m8\u001b[39m)),\n",
       "  (\u001b[32m1\u001b[39m, \u001b[33mList\u001b[39m(\u001b[32m11\u001b[39m, \u001b[32m3\u001b[39m, \u001b[32m5\u001b[39m))\n",
       ")"
      ]
     },
     "execution_count": 50,
     "metadata": {},
     "output_type": "execute_result"
    }
   ],
   "source": [
    "lista.groupBy(x => x % 2).toList"
   ]
  }
 ],
 "metadata": {
  "kernelspec": {
   "display_name": "Scala",
   "language": "scala",
   "name": "scala"
  },
  "language_info": {
   "codemirror_mode": "text/x-scala",
   "file_extension": ".sc",
   "mimetype": "text/x-scala",
   "name": "scala",
   "nbconvert_exporter": "script",
   "version": "2.13.12"
  }
 },
 "nbformat": 4,
 "nbformat_minor": 5
}
