{
 "cells": [
  {
   "cell_type": "markdown",
   "id": "b25f625a-e26a-458f-a90a-4e50c39e804e",
   "metadata": {},
   "source": [
    "## Programación Orientada a Objetos en Scala\n",
    "La POO es un paradigma de programación que organiza el software en torno a objetos, que son instancias de clases. Scala combina la programación funcional con la POO, ofreciendo una gran flexibilidad y potencia."
   ]
  },
  {
   "cell_type": "markdown",
   "id": "746e03cd-26e3-4116-9d54-10ef7ffb3d10",
   "metadata": {},
   "source": [
    "**1. Clases**\n",
    "- Una clase es una plantilla para crear objetos. Define atributos (campos) y métodos que caracterizan a los objetos.\n",
    "\n",
    "**Ejemplo:**"
   ]
  },
  {
   "cell_type": "code",
   "execution_count": null,
   "id": "44162c15-ba7b-42b0-8930-95f96a32871f",
   "metadata": {},
   "outputs": [],
   "source": [
    "class Persona(nombre: String, edad: Int) { //Se define una clase Persona con dos parámetros (nombre y edad).Estos parámetros se pasan al crear un \n",
    "                                          //objeto de tipo Persona.(cuando creamos new Persona)\n",
    "  val nombrePersona: String = nombre\n",
    "  val edadPersona: Int = edad  //Se crean variables de instancia (nombrePersona y edadPersona) para almacenar los valores recibidos.\n",
    "\n",
    "  def saludar(): Unit = {\n",
    "    println(s\"Hola, mi nombre es $nombrePersona y tengo $edadPersona años.\")  //Se crean variables de instancia (nombrePersona y edadPersona) para \n",
    "                                                                              //almacenar los valores recibidos.\n",
    "  }\n",
    "}"
   ]
  },
  {
   "cell_type": "markdown",
   "id": "cf554f5f-8ccb-46b9-a065-62321c6c5638",
   "metadata": {},
   "source": [
    "**Ejemplo de uso**"
   ]
  },
  {
   "cell_type": "code",
   "execution_count": null,
   "id": "6fad1fdc-8588-4211-964f-2a3b4cf4cd18",
   "metadata": {},
   "outputs": [],
   "source": [
    "val juan = new Persona(\"Juan\", 25)  // Se crea un objeto Persona\n",
    "juan.saludar()  // Imprime: Hola, mi nombre es Juan y tengo 25 años."
   ]
  },
  {
   "cell_type": "markdown",
   "id": "2f9d247f-b905-4826-9252-db00c142d9fe",
   "metadata": {},
   "source": [
    "**Explicación:**\n",
    "\n",
    "- Persona es una clase.\n",
    "- Sus atributos (nombrePersona, edadPersona) guardan información.\n",
    "- Su método saludar() muestra un mensaje personalizado."
   ]
  },
  {
   "cell_type": "markdown",
   "id": "4f3a6bda-9a6e-4c0a-a724-f2f46d1880b8",
   "metadata": {},
   "source": [
    "**2. Instancias de una Clase**\n",
    "- Instanciar es crear un objeto a partir de una clase.\n",
    "\n",
    "**Ejemplo:**"
   ]
  },
  {
   "cell_type": "code",
   "execution_count": null,
   "id": "9d660659-9e7d-4637-afae-211efe9f1708",
   "metadata": {},
   "outputs": [],
   "source": [
    "val persona1 = new Persona(\"Juan\", 30)\n",
    "persona1.saludar()"
   ]
  },
  {
   "cell_type": "markdown",
   "id": "baac7c68-1a7b-4a82-b39c-09f882bc2407",
   "metadata": {},
   "source": [
    "**3. Atributos**\n",
    "- Los atributos son variables que pertenecen a una clase. Pueden ser mutables (var) o inmutables (val).\n",
    "\n",
    "- Scala genera automáticamente métodos getters y setters para los atributos.\n",
    "\n",
    "**Ejemplo:**"
   ]
  },
  {
   "cell_type": "code",
   "execution_count": null,
   "id": "03df79e5-3dcd-4233-9947-9cee79666eb8",
   "metadata": {},
   "outputs": [],
   "source": [
    "class PersonaAtributos(var nombre: String, val edad: Int)\n",
    "val persona2 = new PersonaAtributos(\"Juan\", 25)\n",
    "persona2.nombre = \"Carlos\"  // Modificación del atributo mutable"
   ]
  },
  {
   "cell_type": "markdown",
   "id": "69a80e9c-6be2-4cf5-83a3-dfa519b48515",
   "metadata": {},
   "source": [
    "**4. Modificadores de Acceso**\n",
    "- Controlan la visibilidad de los miembros de una clase:\n",
    "\n",
    "    - private: Solo accesible dentro de la clase.\n",
    "\n",
    "    - protected: Accesible en la clase y sus subclases.\n",
    "\n",
    "    - Sin modificador: Público por defecto."
   ]
  },
  {
   "cell_type": "markdown",
   "id": "7a2af4bc-3221-450c-b6e5-cd1a0dc743a0",
   "metadata": {},
   "source": [
    "**5. Constructores**\n",
    "  - Constructor primario: Se define en la firma de la clase.\n",
    "\n",
    "  - Constructores secundarios: Se definen con this y deben llamar al constructor primario.\n",
    "\n",
    "**Ejemplo:**"
   ]
  },
  {
   "cell_type": "code",
   "execution_count": null,
   "id": "4f0f0a3e-c3df-4828-a195-effe781ec27b",
   "metadata": {},
   "outputs": [],
   "source": [
    "class PersonaSecundaria(nombre: String, edad: Int) {\n",
    "  def this(nombre: String) = this(nombre, 0)  // Constructor secundario\n",
    "}"
   ]
  },
  {
   "cell_type": "markdown",
   "id": "946426d6-2954-4285-9125-609cebbce1df",
   "metadata": {},
   "source": [
    "### Explicación \n",
    "**1. Constructor primario (class PersonaSecundaria(nombre: String, edad: Int))**\n",
    "\n",
    "- Es el constructor principal de la clase.\n",
    "- Recibe dos parámetros: nombre y edad.\n",
    "\n",
    "**2. Constructor secundario (def this(nombre: String) = this(nombre, 0))**\n",
    "\n",
    "- Permite crear un objeto solo con el nombre.\n",
    "- Llama al constructor primario y asigna edad = 0 por defecto."
   ]
  },
  {
   "cell_type": "markdown",
   "id": "d238829f-7bcd-4121-8498-f717f67c0836",
   "metadata": {},
   "source": [
    "**Ejemplo**\n",
    "- Es como tener dos formas de crear un objeto, una con más información y otra más simpl"
   ]
  },
  {
   "cell_type": "code",
   "execution_count": null,
   "id": "89effaf1-5733-49e7-8fa4-fa7919bf8f9f",
   "metadata": {},
   "outputs": [],
   "source": [
    "val persona1 = new PersonaSecundaria(\"Juan\", 25)  // Usa el constructor primario\n",
    "val persona2 = new PersonaSecundaria(\"Ana\")  // Usa el constructor secundario (edad = 0)"
   ]
  },
  {
   "cell_type": "markdown",
   "id": "ed2b382e-d657-4f08-a55d-5433e126bcd6",
   "metadata": {},
   "source": [
    "**6. Herencia**\n",
    "- Una clase puede heredar de otra usando extends.\n",
    "\n",
    "- Los métodos se pueden sobreescribir con override.\n",
    "\n",
    "**Ejemplo:**"
   ]
  },
  {
   "cell_type": "code",
   "execution_count": null,
   "id": "2fa4af40-98d8-45cd-8f75-fa6537f6ce45",
   "metadata": {},
   "outputs": [],
   "source": [
    "class Animal(nombre: String) {\n",
    "  def sonido(): String = \"Hace algún sonido\"\n",
    "}\n",
    "\n",
    "class Perro(nombre: String, raza: String) extends Animal(nombre) {\n",
    "  override def sonido(): String = \"Guau, guau\" //override se usa para modificar el comportamiento de un método o una propiedad que ha sido heredada \n",
    "                                               //de la clase padre.\n",
    "}"
   ]
  },
  {
   "cell_type": "markdown",
   "id": "be046c24-ea00-4bb2-8ae2-c2650bfb1ac4",
   "metadata": {},
   "source": [
    "**Explicación**\n",
    "\n",
    "**1. Clase padre (Animal)**\n",
    "\n",
    "- Tiene un atributo nombre.\n",
    "- Define un método sonido() que devuelve \"Hace algún sonido\".\n",
    "  \n",
    "**2. Clase hija (Perro)**\n",
    "\n",
    "- Extiende (extends) la clase Animal, heredando su estructura.\n",
    "- Tiene un atributo extra: raza.\n",
    "- Sobrescribe (override) el método sonido() para devolver \"Guau, guau\" en lugar del sonido genérico de Animal."
   ]
  },
  {
   "cell_type": "markdown",
   "id": "2e35d113-f65f-4214-9a63-91a1e844b435",
   "metadata": {},
   "source": [
    "**Ejemplo:**"
   ]
  },
  {
   "cell_type": "code",
   "execution_count": null,
   "id": "7c8a8b57-1d9c-417d-847d-dd9b613f442c",
   "metadata": {},
   "outputs": [],
   "source": [
    "val animal = new Animal(\"Genérico\")\n",
    "val perro = new Perro(\"Firulais\", \"Labrador\")\n",
    "\n",
    "println(animal.sonido())  // Imprime: Hace algún sonido\n",
    "println(perro.sonido())   // Imprime: Guau, guau\n"
   ]
  },
  {
   "cell_type": "markdown",
   "id": "090d3909-03ee-4bd1-8b31-311da1c29a33",
   "metadata": {},
   "source": [
    "**Explicación**\n",
    "\n",
    "- animal.sonido() usa el método de Animal, mostrando \"Hace algún sonido\".\n",
    "- perro.sonido() usa el método sobrescrito en Perro, mostrando \"Guau, guau\".\n",
    "\n",
    " Es como decir que todos los animales hacen algún sonido, pero los perros ladran. "
   ]
  },
  {
   "cell_type": "markdown",
   "id": "e07b7b28-7fdd-4081-af77-4cf2801d9a14",
   "metadata": {},
   "source": [
    "**7. Traits**\n",
    "- Los traits son similares a las interfaces en otros lenguajes, pero pueden contener implementaciones de métodos.\n",
    "\n",
    "- Permiten la herencia múltiple mediante la mezcla de traits.\n",
    "\n",
    "**Ejemplo:**  \n",
    "Aquí, cada clase implementa saludar() a su manera sin necesidad de modificar el trait."
   ]
  },
  {
   "cell_type": "code",
   "execution_count": null,
   "id": "bb1eef12-5f49-414b-8611-00b67c4caef7",
   "metadata": {},
   "outputs": [],
   "source": [
    "trait Saludable {\n",
    "  def saludar(): Unit // Método sin implementación\n",
    "}\n",
    "\n",
    "class Persona extends Saludable {\n",
    "  def saludar(): Unit = println(\"¡Hola, soy una persona!\")\n",
    "}\n",
    "\n",
    "class Robot extends Saludable {\n",
    "  def saludar(): Unit = println(\"Saludos, soy un robot.\")\n",
    "}\n",
    "\n",
    "//  Probamos las clases\n",
    "val juan = new Persona\n",
    "juan.saludar()  // Imprime: ¡Hola, soy una persona!\n",
    "\n",
    "val androide = new Robot\n",
    "androide.saludar()  // Imprime: Saludos, soy un robot.\n"
   ]
  },
  {
   "cell_type": "markdown",
   "id": "6aa3577a-7a2b-436e-a0b6-ef3bf8636066",
   "metadata": {},
   "source": [
    "**Explicaciones**\n",
    "- Un trait es como un contrato o plantilla que define comportamientos.\n",
    "- Permite compartir código entre varias clases sin duplicarlo.\n",
    "- Se puede usar con extends o with para agregar funcionalidades a una clase.\n",
    "- extends y with sirven para agregar un trait a una clase, permitiendo que herede su comportamiento.\n",
    "   - extends → Se usa para agregar el primer trait a una clase.\n",
    "   - with → Se usa cuando queremos agregar más de un trait a la misma clase."
   ]
  },
  {
   "cell_type": "markdown",
   "id": "5044d94c-d620-4c01-b662-1ac6bfb400cb",
   "metadata": {},
   "source": [
    "**8. Case Classes**\n",
    "\n",
    "- Las case classes son clases especiales para almacenar datos inmutables. Sin embargo, se puede crear una nueva instancia basada en la anterior usando el método copy.\n",
    "- Generan automáticamente métodos como toString, equals, hashCode, y permiten pattern matching.\n",
    "\n",
    "**Ejemplo:**"
   ]
  },
  {
   "cell_type": "code",
   "execution_count": null,
   "id": "23b71565-b3fe-4b9a-b131-e86fcf60bab3",
   "metadata": {},
   "outputs": [],
   "source": [
    "// Definimos una case class\n",
    "case class PersonaCase(nombre: String, edad: Int)\n",
    "\n",
    "// Creamos una instancia de PersonaCase\n",
    "val personacase1 = PersonaCase(\"Juan\", 25)\n",
    "\n",
    "// Usamos el método copy para modificar la edad (inmutabilidad)\n",
    "val personacase2 = personacase1.copy(edad = 26)\n",
    "\n",
    "println(personacase1)  // Imprime: PersonaCase(Juan, 25)\n",
    "println(personacase2)  // Imprime: PersonaCase(Juan, 26)\n"
   ]
  },
  {
   "cell_type": "markdown",
   "id": "e2063fe3-f100-4544-96f5-8133b13eea1c",
   "metadata": {},
   "source": [
    " - personacase1 es la instancia original con \"Juan\" y 25.\n",
    "- personacase2 es una nueva instancia creada a partir de personacase1, pero con la edad cambiada a 26. Esto no modifica personacase1, sino que crea una nueva instancia."
   ]
  },
  {
   "cell_type": "markdown",
   "id": "54c2668e-28ec-4e5b-a0c8-dff7986e8680",
   "metadata": {},
   "source": [
    " **¿Por qué usar case class?**\n",
    "- Menos código: No necesitas escribir mucho código adicional (como el constructor, equals, hashCode, toString, etc.). Scala lo hace automáticamente por ti.\n",
    "- Inmutabilidad: Facilita el trabajo con objetos que no cambian, lo que ayuda a evitar errores y facilita el manejo de datos.\n",
    "- Facilidad de clonación: Usando copy, puedes crear una nueva instancia modificada de forma muy sencilla."
   ]
  },
  {
   "cell_type": "markdown",
   "id": "9b821015-2ad4-4af6-802b-293b6cb62c57",
   "metadata": {},
   "source": [
    "**9. Pattern Matching**\n",
    "- Permite descomponer y comparar valores de manera concisa.\n",
    "\n",
    "**Ejemplo:**"
   ]
  },
  {
   "cell_type": "code",
   "execution_count": null,
   "id": "f6c81087-5909-4fd4-b64b-9c8a8d1f64b4",
   "metadata": {},
   "outputs": [],
   "source": [
    "// Definimos la case class\n",
    "case class PersonaCase(nombre: String, edad: Int)\n",
    "\n",
    "// Función que usa Pattern Matching\n",
    "def saludar(persona: PersonaCase): String = persona match {\n",
    "  case PersonaCase(\"Juan\", _) => \"Hola Juan\"  // Si el nombre es \"Juan\", no importa la edad (_)\n",
    "  case _ => \"Hola\"  // En cualquier otro caso, devuelve \"Hola\"\n",
    "}\n",
    "\n",
    "// Ejemplo de uso\n",
    "val persona1 = PersonaCase(\"Juan\", 25)\n",
    "val persona2 = PersonaCase(\"Maria\", 30)\n",
    "\n",
    "println(saludar(persona1))  // Imprime: Hola Juan\n",
    "println(saludar(persona2))  // Imprime: Hola\n"
   ]
  },
  {
   "cell_type": "markdown",
   "id": "9b38d18d-bf9e-4b76-a7df-398894ffbba3",
   "metadata": {},
   "source": [
    "**Explicación**\n",
    "\n",
    "**1. persona match**\n",
    "- La variable persona es el objeto que vamos a comparar contra distintos patrones.\n",
    "\n",
    "**2. Patrón PersonaCase(\"Juan\", _)**\n",
    "- PersonaCase(\"Juan\", _) es un patrón que verifica si el objeto es una instancia de PersonaCase con el nombre \"Juan\".\n",
    "- El guion bajo _ es un comodín que indica que no nos importa el valor de la edad en este caso.\n",
    "\n",
    "**3. Patrón _**\n",
    "- El patrón _ es un comodín que captura cualquier otro valor que no haya coincidido con los patrones anteriores, y en este caso, devuelve \"Hola\"."
   ]
  },
  {
   "cell_type": "markdown",
   "id": "f68d3c01-8e5c-464b-a6db-6edfe226aa74",
   "metadata": {},
   "source": [
    "### Conclusión\n",
    "Scala es un lenguaje que combina la POO con la programación funcional, ofreciendo herramientas poderosas como clases, herencia, traits, y case classes. Estas características permiten escribir código más conciso, seguro y mantenible"
   ]
  },
  {
   "cell_type": "code",
   "execution_count": null,
   "id": "9d99fda1-ff99-4081-a4ab-54c335140f7c",
   "metadata": {},
   "outputs": [],
   "source": []
  }
 ],
 "metadata": {
  "kernelspec": {
   "display_name": "Scala",
   "language": "scala",
   "name": "scala"
  },
  "language_info": {
   "codemirror_mode": "text/x-scala",
   "file_extension": ".sc",
   "mimetype": "text/x-scala",
   "name": "scala",
   "nbconvert_exporter": "script",
   "version": "2.13.16"
  }
 },
 "nbformat": 4,
 "nbformat_minor": 5
}
