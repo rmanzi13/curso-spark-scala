{
 "cells": [
  {
   "cell_type": "markdown",
   "id": "75757d35-0f80-4db3-8fa9-77b16632572a",
   "metadata": {},
   "source": [
    "## Jerarquía de Tipos en Scala:\n",
    "\n",
    "**Any:**\n",
    "  - Es la superclase raíz de todos los tipos en Scala.\n",
    "  - Todos los demás tipos heredan directa o indirectamente de Any.\n",
    "  - Proporciona métodos universales como equals, hashCode y toString.\n",
    "    \n",
    "**AnyVal:**\n",
    "  - Representa los \"tipos de valor\".\n",
    "  - Incluye tipos primitivos como Int, Double, Boolean, Char, etc.\n",
    "  - Son tipos de valor, no objetos de referencia.\n",
    "  - Los valores de AnyVal se almacenan en la pila.\n",
    "*(La pila es una región de la memoria que se utiliza para almacenar variables locales y otros datos temporales. Los valores almacenados en la pila se gestionan de manera más eficiente en términos de velocidad, pero tienen un ciclo de vida más corto, es decir, se eliminan cuando salen del ámbito en el que fueron declarados)*.\n",
    "  - No pueden ser nulos.\n",
    "    \n",
    "**AnyRef:**\n",
    "  - Representa los \"tipos de referencia\".\n",
    "  - Incluye todas las clases definidas por el usuario, así como las clases de la biblioteca estándar de Java (como String).\n",
    "  - Son objetos de referencia, almacenados en el heap. *(El heap es una región de memoria utilizada para almacenar objetos cuya vida útil puede ser más larga y no está limitada al ámbito local)  (garbage collection) se encarga de liberar memoria cuando ya no se necesita*.\n",
    "  - Pueden ser nulos.\n",
    "    \n",
    "**Puntos Clave:**\n",
    "  - Any es el tipo más general, abarcando tanto valores como referencias.\n",
    "  - AnyVal y AnyRef son las dos subclases directas de Any, dividiendo el mundo de los tipos en valores y referencias.\n",
    "  - Esta jerarquía unificada permite que Scala trate todos los tipos de manera consistente.\n",
    "    \n",
    "**En resumen:**\n",
    "  - Any: Todo.\n",
    "  - AnyVal: Valores (primitivos).\n",
    "  - AnyRef: Referencias (objetos)."
   ]
  },
  {
   "cell_type": "markdown",
   "id": "e729b338-31a0-48fb-9c3e-85ade9b37d24",
   "metadata": {},
   "source": [
    "                              Any\n",
    "                             /   \\\n",
    "                            /     \\\n",
    "                           /       \\\n",
    "                       AnyVal     AnyRef\n",
    "                      /  |  \\       /   \\\n",
    "                     /   |   \\     /     \\\n",
    "                    /    |    \\   /       \\\n",
    "               Double  Int  Boolean  String  List  ..."
   ]
  },
  {
   "cell_type": "markdown",
   "id": "00b849b7-338c-4d5a-956f-7722680a6100",
   "metadata": {},
   "source": [
    "Ejemplo de código relacionado"
   ]
  }
 ],
 "metadata": {
  "kernelspec": {
   "display_name": "Apache Toree - Scala",
   "language": "scala",
   "name": "apache_toree_scala"
  },
  "language_info": {
   "codemirror_mode": "text/x-scala",
   "file_extension": ".scala",
   "mimetype": "text/x-scala",
   "name": "scala",
   "pygments_lexer": "scala",
   "version": "2.12.15"
  }
 },
 "nbformat": 4,
 "nbformat_minor": 5
}
