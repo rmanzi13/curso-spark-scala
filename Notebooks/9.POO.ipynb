{
 "cells": [
  {
   "cell_type": "markdown",
   "id": "368685f8-1124-4b20-8afe-9574168ccf15",
   "metadata": {},
   "source": [
    "### Conceptos Clave de POO en Scala\n",
    "\n",
    "#### **1. Clases y Objetos**:\n",
    "\n",
    "- Una clase es como un molde o plantilla.\n",
    "\n",
    "- Un objeto es una \"cosa\" creada a partir de ese molde."
   ]
  },
  {
   "cell_type": "code",
   "execution_count": null,
   "id": "9843efe5-01a6-44b0-bcfc-a4494d91e022",
   "metadata": {},
   "outputs": [],
   "source": [
    "class Coche(marca: String, modelo: String) {\n",
    "  def mostrarDetalles(): Unit = {\n",
    "    println(s\"Este coche es un $marca $modelo.\")\n",
    "  }\n",
    "}\n",
    "\n",
    "val miCoche = new Coche(\"Toyota\", \"Corolla\")\n",
    "miCoche.mostrarDetalles() // Imprime: Este coche es un Toyota Corolla."
   ]
  },
  {
   "cell_type": "markdown",
   "id": "abbd13b6-13d7-4e5c-b84a-7d80d1ba85d9",
   "metadata": {},
   "source": [
    "- Coche es la clase, miCoche es el objeto.\n",
    "\n",
    "- Los valores dentro de los parentesis de la clase son los parametros que se envian al constructor primario, en este caso, marca y modelo.\n"
   ]
  },
  {
   "cell_type": "markdown",
   "id": "9d9f8d49-42a2-4a56-abd7-02ab66044a72",
   "metadata": {},
   "source": [
    "#### **2. Atributos**:\n",
    "\n",
    "- Son las características de un objeto (como la marca y el modelo de un coche).\n",
    "\n",
    "- Pueden ser val (inmutables, no cambian) o var (mutables, pueden cambiar)."
   ]
  },
  {
   "cell_type": "code",
   "execution_count": null,
   "id": "2d7c7488-1b40-4584-b649-28049f05af00",
   "metadata": {},
   "outputs": [],
   "source": [
    "class Coche(val marca: String, var kilometraje: Int)\n",
    "\n",
    "val miCoche = new Coche(\"Honda\", 10000)\n",
    "miCoche.kilometraje = 11000 // Cambiamos el kilometraje\n",
    "println(miCoche.kilometraje) // Imprime: 11000"
   ]
  },
  {
   "cell_type": "markdown",
   "id": "96ea6529-260e-465e-a5a3-33c7b0a8b88d",
   "metadata": {},
   "source": [
    "#### **3. Métodos**:\n",
    "\n",
    "- Son las acciones que un objeto puede realizar (como mostrarDetalles).\n",
    "\n",
    "#### **4. Herencia**:\n",
    "\n",
    "- Permite crear nuevas clases basadas en clases existentes.\n",
    "\n",
    "- La nueva clase \"hereda\" características de la antigua."
   ]
  },
  {
   "cell_type": "code",
   "execution_count": null,
   "id": "71998d8f-2ef2-4496-9f41-6e6343d96e5e",
   "metadata": {},
   "outputs": [],
   "source": [
    "class Animal(nombre: String) {\n",
    "  def hacerSonido(): String = \"Sonido genérico\"\n",
    "}\n",
    "\n",
    "class Perro(nombre: String, raza: String) extends Animal(nombre) {\n",
    "  override def hacerSonido(): String = \"¡Guau!\"\n",
    "}\n",
    "\n",
    "val miPerro = new Perro(\"Firulais\", \"Labrador\")\n",
    "println(miPerro.hacerSonido()) // Imprime: ¡Guau!"
   ]
  },
  {
   "cell_type": "markdown",
   "id": "408e6aba-0580-4a9a-9360-b1ad09ddcbb3",
   "metadata": {},
   "source": [
    "- **1.** Clase padre (Animal)\n",
    "\n",
    "  - Tiene un atributo nombre.\n",
    "\n",
    "  - Define un método sonido() que devuelve \"Hace algún sonido\".\n",
    "\n",
    "- **2.** Clase hija (Perro)\n",
    "\n",
    "  - Extiende (extends) la clase Animal, heredando su estructura.\n",
    "\n",
    "  - Tiene un atributo extra: raza.\n",
    "\n",
    "  - Sobrescribe (override) el método sonido() para devolver \"Guau, guau\" en lugar del sonido genérico de Animal."
   ]
  },
  {
   "cell_type": "markdown",
   "id": "893ee008-c67e-489c-898e-6d7109007f44",
   "metadata": {},
   "source": [
    "#### **5. Traits**:\n",
    "\n",
    "- Son como \"habilidades\" que se pueden agregar a las clases.\n",
    "\n",
    "- Permiten compartir código entre clases.\n",
    "\n",
    "- Los traits son similares a las interfaces en otros lenguajes, pero pueden contener implementaciones de métodos.\r\n",
    "- \r\n",
    "Permiten la herencia múltiple mediante la mezcla de trait\n",
    "\n",
    "**Ejemplo**:\r\n",
    "  - \n",
    "Aquí, cada clase implementa saludar() a su manera sin necesidad de modificar el trait.s."
   ]
  },
  {
   "cell_type": "code",
   "execution_count": null,
   "id": "36d2e162-6220-463a-91a9-fa371ed50e67",
   "metadata": {},
   "outputs": [],
   "source": [
    "trait Saludable {\n",
    "  def saludar(): Unit // Método sin implementación\n",
    "}\n",
    "\n",
    "class Persona extends Saludable {\n",
    "  def saludar(): Unit = println(\"¡Hola, soy una persona!\")\n",
    "}\n",
    "\n",
    "class Robot extends Saludable {\n",
    "  def saludar(): Unit = println(\"Saludos, soy un robot.\")\n",
    "}\n",
    "\n",
    "//  Probamos las clases\n",
    "val juan = new Persona\n",
    "juan.saludar()  // Imprime: ¡Hola, soy una persona!\n",
    "\n",
    "val androide = new Robot\n",
    "androide.saludar()  // Imprime: Saludos, soy un robot"
   ]
  },
  {
   "cell_type": "markdown",
   "id": "1db09187-f6d5-428f-bb85-a9e82938dc4d",
   "metadata": {},
   "source": [
    "- Un trait es como un contrato o plantilla que define comportamientos.\n",
    "\n",
    "- Permite compartir código entre varias clases sin duplicarlo.\n",
    "\n",
    "- Se puede usar con extends o with para agregar funcionalidades a una clase.\n",
    "\n",
    "- extends y with sirven para agregar un trait a una clase, permitiendo que herede su comportamiento.\n",
    "\n",
    "  - extends → Se usa para agregar el primer trait a una clase.\n",
    "\n",
    "  - with → Se usa cuando queremos agregar más de un trait a la misma clase."
   ]
  },
  {
   "cell_type": "markdown",
   "id": "ce97bdb6-344b-4b51-a646-e0ee75b20d76",
   "metadata": {},
   "source": [
    "#### **6.** Case Classes\n",
    "\n",
    "- Las case classes son clases especiales para almacenar datos inmutables. Sin embargo, se puede crear una nueva instancia basada en la anterior usando el método copy.\n",
    "\n",
    "- Generan automáticamente métodos como toString, equals, hashCode, y permiten pattern matching.\n",
    "\n",
    "**Ejemplo**:"
   ]
  },
  {
   "cell_type": "code",
   "execution_count": null,
   "id": "fd12f2ed-b195-4437-a6ba-0b7e81b8a998",
   "metadata": {},
   "outputs": [],
   "source": [
    "// Definimos una case class\n",
    "case class PersonaCase(nombre: String, edad: Int)\n",
    "\n",
    "// Creamos una instancia de PersonaCase\n",
    "val personacase1 = PersonaCase(\"Juan\", 25)\n",
    "\n",
    "// Usamos el método copy para modificar la edad (inmutabilidad)\n",
    "val personacase2 = personacase1.copy(edad = 26)\n",
    "\n",
    "println(personacase1)  // Imprime: PersonaCase(Juan, 25)\n",
    "println(personacase2)  // Imprime: PersonaCase(Juan, 26)"
   ]
  },
  {
   "cell_type": "markdown",
   "id": "af4a0f37-a881-4c26-ac6f-fd334a7d8162",
   "metadata": {},
   "source": [
    "- **personacase1** es la instancia original con \"Juan\" y 25.\n",
    "\n",
    "- **personacase2** es una nueva instancia creada a partir de personacase1, pero con la edad cambiada a 26. Esto no modifica personacase1, sino que crea una nueva instancia."
   ]
  },
  {
   "cell_type": "markdown",
   "id": "42c9788b-6793-47c5-8b0e-4532f85ee53c",
   "metadata": {},
   "source": [
    "#### ¿Por qué usar case class?\n",
    "\n",
    "- **Menos código**: No necesitas escribir mucho código adicional (como el constructor, equals, hashCode, toString, etc.). Scala lo hace automáticamente por ti.\n",
    "\n",
    "- **Inmutabilidad**: Facilita el trabajo con objetos que no cambian, lo que ayuda a evitar errores y facilita el manejo de datos.\n",
    "\n",
    "- **Facilidad de clonación**: Usando copy, puedes crear una nueva instancia modificada de forma muy sencilla."
   ]
  },
  {
   "cell_type": "markdown",
   "id": "80aa047b-3d41-44b1-8d99-c335fae0657f",
   "metadata": {},
   "source": [
    "#### **7.** Pattern Matching\n",
    "\n",
    "- Permite descomponer y comparar valores de manera concisa.\n",
    "\n",
    "**Ejemplo**"
   ]
  },
  {
   "cell_type": "code",
   "execution_count": null,
   "id": "7eb94ef3-c334-4ea1-aaf5-1730be9222b6",
   "metadata": {},
   "outputs": [],
   "source": [
    "// Definimos la case class\n",
    "case class PersonaCase(nombre: String, edad: Int)\n",
    "\n",
    "// Función que usa Pattern Matching\n",
    "def saludar(persona: PersonaCase): String = persona match {\n",
    "  case PersonaCase(\"Juan\", _) => \"Hola Juan\"  // Si el nombre es \"Juan\", no importa la edad (_)\n",
    "  case _ => \"Hola\"  // En cualquier otro caso, devuelve \"Hola\"\n",
    "}\n",
    "\n",
    "// Ejemplo de uso\n",
    "val persona1 = PersonaCase(\"Juan\", 25)\n",
    "val persona2 = PersonaCase(\"Maria\", 30)\n",
    "\n",
    "println(saludar(persona1))  // Imprime: Hola Juan\n",
    "println(saludar(persona2))  // Imprime: Hola"
   ]
  },
  {
   "cell_type": "code",
   "execution_count": null,
   "id": "003b6424-1e8e-479b-b51c-645707b18b59",
   "metadata": {},
   "outputs": [],
   "source": [
    "**1.** persona match\n",
    "\n",
    "- La variable persona es el objeto que vamos a comparar contra distintos patrones.\n",
    "\n",
    "**2.** Patrón PersonaCase(\"Juan\", _)\n",
    "\n",
    "- PersonaCase(\"Juan\", _) es un patrón que verifica si el objeto es una instancia de PersonaCase con el nombre \"Juan\".\n",
    "El guion bajo _ es un comodín que indica que no nos importa el valor de la edad en este caso.\n",
    "3. Patrón _\n",
    "\n",
    "El patrón _"
   ]
  }
 ],
 "metadata": {
  "kernelspec": {
   "display_name": "Apache Toree - Scala",
   "language": "scala",
   "name": "apache_toree_scala"
  },
  "language_info": {
   "codemirror_mode": "text/x-scala",
   "file_extension": ".scala",
   "mimetype": "text/x-scala",
   "name": "scala",
   "pygments_lexer": "scala",
   "version": "2.12.15"
  }
 },
 "nbformat": 4,
 "nbformat_minor": 5
}
