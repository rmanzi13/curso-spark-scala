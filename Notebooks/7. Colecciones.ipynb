{
 "cells": [
  {
   "cell_type": "markdown",
   "id": "3d031459-15aa-4ade-b2af-6b0f8635e25b",
   "metadata": {},
   "source": [
    "## Colecciones en Scala"
   ]
  },
  {
   "cell_type": "markdown",
   "id": "fa347d6e-0444-49d8-916a-6dc89905038c",
   "metadata": {},
   "source": [
    "### 1. Introducción a las Colecciones en Scala"
   ]
  },
  {
   "cell_type": "markdown",
   "id": "5e941f03-fb3e-41e3-8e98-fa4f5a61d52a",
   "metadata": {},
   "source": [
    "**Definición:** Las colecciones en Scala son es un conjunto de elementos que pueden ser manipulados y procesados de manera eficiente. Son una parte esencial de la programación en Scala, ya que facilitan el manejo de datos de manera eficiente y expresiva.\n",
    "\n",
    "**Características clave:**\n",
    "\n",
    "  - Inmutabilidad vs Mutabilidad: Scala distingue entre colecciones inmutables (no se pueden modificar después de su creación) y mutables (se pueden modificar). Las colecciones inmutables son las predeterminadas y promueven un estilo de programación funcional, mientras que las mutables son útiles cuando se necesitan modificaciones frecuentes.\n",
    "\n",
    "  - Diseño uniforme: Las colecciones en Scala están diseñadas de manera consistente, lo que facilita su uso y comprensión."
   ]
  },
  {
   "cell_type": "markdown",
   "id": "2aea53db-4692-42f7-89cf-383363d22361",
   "metadata": {},
   "source": [
    "### 2. Tipos de Colecciones\n",
    "\n",
    "Scala ofrece varias categorías de colecciones, cada una con implementaciones específicas para diferentes casos de uso:\n",
    "\n",
    "**a) Secuencias (Seq):**\n",
    "\n",
    "  - **Listas (List):** Colecciones inmutables que representan una lista enlazada. Ideales para acceso secuencial, pero menos eficientes para acceso aleatorio.\n",
    "\n",
    "  - **Vectores (Vector):** Colecciones inmutables que ofrecen un buen equilibrio entre acceso aleatorio y operaciones de inserción/eliminación. Ideales para colecciones grandes.\n",
    "\n",
    "  - **Buffers (ArrayBuffer, ListBuffer)** Colecciones mutables que permiten añadir, actualizar y eliminar elementos de manera eficiente.\n",
    "\n",
    "\n",
    "**b) Conjuntos (Set):**\n",
    "\n",
    "  - **Colecciones de elementos únicos sin orden específico**. Pueden ser inmutables o mutables.\n",
    "    \n",
    "    \n",
    "   \n",
    "**c) Mapas (Map):**\n",
    "\n",
    "  - **Colecciones de pares clave-valor. Las claves son únicas y se asocian a un valor.**\n",
    "\n",
    "\n",
    "**d) Otras colecciones:**\n",
    "\n",
    "  - **Colas (Queue):** Colecciones que siguen el principio FIFO (primero en entrar, primero en salir).\n",
    "\n",
    "  - **Pilas (Stack):** Colecciones que siguen el principio LIFO (último en entrar, primero en salir).\n",
    "\n",
    "  - **Iterables:** Base para todas las colecciones que pueden ser iteradas."
   ]
  },
  {
   "cell_type": "markdown",
   "id": "51d0c13b-faa5-430d-84ae-f80c23bba58b",
   "metadata": {},
   "source": [
    "### 3. Colecciones List\n",
    "\n",
    "- **Definición**: Las listas en Scala son colecciones inmutables y ordenadas de elementos del mismo tipo.\n",
    "\n",
    "- **Creación**:"
   ]
  },
  {
   "cell_type": "code",
   "execution_count": null,
   "id": "0a395396-089b-4af0-8945-39243b149cc2",
   "metadata": {},
   "outputs": [],
   "source": [
    "val numeros = List(1, 2, 3, 4, 5)\n",
    "val listaVacia = Nil"
   ]
  },
  {
   "cell_type": "markdown",
   "id": "d9ee30e2-9ede-43ca-8df6-8224f32868f3",
   "metadata": {},
   "source": [
    "- **Acceso a elementos**:\n",
    "\n",
    "   - **Acceso directo**: numeros(0) para acceder al primer elemento.\n",
    "\n",
    "   - **Métodos útiles**:\n",
    "\n",
    "     - **head**: Devuelve el primer elemento.\n",
    "\n",
    "     - **tail**: Devuelve la lista sin el primer elemento.\n",
    "\n",
    "     - **last**: Devuelve el último elemento.\n",
    "\n",
    "     - **init**: Devuelve la lista sin el último elemento.\n",
    "\n",
    "     - **slice**: Obtiene una sublista entre dos índices.\n",
    "\n",
    "- **Iteración y búsqueda**:\n",
    "\n",
    "   - **filter**: Filtra elementos basados en una condición.\n",
    "\n",
    "   - **find**: Encuentra el primer elemento que cumple una condición.\n",
    "\n",
    "   - **foreach**: Itera sobre la lista."
   ]
  },
  {
   "cell_type": "markdown",
   "id": "6c41a060-405d-443a-b5ca-8eb8f8eac98d",
   "metadata": {},
   "source": [
    "### 4. Colecciones Map\n",
    "\n",
    "- **Definición**: Los mapas son colecciones de pares clave-valor, donde cada clave es única.\n",
    "\n",
    "- **Creación**:"
   ]
  },
  {
   "cell_type": "code",
   "execution_count": 1,
   "id": "782b5057-c703-4dce-b5a9-8f55f384b315",
   "metadata": {},
   "outputs": [
    {
     "data": {
      "text/plain": [
       "\u001b[36mcapitales\u001b[39m: \u001b[32mMap\u001b[39m[\u001b[32mString\u001b[39m, \u001b[32mString\u001b[39m] = \u001b[33mMap\u001b[39m(\u001b[32m\"Francia\"\u001b[39m -> \u001b[32m\"París\"\u001b[39m, \u001b[32m\"España\"\u001b[39m -> \u001b[32m\"Madrid\"\u001b[39m)"
      ]
     },
     "execution_count": 1,
     "metadata": {},
     "output_type": "execute_result"
    }
   ],
   "source": [
    "val capitales = Map(\"Francia\" -> \"París\", \"España\" -> \"Madrid\")"
   ]
  },
  {
   "cell_type": "markdown",
   "id": "eee71896-ce88-4e43-965e-bd3261709d88",
   "metadata": {},
   "source": [
    "- **Acceso a valores**:"
   ]
  },
  {
   "cell_type": "code",
   "execution_count": 2,
   "id": "9de18798-00a9-417e-af53-863188d86471",
   "metadata": {},
   "outputs": [
    {
     "data": {
      "text/plain": [
       "\u001b[36mres2\u001b[39m: \u001b[32mString\u001b[39m = \u001b[32m\"París\"\u001b[39m"
      ]
     },
     "execution_count": 2,
     "metadata": {},
     "output_type": "execute_result"
    }
   ],
   "source": [
    "capitales(\"Francia\")  // Devuelve \"París\""
   ]
  },
  {
   "cell_type": "markdown",
   "id": "41cedea2-e708-427b-bc2d-de62a6e9c372",
   "metadata": {},
   "source": [
    "- **Mapas mutables:**\n",
    "\n",
    "   - Permiten añadir y eliminar elementos:"
   ]
  },
  {
   "cell_type": "code",
   "execution_count": null,
   "id": "f3428773-24f6-4b3f-8572-75d9a9696068",
   "metadata": {},
   "outputs": [],
   "source": [
    "import scala.collection.mutable.Map\n",
    "\n",
    "// Creamos un mapa mutable\n",
    "val numeros = Map(1 -> \"Uno\", 2 -> \"Dos\", 3 -> \"Tres\")\n",
    "\n",
    "// Agregamos un nuevo par clave-valor\n",
    "numeros += (4 -> \"Cuatro\")\n",
    "\n",
    "// Eliminamos la clave 2 del mapa\n",
    "numeros -= 2\n",
    "\n",
    "// Mostramos el mapa actualizado\n",
    "println(numeros)  // Resultado: Map(1 -> \"Uno\", 3 -> \"Tres\", 4 -> \"Cuatro\")"
   ]
  },
  {
   "cell_type": "markdown",
   "id": "857a1743-4846-45ba-ab99-df6687fbe26a",
   "metadata": {},
   "source": [
    "### 5. Colecciones Set\n",
    "\n",
    "- **Definición**: Los conjuntos son colecciones de elementos únicos y no ordenados.\n",
    "\n",
    "- **Creación**:"
   ]
  },
  {
   "cell_type": "code",
   "execution_count": 3,
   "id": "e8f1b5fa-313c-4f0e-a1b4-162928897576",
   "metadata": {},
   "outputs": [
    {
     "data": {
      "text/plain": [
       "\u001b[36mconjuntoNumeros\u001b[39m: \u001b[32mSet\u001b[39m[\u001b[32mInt\u001b[39m] = \u001b[33mHashSet\u001b[39m(\u001b[32m5\u001b[39m, \u001b[32m1\u001b[39m, \u001b[32m2\u001b[39m, \u001b[32m3\u001b[39m, \u001b[32m4\u001b[39m)"
      ]
     },
     "execution_count": 3,
     "metadata": {},
     "output_type": "execute_result"
    }
   ],
   "source": [
    "val conjuntoNumeros = Set(1, 2, 3, 4, 5)"
   ]
  },
  {
   "cell_type": "markdown",
   "id": "64f5c65e-f7c2-41bc-86b8-54666f92f0aa",
   "metadata": {},
   "source": [
    "- **Operaciones:**\n",
    "\n",
    "  - Agregar elementos: conjuntoNumeros + 11\n",
    "\n",
    "  - Eliminar elementos: conjuntoNumeros - 3\n",
    "\n",
    "  - Comprobación de pertenencia: conjuntoNumeros.contains(2)\n",
    "\n",
    "  - Operaciones de conjuntos:\n",
    "\n",
    "    - Unión: conjuntoA.union(conjuntoB)\n",
    "\n",
    "    - Intersección: conjuntoA.intersect(conjuntoB)\n",
    "\n",
    "    - Diferencia: conjuntoA.diff(conjuntoB)\n",
    "\n"
   ]
  },
  {
   "cell_type": "code",
   "execution_count": null,
   "id": "1e7c111e-668f-4cc7-bd98-7abc3bcde062",
   "metadata": {},
   "outputs": [],
   "source": [
    "val conjuntoNumeros = Set(1, 2, 3, 4, 5)\n",
    "\n",
    "// 🔹 Agregar un elemento\n",
    "val nuevoConjunto = conjuntoNumeros + 11  // Set(1, 2, 3, 4, 5, 11)\n",
    "\n",
    "// 🔹 Eliminar un elemento\n",
    "val conjuntoSin3 = conjuntoNumeros - 3  // Set(1, 2, 4, 5)\n",
    "\n",
    "// 🔹 Comprobar si un elemento está en el conjunto\n",
    "val contiene2 = conjuntoNumeros.contains(2)  // true\n",
    "\n",
    "// 🔹 Definir otros conjuntos\n",
    "val conjuntoA = Set(1, 2, 3)\n",
    "val conjuntoB = Set(3, 4, 5)\n",
    "\n",
    "// 🔹 Unión (todos los elementos sin repetir)\n",
    "val union = conjuntoA.union(conjuntoB)  // Set(1, 2, 3, 4, 5)\n",
    "\n",
    "// 🔹 Intersección (elementos en común)\n",
    "val interseccion = conjuntoA.intersect(conjuntoB)  // Set(3)\n",
    "\n",
    "// 🔹 Diferencia (elementos en A pero no en B)\n",
    "val diferencia = conjuntoA.diff(conjuntoB)  // Set(1, 2)\n"
   ]
  },
  {
   "cell_type": "markdown",
   "id": "9639902b-4144-4122-96aa-c7f23c207e51",
   "metadata": {},
   "source": [
    "### 6. Inmutabilidad\n",
    "- **Concepto:** La inmutabilidad se refiere a la característica de los objetos que no pueden ser modificados después de su creación.\n",
    "\n",
    "- **Importanci**\n",
    "\n",
    "  - **Eficiencia**: Reduce la necesidad de copiar datos, optimizando el uso de memoria.\n",
    "\n",
    "  - **Confiabilidad**: Facilita la recuperación de fallos y la tolerancia a errores.\n",
    "\n",
    "  - **Concurrencia**: Elimina problemas de sincronización en entornos paralelos.\n",
    "\n",
    "- **Ejemplo en Apache Spark:** Los RDD (Resilient Distributed Dataset) son conjuntos de datos inmutables que permiten operaciones paralelas eficientes."
   ]
  },
  {
   "cell_type": "markdown",
   "id": "8b61bdaa-b93d-49d7-8d90-0891b89f9879",
   "metadata": {},
   "source": [
    "### 7. Interoperabilidad con Java\n",
    "\n",
    "- Scala es compatible con las colecciones de Java, lo que permite:\n",
    "\n",
    "   - **Reutilización de código:** Usar bibliotecas de Java en Scala.\n",
    "\n",
    "   - **Transición gradual:** Migrar de Java a Scala de manera incremental.\n",
    "\n",
    "   - **Colecciones paralelas:** Mejorar el rendimiento en aplicaciones concurrentes."
   ]
  },
  {
   "cell_type": "markdown",
   "id": "6fd4e8ce-9a11-4535-8e16-bec3d7dd8da1",
   "metadata": {},
   "source": [
    "### 8. Consideraciones de Rendimiento\n",
    "\n",
    "- **Listas:** El acceso por índice no es eficiente (O(n)), ya que las listas son listas enlazadas.\n",
    "\n",
    "- **Vectores:** Son más eficientes para acceso aleatorio y colecciones grandes.\n",
    "\n",
    "- **Buffers:** Ideales para colecciones que cambian de tamaño dinámicamente."
   ]
  },
  {
   "cell_type": "markdown",
   "id": "7ec68f09-0683-47a4-8226-e2c600a0adbb",
   "metadata": {},
   "source": [
    "#### Conclusión\n",
    "\n",
    "Las colecciones en Scala son una herramienta poderosa y versátil para el manejo de datos. Su diseño uniforme, la distinción entre mutabilidad e inmutabilidad, y la interoperabilidad con Java las hacen ideales para una amplia gama de aplicaciones, desde el procesamiento de datos hasta la programación concurrente."
   ]
  },
  {
   "cell_type": "code",
   "execution_count": null,
   "id": "5457d5c3-8ad5-43f4-9a3e-0e7a96fef783",
   "metadata": {},
   "outputs": [],
   "source": []
  }
 ],
 "metadata": {
  "kernelspec": {
   "display_name": "Apache Toree - Scala",
   "language": "scala",
   "name": "apache_toree_scala"
  },
  "language_info": {
   "codemirror_mode": "text/x-scala",
   "file_extension": ".scala",
   "mimetype": "text/x-scala",
   "name": "scala",
   "pygments_lexer": "scala",
   "version": "2.12.15"
  }
 },
 "nbformat": 4,
 "nbformat_minor": 5
}
