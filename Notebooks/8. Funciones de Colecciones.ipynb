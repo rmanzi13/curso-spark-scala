{
 "cells": [
  {
   "cell_type": "markdown",
   "id": "53f44d6d-6b89-478b-bbe1-cb128a738d2a",
   "metadata": {},
   "source": [
    "## Funciones de Colecciones"
   ]
  },
  {
   "cell_type": "markdown",
   "id": "55dfcc7a-c81a-42a1-a379-ffe2b85431a7",
   "metadata": {},
   "source": [
    "#### 1. Introducción a las Funciones de Colecciones\n",
    "- **Definición:** Las colecciones en Scala tienen una API rica que permite realizar operaciones complejas de manera concisa y expresiva. Estas operaciones siguen los principios de la programación funcional y son aplicables a casi todos los tipos de colecciones.\n",
    "\n",
    "- **Objetivo:** Aprender a usar funciones como map, filter, reduce, fold, entre otras, para manipular y transformar colecciones de manera eficiente."
   ]
  },
  {
   "cell_type": "markdown",
   "id": "6b7c559b-8e9a-4db1-8910-3bce06260b3f",
   "metadata": {},
   "source": [
    "### 2. Funciones Principales para Colecciones\n",
    "\n",
    "A continuación, se describen las funciones más importantes y cómo se utilizan:\n",
    "\n",
    "#### **Transformación de Colecciones**\n",
    "- **map:** Aplica una función a cada elemento de la colección y devuelve una nueva colección con los resultados."
   ]
  },
  {
   "cell_type": "code",
   "execution_count": 1,
   "id": "4f42bcec-c273-4ce5-825f-30b152a8c738",
   "metadata": {},
   "outputs": [
    {
     "name": "stdout",
     "output_type": "stream",
     "text": [
      "List(2, 4, 6, 8, 10)\n"
     ]
    },
    {
     "data": {
      "text/plain": [
       "lista = List(1, 2, 3, 4, 5)\n"
      ]
     },
     "metadata": {},
     "output_type": "display_data",
     "source": "user"
    },
    {
     "data": {
      "text/plain": [
       "List(2, 4, 6, 8, 10)"
      ]
     },
     "execution_count": 1,
     "metadata": {},
     "output_type": "execute_result"
    }
   ],
   "source": [
    "val lista = List(1, 2, 3, 4, 5)  // Definir la lista primero\n",
    "val res1 = lista.map(x => x * 2)  // Multiplica cada elemento por 2\n",
    "println(res1)  // Imprime: List(2, 4, 6, 8, 10)                                           "
   ]
  },
  {
   "cell_type": "markdown",
   "id": "c4a6a8fe-0251-47c3-91c7-8e99640766d1",
   "metadata": {},
   "source": [
    "- flatMap: Similar a map, pero aplana el resultado en una sola colección.\n",
    "- Es útil cuando trabajas con listas anidadas o necesitas transformar elementos en múltiples valores"
   ]
  },
  {
   "cell_type": "code",
   "execution_count": 2,
   "id": "3279e956-603c-4337-86f5-dfe81de197af",
   "metadata": {},
   "outputs": [
    {
     "name": "stdout",
     "output_type": "stream",
     "text": [
      "List(1, 2, 2, 4, 3, 6)\n"
     ]
    },
    {
     "data": {
      "text/plain": [
       "lista = List(1, 2, 3)\n",
       "res = List(1, 2, 2, 4, 3, 6)\n"
      ]
     },
     "metadata": {},
     "output_type": "display_data",
     "source": "user"
    },
    {
     "data": {
      "text/plain": [
       "List(1, 2, 2, 4, 3, 6)"
      ]
     },
     "execution_count": 2,
     "metadata": {},
     "output_type": "execute_result"
    }
   ],
   "source": [
    "val lista = List(1, 2, 3)\n",
    "\n",
    "val res = lista.flatMap(x => List(x, x * 2))\n",
    "\n",
    "println(res)  // Imprime: List(1, 2, 2, 4, 3, 6)"
   ]
  },
  {
   "cell_type": "markdown",
   "id": "fa08157f-9726-4c04-981d-f0ec04ee430d",
   "metadata": {},
   "source": [
    "**Eplicación**\n",
    "- map aplicaría x * 2 a cada elemento y devolvería una lista de los resultados.\n",
    "- flatMap permite que cada elemento se expanda en múltiples valores y luego los aplana en una única lista.\n",
    "- En este caso, cada número x se convierte en una lista con dos elementos: [x, x * 2], y luego todas se unen en una sola."
   ]
  },
  {
   "cell_type": "markdown",
   "id": "e983bac9-068a-4a02-b24c-b223f3f34cff",
   "metadata": {},
   "source": [
    "#### **Filtrado de Colecciones**\n",
    "- **filter:** Filtra los elementos de una colección basándose en un predicado (condición)."
   ]
  },
  {
   "cell_type": "code",
   "execution_count": 3,
   "id": "3fb8bf7b-7a1e-4179-b604-08b2d50dbf07",
   "metadata": {},
   "outputs": [
    {
     "name": "stdout",
     "output_type": "stream",
     "text": [
      "List(2, 4, 6)\n"
     ]
    },
    {
     "data": {
      "text/plain": [
       "lista = List(1, 2, 3, 4, 5, 6)\n",
       "pares = List(2, 4, 6)\n"
      ]
     },
     "metadata": {},
     "output_type": "display_data",
     "source": "user"
    },
    {
     "data": {
      "text/plain": [
       "List(2, 4, 6)"
      ]
     },
     "execution_count": 3,
     "metadata": {},
     "output_type": "execute_result"
    }
   ],
   "source": [
    "val lista = List(1, 2, 3, 4, 5, 6)\n",
    "\n",
    "val pares = lista.filter(x => x % 2 == 0)  // Filtra los números pares\n",
    "\n",
    "println(pares)  // Imprime: List(2, 4, 6)\n"
   ]
  },
  {
   "cell_type": "markdown",
   "id": "aab64b7d-8572-485f-9760-47daca324992",
   "metadata": {},
   "source": [
    "**Explicación**\n",
    "- filter recorre la lista y mantiene solo los elementos que cumplen la condición (x % 2 == 0 → números pares).\n",
    "- Retorna una nueva lista, sin modificar la original"
   ]
  },
  {
   "cell_type": "markdown",
   "id": "d0914279-6683-4b79-9acf-e1400a1dcc1e",
   "metadata": {},
   "source": [
    "#### **Reducción de Coleccio**\n",
    "- **a) reduce** Combina todos los elementos de la colección en un solo valor aplicando una función de reducción."
   ]
  },
  {
   "cell_type": "code",
   "execution_count": 4,
   "id": "c1b7f36c-51fd-4633-9092-77278f0eaf6f",
   "metadata": {},
   "outputs": [
    {
     "name": "stdout",
     "output_type": "stream",
     "text": [
      "15\n"
     ]
    },
    {
     "data": {
      "text/plain": [
       "lista = List(1, 2, 3, 4, 5)\n",
       "suma = 15\n"
      ]
     },
     "metadata": {},
     "output_type": "display_data",
     "source": "user"
    },
    {
     "data": {
      "text/plain": [
       "15"
      ]
     },
     "execution_count": 4,
     "metadata": {},
     "output_type": "execute_result"
    }
   ],
   "source": [
    "val lista = List(1, 2, 3, 4, 5)\n",
    "\n",
    "val suma = lista.reduce((a, b) => a + b) // Suma todos los elementos\n",
    "\n",
    "println(suma) // Imprime: 15"
   ]
  },
  {
   "cell_type": "markdown",
   "id": "4aabcdc0-dc6c-4903-bcef-fd87487694eb",
   "metadata": {},
   "source": [
    "**Explicación**\n",
    "- reduce toma dos elementos a la vez y los combina usando la función proporcionada.\n",
    "- En este caso, suma los valores de la lista progresivamente (1 + 2, luego 3 + 3, luego 6 + 4, etc.).\n",
    "- No funciona en listas vacías, ya que necesita al menos un valor inicial. "
   ]
  },
  {
   "cell_type": "markdown",
   "id": "605d8cee-3ddc-4c48-bab4-2211fa04dbe7",
   "metadata": {},
   "source": [
    "- **b) fold:** Similar a reduce, pero permite especificar un valor inicial para la acumulación."
   ]
  },
  {
   "cell_type": "code",
   "execution_count": 5,
   "id": "2c188987-092d-4821-a067-ac5a4db9fbb8",
   "metadata": {},
   "outputs": [
    {
     "name": "stdout",
     "output_type": "stream",
     "text": [
      "15\n"
     ]
    },
    {
     "data": {
      "text/plain": [
       "lista = List(1, 2, 3, 4, 5)\n",
       "suma = 15\n"
      ]
     },
     "metadata": {},
     "output_type": "display_data",
     "source": "user"
    },
    {
     "data": {
      "text/plain": [
       "15"
      ]
     },
     "execution_count": 5,
     "metadata": {},
     "output_type": "execute_result"
    }
   ],
   "source": [
    "val lista = List(1, 2, 3, 4, 5)\n",
    "\n",
    "val suma = lista.fold(0)((acc, x) => acc + x) // Comienza con 0 y suma los elementos\n",
    "\n",
    "println(suma) // Imprime: 15"
   ]
  },
  {
   "cell_type": "markdown",
   "id": "7ad7061e-113e-434e-8c52-2f993beac4cf",
   "metadata": {},
   "source": [
    "**Explicación**\n",
    "- fold toma un valor inicial (0 en este caso) y luego aplica la función de acumulación a cada elemento de la lista.\n",
    "- La función (acc, x) => acc + x va acumulando la suma de los elementos de la lista.\n",
    "- A diferencia de reduce, fold permite un valor inicial, lo que lo hace más flexible, y también puede manejar listas vacías sin error"
   ]
  },
  {
   "cell_type": "markdown",
   "id": "22d2b386-443b-4a5d-b99d-fe019e79627b",
   "metadata": {},
   "source": [
    "#### **Iteración sobre Colecciones**\n",
    "- **foreach:** Aplica una función a cada elemento de la colección, pero no devuelve una nueva colección."
   ]
  },
  {
   "cell_type": "code",
   "execution_count": 6,
   "id": "523e1d2a-4f71-42d9-b431-682b5b359c71",
   "metadata": {},
   "outputs": [
    {
     "name": "stdout",
     "output_type": "stream",
     "text": [
      "1\n",
      "2\n",
      "3\n",
      "4\n",
      "5\n"
     ]
    }
   ],
   "source": [
    "lista.foreach(x => println(x))  // Imprime cada elemento"
   ]
  },
  {
   "cell_type": "markdown",
   "id": "1f576a12-46ac-4c67-a10d-c345225e4b53",
   "metadata": {},
   "source": [
    "#### **Agrupación y Ordenación**\n",
    "- **a) groupBy:** Agrupa los elementos de la colección según una clave dada."
   ]
  },
  {
   "cell_type": "code",
   "execution_count": 7,
   "id": "7dc13e9f-826e-47dd-85e3-ce497e5d4256",
   "metadata": {},
   "outputs": [
    {
     "name": "stdout",
     "output_type": "stream",
     "text": [
      "Map(n -> List(naranja), m -> List(manzana, mandarina), b -> List(banana), p -> List(pera), k -> List(kiwi))\n"
     ]
    },
    {
     "data": {
      "text/plain": [
       "lista = List(manzana, banana, kiwi, naranja, mandarina, pera)\n",
       "agrupadasPorLetra = Map(n -> List(naranja), m -> List(manzana, mandarina), b -> List(banana), p -> List(pera), k -> List(kiwi))\n"
      ]
     },
     "metadata": {},
     "output_type": "display_data",
     "source": "user"
    },
    {
     "data": {
      "text/plain": [
       "Map(n -> List(naranja), m -> List(manzana, mandarina), b -> List(banana), p -> List(pera), k -> List(kiwi))"
      ]
     },
     "execution_count": 7,
     "metadata": {},
     "output_type": "execute_result"
    }
   ],
   "source": [
    "val lista = List(\"manzana\", \"banana\", \"kiwi\", \"naranja\", \"mandarina\", \"pera\")\n",
    "\n",
    "// Agrupa las frutas por la primera letra\n",
    "val agrupadasPorLetra = lista.groupBy(f => f.head)\n",
    "\n",
    "println(agrupadasPorLetra)"
   ]
  },
  {
   "cell_type": "markdown",
   "id": "dc00b90f-6316-41a0-9351-8440e23ab841",
   "metadata": {},
   "source": [
    "**Explicación**\n",
    "\n",
    "- groupBy toma una función que define cómo agrupar los elementos de la lista (en este caso, por la primera letra de cada palabra).\n",
    "- La salida es un mapa donde la clave es el valor de la agrupación (la primera letra), y el valor es una lista con los elementos que pertenecen a esa agrupación.\n",
    "- Este método es útil para categorizar o agrupar datos dentro de colecciones. "
   ]
  },
  {
   "cell_type": "markdown",
   "id": "dd5f0d0e-9b08-4a9d-b1c8-68c76e98a5a6",
   "metadata": {},
   "source": [
    "- **b) sorted:** Ordena los elementos de la colección."
   ]
  },
  {
   "cell_type": "code",
   "execution_count": 8,
   "id": "908ac62c-808b-4e31-a32f-5da98d232d73",
   "metadata": {},
   "outputs": [
    {
     "name": "stdout",
     "output_type": "stream",
     "text": [
      "List(1, 2, 3, 5, 8)\n"
     ]
    },
    {
     "data": {
      "text/plain": [
       "lista = List(5, 2, 8, 1, 3)\n",
       "listaOrdenada = List(1, 2, 3, 5, 8)\n"
      ]
     },
     "metadata": {},
     "output_type": "display_data",
     "source": "user"
    },
    {
     "data": {
      "text/plain": [
       "List(1, 2, 3, 5, 8)"
      ]
     },
     "execution_count": 8,
     "metadata": {},
     "output_type": "execute_result"
    }
   ],
   "source": [
    "val lista = List(5, 2, 8, 1, 3)\n",
    "\n",
    "// Ordena la lista de menor a mayor\n",
    "val listaOrdenada = lista.sorted\n",
    "\n",
    "println(listaOrdenada) // Imprime: List(1, 2, 3, 5, 8)"
   ]
  },
  {
   "cell_type": "markdown",
   "id": "115feaff-4277-4d4d-9122-552e43473314",
   "metadata": {},
   "source": [
    " **Explicación**\n",
    "\n",
    "- sorted ordena los elementos de la lista de acuerdo con su orden natural (en este caso, de menor a mayor para los números).\n",
    "- Devuelve una nueva lista ordenada sin modificar la original."
   ]
  },
  {
   "cell_type": "markdown",
   "id": "62324e54-0923-4ac5-b198-8c3edca928b2",
   "metadata": {},
   "source": [
    "#### **Eliminación de Duplicados**\n",
    "- **distinct**: Elimina los elementos duplicados de una colección."
   ]
  },
  {
   "cell_type": "code",
   "execution_count": 9,
   "id": "6c1f170a-f8cd-4f6c-887c-5956a2458869",
   "metadata": {},
   "outputs": [
    {
     "name": "stdout",
     "output_type": "stream",
     "text": [
      "List(1, 2, 3, 4, 5)\n"
     ]
    },
    {
     "data": {
      "text/plain": [
       "lista = List(1, 2, 3, 2, 4, 1, 5)\n",
       "listaSinDuplicados = List(1, 2, 3, 4, 5)\n"
      ]
     },
     "metadata": {},
     "output_type": "display_data",
     "source": "user"
    },
    {
     "data": {
      "text/plain": [
       "List(1, 2, 3, 4, 5)"
      ]
     },
     "execution_count": 9,
     "metadata": {},
     "output_type": "execute_result"
    }
   ],
   "source": [
    "val lista = List(1, 2, 3, 2, 4, 1, 5)\n",
    "\n",
    "// Elimina los elementos duplicados\n",
    "val listaSinDuplicados = lista.distinct\n",
    "\n",
    "println(listaSinDuplicados) // Imprime: List(1, 2, 3, 4, 5)"
   ]
  },
  {
   "cell_type": "markdown",
   "id": "23cb27f0-f67e-4199-99c1-b1643a93e0ef",
   "metadata": {},
   "source": [
    " **Explicación**\n",
    "\n",
    "- distinct elimina los elementos duplicados de la colección.\n",
    "- Devuelve una nueva lista con solo los elementos únicos, manteniendo el primer valor que aparece en la lista original."
   ]
  },
  {
   "cell_type": "markdown",
   "id": "b1dcaca6-7b9e-4cf6-b0e3-fd5a072f55db",
   "metadata": {},
   "source": [
    "#### **Combinación de Colecciones**\n",
    "- **a) zip:** Combina dos colecciones en una colección de pares (tuplas).\n",
    "- Si las colecciones tienen diferentes longitudes, el resultado se ajustará a la longitud de la colección más corta."
   ]
  },
  {
   "cell_type": "code",
   "execution_count": 10,
   "id": "ab1744fa-4cfe-4521-b6f5-da3bab00746d",
   "metadata": {},
   "outputs": [
    {
     "name": "stdout",
     "output_type": "stream",
     "text": [
      "List((1,a), (2,b), (3,c))\n"
     ]
    },
    {
     "data": {
      "text/plain": [
       "lista1 = List(1, 2, 3)\n",
       "lista2 = List(a, b, c)\n",
       "listaCombinada = List((1,a), (2,b), (3,c))\n"
      ]
     },
     "metadata": {},
     "output_type": "display_data",
     "source": "user"
    },
    {
     "data": {
      "text/plain": [
       "List((1,a), (2,b), (3,c))"
      ]
     },
     "execution_count": 10,
     "metadata": {},
     "output_type": "execute_result"
    }
   ],
   "source": [
    "val lista1 = List(1, 2, 3)\n",
    "val lista2 = List(\"a\", \"b\", \"c\")\n",
    "\n",
    "// Combina las dos listas en una lista de tuplas\n",
    "val listaCombinada = lista1.zip(lista2)\n",
    "\n",
    "println(listaCombinada) // Imprime: List((1, \"a\"), (2, \"b\"), (3, \"c\"))"
   ]
  },
  {
   "cell_type": "markdown",
   "id": "d7022af8-e84e-4dbb-aef7-9f5bf21390a0",
   "metadata": {},
   "source": [
    " **Explicación breve**\n",
    "\n",
    "- zip combina cada elemento de lista1 con el correspondiente de lista2, creando tuplas.\n",
    "- En el ejemplo anterior, (1, \"a\"), (2, \"b\"), (3, \"c\") son las tuplas resultantes."
   ]
  },
  {
   "cell_type": "markdown",
   "id": "8923f335-6193-4f76-96a8-eb4a65612db8",
   "metadata": {},
   "source": [
    "- **b) zip** cuando las listas tienen diferentes longitudes:"
   ]
  },
  {
   "cell_type": "code",
   "execution_count": 11,
   "id": "4ab4c28b-b1fd-48fa-9ddb-6a211fa54317",
   "metadata": {},
   "outputs": [
    {
     "name": "stdout",
     "output_type": "stream",
     "text": [
      "List((1,a), (2,b))\n"
     ]
    },
    {
     "data": {
      "text/plain": [
       "lista1 = List(1, 2, 3)\n",
       "lista2 = List(a, b)\n",
       "listaCombinada = List((1,a), (2,b))\n"
      ]
     },
     "metadata": {},
     "output_type": "display_data",
     "source": "user"
    },
    {
     "data": {
      "text/plain": [
       "List((1,a), (2,b))"
      ]
     },
     "execution_count": 11,
     "metadata": {},
     "output_type": "execute_result"
    }
   ],
   "source": [
    "val lista1 = List(1, 2, 3)\n",
    "val lista2 = List(\"a\", \"b\")\n",
    "\n",
    "// Combina las dos listas, pero solo hasta el tamaño de la lista más corta\n",
    "val listaCombinada = lista1.zip(lista2)\n",
    "\n",
    "println(listaCombinada) // Imprime: List((1, \"a\"), (2, \"b\"))"
   ]
  },
  {
   "cell_type": "markdown",
   "id": "651f4992-6f5a-46d3-809a-ab4fb909456a",
   "metadata": {},
   "source": [
    "- Si las listas tienen diferentes longitudes, el método zip tomará solo hasta el tamaño de la lista más corta, ignorando los elementos sobrantes de la lista más larga."
   ]
  },
  {
   "cell_type": "markdown",
   "id": "fdcd0fe5-dc88-4b13-91eb-653513b92c6e",
   "metadata": {},
   "source": [
    "#### **Usos comunes:**\n",
    "\n",
    "- **Combinación de datos:** Ideal para combinar dos listas relacionadas, como pares de claves y valores.\n",
    "- **Paralelización:** Puedes usarlo para procesar dos colecciones en paralelo.\n",
    " \n",
    "**Ejemplo con tuplas y operaciones:**"
   ]
  },
  {
   "cell_type": "code",
   "execution_count": 12,
   "id": "3f70bb60-d379-4f69-bb35-25b2b27310eb",
   "metadata": {},
   "outputs": [
    {
     "name": "stdout",
     "output_type": "stream",
     "text": [
      "List(1-a, 2-b, 3-c)\n"
     ]
    },
    {
     "data": {
      "text/plain": [
       "listaNumeros = List(1, 2, 3)\n",
       "listaLetras = List(a, b, c)\n",
       "combinados = List(1-a, 2-b, 3-c)\n"
      ]
     },
     "metadata": {},
     "output_type": "display_data",
     "source": "user"
    },
    {
     "data": {
      "text/plain": [
       "List(1-a, 2-b, 3-c)"
      ]
     },
     "execution_count": 12,
     "metadata": {},
     "output_type": "execute_result"
    }
   ],
   "source": [
    "val listaNumeros = List(1, 2, 3)\n",
    "val listaLetras = List(\"a\", \"b\", \"c\")\n",
    "\n",
    "val combinados = listaNumeros.zip(listaLetras).map {\n",
    "  case (numero, letra) => s\"$numero-$letra\"\n",
    "}\n",
    "\n",
    "println(combinados) // Imprime: List(1-a, 2-b, 3-c)"
   ]
  },
  {
   "cell_type": "markdown",
   "id": "54f57d5b-f2dc-4fa9-9249-90205bc46d27",
   "metadata": {},
   "source": [
    "- Aquí, zip combina las dos listas y luego map transforma las tuplas en cadenas formateadas."
   ]
  },
  {
   "cell_type": "markdown",
   "id": "d46b7af1-37bc-4c76-bd0f-cbbe5ef573b1",
   "metadata": {},
   "source": [
    "#### **División de Colecciones**\n",
    "- **partition:** Divide la colección en dos partes basándose en una condición.\n",
    "-  La función recibe una predicción (una función que devuelve un Boolean) y devuelve una tupla de dos colecciones: una que contiene los elementos que cumplen la condición, y otra que contiene los elementos que no la cumplen."
   ]
  },
  {
   "cell_type": "code",
   "execution_count": 13,
   "id": "530a0f1b-e1fd-4a48-8d95-239f1fee457e",
   "metadata": {},
   "outputs": [
    {
     "name": "stdout",
     "output_type": "stream",
     "text": [
      "List(2, 4, 6)\n",
      "List(1, 3, 5)\n"
     ]
    },
    {
     "data": {
      "text/plain": [
       "lista = List(1, 2, 3, 4, 5, 6)\n",
       "pares = List(2, 4, 6)\n",
       "impares = List(1, 3, 5)\n"
      ]
     },
     "metadata": {},
     "output_type": "display_data",
     "source": "user"
    },
    {
     "data": {
      "text/plain": [
       "List(1, 3, 5)"
      ]
     },
     "execution_count": 13,
     "metadata": {},
     "output_type": "execute_result"
    }
   ],
   "source": [
    "val lista = List(1, 2, 3, 4, 5, 6)\n",
    "\n",
    "val (pares, impares) = lista.partition(x => x % 2 == 0)\n",
    "\n",
    "println(pares)    // Imprime: List(2, 4, 6)\n",
    "println(impares)  // Imprime: List(1, 3, 5)"
   ]
  },
  {
   "cell_type": "markdown",
   "id": "cfe09786-7623-4328-95bc-1c1a61a6967a",
   "metadata": {},
   "source": [
    "**Explicación:**\n",
    "\n",
    "- partition(x => x % 2 == 0) divide la lista en dos partes:\n",
    "   - Los números que son pares (List(2, 4, 6)).\n",
    "   - Los números que son impares (List(1, 3, 5)).\n",
    "- La función devuelve una tupla con dos listas: la primera lista contiene los elementos que cumplen la condición (pares), y la segunda lista contiene los que no la cumplen (impares)."
   ]
  },
  {
   "cell_type": "markdown",
   "id": "142fbfa2-5c43-4688-923d-cf7f8b14e955",
   "metadata": {},
   "source": [
    "- **Ejemplo con colecciones de cadenas:**"
   ]
  },
  {
   "cell_type": "code",
   "execution_count": 14,
   "id": "eb71b344-a57a-433e-88b9-129b9649fe30",
   "metadata": {},
   "outputs": [
    {
     "name": "stdout",
     "output_type": "stream",
     "text": [
      "List(manzana, banana, pera, uva)\n",
      "List(kiwi)\n"
     ]
    },
    {
     "data": {
      "text/plain": [
       "palabras = List(manzana, banana, pera, kiwi, uva)\n",
       "frutasConA = List(manzana, banana, pera, uva)\n",
       "frutasSinA = List(kiwi)\n"
      ]
     },
     "metadata": {},
     "output_type": "display_data",
     "source": "user"
    },
    {
     "data": {
      "text/plain": [
       "List(kiwi)"
      ]
     },
     "execution_count": 14,
     "metadata": {},
     "output_type": "execute_result"
    }
   ],
   "source": [
    "val palabras = List(\"manzana\", \"banana\", \"pera\", \"kiwi\", \"uva\")\n",
    "\n",
    "val (frutasConA, frutasSinA) = palabras.partition(_.contains(\"a\"))\n",
    "\n",
    "println(frutasConA)    // Imprime: List(manzana, banana, pera, uva)\n",
    "println(frutasSinA)    // Imprime: List(kiwi)\n"
   ]
  },
  {
   "cell_type": "markdown",
   "id": "9f05e182-ecee-48ae-9bf6-180b03e45cee",
   "metadata": {},
   "source": [
    "**Explicación**\n",
    "\n",
    "- **partition(_.contains(\"a\")) separa las palabras en dos grupos:**\n",
    "  - frutasConA: Las que contienen la letra \"a\".\n",
    "  - frutasSinA: Las que no contienen la letra \"a\".\n",
    "    \n",
    "- **Resultados esperados:**\n",
    "\n",
    "  - Las palabras con \"a\" son: manzana, banana, pera, uva.\n",
    "  - La palabra sin \"a\" es: kiwi."
   ]
  },
  {
   "cell_type": "markdown",
   "id": "9990ea37-d74d-49d7-92c2-c809f13989eb",
   "metadata": {},
   "source": [
    "#### **Acceso a Elementos**\n",
    "- **a) take:** Devuelve los primeros n elementos de la colección.\n",
    "- El método take en Scala se utiliza para tomar los primeros n elementos de una colección. Si la colección tiene menos elementos de los que se quieren tomar, devuelve todos los elementos disponibles."
   ]
  },
  {
   "cell_type": "code",
   "execution_count": 15,
   "id": "6a1d6467-69de-425a-823f-ac9af2717dcb",
   "metadata": {},
   "outputs": [
    {
     "name": "stdout",
     "output_type": "stream",
     "text": [
      "List(1, 2, 3)\n"
     ]
    },
    {
     "data": {
      "text/plain": [
       "lista = List(1, 2, 3, 4, 5)\n",
       "primerosTres = List(1, 2, 3)\n"
      ]
     },
     "metadata": {},
     "output_type": "display_data",
     "source": "user"
    },
    {
     "data": {
      "text/plain": [
       "List(1, 2, 3)"
      ]
     },
     "execution_count": 15,
     "metadata": {},
     "output_type": "execute_result"
    }
   ],
   "source": [
    "val lista = List(1, 2, 3, 4, 5)\n",
    "\n",
    "val primerosTres = lista.take(3)\n",
    "\n",
    "println(primerosTres) // Imprime: List(1, 2, 3)"
   ]
  },
  {
   "cell_type": "markdown",
   "id": "c5f71ef1-0be6-411f-8def-0603c8fdcb9b",
   "metadata": {},
   "source": [
    "**Explicación:**\n",
    "\n",
    "- take(3) toma los primeros 3 elementos de la lista.\n",
    "- Si en lugar de 3 pusiéramos un número mayor al tamaño de la lista, como take(10), simplemente devolvería la lista completa."
   ]
  },
  {
   "cell_type": "markdown",
   "id": "5ec54711-bd70-42aa-b530-c5b943d9952d",
   "metadata": {},
   "source": [
    "- **b) drop:** Elimina los primeros n elementos y devuelve el resto\n",
    "- El método drop en Scala se utiliza para eliminar los primeros n elementos de una colección y devolver el resto de los elementos. Si la colección tiene menos de n elementos, devuelve una colección vacía.."
   ]
  },
  {
   "cell_type": "code",
   "execution_count": 16,
   "id": "9417ab62-5f67-4fe0-b17e-ced9baf37e39",
   "metadata": {},
   "outputs": [
    {
     "name": "stdout",
     "output_type": "stream",
     "text": [
      "List(3, 4, 5)\n"
     ]
    },
    {
     "data": {
      "text/plain": [
       "lista = List(1, 2, 3, 4, 5)\n",
       "restantes = List(3, 4, 5)\n"
      ]
     },
     "metadata": {},
     "output_type": "display_data",
     "source": "user"
    },
    {
     "data": {
      "text/plain": [
       "List(3, 4, 5)"
      ]
     },
     "execution_count": 16,
     "metadata": {},
     "output_type": "execute_result"
    }
   ],
   "source": [
    "val lista = List(1, 2, 3, 4, 5)\n",
    "\n",
    "val restantes = lista.drop(2)\n",
    "\n",
    "println(restantes) // Imprime: List(3, 4, 5)"
   ]
  },
  {
   "cell_type": "markdown",
   "id": "0854ee42-49f2-4c3d-8ee2-4488d93a78e9",
   "metadata": {},
   "source": [
    "**Explicación**\n",
    "\n",
    "- drop(2) elimina los primeros 2 elementos de la lista y devuelve una nueva lista con los elementos restantes: [3, 4, 5].\n",
    "- Si en lugar de 2 usamos un número mayor, como drop(10), devolvería una lista vacía porque no quedan suficientes elementos en la colección"
   ]
  },
  {
   "cell_type": "markdown",
   "id": "02c32034-703e-4661-b141-0c34e0724d97",
   "metadata": {},
   "source": [
    "- **c) slice:** Devuelve una subcolección entre dos índices.\n",
    "- El método slice en Scala se utiliza para obtener un subgrupo de elementos de una colección, tomando los elementos de un rango específico de índices.\n",
    "- Toma dos argumentos: el índice de inicio y el índice de fin, y devuelve una nueva colección con los elementos en ese rango (el índice final es exclusivo).\n",
    "\n",
    "**Sintaxis**"
   ]
  },
  {
   "cell_type": "code",
   "execution_count": null,
   "id": "757ea3b9-d819-4175-8c0c-ef55008b9bac",
   "metadata": {},
   "outputs": [],
   "source": [
    "val sublista = lista.slice(inicio, fin)"
   ]
  },
  {
   "cell_type": "markdown",
   "id": "d5ad16fe-28a3-4ea3-827a-ea8165c85d60",
   "metadata": {},
   "source": [
    "- **inicio:** El índice donde comienza el subgrupo (incluido).\n",
    "- **fin:** El índice donde termina el subgrupo (exclusivo).\n",
    "\n",
    "**Ejemplo:**"
   ]
  },
  {
   "cell_type": "code",
   "execution_count": 17,
   "id": "46900c5f-b243-4a48-a414-a8e2f5f848c1",
   "metadata": {},
   "outputs": [
    {
     "name": "stdout",
     "output_type": "stream",
     "text": [
      "List(3, 4, 5)\n"
     ]
    },
    {
     "data": {
      "text/plain": [
       "lista = List(1, 2, 3, 4, 5, 6)\n",
       "sublista = List(3, 4, 5)\n"
      ]
     },
     "metadata": {},
     "output_type": "display_data",
     "source": "user"
    },
    {
     "data": {
      "text/plain": [
       "List(3, 4, 5)"
      ]
     },
     "execution_count": 17,
     "metadata": {},
     "output_type": "execute_result"
    }
   ],
   "source": [
    "val lista = List(1, 2, 3, 4, 5, 6)\n",
    "\n",
    "val sublista = lista.slice(2, 5)\n",
    "\n",
    "println(sublista)  // Imprime: List(3, 4, 5)"
   ]
  },
  {
   "cell_type": "markdown",
   "id": "e95fc09e-1df7-4f1b-8396-a428f8156f9b",
   "metadata": {},
   "source": [
    "**Explicación**\n",
    "\n",
    "- slice(2, 5) toma los elementos de la lista desde el índice 2 (incluido) hasta el índice 5 (exclusivo).\n",
    "- En este caso, los elementos en las posiciones 2, 3 y 4 (es decir, 3, 4, 5) son seleccionados.\n",
    "\n",
    "**Ejemplo con Strings:**"
   ]
  },
  {
   "cell_type": "code",
   "execution_count": 18,
   "id": "4a10d07a-affd-42be-9665-99c5c7d665a2",
   "metadata": {},
   "outputs": [
    {
     "name": "stdout",
     "output_type": "stream",
     "text": [
      "List(banana, pera, uva)\n"
     ]
    },
    {
     "data": {
      "text/plain": [
       "palabras = List(manzana, banana, pera, uva, kiwi)\n",
       "subgrupo = List(banana, pera, uva)\n"
      ]
     },
     "metadata": {},
     "output_type": "display_data",
     "source": "user"
    },
    {
     "data": {
      "text/plain": [
       "List(banana, pera, uva)"
      ]
     },
     "execution_count": 18,
     "metadata": {},
     "output_type": "execute_result"
    }
   ],
   "source": [
    "val palabras = List(\"manzana\", \"banana\", \"pera\", \"uva\", \"kiwi\")\n",
    "\n",
    "val subgrupo = palabras.slice(1, 4)\n",
    "\n",
    "println(subgrupo)  // Imprime: List(banana, pera, uva)"
   ]
  },
  {
   "cell_type": "markdown",
   "id": "7c8986c5-40a6-4cd5-a482-cf54d1889cca",
   "metadata": {},
   "source": [
    "#### **Operaciones de Verificación**\n",
    "\n",
    "- **1. exists** Verifica si al menos un elemento cumple con un predicado.\n",
    "- El método exists en Scala se utiliza para verificar si al menos un elemento de una colección cumple con una condición especificada.\n",
    "- Devuelve un valor booleano: true si al menos un elemento satisface la condición, y false si ninguno lo hace.\n",
    "\n",
    "**Sintaxis:**"
   ]
  },
  {
   "cell_type": "code",
   "execution_count": null,
   "id": "6af90a18-04ec-4843-a101-36fb4c439930",
   "metadata": {},
   "outputs": [],
   "source": [
    "val resultado = lista.exists(condición)"
   ]
  },
  {
   "cell_type": "code",
   "execution_count": 19,
   "id": "9a1ff548-d8f0-4a52-b955-0b6195a74ee2",
   "metadata": {},
   "outputs": [
    {
     "name": "stdout",
     "output_type": "stream",
     "text": [
      "true\n"
     ]
    },
    {
     "data": {
      "text/plain": [
       "lista = List(1, 2, 3, 4, 5)\n",
       "existePar = true\n"
      ]
     },
     "metadata": {},
     "output_type": "display_data",
     "source": "user"
    },
    {
     "data": {
      "text/plain": [
       "true"
      ]
     },
     "execution_count": 19,
     "metadata": {},
     "output_type": "execute_result"
    }
   ],
   "source": [
    "val lista = List(1, 2, 3, 4, 5)\n",
    "\n",
    "val existePar = lista.exists(x => x % 2 == 0)\n",
    "\n",
    "println(existePar)  // Imprime: true"
   ]
  },
  {
   "cell_type": "markdown",
   "id": "5f176228-1e50-4a4c-b5cd-70545ce7b588",
   "metadata": {},
   "source": [
    "**Explicación**\n",
    "\n",
    "- En este ejemplo, exists(x => x % 2 == 0) verifica si existe al menos un número par en la lista. Como 2 y 4 son pares, el resultado será true."
   ]
  },
  {
   "cell_type": "code",
   "execution_count": 20,
   "id": "ee2f4336-9918-49fd-899b-d0a95e78e6cf",
   "metadata": {},
   "outputs": [
    {
     "name": "stdout",
     "output_type": "stream",
     "text": [
      "true\n"
     ]
    },
    {
     "data": {
      "text/plain": [
       "palabras = List(manzana, banana, pera, uva)\n",
       "contieneB = true\n"
      ]
     },
     "metadata": {},
     "output_type": "display_data",
     "source": "user"
    },
    {
     "data": {
      "text/plain": [
       "true"
      ]
     },
     "execution_count": 20,
     "metadata": {},
     "output_type": "execute_result"
    }
   ],
   "source": [
    "val palabras = List(\"manzana\", \"banana\", \"pera\", \"uva\")\n",
    "\n",
    "val contieneB = palabras.exists(_.startsWith(\"b\"))\n",
    "\n",
    "println(contieneB)  // Imprime: true"
   ]
  },
  {
   "cell_type": "markdown",
   "id": "76cf6388-d254-4835-80d1-0e6056b401ae",
   "metadata": {},
   "source": [
    "**Explicación**\n",
    "\n",
    "- exists(_.startsWith(\"b\")) verifica si alguna palabra en la lista empieza con la letra \"b\". Como banana comienza con \"b\", el resultado será true."
   ]
  },
  {
   "cell_type": "markdown",
   "id": "fc0c5093-c178-4712-82dd-8c9f93efa44a",
   "metadata": {},
   "source": [
    "#### **Características importantes de exists:**\n",
    "\n",
    "- **Eficiencia:** exists detiene la iteración tan pronto como encuentra un elemento que cumple con la condición. Esto puede hacerla más eficiente que aplicar otras operaciones que recorrerían toda la colección.\n",
    "- **Colecciones vacías:** Si la colección está vacía, exists devolverá false automáticamente."
   ]
  },
  {
   "cell_type": "markdown",
   "id": "cd607b27-e327-4d03-82da-0e25e8158de9",
   "metadata": {},
   "source": [
    "- **2. forall:** Verifica si todos los elementos cumplen con un predicado.\n",
    "- El método forall en Scala se utiliza para verificar si todos los elementos de una colección cumplen con una condición especificada\n",
    "-  Devuelve un valor booleano: true si todos los elementos cumplen con la condición, y false si al menos uno no la cumple.\n",
    "\n",
    "**Sintaxis:**"
   ]
  },
  {
   "cell_type": "code",
   "execution_count": null,
   "id": "ff562ea6-7ef7-419a-9fe1-6ec885a4bee4",
   "metadata": {},
   "outputs": [],
   "source": [
    "val resultado = lista.forall(condición)"
   ]
  },
  {
   "cell_type": "code",
   "execution_count": 21,
   "id": "ecbad347-697d-47a7-952e-67d97805c8ab",
   "metadata": {},
   "outputs": [
    {
     "name": "stdout",
     "output_type": "stream",
     "text": [
      "true\n"
     ]
    },
    {
     "data": {
      "text/plain": [
       "lista = List(2, 4, 6, 8)\n",
       "todosPares = true\n"
      ]
     },
     "metadata": {},
     "output_type": "display_data",
     "source": "user"
    },
    {
     "data": {
      "text/plain": [
       "true"
      ]
     },
     "execution_count": 21,
     "metadata": {},
     "output_type": "execute_result"
    }
   ],
   "source": [
    "val lista = List(2, 4, 6, 8)\n",
    "\n",
    "val todosPares = lista.forall(x => x % 2 == 0)\n",
    "\n",
    "println(todosPares)  // Imprime: true"
   ]
  },
  {
   "cell_type": "markdown",
   "id": "d5972717-6d01-4a73-9835-1b2a73c87dfa",
   "metadata": {},
   "source": [
    "**Explicación**\n",
    "\n",
    "- En este ejemplo, forall(x => x % 2 == 0) verifica si todos los elementos de la lista son números pares. Como todos los números en la lista son pares, el resultado será true."
   ]
  },
  {
   "cell_type": "code",
   "execution_count": 22,
   "id": "1cb05c06-3107-4791-b9da-31e8afe841c1",
   "metadata": {},
   "outputs": [
    {
     "name": "stdout",
     "output_type": "stream",
     "text": [
      "false\n"
     ]
    },
    {
     "data": {
      "text/plain": [
       "palabras = List(manzana, banana, pera, uva)\n",
       "todasEmpiezanConM = false\n"
      ]
     },
     "metadata": {},
     "output_type": "display_data",
     "source": "user"
    },
    {
     "data": {
      "text/plain": [
       "false"
      ]
     },
     "execution_count": 22,
     "metadata": {},
     "output_type": "execute_result"
    }
   ],
   "source": [
    "val palabras = List(\"manzana\", \"banana\", \"pera\", \"uva\")\n",
    "\n",
    "val todasEmpiezanConM = palabras.forall(_.startsWith(\"m\"))\n",
    "\n",
    "println(todasEmpiezanConM)  // Imprime: false"
   ]
  },
  {
   "cell_type": "markdown",
   "id": "b37abc20-956b-4350-8446-b5a4b3c208fb",
   "metadata": {},
   "source": [
    "**Explicación**\n",
    "\n",
    "- forall(_.startsWith(\"m\")) verifica si todas las palabras en la lista comienzan con la letra \"m\". Como no todas las palabras en la lista empiezan con \"m\" (por ejemplo, \"banana\" y \"pera\" no lo hacen), el resultado será false."
   ]
  },
  {
   "cell_type": "markdown",
   "id": "587c7a98-6989-4891-bfd3-34400517674d",
   "metadata": {},
   "source": [
    "#### **Características importantes de forall:**\n",
    "\n",
    "- **Eficiencia:** Al igual que exists, forall detiene la iteración tan pronto como encuentra un elemento que no cumple con la condición.\n",
    "- **Colecciones vacías:** Si la colección está vacía, forall devuelve true por convención, ya que no se encuentra ningún elemento que viole la condición."
   ]
  },
  {
   "cell_type": "code",
   "execution_count": 23,
   "id": "bdef939d-1ee3-42c5-b1db-8371b8792019",
   "metadata": {},
   "outputs": [
    {
     "name": "stdout",
     "output_type": "stream",
     "text": [
      "true\n"
     ]
    },
    {
     "data": {
      "text/plain": [
       "listaVacia = List()\n",
       "todosPositivos = true\n"
      ]
     },
     "metadata": {},
     "output_type": "display_data",
     "source": "user"
    },
    {
     "data": {
      "text/plain": [
       "true"
      ]
     },
     "execution_count": 23,
     "metadata": {},
     "output_type": "execute_result"
    }
   ],
   "source": [
    "val listaVacia: List[Int] = List()\n",
    "\n",
    "val todosPositivos = listaVacia.forall(_ > 0)\n",
    "\n",
    "println(todosPositivos)  // Imprime: true"
   ]
  },
  {
   "cell_type": "markdown",
   "id": "6ac2eac3-eb3c-4157-b1b3-88c496a52a2a",
   "metadata": {},
   "source": [
    "**Explicación**\n",
    "\n",
    "- Especificando List[Int], le estás diciendo a Scala que la lista es de tipo Int, lo que le permite aplicar la condición _ > 0 sin problemas.\n",
    "- Como la lista está vacía, el resultado de forall será true por convención."
   ]
  },
  {
   "cell_type": "markdown",
   "id": "7dd86c84-e9df-4128-a747-0b9bf9ba0dfb",
   "metadata": {},
   "source": [
    "- **3. count:** Cuenta cuántos elementos cumplen con un predicado.\n",
    "- El método count en Scala se utiliza para contar cuántos elementos de una colección cumplen con una condición especificada.\n",
    "- Devuelve el número de elementos que cumplen con la condición en lugar de un valor booleano como forall o exists."
   ]
  },
  {
   "cell_type": "code",
   "execution_count": 24,
   "id": "19d01d2e-5fc7-4e84-b401-5ef6148a224c",
   "metadata": {},
   "outputs": [
    {
     "name": "stdout",
     "output_type": "stream",
     "text": [
      "4\n"
     ]
    },
    {
     "data": {
      "text/plain": [
       "lista = List(1, 2, 3, 4, 5, 6, 7, 8, 9)\n",
       "cantidadPares = 4\n"
      ]
     },
     "metadata": {},
     "output_type": "display_data",
     "source": "user"
    },
    {
     "data": {
      "text/plain": [
       "4"
      ]
     },
     "execution_count": 24,
     "metadata": {},
     "output_type": "execute_result"
    }
   ],
   "source": [
    "val lista = List(1, 2, 3, 4, 5, 6, 7, 8, 9)\n",
    "\n",
    "val cantidadPares = lista.count(x => x % 2 == 0)\n",
    "\n",
    "println(cantidadPares)  // Imprime: 4"
   ]
  },
  {
   "cell_type": "markdown",
   "id": "29ce66d3-2d34-4bc5-a02f-90163d448279",
   "metadata": {},
   "source": [
    "**Explicación**\n",
    "\n",
    "- count recorre la lista y cuenta cuántos elementos cumplen con la condición especificada, en este caso, los números pares.\n",
    "- La condición se define con el predicado x => x % 2 == 0, que devuelve true para los números pares.\n",
    "- El resultado será 4 porque hay cuatro números pares en la lista (2, 4, 6, 8).\n",
    "\n",
    "**Uso de count con una lista vacía:**"
   ]
  },
  {
   "cell_type": "code",
   "execution_count": 25,
   "id": "b2bc2456-9c36-4919-82a4-5f7688511be0",
   "metadata": {},
   "outputs": [
    {
     "name": "stdout",
     "output_type": "stream",
     "text": [
      "0\n"
     ]
    },
    {
     "data": {
      "text/plain": [
       "listaVacia = List()\n",
       "cantidadPositivos = 0\n"
      ]
     },
     "metadata": {},
     "output_type": "display_data",
     "source": "user"
    },
    {
     "data": {
      "text/plain": [
       "0"
      ]
     },
     "execution_count": 25,
     "metadata": {},
     "output_type": "execute_result"
    }
   ],
   "source": [
    "val listaVacia: List[Int] = List()\n",
    "\n",
    "val cantidadPositivos = listaVacia.count(_ > 0)\n",
    "\n",
    "println(cantidadPositivos)  // Imprime: 0"
   ]
  },
  {
   "cell_type": "markdown",
   "id": "6e33b729-ed4d-4596-a892-22773c42da18",
   "metadata": {},
   "source": [
    "**Explicación**\n",
    "- Al especificar el tipo List[Int], Scala sabe que la lista debe contener elementos de tipo Int y puede aplicar la condición _ > 0 correctamente.\n",
    "- Cuando la lista está vacía, count devuelve 0 porque no hay elementos que cumplan la condición."
   ]
  },
  {
   "cell_type": "markdown",
   "id": "7733837e-c7e1-40ae-baa5-579f1aef2b00",
   "metadata": {},
   "source": [
    "#### **Búsqueda de Elementos**\n",
    "\n",
    "- **find:** Devuelve el primer elemento que cumple con un predicado.\n",
    "- El método find en Scala se usa para encontrar el primer elemento que cumpla con una condición dada\n",
    "- Devuelve un Option que puede ser Some(valor) si se encuentra un elemento que cumple la condición o None si no se encuentra."
   ]
  },
  {
   "cell_type": "code",
   "execution_count": 26,
   "id": "1c309a14-e0f9-4c0b-ac6f-cc9d2c27ae19",
   "metadata": {},
   "outputs": [
    {
     "name": "stdout",
     "output_type": "stream",
     "text": [
      "Some(4)\n"
     ]
    },
    {
     "data": {
      "text/plain": [
       "lista = List(1, 2, 3, 4, 5)\n",
       "encontrado = Some(4)\n"
      ]
     },
     "metadata": {},
     "output_type": "display_data",
     "source": "user"
    },
    {
     "data": {
      "text/plain": [
       "Some(4)"
      ]
     },
     "execution_count": 26,
     "metadata": {},
     "output_type": "execute_result"
    }
   ],
   "source": [
    "val lista = List(1, 2, 3, 4, 5)\n",
    "\n",
    "// Buscar el primer número mayor que 3\n",
    "val encontrado = lista.find(_ > 3)\n",
    "\n",
    "println(encontrado)  // Imprime: Some(4)"
   ]
  },
  {
   "cell_type": "markdown",
   "id": "3fb7335a-d651-41cc-aa11-e64770b81019",
   "metadata": {},
   "source": [
    "**Explicación**\n",
    "\n",
    "- find(_ > 3) busca el primer número que sea mayor que 3 en la lista.\n",
    "- Si encuentra el número, devuelve Some(4), que es el primer número que cumple la condición.\n",
    "- Si no encuentra ningún número que cumpla la condición, devolvería None."
   ]
  },
  {
   "cell_type": "code",
   "execution_count": 27,
   "id": "15029003-42dd-4af5-81ba-b27740084b8f",
   "metadata": {},
   "outputs": [
    {
     "name": "stdout",
     "output_type": "stream",
     "text": [
      "None\n"
     ]
    },
    {
     "data": {
      "text/plain": [
       "listaVacia = List()\n",
       "encontradoVacio = None\n"
      ]
     },
     "metadata": {},
     "output_type": "display_data",
     "source": "user"
    },
    {
     "data": {
      "text/plain": [
       "None"
      ]
     },
     "execution_count": 27,
     "metadata": {},
     "output_type": "execute_result"
    }
   ],
   "source": [
    "val listaVacia = List[Int]()\n",
    "\n",
    "val encontradoVacio = listaVacia.find(_ > 3)\n",
    "\n",
    "println(encontradoVacio)  // Imprime: None\n"
   ]
  },
  {
   "cell_type": "markdown",
   "id": "2b927e1a-962a-441d-82ef-23351a300267",
   "metadata": {},
   "source": [
    "#### **Conversión a Cadena**\n",
    "\n",
    "- **a) mkString:** Convierte la colección en una cadena de texto."
   ]
  },
  {
   "cell_type": "code",
   "execution_count": 28,
   "id": "040cba29-b565-4081-936b-00a5a3967e0c",
   "metadata": {},
   "outputs": [
    {
     "name": "stdout",
     "output_type": "stream",
     "text": [
      "1, 2, 3, 4, 5\n"
     ]
    },
    {
     "data": {
      "text/plain": [
       "lista = List(1, 2, 3, 4, 5)\n",
       "resultado = 1, 2, 3, 4, 5\n"
      ]
     },
     "metadata": {},
     "output_type": "display_data",
     "source": "user"
    },
    {
     "data": {
      "text/plain": [
       "1, 2, 3, 4, 5"
      ]
     },
     "execution_count": 28,
     "metadata": {},
     "output_type": "execute_result"
    }
   ],
   "source": [
    "val lista = List(1, 2, 3, 4, 5)\n",
    "\n",
    "val resultado = lista.mkString(\", \")\n",
    "\n",
    "println(resultado)  // Imprime: 1, 2, 3, 4, 5"
   ]
  },
  {
   "cell_type": "markdown",
   "id": "c50b410f-2b52-4025-ad08-f8ce06e483e7",
   "metadata": {},
   "source": [
    "**Explicación**\n",
    "\n",
    "- mkString toma un delimitador (en este caso \", \"), y concatena los elementos de la lista con ese delimitador.\n",
    "- El resultado es una cadena que representa los elementos de la lista unidos por el delimitador especificado."
   ]
  },
  {
   "cell_type": "markdown",
   "id": "5c59975c-6e78-4c89-9fa5-5c8e98b1eed0",
   "metadata": {},
   "source": [
    "**b) mkstring sin delimitador**"
   ]
  },
  {
   "cell_type": "code",
   "execution_count": 29,
   "id": "eb62713f-e46e-47ae-b1c9-9847125e17c7",
   "metadata": {},
   "outputs": [
    {
     "name": "stdout",
     "output_type": "stream",
     "text": [
      "12345\n"
     ]
    },
    {
     "data": {
      "text/plain": [
       "\u001b[36mlista\u001b[39m: \u001b[32mList\u001b[39m[\u001b[32mInt\u001b[39m] = \u001b[33mList\u001b[39m(\u001b[32m1\u001b[39m, \u001b[32m2\u001b[39m, \u001b[32m3\u001b[39m, \u001b[32m4\u001b[39m, \u001b[32m5\u001b[39m)\n",
       "\u001b[36mresultado\u001b[39m: \u001b[32mString\u001b[39m = \u001b[32m\"12345\"\u001b[39m"
      ]
     },
     "execution_count": 29,
     "metadata": {},
     "output_type": "execute_result"
    }
   ],
   "source": [
    "val lista = List(1, 2, 3, 4, 5)\n",
    "\n",
    "val resultado = lista.mkString\n",
    "\n",
    "println(resultado)  // Imprime: 12345"
   ]
  },
  {
   "cell_type": "code",
   "execution_count": 29,
   "id": "74e8f70e-f316-4efa-99ff-23e50388c021",
   "metadata": {},
   "outputs": [
    {
     "name": "stdout",
     "output_type": "stream",
     "text": [
      "manzana, plátano, cereza, kiwi, uva\n"
     ]
    },
    {
     "data": {
      "text/plain": [
       "frutas = List(manzana, plátano, cereza, kiwi, uva)\n",
       "resultado = manzana, plátano, cereza, kiwi, uva\n"
      ]
     },
     "metadata": {},
     "output_type": "display_data",
     "source": "user"
    },
    {
     "data": {
      "text/plain": [
       "manzana, plátano, cereza, kiwi, uva"
      ]
     },
     "execution_count": 29,
     "metadata": {},
     "output_type": "execute_result"
    }
   ],
   "source": [
    "val frutas = List(\"manzana\", \"plátano\", \"cereza\", \"kiwi\", \"uva\")\n",
    "\n",
    "// Crear una cadena de texto separada por comas y un espacio\n",
    "val resultado = frutas.mkString(\", \")\n",
    "\n",
    "println(resultado)  // Imprime: manzana, plátano, cereza, kiwi, uva"
   ]
  },
  {
   "cell_type": "markdown",
   "id": "8e6a8327-2d5b-4792-8d47-6e10e4b4c906",
   "metadata": {},
   "source": [
    "#### **3. Consideraciones de Rendimiento**\n",
    "\n",
    "- **Eficiencia:** Algunas funciones, como reduce y fold, son más eficientes que otras para operaciones de reducción.\n",
    "\n",
    "- **Inmutabilidad** Las colecciones en Scala son inmutables por defecto, lo que significa que cada operación devuelve una nueva colección en lugar de modificar la original."
   ]
  },
  {
   "cell_type": "markdown",
   "id": "a2a9547b-9495-4361-8126-21da55988e6e",
   "metadata": {},
   "source": [
    "#### **4. Interoperabilidad con Java**\n",
    "\n",
    "- **Scala es compatible con las colecciones de Java, lo que permite usar bibliotecas de Java en Scala y viceversa. Esto es especialmente útil en proyectos que combinan ambos lenguajes.**"
   ]
  }
 ],
 "metadata": {
  "kernelspec": {
   "display_name": "Apache Toree - Scala",
   "language": "scala",
   "name": "apache_toree_scala"
  },
  "language_info": {
   "codemirror_mode": "text/x-scala",
   "file_extension": ".scala",
   "mimetype": "text/x-scala",
   "name": "scala",
   "pygments_lexer": "scala",
   "version": "2.12.15"
  }
 },
 "nbformat": 4,
 "nbformat_minor": 5
}
