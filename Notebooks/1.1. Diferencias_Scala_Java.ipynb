{
 "cells": [
  {
   "cell_type": "markdown",
   "id": "96e9311a-21a7-46e9-aa71-00d873f858a4",
   "metadata": {},
   "source": [
    "## Diferenicas entre Scala y Java"
   ]
  },
  {
   "cell_type": "markdown",
   "id": "8b8ab9f0-21b7-4098-9815-fed803dc979d",
   "metadata": {},
   "source": [
    "| Característica                 | **Scala**                                       | **Java**                                      |\r\n",
    "|---------------------------------|-------------------------------------------------|-----------------------------------------------|\r\n",
    "| **Paradigma**                   | Funcional y orientado a objetos                  | Orientado a objetos                           |\r\n",
    "| **Sintaxis**                    | Más concisa y expresiva                         | Más verbosa y detallada                       |\r\n",
    "| **Inferencia de tipos**         | Sí                                              | Limitada (en versiones más recientes)        |\r\n",
    "| **Programación funcional**      | Soporte completo                                | Soporte parcial (con Streams y Lambdas)       |\r\n",
    "| **Inmutabilidad**               | Promueve inmutabilidad                          | No es tan común ni tan fácil de implementar   |\r\n",
    "| **Interoperabilidad**           | Totalmente interoperable con Java               | Compatible con Scala, pero con más limitaciones|\r\n",
    "| **Manejo de excepciones**       | Uso de `Try`, `Option`, manejo funcional        | Uso tradicional de `try-catch`                |\r\n",
    "| **Concurrencia**                | Soporte nativo con *Akka*                       | Uso de `ExecutorService`, `CompletableFuture` |\r\n"
   ]
  }
 ],
 "metadata": {
  "kernelspec": {
   "display_name": "Apache Toree - Scala",
   "language": "scala",
   "name": "apache_toree_scala"
  },
  "language_info": {
   "codemirror_mode": "text/x-scala",
   "file_extension": ".scala",
   "mimetype": "text/x-scala",
   "name": "scala",
   "pygments_lexer": "scala",
   "version": "2.12.15"
  }
 },
 "nbformat": 4,
 "nbformat_minor": 5
}
