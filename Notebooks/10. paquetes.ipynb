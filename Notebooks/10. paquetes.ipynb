{
 "cells": [
  {
   "cell_type": "markdown",
   "id": "8b58c0fa-0c4c-4d73-95ed-677ce4edf1b7",
   "metadata": {},
   "source": [
    "## Paquetes en Scala"
   ]
  },
  {
   "cell_type": "markdown",
   "id": "401c2126-b1ac-4375-8932-766dd1964cce",
   "metadata": {},
   "source": [
    "#### **1. Introducción a los Paquetes en Scala**\n",
    "\n",
    "- **Definición:** Los paquetes son una forma de organizar y estructurar el código en Scala. Permiten agrupar clases, objetos y otros elementos relacionados en un espacio de nombres, lo que ayuda a evitar conflictos de nombres y mejora la modularidad del código.\n",
    "\n",
    "- **Propósito:** Facilitar la organización del código, mejorar la legibilidad y permitir la reutilización de componentes."
   ]
  },
  {
   "cell_type": "markdown",
   "id": "575ee89d-dae4-4665-a8c7-9a74b801c78f",
   "metadata": {},
   "source": [
    "#### **2. Declaración de Paquetes**\n",
    "\n",
    "- **Sintaxis:** Los paquetes se declaran al comienzo de un archivo fuente usando la palabra clave package."
   ]
  },
  {
   "cell_type": "code",
   "execution_count": null,
   "id": "66578426-3fd7-4056-911c-123ec19c5ab6",
   "metadata": {},
   "outputs": [],
   "source": [
    "package com.example.miapp\n",
    "\n",
    "class MiClase {\n",
    "  // Código de la clase\n",
    "}"
   ]
  },
  {
   "cell_type": "markdown",
   "id": "49b6ead4-4d9b-45d8-9001-dfebbaac5dfb",
   "metadata": {},
   "source": [
    "- **Ejemplo** La clase MiClase pertenece al paquete com.example.miapp."
   ]
  },
  {
   "cell_type": "markdown",
   "id": "99dcf614-f751-4e44-9c3a-7b96ae7e6cc6",
   "metadata": {},
   "source": [
    "#### **3. Importación de Paquetes**\n",
    "\n",
    "- **Importación de un paquete completo:** Se usa import para acceder a todas las clases y objetos de un paquete."
   ]
  },
  {
   "cell_type": "code",
   "execution_count": null,
   "id": "a792e3fc-e7fc-4992-82e6-bf2db3aa553e",
   "metadata": {},
   "outputs": [],
   "source": [
    "import com.example.miapp._"
   ]
  },
  {
   "cell_type": "markdown",
   "id": "6fca9403-a203-4152-82df-0b8f464d6820",
   "metadata": {},
   "source": [
    "- **Importación de una clase específica:** Se puede importar una clase en particular."
   ]
  },
  {
   "cell_type": "code",
   "execution_count": null,
   "id": "788ebd8e-a2e8-4e64-99db-c73fa37e3773",
   "metadata": {},
   "outputs": [],
   "source": [
    "import com.example.miapp.MiClase"
   ]
  },
  {
   "cell_type": "markdown",
   "id": "cc5c7b2e-d78e-4667-b83e-f328c059af26",
   "metadata": {},
   "source": [
    "#### **4. Jerarquía de Paquetes**\n",
    "\n",
    "- **Paquetes anidados:** Los paquetes pueden estar anidados, formando una jerarquía."
   ]
  },
  {
   "cell_type": "code",
   "execution_count": null,
   "id": "7e799716-a719-4ca3-8ded-6fea8e6ed256",
   "metadata": {},
   "outputs": [],
   "source": [
    "package com.example\n",
    "\n",
    "package object util {\n",
    "  def miFuncion(): Unit = {\n",
    "    // Código de la función\n",
    "  }\n",
    "}"
   ]
  },
  {
   "cell_type": "markdown",
   "id": "d9e439d8-81f2-44ab-9f84-75f11770a728",
   "metadata": {},
   "source": [
    "- **Uso:** Se puede importar y usar la función desde otro lugar."
   ]
  },
  {
   "cell_type": "code",
   "execution_count": null,
   "id": "b90b2734-1c7b-444c-bcc9-31f37b111f88",
   "metadata": {},
   "outputs": [],
   "source": [
    "import com.example.util.miFuncion"
   ]
  },
  {
   "cell_type": "markdown",
   "id": "9505e873-145c-4982-830a-1fb818563b1f",
   "metadata": {},
   "source": [
    "#### **5. Estructura de Directorios**\n",
    "\n",
    "- **Convención:** La estructura de directorios debe reflejar la jerarquía de paquetes.\n",
    "\n",
    "    - **Ejemplo:** La clase MiClase en el paquete com.example.miapp debe estar en el archivo com/example/miapp/MiClase.scala."
   ]
  },
  {
   "cell_type": "markdown",
   "id": "63cc84ef-88c4-4126-ae65-42f267edbf34",
   "metadata": {},
   "source": [
    "#### **6. Visibilidad y Paquetes**\n",
    "\n",
    "- **Modificadores de acceso:** Los paquetes afectan la visibilidad de los miembros (clases, objetos, etc.).\n",
    "\n",
    "-    - **Visibilidad por defecto:** Si no se especifica un modificador de acceso, el miembro es visible dentro del mismo paquete pero no fuera de él."
   ]
  },
  {
   "cell_type": "code",
   "execution_count": null,
   "id": "3b40affc-54b4-4325-bd06-6522a59de950",
   "metadata": {},
   "outputs": [],
   "source": [
    "package com.example\n",
    "\n",
    "class ClaseA {\n",
    "  private[example] val atributo: String = \"Visible en el paquete com.example\"\n",
    "}"
   ]
  },
  {
   "cell_type": "markdown",
   "id": "b5b4567e-abd4-469f-ab6d-a908ce897ae7",
   "metadata": {},
   "source": [
    "- **Explicación:** atributo es privado pero visible dentro del paquete com.example."
   ]
  },
  {
   "cell_type": "markdown",
   "id": "ecefa276-78d1-421a-bded-cfe3d66836dd",
   "metadata": {},
   "source": [
    "#### **7. Resolución de Nombres**\n",
    "\n",
    "- **Conflictos de nombres:** Si hay clases con el mismo nombre en diferentes paquetes, se puede especificar cuál usar mediante la importación."
   ]
  },
  {
   "cell_type": "code",
   "execution_count": null,
   "id": "f15e1abd-bee8-459e-97b5-68b9244fd33c",
   "metadata": {},
   "outputs": [],
   "source": [
    "import com.example.paquete1.Clase\n",
    "import com.example.paquete2.Clase\n",
    "\n",
    "val instancia = new com.example.paquete1.Clase"
   ]
  },
  {
   "cell_type": "markdown",
   "id": "26cd6c21-7733-4bea-b2d9-24453f2297be",
   "metadata": {},
   "source": [
    "#### **8. Compatibilidad con Java**\n",
    "\n",
    "- **Interoperabilidad:** Scala y Java son compatibles en términos de paquetes, lo que permite usar clases de Java en Scala y viceversa.\n",
    "\n",
    "    - **Importación de clases de Java en Scala:**"
   ]
  },
  {
   "cell_type": "code",
   "execution_count": null,
   "id": "7aee28f9-8594-428e-bdcc-c37d71fb87d2",
   "metadata": {},
   "outputs": [],
   "source": [
    "import java.util.ArrayList"
   ]
  },
  {
   "cell_type": "markdown",
   "id": "0d2fcfe5-029a-4d6b-84dd-362ebd3722a3",
   "metadata": {},
   "source": [
    "- import java.util.ArrayList\n",
    "- Importación de clases de Scala en Java: Las clases de Scala se compilan a bytecode de Java, lo que las hace accesibles desde Java."
   ]
  },
  {
   "cell_type": "markdown",
   "id": "c852a192-a59f-44fe-b473-504462a33912",
   "metadata": {},
   "source": [
    "- **Estructura de paquetes:** Scala utiliza la misma estructura de paquetes que Java, lo que facilita la interoperabilidad.\n",
    "\n",
    "- **Proyectos mixtos:** Es común tener proyectos que usan tanto Scala como Java, y la interoperabilidad entre paquetes es fluida.\n",
    "\n",
    "- **Consideraciones:**\n",
    "\n",
    "     - **Tipos de datos:** Algunos tipos de Scala (como Option) no tienen equivalentes directos en Java.\n",
    "\n",
    "     - **Null y Option:** Scala fomenta el uso de Option en lugar de null, lo que puede requerir conversiones al interactuar con código Java."
   ]
  },
  {
   "cell_type": "markdown",
   "id": "ca09892f-3319-4426-8a94-c36f9d87511d",
   "metadata": {},
   "source": [
    "#### **9. Ejemplos Prácticos**\n",
    "\n",
    "- **Declaración de un paquete:**"
   ]
  },
  {
   "cell_type": "code",
   "execution_count": null,
   "id": "38bb632c-37c6-4b4f-8504-9c533f9b6ff8",
   "metadata": {},
   "outputs": [],
   "source": [
    "package com.example.miapp\n",
    "\n",
    "class MiClase {\n",
    "  def saludar(): Unit = println(\"Hola desde MiClase\")\n",
    "}"
   ]
  },
  {
   "cell_type": "markdown",
   "id": "830e0cd4-d4f3-464d-9289-411c8ee02834",
   "metadata": {},
   "source": [
    "- **Importación y uso:**"
   ]
  },
  {
   "cell_type": "code",
   "execution_count": null,
   "id": "eb6aa5c5-01e8-44b0-9a5e-3d3306862e2d",
   "metadata": {},
   "outputs": [],
   "source": [
    "import com.example.miapp.MiClase\n",
    "\n",
    "val objeto = new MiClase\n",
    "objeto.saludar()"
   ]
  },
  {
   "cell_type": "markdown",
   "id": "e1ec9daa-44f1-46ef-b796-80efcac4c680",
   "metadata": {},
   "source": [
    "#### **10. Consideraciones Adicionale**\n",
    "\n",
    "- **Modularidad:** Los paquetes ayudan a dividir el código en módulos lógicos, lo que facilita el mantenimiento y la escalabilidad.\n",
    "\n",
    "- **Reutilización:** Los paquetes permiten reutilizar código en diferentes partes de un proyecto o en otros proyectos.\n",
    "\n",
    "- **Convenciones:** Es importante seguir las convenciones de nombres y estructura de directorios para mantener el código organizado."
   ]
  }
 ],
 "metadata": {
  "kernelspec": {
   "display_name": "Scala",
   "language": "scala",
   "name": "scala"
  },
  "language_info": {
   "codemirror_mode": "text/x-scala",
   "file_extension": ".sc",
   "mimetype": "text/x-scala",
   "name": "scala",
   "nbconvert_exporter": "script",
   "version": "2.13.16"
  }
 },
 "nbformat": 4,
 "nbformat_minor": 5
}
