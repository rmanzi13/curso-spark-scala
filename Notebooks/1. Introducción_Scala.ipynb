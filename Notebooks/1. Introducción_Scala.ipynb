{
 "cells": [
  {
   "cell_type": "markdown",
   "id": "b83c39ef-c4cb-4ce0-ae4f-a3321bd1e43e",
   "metadata": {},
   "source": [
    "## Introducción a Scala\n",
    "\n",
    "#### 1. ¿Qué es Scala?\n",
    "\n",
    "- Scala es un lenguaje de programación moderno que combina programación orientada a objetos y programación funcional.\n",
    "\n",
    "- Es interoperable con Java, lo que significa que puedes usar bibliotecas de Java en Scala y viceversa.\n",
    "\n",
    "- Es utilizado en aplicaciones de alto rendimiento, como procesamiento de datos (Apache Spark) y sistemas distribuidos.\n",
    "\n",
    "**Ejemplo**"
   ]
  },
  {
   "cell_type": "code",
   "execution_count": null,
   "id": "3c71f13b-8304-4a6b-87a7-09ff4bcb78a4",
   "metadata": {},
   "outputs": [],
   "source": [
    "println(\"¡Hola, Mundo!\")"
   ]
  },
  {
   "cell_type": "markdown",
   "id": "4b189db2-c4a9-4c46-9298-961a18012023",
   "metadata": {},
   "source": [
    "#### 2. Características Clave\n",
    "\n",
    "- Conciso y expresivo: Menos código para lograr más.\n",
    "\n",
    "- Tipado estático: Detecta errores en tiempo de compilación.\n",
    "\n",
    "- Inmutabilidad: Fomenta el uso de valores inmutables para evitar efectos secundarios.\n",
    "\n",
    "- Funciones de primera clase: Las funciones son ciudadanos de primera clase, lo que permite un estilo de programación funcional.\n",
    "\n",
    "**Ejemplo de inmutabilidad**:"
   ]
  },
  {
   "cell_type": "code",
   "execution_count": null,
   "id": "8d89e4d8-f25c-472a-9875-f062679b86ce",
   "metadata": {},
   "outputs": [],
   "source": [
    "val nombre = \"Scala\"  // 'val' define una variable inmutable\n",
    "// nombre = \"Java\"    // Esto daría un error de compilación\n",
    "println(nombre)"
   ]
  },
  {
   "cell_type": "markdown",
   "id": "cd219421-18f8-4b4e-990b-867ff5dc9a82",
   "metadata": {},
   "source": [
    "#### 3. Sintaxis Básica\n",
    "\n",
    "- Declaración de variables (val vs var).\n",
    "\n",
    "- Funciones sencillas.\n",
    "\n",
    "- Colecciones básicas (listas, mapas).\n",
    "\n",
    "**Ejemplo de función**:"
   ]
  },
  {
   "cell_type": "code",
   "execution_count": null,
   "id": "70751d36-48d2-409f-808e-fa52a32e0ea3",
   "metadata": {},
   "outputs": [],
   "source": [
    "def suma(a: Int, b: Int): Int = {\n",
    "  a + b\n",
    "}\n",
    "println(suma(3, 5))  // Salida: 8"
   ]
  },
  {
   "cell_type": "markdown",
   "id": "eaed6be2-8222-4265-81ad-86a9b47e4ce7",
   "metadata": {},
   "source": [
    "**Ejemplo de lista:**"
   ]
  },
  {
   "cell_type": "code",
   "execution_count": null,
   "id": "98e630ce-0697-4142-a5b7-f9d99e0dc4a2",
   "metadata": {},
   "outputs": [],
   "source": [
    "val numeros = List(1, 2, 3, 4, 5)\n",
    "println(numeros.map(_ * 2))  // Salida: List(2, 4, 6, 8, 10)"
   ]
  },
  {
   "cell_type": "markdown",
   "id": "a70b68f4-d23a-4573-bba4-e90d469da9a9",
   "metadata": {},
   "source": [
    "#### 4. Programación Funcional\n",
    "\n",
    "- Funciones anónimas (lambdas).\n",
    "\n",
    "- Métodos como map, filter, y reduce.\n",
    "\n",
    "**Ejemplo de map y filter**:"
   ]
  },
  {
   "cell_type": "code",
   "execution_count": null,
   "id": "4cc46674-1fd6-4d94-9023-356ab41eb13c",
   "metadata": {},
   "outputs": [],
   "source": [
    "val numeros = List(1, 2, 3, 4, 5)\n",
    "val pares = numeros.filter(_ % 2 == 0)  // Filtra números pares\n",
    "val duplicados = pares.map(_ * 2)       // Duplica cada número\n",
    "println(duplicados)  // Salida: List(4, 8)"
   ]
  },
  {
   "cell_type": "markdown",
   "id": "0c5107a2-4065-477d-97ee-691f58b97e8a",
   "metadata": {},
   "source": [
    "#### 5. Interoperabilidad con Java"
   ]
  },
  {
   "cell_type": "code",
   "execution_count": null,
   "id": "ead8c08d-d2d4-407b-8ba3-a362943236ef",
   "metadata": {},
   "outputs": [],
   "source": [
    "import java.util.ArrayList\n",
    "val lista = new ArrayList[String]()\n",
    "lista.add(\"Scala\")\n",
    "lista.add(\"Java\")\n",
    "println(lista)  // Salida: [Scala, Java]"
   ]
  },
  {
   "cell_type": "markdown",
   "id": "ebff876c-50ae-45d0-a9c2-5070e5367bff",
   "metadata": {},
   "source": [
    "#### 6. Temas Avanzados\n",
    "\n",
    "- Case classes y pattern matching. \n",
    "  - **Inmutable por defecto**: Sus campos no pueden modificarse después de la creación.\n",
    "  - **Permite pattern matching**: Se puede usar en expresiones de coincidencia de patrones.\n",
    "  - **No necesita new**: Puedes crear instancias directamente sin usar new.\n",
    "\n",
    "- Concurrencia con Future y Actors.\n",
    "  - Permite ejecutar tareas en segundo plano sin bloquear el hilo principal.\n",
    "  - Realizar operaciones de larga duración (como llamadas a APIs o consultas a bases de datos) sin bloquear la ejecución principal.\n",
    "\n",
    "- Uso de bibliotecas como Akka y Apache Spark.\n",
    "  - Akka es un framework para sistemas concurrentes y distribuidos en Scala y Java. Facilita la construcción de aplicaciones escalables y resilientes mediante el modelo de actores, donde cada actor es una entidad independiente que se comunica mediante mensajes en lugar de compartir estado."
   ]
  }
 ],
 "metadata": {
  "kernelspec": {
   "display_name": "Apache Toree - Scala",
   "language": "scala",
   "name": "apache_toree_scala"
  },
  "language_info": {
   "codemirror_mode": "text/x-scala",
   "file_extension": ".scala",
   "mimetype": "text/x-scala",
   "name": "scala",
   "pygments_lexer": "scala",
   "version": "2.12.15"
  }
 },
 "nbformat": 4,
 "nbformat_minor": 5
}
