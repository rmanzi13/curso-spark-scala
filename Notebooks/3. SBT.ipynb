{
 "cells": [
  {
   "cell_type": "markdown",
   "id": "b7dc6585-f48f-4ed7-93fc-272cbb01377f",
   "metadata": {},
   "source": [
    "## Introducción a SBT"
   ]
  },
  {
   "cell_type": "markdown",
   "id": "f925ae87-5b5a-4669-9fe2-aa3415f5ab2d",
   "metadata": {},
   "source": [
    "SBT, o Simple Build Tool, es una herramienta de construcción y gestión de proyectos diseñada específicamente para proyectos Scala. Es una herramienta potente y ampliamente utilizada que facilita la compilación, el empaquetado, las pruebas y la gestión de dependencias en proyectos Scala.\n",
    "\n",
    "https://www.scala-sbt.org/1.x/docs/"
   ]
  },
  {
   "cell_type": "markdown",
   "id": "5028bc53-0c05-458c-9179-49e1ba95a051",
   "metadata": {},
   "source": [
    "## Instalación de SBT\n",
    "Para empezar, es necesario instalar SBT en el sistema. Se peude descargar la última versión de SBT desde el sitio oficial (https://www.scala-sbt.org/). Además, muchos entornos de desarrollo integrados (IDE) como IntelliJ IDEA y Visual Studio Code ofrecen integración con SBT, lo que facilita su uso en tu flujo de trabajo diario."
   ]
  },
  {
   "cell_type": "markdown",
   "id": "4eb48eb2-f11e-4e3e-a2b4-b7a661d15283",
   "metadata": {},
   "source": [
    "## Estructura básica de un proyecto con SBT\n",
    "Un proyecto típico de SBT tiene la siguiente estructura:"
   ]
  },
  {
   "cell_type": "markdown",
   "id": "1d1c45a4-9f04-488c-8ded-49e6d7965bc1",
   "metadata": {},
   "source": [
    "mi-proyecto/\n",
    "├── build.sbt         # Archivo principal de configuración del proyecto\n",
    "├── project/          # Configuraciones adicionales y plugins\n",
    "│   └── build.properties\n",
    "├── src/              # Código fuente\n",
    "│   ├── main/\n",
    "│   │   ├── scala/    # Código Scala principal\n",
    "│   │   └── resources # Recursos (archivos de configuración, etc.)\n",
    "│   └── test/\n",
    "│       ├── scala/    # Código Scala para tests\n",
    "│       └── resources # Recursos para tests\n",
    "└── target/           # Directorio generado con los archivos compilados"
   ]
  },
  {
   "cell_type": "markdown",
   "id": "7a6e2299-c584-4d7d-8db8-47e99323106d",
   "metadata": {},
   "source": [
    "## Archivo build.sbt\n",
    "Este es el archivo principal donde defines la configuración del proyecto. Aquí se especifican las dependencias, versiones de Scala, tareas personalizadas, y más. Un ejemplo básico:"
   ]
  },
  {
   "cell_type": "code",
   "execution_count": null,
   "id": "d0564cf2-b5f5-4e1b-a3b4-aad4d399aa3b",
   "metadata": {},
   "outputs": [],
   "source": [
    "// build.sbt\n",
    "name := \"mi-proyecto\"  // Nombre del proyecto\n",
    "\n",
    "version := \"0.1.0\"     // Versión del proyecto\n",
    "\n",
    "scalaVersion := \"2.13.10\"  // Versión de Scala\n",
    "\n",
    "libraryDependencies ++= Seq(\n",
    "  \"org.scalatest\" %% \"scalatest\" % \"3.2.10\" % Test,  // Dependencia para testing\n",
    "  \"org.typelevel\" %% \"cats-core\" % \"2.6.1\"          // Dependencia de Cats\n",
    ")"
   ]
  },
  {
   "cell_type": "markdown",
   "id": "a28737bc-ab95-45c6-9b66-9de65d510d28",
   "metadata": {},
   "source": [
    "## Dependencias\n",
    "SBT utiliza Ivy para gestionar dependencias. Las dependencias se declaran en el archivo build.sbt usando libraryDependencies. Puedes agregar bibliotecas de Scala (como Akka, Cats, etc.) o incluso bibliotecas de Java.\n",
    "\n",
    "%% se usa para dependencias de Scala (ajusta automáticamente la versión de Scala).\n",
    "\n",
    "% se usa para dependencias de Java o cuando quieres especificar la versión manualmente.\n",
    "\n",
    "Ejemplo:"
   ]
  },
  {
   "cell_type": "code",
   "execution_count": null,
   "id": "24a3462b-909e-412f-8842-2c82e5c05e85",
   "metadata": {},
   "outputs": [],
   "source": [
    "libraryDependencies += \"org.apache.spark\" %% \"spark-core\" % \"3.2.0\""
   ]
  },
  {
   "cell_type": "markdown",
   "id": "2169d513-59a8-404e-8fde-918c6d7f18f2",
   "metadata": {},
   "source": [
    "## Comandos básicos de SBT\n",
    "SBT se usa desde la línea de comandos. Algunos comandos comunes son:\n",
    "\n",
    "  - sbt compile: Compila el código fuente.\n",
    "\n",
    "  - sbt test: Ejecuta los tests.\n",
    "\n",
    "  - sbt run: Ejecuta la aplicación principal.\n",
    "\n",
    "  - sbt package: Crea un archivo JAR del proyecto.\n",
    "\n",
    "  - sbt clean: Limpia el directorio target.\n",
    "\n",
    "  - sbt console: Abre un REPL de Scala con las dependencias del proyecto cargadas."
   ]
  },
  {
   "cell_type": "markdown",
   "id": "4b124cb2-04cb-47ca-939a-c4ff7712a7e4",
   "metadata": {},
   "source": [
    "## Plugins\n",
    "SBT es altamente extensible mediante plugins. Algunos plugins populares incluyen:\n",
    "\n",
    "  - sbt-assembly: Para crear un JAR \"fat\" con todas las dependencias.\n",
    "\n",
    "  - sbt-native-packager: Para empaquetar aplicaciones en formatos como Docker, RPM, etc.\n",
    "\n",
    "  - scalafmt: Para formatear el código automáticamente.\n",
    "\n",
    "Los plugins se agregan en el archivo project/plugins.sbt:"
   ]
  },
  {
   "cell_type": "code",
   "execution_count": null,
   "id": "30d8b1a5-5bb4-4db7-90a2-fae4ab2dacef",
   "metadata": {},
   "outputs": [],
   "source": [
    "// project/plugins.sbt\n",
    "addSbtPlugin(\"com.eed3si9n\" % \"sbt-assembly\" % \"1.1.0\")"
   ]
  },
  {
   "cell_type": "markdown",
   "id": "a8ebab2d-352a-4e92-bfa5-8e774a79acde",
   "metadata": {},
   "source": [
    "## Tareas y configuraciones\n",
    "SBT está basado en un modelo de tareas y configuraciones. Puedes definir tus propias tareas o modificar las existentes. Por ejemplo:"
   ]
  },
  {
   "cell_type": "code",
   "execution_count": null,
   "id": "debdbfa0-5ecd-4d59-927d-05d784984b4d",
   "metadata": {},
   "outputs": [],
   "source": [
    "lazy val saludar = taskKey[Unit](\"Imprime un saludo\")\n",
    "\n",
    "saludar := {\n",
    "  println(\"¡Hola desde SBT!\")\n",
    "}"
   ]
  },
  {
   "cell_type": "markdown",
   "id": "d68ecfd9-d25b-4fea-83a8-99b148c6d7d1",
   "metadata": {},
   "source": [
    "## Ejecución de SBT\n",
    "Para ejecutar SBT, simplemente navega al directorio raíz de tu proyecto y ejecuta el comando sbt. Esto abrirá la consola interactiva de SBT donde puedes ejecutar comandos y tareas."
   ]
  },
  {
   "cell_type": "markdown",
   "id": "5abcd489-5a5d-4b1a-94ce-ac87d327d74a",
   "metadata": {},
   "source": [
    " ## Integración con IDEs\n",
    "SBT se integra bien con IDEs como IntelliJ IDEA, VSCode y otros. Muchos IDEs pueden importar proyectos SBT directamente y gestionar las dependencias automáticamente."
   ]
  },
  {
   "cell_type": "markdown",
   "id": "a256ab24-39db-442d-9690-0f839a3970fd",
   "metadata": {},
   "source": [
    "## Ventajas de SBT\n",
    "- Flexible: Puedes personalizar casi cualquier aspecto del proceso de construcción.\n",
    "\n",
    "- Escalable: Funciona bien tanto para proyectos pequeños como grandes.\n",
    "\n",
    "- Integrado con Scala: Sabe manejar características específicas de Scala, como macros o versiones de Scala.\n",
    "\n",
    "- Extensible: Los plugins permiten agregar funcionalidades adicionales fácilmente."
   ]
  },
  {
   "cell_type": "markdown",
   "id": "8487c58b-0072-4325-b1f6-f359534bdd03",
   "metadata": {},
   "source": [
    "## Desventajas de SBT\n",
    "- Curva de aprendizaje: Puede ser complejo para principiantes debido a su sintaxis y configuración avanzada.\n",
    "\n",
    "- Velocidad: En proyectos grandes, la inicialización de SBT puede ser lenta."
   ]
  },
  {
   "cell_type": "code",
   "execution_count": null,
   "id": "da1af197-3542-48ed-8935-0440b6881164",
   "metadata": {},
   "outputs": [],
   "source": []
  }
 ],
 "metadata": {
  "kernelspec": {
   "display_name": "Scala",
   "language": "scala",
   "name": "scala"
  },
  "language_info": {
   "codemirror_mode": "text/x-scala",
   "file_extension": ".sc",
   "mimetype": "text/x-scala",
   "name": "scala",
   "nbconvert_exporter": "script",
   "version": "2.13.16"
  }
 },
 "nbformat": 4,
 "nbformat_minor": 5
}
