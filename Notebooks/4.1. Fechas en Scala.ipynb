{
 "cells": [
  {
   "cell_type": "markdown",
   "id": "5f4caaaa-1662-41df-967d-80a520a24b62",
   "metadata": {},
   "source": [
    "## Fechas en Scala"
   ]
  },
  {
   "cell_type": "markdown",
   "id": "cadcb0b1-fb9d-4f22-acb1-1672ba94ef82",
   "metadata": {},
   "source": [
    "Se pueden trabajar con **java.time** (moderno) o **java.util.Date** (más antiguo).\n",
    "\n",
    "**Ejemplo con java.time.LocalDate**"
   ]
  },
  {
   "cell_type": "code",
   "execution_count": 1,
   "id": "6578aa80-5a89-4ade-8987-3b152f88dba0",
   "metadata": {},
   "outputs": [
    {
     "name": "stdout",
     "output_type": "stream",
     "text": [
      "2025-03-07\n",
      "2025-03-07\n"
     ]
    },
    {
     "data": {
      "text/plain": [
       "hoy = 2025-03-07\n",
       "fechaEspecifica = 2025-03-07\n"
      ]
     },
     "metadata": {},
     "output_type": "display_data",
     "source": "user"
    },
    {
     "data": {
      "text/plain": [
       "2025-03-07"
      ]
     },
     "execution_count": 1,
     "metadata": {},
     "output_type": "execute_result"
    }
   ],
   "source": [
    "import java.time.LocalDate\n",
    "\n",
    "val hoy = LocalDate.now()\n",
    "val fechaEspecifica = LocalDate.of(2025, 3, 7)\n",
    "\n",
    "println(hoy)  // Imprime la fecha actual\n",
    "println(fechaEspecifica) // Imprime: 2025-03-07"
   ]
  },
  {
   "cell_type": "markdown",
   "id": "63e9aab2-51f6-4940-8952-6755d501a94b",
   "metadata": {},
   "source": [
    "**Ejemplo con java.time.LocalDateTime para fecha y ho**:"
   ]
  },
  {
   "cell_type": "code",
   "execution_count": 2,
   "id": "123afdff-eaff-49c3-a8a5-847bfab03fa6",
   "metadata": {},
   "outputs": [
    {
     "name": "stdout",
     "output_type": "stream",
     "text": [
      "2025-03-07T12:45:32.005798372\n"
     ]
    },
    {
     "data": {
      "text/plain": [
       "ahora = 2025-03-07T12:45:32.005798372\n"
      ]
     },
     "metadata": {},
     "output_type": "display_data",
     "source": "user"
    },
    {
     "data": {
      "text/plain": [
       "2025-03-07T12:45:32.005798372"
      ]
     },
     "execution_count": 2,
     "metadata": {},
     "output_type": "execute_result"
    }
   ],
   "source": [
    "import java.time.LocalDateTime\n",
    "\n",
    "val ahora = LocalDateTime.now()\n",
    "println(ahora)  // Imprime la fecha y hora actual\n"
   ]
  },
  {
   "cell_type": "markdown",
   "id": "c5edc4cf-3dbb-49cf-9d67-54b7f9965fe4",
   "metadata": {},
   "source": [
    "**Ejemplo de formato con DateTimeFormatter**:"
   ]
  },
  {
   "cell_type": "code",
   "execution_count": 3,
   "id": "4afd5761-e520-4f05-9c0c-4bd4a11d405b",
   "metadata": {},
   "outputs": [
    {
     "name": "stdout",
     "output_type": "stream",
     "text": [
      "07-03-2025\n"
     ]
    },
    {
     "data": {
      "text/plain": [
       "formato = Value(DayOfMonth,2)'-'Value(MonthOfYear,2)'-'Value(YearOfEra,4,19,EXCEEDS_PAD)\n"
      ]
     },
     "metadata": {},
     "output_type": "display_data",
     "source": "user"
    },
    {
     "data": {
      "text/plain": [
       "Value(DayOfMonth,2)'-'Value(MonthOfYear,2)'-'Value(YearOfEra,4,19,EXCEEDS_PAD)"
      ]
     },
     "execution_count": 3,
     "metadata": {},
     "output_type": "execute_result"
    }
   ],
   "source": [
    "import java.time.format.DateTimeFormatter\n",
    "\n",
    "val formato = DateTimeFormatter.ofPattern(\"dd-MM-yyyy\")\n",
    "println(hoy.format(formato)) // Ejemplo: 07-03-2025\n"
   ]
  },
  {
   "cell_type": "code",
   "execution_count": null,
   "id": "62708e68-832a-4481-8802-cd3705ba5a75",
   "metadata": {},
   "outputs": [],
   "source": []
  }
 ],
 "metadata": {
  "kernelspec": {
   "display_name": "Apache Toree - Scala",
   "language": "scala",
   "name": "apache_toree_scala"
  },
  "language_info": {
   "codemirror_mode": "text/x-scala",
   "file_extension": ".scala",
   "mimetype": "text/x-scala",
   "name": "scala",
   "pygments_lexer": "scala",
   "version": "2.12.15"
  }
 },
 "nbformat": 4,
 "nbformat_minor": 5
}
