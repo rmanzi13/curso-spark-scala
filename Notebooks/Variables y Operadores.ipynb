{
 "cells": [
  {
   "cell_type": "markdown",
   "id": "00bbf59b-c6f3-4fd4-b7b7-5a9a09b192d8",
   "metadata": {},
   "source": [
    "## Tipos de Dato"
   ]
  },
  {
   "cell_type": "markdown",
   "id": "96b9c4ea-b063-479c-b94f-5ede2dff7a0c",
   "metadata": {},
   "source": [
    "### Definición de variables.\n",
    "Scala ofrece varias maneras de definir variables, siendo las más comunes val y var. Estas dos palabras clave reflejan distintos enfoques y filosofías en la programación y son fundamentales para entender cómo Scala maneja los datos y el estado. En este ensayo, exploraremos las diferencias entre val y var y cómo su uso adecuado contribuye a la escritura de un código más eficiente, seguro y en línea con las buenas prácticas de programación."
   ]
  },
  {
   "cell_type": "markdown",
   "id": "04c55f5f-4981-419a-b82e-a20f3a48da5b",
   "metadata": {},
   "source": [
    "**1. val: Inmutabilidad por Defecto**\n",
    "En Scala, val se utiliza para declarar una variable cuyo valor no puede ser modificado una vez asignado. Es decir, val se utiliza para crear variables inmutables.\n",
    "\n",
    "**Ejemplo:**"
   ]
  },
  {
   "cell_type": "code",
   "execution_count": 1,
   "id": "818d34ec-2eb7-4508-8371-bb1c28a0fb56",
   "metadata": {},
   "outputs": [
    {
     "data": {
      "text/plain": [
       "\u001b[36mpi\u001b[39m: \u001b[32mDouble\u001b[39m = \u001b[32m3.14\u001b[39m"
      ]
     },
     "execution_count": 1,
     "metadata": {},
     "output_type": "execute_result"
    }
   ],
   "source": [
    "val pi = 3.14"
   ]
  },
  {
   "cell_type": "markdown",
   "id": "c565f3e5-b6bb-4832-8f9c-55e9fd17a07d",
   "metadata": {},
   "source": [
    "Aquí, pi es una constante y su valor no puede ser cambiado después de su inicialización."
   ]
  },
  {
   "cell_type": "code",
   "execution_count": null,
   "id": "0fad9e0b-d122-498f-a642-71aa7baded10",
   "metadata": {},
   "outputs": [],
   "source": [
    "pi"
   ]
  },
  {
   "cell_type": "code",
   "execution_count": null,
   "id": "48ac8a93-8d8e-4335-abc4-8d8fdae88e38",
   "metadata": {},
   "outputs": [],
   "source": [
    "pi = 2"
   ]
  },
  {
   "cell_type": "markdown",
   "id": "555e0f82-01eb-4145-9b52-d54f823d6a9f",
   "metadata": {},
   "source": [
    "**Ventajas de Usar val:**\n",
    "\n",
    "**- Seguridad en Concurrencia:** La inmutabilidad es clave en entornos concurrentes y distribuidos. Al no poder modificar los valores, se evitan condiciones de carrera y otros problemas relacionados con la concurrencia.\n",
    "\n",
    "**- Código Predecible:** Las variables inmutables hacen que el flujo de datos a través del programa sea más predecible y fácil de razonar.\n",
    "**- Fomenta la Programación Funcional:** La inmutabilidad es un pilar de la programación funcional y ayuda a construir programas más robustos y menos propensos a efectos secundarios."
   ]
  },
  {
   "cell_type": "markdown",
   "id": "00b1da7d-1293-4378-b194-cffabcda7060",
   "metadata": {},
   "source": [
    "**2. var: Mutabilidad Cuando es Necesario**\n",
    "var, por otro lado, declara una variable cuyo valor puede cambiar a lo largo del tiempo. Var se utiliza para variables mutables.\n",
    "\n",
    "**Ejemplo:**"
   ]
  },
  {
   "cell_type": "code",
   "execution_count": null,
   "id": "6eeb1c4d-145d-41a0-87b9-854846c6eb33",
   "metadata": {},
   "outputs": [],
   "source": [
    "var contador = 0;"
   ]
  },
  {
   "cell_type": "code",
   "execution_count": 5,
   "id": "7926d050-2489-422e-a7fd-222bc031f48a",
   "metadata": {},
   "outputs": [],
   "source": [
    "contador = contador + 1"
   ]
  },
  {
   "cell_type": "code",
   "execution_count": null,
   "id": "9f7e9adf-2858-48a4-b7ef-9fac6946c2d8",
   "metadata": {},
   "outputs": [],
   "source": [
    "contador = \"Hola\""
   ]
  },
  {
   "cell_type": "markdown",
   "id": "149ea0cf-efe5-4528-bbf6-ff262967efa6",
   "metadata": {},
   "source": [
    "En este caso, el valor de counter puede ser modificado después de su inicialización."
   ]
  },
  {
   "cell_type": "markdown",
   "id": "5578a179-9289-4962-be6b-0470397d20bc",
   "metadata": {},
   "source": [
    "**Cuándo Usar var:**\n",
    "\n",
    "Aunque el uso de var es generalmente desalentado en Scala, hay situaciones donde su uso es justificado, como:\n",
    "\n",
    "**Requerimientos de Rendimiento:** En algunos casos, la mutabilidad puede llevar a mejoras en el rendimiento, especialmente en algoritmos intensivos en cálculos y manipulaciones de datos.\n",
    "\n",
    "**Interacción con APIs Java:** Algunas APIs Java requieren objetos mutables, por lo que usar var puede ser necesario para la interoperabilidad."
   ]
  },
  {
   "cell_type": "markdown",
   "id": "e85456d0-5661-4f0a-b277-009cadf441d5",
   "metadata": {},
   "source": [
    "**3. Buenas Prácticas en la Definición de Variables**\n",
    "\n",
    "**- Preferir val sobre var:** Como regla general, se debe preferir el uso de val sobre var. Esto está en línea con el principio de inmutabilidad y ayuda a construir programas más seguros y fáciles de mantener.  \n",
    "**- Claridad y Expresividad:** Independientemente de si se usa val o var, es importante nombrar las variables de manera clara y descriptiva para que el propósito de la variable sea evidente.  \n",
    "**- Limitar el Alcance:** Tanto para val como para var, el alcance de las variables debe ser lo más restringido posible. Esto ayuda a mantener el código modular y reduce los efectos secundarios.  \n",
    "\n",
    "**Nota:** Es posible consultar las reglas de estilo de codificación en: https://docs.scala-lang.org/style/"
   ]
  },
  {
   "cell_type": "markdown",
   "id": "d023767e-8235-4594-842b-ca12ef190f4a",
   "metadata": {},
   "source": [
    "## Tipos de datos en Scala."
   ]
  },
  {
   "cell_type": "markdown",
   "id": "7906acaf-dd77-4ea2-a812-e82e352f3452",
   "metadata": {},
   "source": [
    "###  Tabla de Tipos de Datos Primitivos en Scala"
   ]
  },
  {
   "cell_type": "markdown",
   "id": "6a11625a-a28b-4e7e-9fb9-14403f0a7791",
   "metadata": {},
   "source": [
    "### Tipos Primitivos"
   ]
  },
  {
   "cell_type": "markdown",
   "id": "99ee5acb-ce65-4ac9-8172-a5d617eb35e9",
   "metadata": {},
   "source": [
    "Los tipos primitivos en Scala son muy similares a los de Java, ya que Scala se ejecuta en la Máquina Virtual de Java (JVM). Estos tipos son:\n",
    "\n",
    "**1. Int:** Un entero de 32 bits.\n",
    "**val number:** Int = 42\n",
    "\n",
    "**2. Long:** Un entero de 64 bits.\n",
    "**val bigNumber:** Long = 1234567890L\n",
    "\n",
    "**3. Short:** Un entero de 16 bits.\n",
    "**val smallNumber:** Short = 32767\n",
    "\n",
    "**4. Byte:** Un entero de 8 bits.\n",
    "**val tinyNumber:** Byte = 127\n",
    "\n",
    "**5. Float:** Un número de punto flotante de 32 bits.\n",
    "**val decimalNumber:** Float = 3.14f\n",
    "\n",
    "**6. Double:** Un número de punto flotante de 64 bits.\n",
    "**val bigDecimalNumber:** Double = 3.14159265359\n",
    "\n",
    "**7. Char:** Un carácter Unicode de 16 bits.\n",
    "**val letter:** Char = 'A'\n",
    "\n",
    "**8 Boolean:** Un valor verdadero o falso.\n",
    "**val isScalaFun:** Boolean = true"
   ]
  },
  {
   "cell_type": "markdown",
   "id": "6d91c3bd-2992-4828-b92a-eba21351501e",
   "metadata": {},
   "source": [
    "### Tipos no Primitivos"
   ]
  },
  {
   "cell_type": "markdown",
   "id": "1c3fe337-f361-4a3a-a73a-615da8f77037",
   "metadata": {},
   "source": [
    "Scala, al ser un lenguaje orientado a objetos, permite la definición de tipos complejos. Algunos de los tipos no primitivos más comunes son:\n",
    "\n",
    "**1. String:** Una secuencia de caracteres.\n",
    "**val greeting:** String = \"Hello, Scala!\"\n",
    "\n",
    "**2. Array:** Una colección de elementos del mismo tipo.\n",
    "**val numbers:** Array[Int] = Array(1, 2, 3, 4, 5)\n",
    "\n",
    "**3. List** Una colección inmutable de elementos.\n",
    "**val fruits:** List[String] = List(\"apple\", \"banana\", \"cherry\")\n",
    "\n",
    "**4. Vector:** Similar a List, pero con acceso y actualizaciones más eficientes en ambos extremos.\n",
    "**val vectorExample:** Vector[Int] = Vector(1, 2, 3)\n",
    "\n",
    "**5. Tuple:** Una agrupación de elementos de diferentes tipos.\n",
    "**val person:** (String, Int) = (\"Alice\", 25)\n",
    "\n",
    "**6. Option:** Representa un valor opcional.\n",
    "**val optionalNumber:** Option[Int] = Some(5)\n",
    "**val noNumber:** Option[Int] = None\n",
    "\n",
    "**7. Map:** Una colección de pares clave-valor.\n",
    "**val ageMap:** Map[String, Int] = Map(\"Alice\" -> 25, \"Bob\" -> 29)\n",
    "\n",
    "**8. Set:** Una colección de elementos únicos.\n",
    "**val numberSet:** Set[Int] = Set(1, 2, 3, 3, 4)"
   ]
  },
  {
   "cell_type": "markdown",
   "id": "4973142e-8938-476e-b4f3-f98fe56f5ecb",
   "metadata": {},
   "source": [
    "### Clases en Scala"
   ]
  },
  {
   "cell_type": "markdown",
   "id": "a6683b5c-f1e1-4e4a-8e26-46b8c5b6fc41",
   "metadata": {},
   "source": [
    "Una clase es una plantilla que define un tipo de dato. Contiene atributos (variables) y métodos (funciones) que describen el comportamiento y las propiedades de los objetos que se crearán a partir de ella."
   ]
  },
  {
   "cell_type": "markdown",
   "id": "df4d5410-5fe2-4826-891d-c7dd022291a6",
   "metadata": {},
   "source": [
    "### Objetos en Scala"
   ]
  },
  {
   "cell_type": "markdown",
   "id": "23890730-9ef8-4b2d-b72f-d696667b0360",
   "metadata": {},
   "source": [
    "Un objeto es una instancia de una clase. Cada objeto tiene su propio estado (valores de atributos) y puede ejecutar los métodos definidos en la clase.\n",
    "\n",
    "**1. Clases y Objetos**"
   ]
  },
  {
   "cell_type": "code",
   "execution_count": null,
   "id": "08c50b5b-b204-45b8-8b49-5c528c45ec6b",
   "metadata": {},
   "outputs": [],
   "source": [
    "// Definimos una clase llamada \"Coche\"\n",
    "class Coche(marca: String, modelo: String, color: String) {\n",
    "  // Atributos de la clase\n",
    "  var kilometraje: Int = 0\n",
    "\n",
    "  // Método de la clase\n",
    "  def conducir(distancia: Int): Unit = {\n",
    "    kilometraje += distancia\n",
    "    println(s\"El coche $marca $modelo ha conducido $distancia km. Kilometraje total: $kilometraje km.\")\n",
    "  }\n",
    "}\n",
    "\n",
    "// Creamos objetos (instancias) de la clase \"Coche\"\n",
    "val miCoche = new Coche(\"Toyota\", \"Corolla\", \"Rojo\")\n",
    "val tuCoche = new Coche(\"Ford\", \"Fiesta\", \"Azul\")\n",
    "\n",
    "// Usamos los objetos\n",
    "miCoche.conducir(100)\n",
    "tuCoche.conducir(50)\n",
    "miCoche.conducir(200)"
   ]
  },
  {
   "cell_type": "markdown",
   "id": "4da2d8cb-cc35-4a3d-a354-35c2745ab656",
   "metadata": {},
   "source": [
    "**Explicación:**\n",
    "\n",
    "**- class Coche(...):** Definimos la clase Coche con sus atributos (marca, modelo, color) y un método (conducir).  \n",
    "**- val miCoche** = new Coche(...): Creamos un objeto miCoche a partir de la clase Coche.  \n",
    "**- miCoche.conducir(100):** Llamamos al método conducir del objeto miCoche.\n",
    "\n",
    "**2. Singleton**"
   ]
  },
  {
   "cell_type": "code",
   "execution_count": null,
   "id": "4eced615-9b7b-4a7b-990f-00f9e2e03642",
   "metadata": {},
   "outputs": [],
   "source": [
    "// Definimos un singleton llamado \"Configuracion\"\n",
    "object Configuracion {\n",
    "  // Atributos del singleton\n",
    "  val idioma: String = \"es\"\n",
    "  val tema: String = \"oscuro\"\n",
    "\n",
    "  // Método del singleton\n",
    "  def mostrarConfiguracion(): Unit = {\n",
    "    println(s\"Idioma: $idioma, Tema: $tema\")\n",
    "  }\n",
    "}\n",
    "\n",
    "// Usamos el singleton\n",
    "Configuracion.mostrarConfiguracion()\n",
    "println(s\"Idioma de la configuración: ${Configuracion.idioma}\")"
   ]
  },
  {
   "cell_type": "markdown",
   "id": "5c6f2746-49fe-47fe-b68c-07f89cc89c89",
   "metadata": {},
   "source": [
    "**Explicación:**\n",
    "\n",
    "**- object Configuracion:** Definimos un singleton llamado Configuracion.  \n",
    "**- Configuracion.mostrarConfiguracion():** Llamamos al método mostrarConfiguracion del singleton.  \n",
    "**- Configuracion.idioma:** Accedemos al atributo idioma del singleton."
   ]
  },
  {
   "cell_type": "markdown",
   "id": "5faf3e87-f7c9-48c4-82cf-eb490bcd2637",
   "metadata": {},
   "source": [
    "**Puntos clave:**\n",
    "\n",
    "**- Clases:** Son plantillas para crear objetos.  \n",
    "**- Objetos:** Son instancias de clases, con sus propios datos y comportamientos.  \n",
    "**- Singletons:** Son objetos únicos que solo pueden existir una vez."
   ]
  },
  {
   "cell_type": "markdown",
   "id": "9cdde5e6-ec3e-4aac-9e1d-5cd892792213",
   "metadata": {},
   "source": [
    "### ¿Qué es Unit?"
   ]
  },
  {
   "cell_type": "markdown",
   "id": "c018ffcb-7e35-41f8-a45e-8d97d08e22ac",
   "metadata": {},
   "source": [
    "En Scala, **Unit** es un tipo de dato que representa la ausencia de un valor significativo. Es similar a void en Java o C, pero con una pequeña diferencia clave: Unit es un tipo de dato real, mientras que void es una palabra clave que indica la ausencia de un tipo.\n",
    "\n",
    "Piensa en **Unit** como un tipo que solo tiene un valor posible: (). Este valor () se llama **\"valor unidad\".**"
   ]
  },
  {
   "cell_type": "markdown",
   "id": "7ec6204f-cf01-4f4f-ab4e-5747a19190b4",
   "metadata": {},
   "source": [
    "### ¿Para qué necesitamos Unit?"
   ]
  },
  {
   "cell_type": "markdown",
   "id": "66f44ddb-a5cf-459f-a10d-d12270ce5aa6",
   "metadata": {},
   "source": [
    "Aunque pueda parecer contradictorio tener un tipo que no devuelve nada, Unit tiene varias aplicaciones importantes en Scala:\n",
    "\n",
    "**1. Funciones con efectos secundarios:** Muchas funciones en programación no devuelven un valor útil, pero realizan alguna acción, como imprimir en la consola, escribir en un archivo o modificar una variable. Estas funciones se llaman **\"funciones con efectos secundarios\".** En Scala, estas funciones devuelven **Unit.**"
   ]
  },
  {
   "cell_type": "code",
   "execution_count": null,
   "id": "7dc97325-3cbf-4354-b050-a44b8aa1028c",
   "metadata": {
    "jupyter": {
     "source_hidden": true
    }
   },
   "outputs": [],
   "source": [
    "def saludar(nombre: String): Unit = {\n",
    "  println(s\"¡Hola, $nombre!\") // Efecto secundario: imprimir en la consola\n",
    "}"
   ]
  },
  {
   "cell_type": "markdown",
   "id": "8425d85e-bea9-4ee2-af62-11395aca7c20",
   "metadata": {},
   "source": [
    "**2. Expresiones que no producen un valor:** En Scala, casi todo es una expresión que devuelve un valor. Sin embargo, algunas expresiones, como los bucles **while** o los bloques **if** sin una rama **else**, no producen un valor significativo. En estos casos, Scala asigna el tipo **Unit** a la expresión."
   ]
  },
  {
   "cell_type": "code",
   "execution_count": null,
   "id": "5baf919c-4e38-4f03-b89b-51d2b7fc7915",
   "metadata": {
    "scrolled": true
   },
   "outputs": [],
   "source": [
    "var i = 0\n",
    "while (i < 5) { // Bucle while: no produce un valor\n",
    "  println(i)\n",
    "  i += 1\n",
    "}"
   ]
  },
  {
   "cell_type": "markdown",
   "id": "4cd1561c-fe23-4975-812d-4ec685355a56",
   "metadata": {},
   "source": [
    "**3. Funciones como valores:** En Scala, las funciones son ciudadanos de primera clase, lo que significa que pueden ser tratadas como valores. Esto incluye funciones que devuelven **Unit.**"
   ]
  },
  {
   "cell_type": "code",
   "execution_count": null,
   "id": "0eb149f9-fbf0-40d0-bd83-96dd9b01cad2",
   "metadata": {
    "scrolled": true
   },
   "outputs": [],
   "source": [
    "val miFuncion: String => Unit = saludar // Asignar la función \"saludar\" a una variable\n",
    "miFuncion(\"Marta\")"
   ]
  },
  {
   "cell_type": "markdown",
   "id": "7d730b2a-c0f1-4fd2-8075-89efdf4d17f9",
   "metadata": {},
   "source": [
    "### Operadores"
   ]
  },
  {
   "cell_type": "code",
   "execution_count": null,
   "id": "eca304b8-1f6a-4f08-8361-3392568065de",
   "metadata": {},
   "outputs": [],
   "source": [
    "\n",
    "Operador\tDescripción\t            Ejemplo en Scala\tResultado\n",
    "    +\t        Suma\t              10 + 5\t            15\n",
    "    -\t        Resta\t              10 - 5\t             5\n",
    "    *\t    Multiplicación\t          10 * 5\t            50\n",
    "    /\t      División\t              10 / 5\t             2\n",
    "    %\t       Módulo\t              10 % 5\t             0\n",
    "    ==\t      Igualdad\t              10 == 5\t          false\n",
    "    !=\t     Desigualdad\t          10 != 5\t           true\n",
    "    <\t      Menor que\t              10 < 5\t          false\n",
    "    >\t      Mayor que\t              10 > 5\t           true\n",
    "    <=\t  Menor o igual que\t          10 <= 5\t          false\n",
    "    >=\t  Mayor o igual que\t          10 >= 5\t           true\n",
    "    &&\t    AND lógico\t              true && false\t      false\n",
    "    \\|\\|     OR lógico\t              true \\|\\| false\t   true\n",
    "    !\t     NOT lógico\t              !true\t              false\n",
    "    ++\tConcatenación (para Strings   \"Hello\" ++ \" World\" \"Hello World\"\n",
    "        (para o colecciones)\n",
    "    ::\tPrepend (para Listas)\t       5 :: List(1, 2)\t   List(5, 1, 2)\n"
   ]
  },
  {
   "cell_type": "markdown",
   "id": "c47225dc-7abd-4d0c-b7c5-8cb787696e67",
   "metadata": {},
   "source": [
    "Esta tabla cubre los operadores básicos de aritmética, comparación y lógicos, así como algunos específicos de Scala como ++ para concatenación y :: para agregar un elemento al principio de una lista. Scala también permite a los desarrolladores definir sus propios operadores, lo que añade aún más flexibilidad y expresividad al lenguaje."
   ]
  },
  {
   "cell_type": "markdown",
   "id": "c6739d70-0757-41ce-946d-ebfd7baf84ba",
   "metadata": {},
   "source": [
    "**1. Interpolación s (String Interpolation)**\n",
    "\n",
    "¿Qué es? Permite insertar variables y expresiones directamente dentro de cadenas de texto.\n",
    "\n",
    "¿Para qué sirve? Facilita la creación de cadenas de texto dinámicas y legibles.\n",
    "\n",
    "**Ejemplo:**"
   ]
  },
  {
   "cell_type": "code",
   "execution_count": null,
   "id": "55dfdb46-8b33-4c04-8c44-434e246e8cb3",
   "metadata": {},
   "outputs": [],
   "source": [
    "val nombre = \"Ana\"\n",
    "val edad = 30\n",
    "val mensaje = s\"Hola, ${nombre}! Tienes ${edad} años.\"\n",
    "println(mensaje) // Imprime: Hola, Ana! Tienes 30 años."
   ]
  },
  {
   "cell_type": "markdown",
   "id": "8440f101-7659-4f62-8214-5af6aa78da9b",
   "metadata": {},
   "source": [
    "**2. Interpolación f (Formatted String Interpolation)**\n",
    "\n",
    "¿Qué es? Similar a s, pero permite formatear las variables insertadas.\n",
    "\n",
    "¿Para qué sirve? Controla la precisión y el formato de los valores insertados (por ejemplo, números decimales, fechas).\n",
    "\n",
    "**Ejemplo:**"
   ]
  },
  {
   "cell_type": "code",
   "execution_count": null,
   "id": "6ae0fad1-3e37-48da-bde0-d45cbfaa40d6",
   "metadata": {
    "scrolled": true
   },
   "outputs": [],
   "source": [
    "val pi = 3.14159\n",
    "val mensaje = f\"El valor de pi es ${pi}%.2f\"\n",
    "println(mensaje) // Imprime: El valor de pi es 3.14"
   ]
  },
  {
   "cell_type": "markdown",
   "id": "ec59280e-2c5d-42fb-ab11-b981b4649825",
   "metadata": {},
   "source": [
    "**3. Interpolación raw (Raw String Interpolation)**\n",
    "\n",
    "¿Qué es? Permite crear cadenas de texto sin interpretar secuencias de escape (como \\n para saltos de línea).\n",
    "\n",
    "¿Para qué sirve? Útil para trabajar con cadenas que contienen muchas secuencias de escape, como expresiones regulares o rutas de archivos.\n",
    "\n",
    "**Ejemplo:**"
   ]
  },
  {
   "cell_type": "code",
   "execution_count": null,
   "id": "6e1fad8b-4744-45a8-9880-c17957cf9a55",
   "metadata": {
    "scrolled": true
   },
   "outputs": [],
   "source": [
    "val ruta = raw\"C:\\archivos\\nuevo\\documento.txt\"\n",
    "println(ruta) // Imprime: C:\\archivos\\nuevo\\documento.txt"
   ]
  },
  {
   "cell_type": "code",
   "execution_count": null,
   "id": "7d6a07bb-469c-455b-ab84-a1d8f1b6d66e",
   "metadata": {
    "scrolled": true
   },
   "outputs": [],
   "source": [
    "val message = \"a\\nb\"\n",
    "println(message)"
   ]
  },
  {
   "cell_type": "code",
   "execution_count": 14,
   "id": "fc9d1054-09a3-4111-a841-e8246b9d76e9",
   "metadata": {},
   "outputs": [
    {
     "name": "stdout",
     "output_type": "stream",
     "text": [
      "a\\nb\n"
     ]
    },
    {
     "data": {
      "text/plain": [
       "\u001b[36mmessage\u001b[39m: \u001b[32mString\u001b[39m = \u001b[32m\"a\\\\nb\"\u001b[39m"
      ]
     },
     "execution_count": 14,
     "metadata": {},
     "output_type": "execute_result"
    }
   ],
   "source": [
    "val message = raw\"a\\nb\"\n",
    "println(message)"
   ]
  }
 ],
 "metadata": {
  "kernelspec": {
   "display_name": "Scala",
   "language": "scala",
   "name": "scala"
  },
  "language_info": {
   "codemirror_mode": "text/x-scala",
   "file_extension": ".sc",
   "mimetype": "text/x-scala",
   "name": "scala",
   "nbconvert_exporter": "script",
   "version": "2.13.16"
  }
 },
 "nbformat": 4,
 "nbformat_minor": 5
}
