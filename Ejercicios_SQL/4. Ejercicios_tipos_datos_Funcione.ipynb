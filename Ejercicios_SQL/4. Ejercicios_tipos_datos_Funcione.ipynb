{
 "cells": [
  {
   "cell_type": "markdown",
   "id": "36abc3cc-5c29-4754-a6fb-24b9e6559b39",
   "metadata": {},
   "source": [
    "### Ejercicio 1: Manipulación de Cadenas\n",
    "\n",
    "**Descripción**:\n",
    "\n",
    "Dado el DataFrame products, realiza las siguientes operaciones:\n",
    "\n",
    "**1.** Convierte la columna Nombre a mayúsculas.\n",
    "\n",
    "**2.** Extrae los primeros 5 caracteres de la columna Nombre.\n",
    "\n",
    "**Código**:"
   ]
  },
  {
   "cell_type": "code",
   "execution_count": null,
   "id": "cce266c1-9a25-4c39-afc1-cf6604900ff0",
   "metadata": {},
   "outputs": [],
   "source": []
  },
  {
   "cell_type": "markdown",
   "id": "fa0c5174-6e82-496e-8ffa-9e2252291575",
   "metadata": {},
   "source": [
    "### Ejercicio 2: Manipulación de Fechas\n",
    "\n",
    "**Descripción**:\n",
    "Dado el DataFrame pedidos, realiza las siguientes operaciones:\n",
    "\n",
    "**1.** Extrae el año de la columna Fecha.\n",
    "\n",
    "**2.** Filtra los pedidos realizados en el año 2024.\n",
    "\n",
    "**Código**:"
   ]
  },
  {
   "cell_type": "code",
   "execution_count": null,
   "id": "d62c8900-3b02-418c-b84c-7996fad95222",
   "metadata": {},
   "outputs": [],
   "source": []
  },
  {
   "cell_type": "markdown",
   "id": "8ecafc94-cd62-40fb-ab0e-593828e2f758",
   "metadata": {},
   "source": [
    "### Ejercicio 3: Manipulación de Números\n",
    "\n",
    "**Descripción**:\n",
    "Dado el DataFrame productos, realiza las siguientes operaciones:\n",
    "\n",
    "**1.** Redondea los valores de la columna Precio a 2 decimales.\n",
    "\n",
    "**2.** Calcula el precio con un descuento del 10%.\n",
    "\n",
    "**Código**:"
   ]
  },
  {
   "cell_type": "code",
   "execution_count": null,
   "id": "87509714-07e3-4b4a-a0d5-891a3184f7b5",
   "metadata": {},
   "outputs": [],
   "source": []
  },
  {
   "cell_type": "markdown",
   "id": "ca24f496-3601-4b9f-9bec-a78e7d4b1950",
   "metadata": {},
   "source": [
    "### Ejercicio 4: Funciones de Agregación\n",
    "\n",
    "**Descripción**:\n",
    "Dado el DataFrame productos, realiza las siguientes operaciones:\n",
    "\n",
    "**1.** Calcula el precio promedio de los productos por sección.\n",
    "\n",
    "**2.** Encuentra el precio máximo y mínimo por sección.\n",
    "\n",
    "**Código**:"
   ]
  },
  {
   "cell_type": "code",
   "execution_count": null,
   "id": "e4f76709-7db1-40b2-8abe-84dd830bf547",
   "metadata": {},
   "outputs": [],
   "source": []
  },
  {
   "cell_type": "markdown",
   "id": "24ccc016-f4ae-41e2-b710-f81faab4abbb",
   "metadata": {},
   "source": [
    "### Ejercicio 5: Funciones de Cadena\n",
    "\n",
    "**Descripción**:\n",
    "Dado el DataFrame productos, realiza las siguientes operaciones:\n",
    "\n",
    "**1.** Concatena las columnas Seccion y Nombre en una nueva columna llamada Descripcion.\n",
    "\n",
    "**2.** Reemplaza los espacios en la columna Nombre con guiones bajos (_).\n",
    "\n",
    "**Código**:"
   ]
  },
  {
   "cell_type": "code",
   "execution_count": null,
   "id": "8aafb104-5e7c-44da-91ba-ee4bc59dbfd6",
   "metadata": {},
   "outputs": [],
   "source": []
  },
  {
   "cell_type": "markdown",
   "id": "ca211bad-1e22-4b96-a32b-917bc8718933",
   "metadata": {},
   "source": [
    "### Ejercicio 6 Modificado: Funciones de Fecha con un Rango Específico.\n",
    "\n",
    "**Descripción**:\n",
    "Dado el DataFrame pedidos, realiza las siguientes operaciones:\n",
    "\n",
    "**1.** Filtra los pedidos realizados entre febrero de 2024 y octubre de 2024.\n",
    "\n",
    "**2.** Calcula la diferencia en días entre la fecha actual y la columna FECHA DE PEDIDO para los pedidos dentro de este rango.\n",
    "\n",
    "**Código**:"
   ]
  },
  {
   "cell_type": "code",
   "execution_count": null,
   "id": "39e76a1f-00f5-4c2d-884f-9eacbeb29be5",
   "metadata": {},
   "outputs": [],
   "source": []
  }
 ],
 "metadata": {
  "kernelspec": {
   "display_name": "Apache Toree - Scala",
   "language": "scala",
   "name": "apache_toree_scala"
  },
  "language_info": {
   "codemirror_mode": "text/x-scala",
   "file_extension": ".scala",
   "mimetype": "text/x-scala",
   "name": "scala",
   "pygments_lexer": "scala",
   "version": "2.12.15"
  }
 },
 "nbformat": 4,
 "nbformat_minor": 5
}
