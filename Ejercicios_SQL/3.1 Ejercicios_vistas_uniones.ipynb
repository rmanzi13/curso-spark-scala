{
 "cells": [
  {
   "cell_type": "markdown",
   "id": "57862853-dccf-47a8-8d13-9b6d83508d24",
   "metadata": {},
   "source": [
    "## Aquí usaremos los archivos clientes.csv y pedidos_join.csv"
   ]
  },
  {
   "cell_type": "markdown",
   "id": "fadf8bfe-5cc1-4dfa-9337-ce0cb155d43e",
   "metadata": {},
   "source": [
    "### Ejercicio 6: Unión de DataFrames (INNER JOIN)\n",
    "\n",
    "**Descripcion**:\n",
    "\n",
    "Combina los DataFrames clientes y pedidos_joins usando un INNER JOIN sobre la columna cliente_id. Muestra  las columnas: cliente_id, nombre, ciudad, producto, cantidad y total.\n",
    "\n",
    "**Código**:"
   ]
  },
  {
   "cell_type": "code",
   "execution_count": null,
   "id": "153d0797-d1f3-4525-a47d-f11646d17bf6",
   "metadata": {},
   "outputs": [],
   "source": []
  },
  {
   "cell_type": "markdown",
   "id": "2c326359-e3a1-4b38-9edc-cce926f7adc2",
   "metadata": {},
   "source": [
    "### Ejercicio 7: Unión de DataFrames (LEFT JOIN) \n",
    "\n",
    "**Descripcion**:\n",
    "\n",
    "Todos los clientes con sus pedidos (incluyendo los que no han comprado)\n",
    "\n",
    "Combina los DataFrames Clientes y Pedidos usando la columna cliente_id. Muestra las columnas: cliente_id, nombre, ciudad, producto, cantidad y total.\n",
    "\n",
    "**Código**:"
   ]
  },
  {
   "cell_type": "markdown",
   "id": "efbac59d-1ee0-4f37-94c2-ecd55993db58",
   "metadata": {},
   "source": [
    "### Ejercicio 8: Hacer los JOINs con la API de DataFrames en Spark"
   ]
  },
  {
   "cell_type": "code",
   "execution_count": null,
   "id": "2aaa5291-fde1-4e9a-9c51-5d6f34bad029",
   "metadata": {},
   "outputs": [],
   "source": []
  }
 ],
 "metadata": {
  "kernelspec": {
   "display_name": "Apache Toree - Scala",
   "language": "scala",
   "name": "apache_toree_scala"
  },
  "language_info": {
   "codemirror_mode": "text/x-scala",
   "file_extension": ".scala",
   "mimetype": "text/x-scala",
   "name": "scala",
   "pygments_lexer": "scala",
   "version": "2.12.15"
  }
 },
 "nbformat": 4,
 "nbformat_minor": 5
}
