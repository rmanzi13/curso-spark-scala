{
 "cells": [
  {
   "cell_type": "markdown",
   "id": "a15b73df-6d79-478c-a252-c8e8940f342d",
   "metadata": {},
   "source": [
    "### Ejercicio 1: Creación y Transformaciones Básicas\n",
    "Objetivo: Crear un RDD a partir de una colección local y aplicar transformaciones básicas.\n",
    "\n",
    "**1.** Crea un RDD a partir de una lista de números enteros.\n",
    "\n",
    "**2.** Aplica una transformación map para multiplicar cada elemento por 2.\n",
    "\n",
    "**3.** Filtra los elementos mayores que 5.\n",
    "\n",
    "**4.** Usa flatMap para generar una secuencia de números y sus cuadrados.\n",
    "\n",
    "**5.** Muestra el resultado final.\n",
    "\n",
    "**Código**:"
   ]
  },
  {
   "cell_type": "code",
   "execution_count": null,
   "id": "56d58193-fb95-438e-aa67-f8276f431919",
   "metadata": {},
   "outputs": [],
   "source": []
  },
  {
   "cell_type": "markdown",
   "id": "bd1e637e-65b3-4f49-b7f8-034a40c58e0d",
   "metadata": {},
   "source": [
    "### Ejercicio 2: Operaciones de Reducción \n",
    "Objetivo: Realizar operaciones de reducción y agregación sobre un RDD.\n",
    "\n",
    "**1.** Crea un RDD a partir de una lista de números.\n",
    "\n",
    "**2.** Calcula la suma de todos los elementos usando reduce.\n",
    "\n",
    "**3.** Encuentra el valor máximo y mínimo usando reduce.\n",
    "\n",
    "**Código**:"
   ]
  },
  {
   "cell_type": "code",
   "execution_count": null,
   "id": "ece54481-3681-4132-92f2-0d5837223d9f",
   "metadata": {},
   "outputs": [],
   "source": []
  },
  {
   "cell_type": "markdown",
   "id": "987be4c5-80e6-41c8-a82a-e4e0338aa3f0",
   "metadata": {},
   "source": [
    "### Ejercicio 3: Trabajo con RDDs de Pares (Key-Value RDDs)\n",
    "Objetivo: Manipular un RDD de pares clave-valor.\n",
    "\n",
    "**1.** Crea un RDD de pares (clave, valor) a partir de una lista de tuplas.\n",
    "\n",
    "**2.** Agrupa los valores por clave usando groupByKey.\n",
    "\n",
    "**3.** Calcula el promedio de los valores por clave usando reduceByKey y mapValues.\n",
    "\n",
    "**4.** Ordena el RDD por clave.\n",
    "\n",
    "**Código**:"
   ]
  },
  {
   "cell_type": "code",
   "execution_count": null,
   "id": "12944138-4f18-4df2-a85f-16d221af0d56",
   "metadata": {},
   "outputs": [],
   "source": []
  },
  {
   "cell_type": "markdown",
   "id": "8145a685-29fd-46ce-961b-43f9189318c3",
   "metadata": {},
   "source": [
    "### Ejercicio 4: Cacheo y Puntos de Control (Checkpointing)\n",
    "Objetivo: Aprender a usar cacheo y puntos de control para optimizar el rendimiento.\n",
    "\n",
    "**1.** Crea un RDD a partir de una lista de números.\n",
    "\n",
    "**2.** Aplica una serie de transformaciones costosas (por ejemplo, map y filter).\n",
    "\n",
    "**3.** Cachea el RDD en memoria.\n",
    "\n",
    "**4.** Establece un punto de control (checkpoint) para el RDD.\n",
    "\n",
    "**5.** Realiza una acción para verificar el resultado.\n",
    "\n",
    "**Código**:"
   ]
  },
  {
   "cell_type": "code",
   "execution_count": null,
   "id": "a6ceebf0-7a35-4a2b-88d1-357d9c86e6c0",
   "metadata": {},
   "outputs": [],
   "source": []
  },
  {
   "cell_type": "markdown",
   "id": "8548bbf1-3a09-4f6d-a0ab-74f565a1eadd",
   "metadata": {},
   "source": [
    "### Ejercicio 5: Guardado de RDDs en Diferentes Formatos\n",
    "Objetivo: Guardar un RDD en diferentes formatos y sistemas de almacenamiento.\n",
    "\n",
    "**1.** Crea un RDD a partir de una lista de cadenas.\n",
    "\n",
    "**2.** Guarda el RDD como un archivo de texto en el sistema local.\n",
    "\n",
    "**3.** Guarda el RDD como un archivo de texto en HDFS.\n",
    "\n",
    "**4.** Guarda el RDD como un archivo de objetos serializados.\n",
    "\n",
    "**5.** Guarda el RDD en un formato binario (por ejemplo, Parquet).\n",
    "\n",
    "**Código**:"
   ]
  },
  {
   "cell_type": "code",
   "execution_count": null,
   "id": "49636858-08b0-4706-9b9f-80c9a35dd498",
   "metadata": {},
   "outputs": [],
   "source": []
  }
 ],
 "metadata": {
  "kernelspec": {
   "display_name": "Apache Toree - Scala",
   "language": "scala",
   "name": "apache_toree_scala"
  },
  "language_info": {
   "codemirror_mode": "text/x-scala",
   "file_extension": ".scala",
   "mimetype": "text/x-scala",
   "name": "scala",
   "pygments_lexer": "scala",
   "version": "2.12.15"
  }
 },
 "nbformat": 4,
 "nbformat_minor": 5
}
