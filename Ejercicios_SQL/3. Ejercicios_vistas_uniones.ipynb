{
 "cells": [
  {
   "cell_type": "markdown",
   "id": "2523d6de-4a7e-488d-a77d-972f241a1a21",
   "metadata": {},
   "source": [
    "### Ejercicio 1: Registrar un DataFrame como Vista Temporal\n",
    "\n",
    "**Descripción**:\n",
    "\n",
    "Carga el archivo productos en un DataFrame y regístralo como una vista temporal llamada vista_productos.\n",
    "\n",
    "**Código**:"
   ]
  },
  {
   "cell_type": "code",
   "execution_count": null,
   "id": "c2b86f92-2d1a-4e69-9d08-47b433360273",
   "metadata": {},
   "outputs": [],
   "source": []
  },
  {
   "cell_type": "markdown",
   "id": "1b92fe09-a2f9-4ee8-97d1-318dfdbe7c02",
   "metadata": {},
   "source": [
    "### Ejercicio 2: Registrar un DataFrame como Tabla Persistente\n",
    "\n",
    "**Descripción**:\n",
    "\n",
    "Carga el archivo pedidos en un DataFrame y regístralo como una tabla persistente llamada tabla_pedidos.\n",
    "\n",
    "**Código**:"
   ]
  },
  {
   "cell_type": "code",
   "execution_count": null,
   "id": "39cea1aa-c1fd-467d-b280-ce496925ae30",
   "metadata": {},
   "outputs": [],
   "source": []
  },
  {
   "cell_type": "markdown",
   "id": "f6612eab-bcdb-4e4f-8b41-f4f86bbad11f",
   "metadata": {},
   "source": [
    "### Ejercicio 3: Consulta SQL sobre una Vista Temporal\n",
    "\n",
    "**Descripción**:\n",
    "Usando la vista temporal vista_productos, ejecuta una consulta SQL para seleccionar todos los productos de la sección \"Electrónica\" con un precio mayor a 50.\n",
    "\n",
    "**Código**:"
   ]
  },
  {
   "cell_type": "code",
   "execution_count": null,
   "id": "d78991f7-f525-424b-9e05-900ca26bac68",
   "metadata": {},
   "outputs": [],
   "source": []
  },
  {
   "cell_type": "markdown",
   "id": "1b860978-a40a-443a-a8b2-75b21068a30b",
   "metadata": {},
   "source": [
    "### Ejercicio 4: Consulta SQL sobre una Tabla Persistente\n",
    "\n",
    "**Descripción**:\n",
    "\n",
    "Usando la tabla persistente tabla_pedidos, ejecuta una consulta SQL para contar el número de pedidos realizados en el año 2023.\n",
    "\n",
    "**Código**:"
   ]
  },
  {
   "cell_type": "code",
   "execution_count": null,
   "id": "648feab0-96f5-4fde-a7ee-280be2cbe52c",
   "metadata": {},
   "outputs": [],
   "source": []
  },
  {
   "cell_type": "markdown",
   "id": "f8868b22-6df2-4d85-b2ae-59618d643d21",
   "metadata": {},
   "source": [
    "### Ejercicio 5: Unión de DataFrames (INNER JOIN)\n",
    "\n",
    "**Descripción**:\n",
    "\n",
    "Combina los DataFrames productos y productos_pedidos usando un INNER JOIN sobre la columna id_articulo. Muestra las columnas id_articulo, Nombre, Preco, fecha de ambos dataframes\n",
    "\n",
    "**Código**:"
   ]
  },
  {
   "cell_type": "code",
   "execution_count": null,
   "id": "5b89bb27-3206-424b-b124-3d3278b55c9f",
   "metadata": {},
   "outputs": [],
   "source": []
  },
  {
   "cell_type": "markdown",
   "id": "2232b771-9a07-4387-881d-851dfe109961",
   "metadata": {},
   "source": [
    "### Ejercicio 6: Unión de DataFrames (LEFT JOIN)\n",
    "\n",
    "**Descripcion**:\n",
    "\n",
    "Combina los DataFrames productos y PRODUCTONUEVOS usando un LEFT JOIN sobre la columna CÓDIGOARTÍCULO. Muestra todos los productos originales, incluso si no tienen un producto nuevo correspondiente.\n",
    "\n",
    "**Código**:"
   ]
  },
  {
   "cell_type": "code",
   "execution_count": null,
   "id": "ee798f17-e15d-4d87-b533-5fdbd57c53e6",
   "metadata": {},
   "outputs": [],
   "source": []
  }
 ],
 "metadata": {
  "kernelspec": {
   "display_name": "Apache Toree - Scala",
   "language": "scala",
   "name": "apache_toree_scala"
  },
  "language_info": {
   "name": ""
  }
 },
 "nbformat": 4,
 "nbformat_minor": 5
}
