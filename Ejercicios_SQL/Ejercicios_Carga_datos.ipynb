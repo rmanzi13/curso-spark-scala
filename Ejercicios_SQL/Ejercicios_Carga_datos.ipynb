{
 "cells": [
  {
   "cell_type": "markdown",
   "id": "bb51d262-1d90-49b1-87ba-79477dbeb7f7",
   "metadata": {},
   "source": [
    "#### Ejercicio 1: Cargar datos desde un archivo CSV\n",
    "**Descripción**:\n",
    "Carga un archivo CSV llamado IRIS.csv que contiene información sobre flores(especies, tamaño pétalo y sépalo) en un DataFrame. Luego, explora los datos."
   ]
  },
  {
   "cell_type": "markdown",
   "id": "37cf3c99-8c02-4e51-8131-0ced2813d9ff",
   "metadata": {},
   "source": [
    "**Pasos**:\n",
    "\n",
    "**1.** Cargar el archivo CSV en un DataFrame.\n",
    "\n",
    "**2.** Mostrar el esquema del DataFrame.\n",
    "\n",
    "**3.** Mostrar las primeras 5 filas del DataFrame.\n",
    "\n",
    "**Código**:"
   ]
  },
  {
   "cell_type": "code",
   "execution_count": null,
   "id": "5a2344b1-e10b-4aa3-b085-072683edf36e",
   "metadata": {},
   "outputs": [],
   "source": []
  },
  {
   "cell_type": "markdown",
   "id": "c984e7e4-e1f4-4d95-97ea-6697d5a2a491",
   "metadata": {},
   "source": [
    "#### Ejercicio 2: Cargar datos desde un archivo JSON\n",
    "**Descripción**:\n",
    "Carga un archivo JSON llamado datos.json que contiene información sobre productos (id, nombre, precio) en un DataFrame. Luego, explora los datos."
   ]
  },
  {
   "cell_type": "markdown",
   "id": "54734026-4bfd-479c-a232-a1413437a5ca",
   "metadata": {},
   "source": [
    "**Pasos**:\n",
    "\n",
    "**1.** Cargar el archivo JSON en un DataFrame.\n",
    "\n",
    "**2.** Mostrar el esquema del DataFrame.\n",
    "\n",
    "**3.** Mostrar las primeras 10 filas del DataFrame.\n",
    "\n",
    "**Código**:"
   ]
  },
  {
   "cell_type": "code",
   "execution_count": null,
   "id": "8685d475-9c55-4e3b-a01a-f04a399e797b",
   "metadata": {},
   "outputs": [],
   "source": []
  },
  {
   "cell_type": "markdown",
   "id": "591301c5-4b36-490c-806f-5f601916866a",
   "metadata": {},
   "source": [
    "#### Ejercicio 3: Cargar datos desde un archivo Parquet\n",
    "**Descripción**:\n",
    "Carga un archivo Parquet llamado datos.parquet que contiene información sobre ventas (id_venta, producto, cantidad, fecha) en un DataFrame. Luego, explora los datos."
   ]
  },
  {
   "cell_type": "markdown",
   "id": "8d958b75-6b76-4366-995d-87230035ca41",
   "metadata": {},
   "source": [
    "**Pasos**:\n",
    "\n",
    "**1.** Cargar el archivo Parquet en un DataFrame.\n",
    "\n",
    "**2.** Mostrar el esquema del DataFrame.\n",
    "\n",
    "**3.** Mostrar las primeras 8 filas del DataFrame.\n",
    "\n",
    "**Código**:"
   ]
  },
  {
   "cell_type": "markdown",
   "id": "ee9a0f93-d22e-4860-bb04-04177030dcf3",
   "metadata": {},
   "source": [
    "#### Ejercicio 4: Exploración de datos cargados desde un CSV\n",
    "**Descripción:**\n",
    "Carga un archivo CSV llamado empleados.csv que contiene información sobre empleados (id, nombre, salario, departamento) en un DataFrame. Luego, realiza una exploración completa de los datos."
   ]
  },
  {
   "cell_type": "code",
   "execution_count": null,
   "id": "a464bcc6-f30b-4c18-a7dd-f05dab06dca8",
   "metadata": {},
   "outputs": [],
   "source": []
  }
 ],
 "metadata": {
  "kernelspec": {
   "display_name": "Apache Toree - Scala",
   "language": "scala",
   "name": "apache_toree_scala"
  },
  "language_info": {
   "codemirror_mode": "text/x-scala",
   "file_extension": ".scala",
   "mimetype": "text/x-scala",
   "name": "scala",
   "pygments_lexer": "scala",
   "version": "2.12.15"
  }
 },
 "nbformat": 4,
 "nbformat_minor": 5
}
