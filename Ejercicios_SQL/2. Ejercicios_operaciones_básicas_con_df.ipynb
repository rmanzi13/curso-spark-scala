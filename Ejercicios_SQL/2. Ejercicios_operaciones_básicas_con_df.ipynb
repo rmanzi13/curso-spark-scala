{
 "cells": [
  {
   "cell_type": "markdown",
   "id": "eec9dc9a-3fa8-4c10-a597-ed13fd7ba453",
   "metadata": {},
   "source": [
    "### Ejercicio 1: Selección y Filtrado\n",
    "\n",
    "**Descripción:**\n",
    "\n",
    "Dado un DataFrame productos con columnas id_articulo, Seccion, Nombre, Precio, fecha, importado y paisorigen\n",
    "realiza las siguientes operaciones:\n",
    "\n",
    "**1.** Selecciona las columnas Nombre y Precio\n",
    "\n",
    "**2.** Filtra los productos con precio mayor a 100\n",
    "\n",
    "**Código**:"
   ]
  },
  {
   "cell_type": "code",
   "execution_count": null,
   "id": "23a65620-7445-4856-9025-acb9f4de2dc1",
   "metadata": {},
   "outputs": [],
   "source": [
    "import org.apache.spark.sql.SparkSession\n",
    "import org.apache.spark.sql.functions._"
   ]
  },
  {
   "cell_type": "code",
   "execution_count": null,
   "id": "7c8234f2-5b16-492c-a109-65e281a44d66",
   "metadata": {},
   "outputs": [],
   "source": [
    "val productos = Seq(\n",
    "  (\"1\", \"Electrónica\", \"Auriculares Bluetooth\", 25.99, \"2024-02-15\", \"si\", \"china\"),\n",
    "  (\"7\", \"Hogar\", \"Aspiradora\", 149.00, \"2024-01-20\", \"No\", \"Alemania\"),  // 149 → 149.00\n",
    "  (\"6\", \"Electrónica\", \"Teléfono Móvil\", 399.99, \"2024-02-28\", \"si\", \"Corea del Sur\"),\n",
    "  (\"4\", \"Juguetes\", \"Pelota de fútbol\", 19.99, \"2024-02-20\", \"no\", \"Brasil\")\n",
    ").toDF(\"id_articulo\", \"Seccion\", \"Nombre\", \"Precio\", \"fecha\", \"importado\", \"paisorigen\")\n"
   ]
  },
  {
   "cell_type": "code",
   "execution_count": null,
   "id": "4f9a89f2-3ffb-4500-9e6d-ca072a930628",
   "metadata": {},
   "outputs": [],
   "source": []
  },
  {
   "cell_type": "markdown",
   "id": "968cff5f-cf5e-4dc3-8fb9-d21a4cc57c1d",
   "metadata": {},
   "source": [
    "### Ejercicio 2: Agregación\n",
    "\n",
    "**Descripción**:\n",
    "Dado el mismo DataFrame productos, realiza las siguientes operaciones:\n",
    "\n",
    "**1.** Calcular el precio promedio por sección (agrupado por SECCIÓN)\n",
    "\n",
    "**2.** Encontrar el precio máximo y mínimo por sección (agrupado por SECCIÓN)\n",
    "\n",
    "**Código**:"
   ]
  },
  {
   "cell_type": "code",
   "execution_count": null,
   "id": "e07f7b71-e1eb-4d16-a410-fb002f93529d",
   "metadata": {},
   "outputs": [],
   "source": []
  },
  {
   "cell_type": "markdown",
   "id": "a9202b90-e1e5-4663-b4ea-a9951ee855a1",
   "metadata": {},
   "source": [
    "### Ejercicio 3: Agregación\n",
    "\n",
    "Descripción: Dado el  DataFrame pedidos, realiza las siguientes operaciones:\n",
    "\n",
    "- Calcular el  calcula el número total de pedidos realizados por cada cliente.\n",
    "\n",
    "**Código**:"
   ]
  },
  {
   "cell_type": "code",
   "execution_count": null,
   "id": "62e8b2a5-4803-4ae4-a4ed-eb7b5444312a",
   "metadata": {},
   "outputs": [],
   "source": []
  },
  {
   "cell_type": "markdown",
   "id": "9820bd92-b6a2-419b-a97f-c26fbfc9c775",
   "metadata": {},
   "source": [
    "### Ejercicio 4: Creación de una Nueva Columna\n",
    "\n",
    "**a) Descripción**:\n",
    "Dado el DataFrame productos, Crear una nueva columna \"bonificación\" en productos (10% del precio)\n",
    "\n",
    "**Código**:"
   ]
  },
  {
   "cell_type": "code",
   "execution_count": null,
   "id": "04615018-440b-4ebc-ab2b-5da5cad4a129",
   "metadata": {},
   "outputs": [],
   "source": []
  },
  {
   "cell_type": "markdown",
   "id": "97804c7a-6c2d-44e1-9cef-3673c9216690",
   "metadata": {},
   "source": [
    "**b) Descripción**:\n",
    "\n",
    "Dado el DataFrame pedidos,  crear una nueva columna \"bonificación\" en pedidos (10% del descuento)\n",
    "\n",
    "**Código**:"
   ]
  },
  {
   "cell_type": "code",
   "execution_count": null,
   "id": "4fea3bbe-ce6e-41dd-a6c2-fd4d86ca6d39",
   "metadata": {},
   "outputs": [],
   "source": []
  },
  {
   "cell_type": "markdown",
   "id": "a8bb0a72-1509-4a6b-a8e8-b4352f4db9ff",
   "metadata": {},
   "source": [
    "### Ejercicio 5: Modificación de una Columna Existente\n",
    "\n",
    "**a) Descripción**:\n",
    "Dado el DataFrame productos, aumentar el precio de los productos en un 5% para una sección específica.\n",
    "\n",
    "**Código**:"
   ]
  },
  {
   "cell_type": "code",
   "execution_count": null,
   "id": "1d66afb7-f16f-4395-bc3a-5c3423005f8f",
   "metadata": {},
   "outputs": [],
   "source": []
  },
  {
   "cell_type": "markdown",
   "id": "28d19d50-16df-4791-abb9-76f0a4d0358d",
   "metadata": {},
   "source": [
    "**b) Descripción**:\n",
    "\n",
    "Dado el DataFrame pedidos, aumentar el descuento en un 5% para pedidos realizados con \"Tarjeta\" como forma de pago.\n",
    "\n",
    "**Código**:"
   ]
  },
  {
   "cell_type": "code",
   "execution_count": null,
   "id": "2969a46b-002f-461a-8110-c2d298741bd9",
   "metadata": {},
   "outputs": [],
   "source": []
  },
  {
   "cell_type": "markdown",
   "id": "1c42697b-77ed-480c-bc27-8dc12f591eef",
   "metadata": {},
   "source": [
    "### Ejercicio 6: Ordenación de Datos\n",
    "\n",
    "**a) Descripción**:\n",
    "Dado el DataFrame productos, ordenar productos por precio en orden descendente.\n",
    "\n",
    "**Código**:"
   ]
  },
  {
   "cell_type": "code",
   "execution_count": null,
   "id": "15ec5f87-d466-45d7-b68d-67894695133e",
   "metadata": {},
   "outputs": [],
   "source": []
  },
  {
   "cell_type": "markdown",
   "id": "16835105-9f75-4d3d-8baa-09cbf30c6519",
   "metadata": {},
   "source": [
    "**b) Descripción**:\n",
    "Dado el DataFrame pedidos, ordenar pedidos por descuento en orden descendente.\n",
    "\n",
    "**Código**:"
   ]
  },
  {
   "cell_type": "code",
   "execution_count": null,
   "id": "c91e127d-f9ca-4c57-a41a-827df67d75d3",
   "metadata": {},
   "outputs": [],
   "source": []
  },
  {
   "cell_type": "markdown",
   "id": "fbc091a8-4aad-4943-89cb-c54cb9cacea3",
   "metadata": {},
   "source": [
    "### Ejercicio 7: Agrupación y Agregación\n",
    "\n",
    "**Descripción**:\n",
    "\n",
    "Dado el DataFrame proeductos, agrupa productos por sección  y calcular:\n",
    "\n",
    "**1.** El número de productos \n",
    "**2.** EL precio promedio.\n",
    "\n",
    "**Código**:"
   ]
  },
  {
   "cell_type": "code",
   "execution_count": null,
   "id": "28b5ab11-9ad3-416b-befd-7aefc11302f1",
   "metadata": {},
   "outputs": [],
   "source": []
  },
  {
   "cell_type": "markdown",
   "id": "de696288-c5a7-4538-b806-09a44bd4a065",
   "metadata": {},
   "source": [
    "**b) Descripción**:\n",
    "\n",
    "Dado el DataFrame pedidos, Agrupar pedidos por forma de pago y calcular: \n",
    "\n",
    "**1.** el número de pedidos.  \n",
    "\n",
    "**2.** l descuento promedio.\n",
    "\n",
    "**Código**:"
   ]
  },
  {
   "cell_type": "code",
   "execution_count": null,
   "id": "774ccae1-28f8-44a4-ac2f-41e1b86e29d4",
   "metadata": {},
   "outputs": [],
   "source": []
  }
 ],
 "metadata": {
  "kernelspec": {
   "display_name": "Apache Toree - Scala",
   "language": "scala",
   "name": "apache_toree_scala"
  },
  "language_info": {
   "codemirror_mode": "text/x-scala",
   "file_extension": ".scala",
   "mimetype": "text/x-scala",
   "name": "scala",
   "pygments_lexer": "scala",
   "version": "2.12.15"
  }
 },
 "nbformat": 4,
 "nbformat_minor": 5
}
