{
 "cells": [
  {
   "cell_type": "markdown",
   "id": "6b53cf2e-e4f1-4307-99ca-d411c9fe2357",
   "metadata": {},
   "source": [
    "**1. Función Lambda: Cuadrado de un Número:**\n",
    "\n",
    "- Crea una función lambda que calcule el cuadrado de un número entero."
   ]
  },
  {
   "cell_type": "code",
   "execution_count": null,
   "id": "8a11fd0c-13ac-47af-8b4d-a182040f9974",
   "metadata": {},
   "outputs": [],
   "source": []
  },
  {
   "cell_type": "markdown",
   "id": "09fa5b02-82f3-436f-a671-7cceb7d320a2",
   "metadata": {},
   "source": [
    "**2. Función de Orden Superior: Aplicar Operación a Lista:**\n",
    "\n",
    "- Escribe una función de orden superior que reciba una lista de enteros y una función lambda como parámetros. La función debe aplicar la función lambda a cada elemento de la lista y devolver una nueva lista con los resultados."
   ]
  },
  {
   "cell_type": "code",
   "execution_count": null,
   "id": "f6423f3f-670b-4643-b10a-1bd0c61b6e27",
   "metadata": {},
   "outputs": [],
   "source": []
  },
  {
   "cell_type": "markdown",
   "id": "c893957c-52dd-4589-bdf2-b39e1ba282ad",
   "metadata": {},
   "source": [
    "**3. Función de Primer Orden: Suma de Números Pares:**\n",
    "\n",
    "- Crea una función de primer orden que reciba una lista de enteros y devuelva la suma de los números pares."
   ]
  },
  {
   "cell_type": "code",
   "execution_count": null,
   "id": "da06b76c-cac1-49a8-b3fd-491c9b3ff3d6",
   "metadata": {},
   "outputs": [],
   "source": []
  },
  {
   "cell_type": "markdown",
   "id": "7a2b461d-cc02-4e73-a99c-f2d90fefa5b5",
   "metadata": {},
   "source": [
    "**4. Función Recursiva: Factorial:**\n",
    "\n",
    "- Implementa una función recursiva que calcule el factorial de un número entero."
   ]
  },
  {
   "cell_type": "code",
   "execution_count": null,
   "id": "b3896148-3506-4bae-879e-29bb78d9c020",
   "metadata": {},
   "outputs": [],
   "source": []
  },
  {
   "cell_type": "markdown",
   "id": "199ac997-24c2-4cf4-bb98-2958aae6e5a8",
   "metadata": {},
   "source": [
    "**5. Función Anidada: Calcular Promedio con Validación:**\n",
    "\n",
    "- Crea una función que calcule el promedio de una lista de números, pero que valide primero que la lista no esté vacía. Utiliza una función anidada para realizar el cálculo del promedio."
   ]
  },
  {
   "cell_type": "code",
   "execution_count": null,
   "id": "9b8be73c-5568-41a1-82c0-74a60e9e6f3b",
   "metadata": {},
   "outputs": [],
   "source": []
  },
  {
   "cell_type": "markdown",
   "id": "563ec492-a0ea-4cb5-9276-9143c0d3d94c",
   "metadata": {},
   "source": [
    "**6. Función de Orden Superior: Filtrar y Transformar Lista:**\n",
    "\n",
    "- Escribe una función de orden superior que reciba una lista de cadenas y dos funciones lambda: una para filtrar las cadenas que cumplan una condición y otra para transformar las cadenas filtradas. La función debe devolver una nueva lista con las cadenas transformadas."
   ]
  },
  {
   "cell_type": "code",
   "execution_count": null,
   "id": "6e8d8979-66bf-4815-9282-5fdb57b9aed6",
   "metadata": {},
   "outputs": [],
   "source": []
  },
  {
   "cell_type": "markdown",
   "id": "3a157c93-a134-4cff-8680-72f9b16f068f",
   "metadata": {},
   "source": [
    "**7. Funciones Lambda (Funciones Anónimas)**\n",
    "\n",
    "- Escribe una función lambda que tome dos números enteros y devuelva su suma. Luego, úsala para sumar dos números."
   ]
  },
  {
   "cell_type": "code",
   "execution_count": null,
   "id": "2c5e7c8c-daf2-46d1-b7f1-a2f6dcda919b",
   "metadata": {},
   "outputs": [],
   "source": []
  },
  {
   "cell_type": "markdown",
   "id": "79cb3fce-266c-4415-863b-857948b8f92a",
   "metadata": {},
   "source": [
    "**8., Funciones de Orden Superior**\n",
    "\n",
    "- Escribe una función de orden superior que tome una función f: Int => Int y un entero x, y devuelva el resultado de aplicar f a x. Luego, usa esta función para aplicar una función que duplique un número."
   ]
  },
  {
   "cell_type": "code",
   "execution_count": null,
   "id": "68173061-6cf1-46a4-a143-f924c5f8a8a6",
   "metadata": {},
   "outputs": [],
   "source": []
  },
  {
   "cell_type": "markdown",
   "id": "7ce778c8-6454-4f6c-aca3-051e905d16a3",
   "metadata": {},
   "source": [
    "**9. Funciones de Primer Orden**\n",
    "\n",
    "- Escribe una función de primer orden que tome un número entero y devuelva su cuadrado. Luego, úsala para calcular el cuadrado de un número."
   ]
  },
  {
   "cell_type": "code",
   "execution_count": null,
   "id": "bcdb663e-ceb0-4986-97d4-2a0cc673061f",
   "metadata": {},
   "outputs": [],
   "source": []
  },
  {
   "cell_type": "markdown",
   "id": "785370a1-2e87-40cf-8e60-4c29f0d1990b",
   "metadata": {},
   "source": [
    "**10. Funciones Anidadas**\n",
    "\n",
    "- Escribe una función que tome un número entero y devuelva su cuadrado y su cubo. Usa una función anidada para calcular el cubo."
   ]
  },
  {
   "cell_type": "code",
   "execution_count": null,
   "id": "c2624a85-e347-426e-bc2b-d5b0344aaafc",
   "metadata": {},
   "outputs": [],
   "source": []
  }
 ],
 "metadata": {
  "kernelspec": {
   "display_name": "Scala",
   "language": "scala",
   "name": "scala"
  },
  "language_info": {
   "codemirror_mode": "text/x-scala",
   "file_extension": ".sc",
   "mimetype": "text/x-scala",
   "name": "scala",
   "nbconvert_exporter": "script",
   "version": "2.13.16"
  }
 },
 "nbformat": 4,
 "nbformat_minor": 5
}
