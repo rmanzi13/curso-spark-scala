{
 "cells": [
  {
   "cell_type": "markdown",
   "id": "2fe6de6e-a8ed-4ff4-b8fe-46a9df9efd3a",
   "metadata": {},
   "source": [
    "**1. Saludo Personalizado:**\n",
    "\n",
    "- Declara una variable nombre de tipo String y asígnale tu nombre.\n",
    "- Crea un mensaje de saludo que incluya tu nombre y guárdalo en una variable saludo.\n",
    "- Imprime el mensaje de saludo."
   ]
  },
  {
   "cell_type": "code",
   "execution_count": null,
   "id": "b432eea4-57b4-4f18-9252-891f9b88d256",
   "metadata": {},
   "outputs": [],
   "source": []
  },
  {
   "cell_type": "markdown",
   "id": "325ae93f-2138-4437-b412-b21bf024128e",
   "metadata": {},
   "source": [
    "**2. Operaciones Aritméticas:**\n",
    "\n",
    "- Declara dos variables numéricas, a y b, de tipo Int o Double.\n",
    "- Realiza las operaciones de suma, resta, multiplicación y división entre a y b.\n",
    "- Imprime los resultados de cada operación."
   ]
  },
  {
   "cell_type": "code",
   "execution_count": null,
   "id": "95564c1f-97b3-4b8f-88f1-c9f80ae97fae",
   "metadata": {},
   "outputs": [],
   "source": []
  },
  {
   "cell_type": "markdown",
   "id": "8cebcdeb-a838-48d0-9131-152cf5cb68a3",
   "metadata": {},
   "source": [
    "**3. Mayor de Edad:**\n",
    "\n",
    "- Declara una variable edad de tipo Int y asígnale tu edad.\n",
    "- Declara una variable booleana esMayorDeEdad que sea true si la edad es mayor o igual a 18, y false en caso contrario.\n",
    "- Imprime un mensaje que indique si eres mayor de edad."
   ]
  },
  {
   "cell_type": "code",
   "execution_count": null,
   "id": "aebe8042-51c0-4639-83e5-a5a09fe3f958",
   "metadata": {},
   "outputs": [],
   "source": []
  },
  {
   "cell_type": "markdown",
   "id": "74cef430-a801-4bc0-94a4-207ca0f4f1e6",
   "metadata": {},
   "source": [
    "**4. Área de un Triángulo:**\n",
    "\n",
    "- Declara dos variables, base y altura, de tipo Double, que representen las dimensiones de un triángulo.\n",
    "- Calcula el área del triángulo y guárdala en una variable area.\n",
    "- Imprime el valor del área."
   ]
  },
  {
   "cell_type": "code",
   "execution_count": null,
   "id": "4673d141-0eb0-414d-9519-8c012fbf1764",
   "metadata": {},
   "outputs": [],
   "source": []
  },
  {
   "cell_type": "markdown",
   "id": "41503d26-bf13-4fbd-b166-e6a0caaab632",
   "metadata": {},
   "source": [
    "**5. Conversión de Celsius a Fahrenheit:**\n",
    "\n",
    "- Declara una variable celsius de tipo Double y asígnale una temperatura en grados Celsius.\n",
    "- Calcula la temperatura equivalente en grados Fahrenheit utilizando la fórmula: fahrenheit = (celsius * 9/5) + 32.\n",
    "- Imprime el valor de la temperatura en Fahrenheit."
   ]
  },
  {
   "cell_type": "code",
   "execution_count": null,
   "id": "a75867f5-6aa7-4736-b8dd-7e2f361ae93d",
   "metadata": {},
   "outputs": [],
   "source": []
  },
  {
   "cell_type": "markdown",
   "id": "4ac47677-e5eb-4308-a6c0-1d255b8d8596",
   "metadata": {},
   "source": [
    "**6. Variables Inmutables y Mutables**\n",
    "\n",
    "Define una variable inmutable (val) que almacene tu nombre y una variable mutable (var) que almacene tu edad. Luego, incrementa la edad en 1 y muestra ambos valores."
   ]
  },
  {
   "cell_type": "code",
   "execution_count": null,
   "id": "7be80adb-c923-4dc1-a89e-78601fbf708a",
   "metadata": {},
   "outputs": [],
   "source": []
  },
  {
   "cell_type": "markdown",
   "id": "6b7698b5-769d-4ce7-b2c3-6d95511ba514",
   "metadata": {},
   "source": [
    "**7. Operaciones Aritméticas**\n",
    "\n",
    "Dados dos números enteros, calcula su suma, resta, multiplicación, división y módulo. Muestra los resultados."
   ]
  },
  {
   "cell_type": "code",
   "execution_count": null,
   "id": "4d40f3cd-f189-4d8d-aaa1-a4ab2b687781",
   "metadata": {},
   "outputs": [],
   "source": []
  },
  {
   "cell_type": "markdown",
   "id": "47791c5a-0f2e-4e94-93cb-d810bde5257c",
   "metadata": {},
   "source": [
    "**8. Operadores de Comparación**\n",
    "\n",
    "Dados dos números, compara si son iguales, si el primero es mayor que el segundo, y si el segundo es menor o igual que el primero. Muestra los resultados"
   ]
  },
  {
   "cell_type": "code",
   "execution_count": null,
   "id": "d03b8563-b955-4ad1-a614-0608afc49edc",
   "metadata": {},
   "outputs": [],
   "source": []
  },
  {
   "cell_type": "markdown",
   "id": "b2689996-2045-46c6-847a-47bb9aac46c9",
   "metadata": {},
   "source": [
    "**9. Operadores Lógicos**\n",
    "\n",
    "Dadas tres variables booleanas, evalúa si al menos una de ellas es verdadera (true) y si todas son verdaderas. Muestra los resultados."
   ]
  },
  {
   "cell_type": "code",
   "execution_count": null,
   "id": "99e66961-bbde-434f-af22-419854860fb7",
   "metadata": {},
   "outputs": [],
   "source": []
  },
  {
   "cell_type": "markdown",
   "id": "355e94a5-c264-4600-b06e-267cc9530a19",
   "metadata": {},
   "source": [
    "**10. Manipulación de Strings**\n",
    "\n",
    "Dada una cadena de texto, concaténala con otra cadena, calcula su longitud y verifica si contiene una subcadena específica. Muestra los resultados."
   ]
  },
  {
   "cell_type": "code",
   "execution_count": null,
   "id": "891b75f8-60f7-489f-98cc-59b5791903d3",
   "metadata": {},
   "outputs": [],
   "source": []
  }
 ],
 "metadata": {
  "kernelspec": {
   "display_name": "Scala",
   "language": "scala",
   "name": "scala"
  },
  "language_info": {
   "codemirror_mode": "text/x-scala",
   "file_extension": ".sc",
   "mimetype": "text/x-scala",
   "name": "scala",
   "nbconvert_exporter": "script",
   "version": "2.13.16"
  }
 },
 "nbformat": 4,
 "nbformat_minor": 5
}
