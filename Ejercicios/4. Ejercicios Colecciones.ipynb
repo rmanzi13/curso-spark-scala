{
 "cells": [
  {
   "cell_type": "markdown",
   "id": "652f3856-1999-4d20-a0f3-bccdaa43b920",
   "metadata": {},
   "source": [
    "**1. Filtrar Números Pares y Multiplicarlos por 2:**\n",
    "\n",
    "- Dada una lista de enteros, filtra los números pares y luego multiplica cada número par por 2."
   ]
  },
  {
   "cell_type": "code",
   "execution_count": null,
   "id": "e2a4b8e2-b31d-4419-a5fc-e53253b63e19",
   "metadata": {},
   "outputs": [],
   "source": []
  },
  {
   "cell_type": "markdown",
   "id": "156bf224-329b-4407-af23-e5da1fd7e425",
   "metadata": {},
   "source": [
    "**2. Calcular la Suma de las Longitudes de las Palabras:**\n",
    "\n",
    "- Dada una lista de cadenas, calcula la suma de las longitudes de todas las palabras."
   ]
  },
  {
   "cell_type": "code",
   "execution_count": null,
   "id": "4a42c194-fdea-4098-b40f-8f332b18a20e",
   "metadata": {},
   "outputs": [],
   "source": []
  },
  {
   "cell_type": "markdown",
   "id": "ba1e8003-fcdb-4d20-8ce0-919fd5326750",
   "metadata": {},
   "source": [
    "**3. Encontrar la Palabra Más Larga:**\n",
    "\n",
    "- Dada una lista de cadenas, encuentra la palabra más larga."
   ]
  },
  {
   "cell_type": "code",
   "execution_count": null,
   "id": "94698706-52fe-4841-b55f-58d08f4218ad",
   "metadata": {},
   "outputs": [],
   "source": []
  },
  {
   "cell_type": "markdown",
   "id": "bd34a42a-e3df-4746-887b-5a7c7831e7f1",
   "metadata": {},
   "source": [
    "**4. Agrupar Palabras por Longitud:**\n",
    "\n",
    "- Dada una lista de cadenas, agrupa las palabras por su longitud en un Map.\n",
    "Solución:"
   ]
  },
  {
   "cell_type": "code",
   "execution_count": null,
   "id": "dd185231-220c-4c82-9b9d-c5e4e5ae15de",
   "metadata": {},
   "outputs": [],
   "source": []
  },
  {
   "cell_type": "markdown",
   "id": "c5ad7747-1f07-46d6-96b8-34fecaf7b8eb",
   "metadata": {},
   "source": [
    "**5.Encontrar Palabras que Contienen una Subcadena:**\n",
    "\n",
    "- Dada una lista de cadenas y una subcadena, filtra las palabras que contienen la subcadena (sin importar mayúsculas o minúsculas)."
   ]
  },
  {
   "cell_type": "code",
   "execution_count": null,
   "id": "6fd00835-53d1-498a-996c-793069891786",
   "metadata": {},
   "outputs": [],
   "source": []
  },
  {
   "cell_type": "markdown",
   "id": "d2a551d9-01bb-459f-abf5-66d42e351066",
   "metadata": {},
   "source": [
    "**6. Calcular el Producto de los Elementos de una Lista (Usando reduce)**\n",
    "\n",
    "- Dada una lista de números, calcula el producto de todos los elementos utilizando reduce."
   ]
  },
  {
   "cell_type": "code",
   "execution_count": null,
   "id": "70b4a78f-5db4-4695-b96f-889514e9e74d",
   "metadata": {},
   "outputs": [],
   "source": []
  },
  {
   "cell_type": "markdown",
   "id": "6eea7638-e8bd-44e7-bcec-f965b949d7a1",
   "metadata": {},
   "source": [
    "**7. FlatMap y Listas Anidadas**\n",
    "\n",
    "- Dada una lista de listas de números enteros, aplana la lista para obtener una sola lista con todos los elementos."
   ]
  },
  {
   "cell_type": "code",
   "execution_count": null,
   "id": "f379adca-f4ce-4e06-bdde-b09c826cfa25",
   "metadata": {},
   "outputs": [],
   "source": []
  },
  {
   "cell_type": "markdown",
   "id": "573855d4-b1ee-4dfe-bb27-fd04515bd7df",
   "metadata": {},
   "source": [
    "**8. Combinación de Operaciones (Filtrado, Mapeo y Reducción)**\n",
    "\n",
    "- Dada una lista de números enteros, filtra los números mayores que 5, luego eleva cada número al cuadrado y finalmente calcula la suma de los cuadrados."
   ]
  },
  {
   "cell_type": "code",
   "execution_count": null,
   "id": "97331c62-5d6c-4ac6-bb00-632982459c07",
   "metadata": {},
   "outputs": [],
   "source": []
  },
  {
   "cell_type": "markdown",
   "id": "7799f13a-2f33-46ff-9708-620f6c4cf493",
   "metadata": {},
   "source": [
    " **9 Agrupar Palabras por Anagramas**\n",
    "\n",
    "- Dada una lista de palabras, agrupa las palabras que son anagramas entre sí en un Map. Un anagrama es una palabra que contiene las mismas letras que otra palabra, pero en un orden diferente."
   ]
  },
  {
   "cell_type": "code",
   "execution_count": null,
   "id": "88009cdb-145d-46c5-b90e-4ef6d986b790",
   "metadata": {},
   "outputs": [],
   "source": []
  },
  {
   "cell_type": "markdown",
   "id": "39b032e1-1795-4ed5-818b-d4862769bd73",
   "metadata": {},
   "source": [
    "**10. Calcular la Mediana de una Lista de Números**\n",
    "\n",
    "- Dada una lista de números, calcula la mediana. La mediana es el valor central de una lista ordenada. Si la lista tiene un número par de elementos, la mediana es el promedio de los dos valores centrales."
   ]
  },
  {
   "cell_type": "code",
   "execution_count": null,
   "id": "2a64e2e4-8a64-485d-be41-cb60e8d455ac",
   "metadata": {},
   "outputs": [],
   "source": []
  }
 ],
 "metadata": {
  "kernelspec": {
   "display_name": "Apache Toree - Scala",
   "language": "scala",
   "name": "apache_toree_scala"
  },
  "language_info": {
   "codemirror_mode": "text/x-scala",
   "file_extension": ".scala",
   "mimetype": "text/x-scala",
   "name": "scala",
   "pygments_lexer": "scala",
   "version": "2.12.15"
  }
 },
 "nbformat": 4,
 "nbformat_minor": 5
}
