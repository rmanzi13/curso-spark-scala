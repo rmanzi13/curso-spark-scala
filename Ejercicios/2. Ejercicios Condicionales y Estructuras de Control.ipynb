{
 "cells": [
  {
   "cell_type": "markdown",
   "id": "7acb9a9a-800f-451e-8b5a-6c9839f4d722",
   "metadata": {},
   "source": [
    "**1. Comparación de Números:**\n",
    "\n",
    "Escribe un programa que compare dos números enteros y muestre cuál es el mayor."
   ]
  },
  {
   "cell_type": "code",
   "execution_count": null,
   "id": "27a8a862-b1f0-489b-be81-d7e53e81854d",
   "metadata": {},
   "outputs": [],
   "source": [
    "/* val1\n",
    "   val2\n",
    "\n",
    "   if\n",
    "   else/if\n",
    "   else\n",
    "*/\n"
   ]
  },
  {
   "cell_type": "markdown",
   "id": "6874b1b7-c420-4114-8f1c-3f383b9224c9",
   "metadata": {},
   "source": [
    "**2. Año Bisiesto:**\n",
    "\n",
    "Crea un programa que determine si un año ingresado por el usuario es bisiesto."
   ]
  },
  {
   "cell_type": "code",
   "execution_count": null,
   "id": "5d918725-cd12-4687-89b8-bca88346726a",
   "metadata": {},
   "outputs": [],
   "source": [
    "/*\n",
    "Reglas para un año bisiesto:\n",
    "El año debe ser divisible por 4.\n",
    "\n",
    "Si no lo es, no es un año bisiesto.\n",
    "Si el año es divisible por 100, entonces debe ser divisible por 400 para ser un año bisiesto.\n",
    "\n",
    "Si es divisible por 100 pero no es divisible por 400, entonces no es un año bisiesto.\n",
    "\n",
    "val = año 2024\n",
    "\n",
    "usamos operadores lógicos || (OR) &&  (AND)\n",
    "\n",
    "if\n",
    "else\n",
    "*/"
   ]
  },
  {
   "cell_type": "markdown",
   "id": "73e009b1-477d-4ea4-a730-a255b82f880d",
   "metadata": {},
   "source": [
    "**3. Simulación de Semáforo:**\n",
    "\n",
    "Implementa un programa que simule un semáforo, mostrando los colores según el estado (rojo, amarillo, verde)."
   ]
  },
  {
   "cell_type": "code",
   "execution_count": null,
   "id": "5079f6d3-77be-43a1-b6d5-a4d4d328ecd4",
   "metadata": {},
   "outputs": [],
   "source": [
    "/*\n",
    "val estado = \" \"\n",
    "\n",
    "estado match {\n",
    "Case -----------\n",
    "Case---------------\n",
    "\n",
    "\n",
    "}\n",
    "*/"
   ]
  },
  {
   "cell_type": "markdown",
   "id": "e600c71a-00d2-4296-b306-e9bd533bec58",
   "metadata": {},
   "source": [
    "**4. Índice de Masa Corporal (IMC):**\n",
    "\n",
    "Escribe un programa que calcule el IMC y muestre la categoría de peso correspondiente."
   ]
  },
  {
   "cell_type": "code",
   "execution_count": null,
   "id": "5bf9c81f-2cbb-4cf2-8ee9-4c39131dae61",
   "metadata": {},
   "outputs": [],
   "source": [
    "/*\n",
    "val peso = \n",
    "val altura = s\n",
    "val imc = peso / (altura * altura)\n",
    "\n",
    "if\n",
    "else/if\n",
    "else/if\n",
    "else\n",
    "\n",
    "\n",
    "*/"
   ]
  },
  {
   "cell_type": "markdown",
   "id": "8e570e85-f79a-45f8-a349-546d3324cb45",
   "metadata": {},
   "source": [
    "**5. Calculadora Básica:**\n",
    "\n",
    "Crea un programa que simule una calculadora básica, permitiendo realizar operaciones aritméticas según la elección del usuario."
   ]
  },
  {
   "cell_type": "code",
   "execution_count": null,
   "id": "afd7730d-1a92-4de5-b539-5e1ba0ccec28",
   "metadata": {},
   "outputs": [],
   "source": [
    "/*\n",
    "val num1 =\n",
    "val num2 =\n",
    "val operacion = \" \"\n",
    "\n",
    "operacion match {\n",
    "  case \" \"\n",
    "  case \" \"\n",
    "\n",
    "\n",
    "\n",
    "}\n",
    "\n",
    "*/"
   ]
  },
  {
   "cell_type": "markdown",
   "id": "547dce2f-20d8-4fff-98d3-0e4a935264c2",
   "metadata": {},
   "source": [
    "**6. Palíndromo:**\n",
    "\n",
    "Implementa un programa que determine si una cadena de texto es un palíndromo."
   ]
  },
  {
   "cell_type": "code",
   "execution_count": null,
   "id": "3ba138b5-a87f-474d-9309-9f42b43c0501",
   "metadata": {},
   "outputs": [],
   "source": [
    "/*\n",
    "val cadena = \"radar\"\n",
    "usar método reverse\n",
    "\n",
    "if\n",
    "else\n",
    "\n",
    "*/"
   ]
  },
  {
   "cell_type": "markdown",
   "id": "2dd748c2-b58a-487d-9e20-56ff39cad45b",
   "metadata": {},
   "source": [
    "**7. Condicional If-Else**\n",
    "\n",
    "Escribe un programa que tome un número entero y determine si es positivo, negativo o cero."
   ]
  },
  {
   "cell_type": "code",
   "execution_count": null,
   "id": "5c1b1b66-5924-4920-a1ee-7941d038ed02",
   "metadata": {},
   "outputs": [],
   "source": [
    "/*\n",
    "val numero: Int = \n",
    "\n",
    "// Condicional if-else\n",
    "\n",
    "*/"
   ]
  },
  {
   "cell_type": "markdown",
   "id": "2ce8b755-2907-491c-b567-c3ec281e54fe",
   "metadata": {},
   "source": [
    "**8. Match (Switch en Scala)**\n",
    "\n",
    "Dado un número del 1 al 5, imprime el nombre del número en palabras (por ejemplo, 1 -> \"Uno\"). Si el número está fuera de ese rango, imprime \"Número no válido\"."
   ]
  },
  {
   "cell_type": "code",
   "execution_count": null,
   "id": "c47e8222-5c8a-4bfb-bcd4-b39e7ef798dc",
   "metadata": {},
   "outputs": [],
   "source": []
  },
  {
   "cell_type": "markdown",
   "id": "891e12f3-f1da-4248-ad05-0736e5299a80",
   "metadata": {},
   "source": [
    "**9. Bucle For**\n",
    "\n",
    "Escribe un programa que imprima los números pares del 1 al 10 usando un bucle for."
   ]
  },
  {
   "cell_type": "code",
   "execution_count": null,
   "id": "b1585df6-8193-41b0-8914-5939827728e6",
   "metadata": {},
   "outputs": [],
   "source": []
  },
  {
   "cell_type": "markdown",
   "id": "b35109b5-380d-4257-b691-a712fe2722e3",
   "metadata": {},
   "source": [
    "**10. Try-Catch (Manejo de Excepciones)**\n",
    "\n",
    "Escribe un programa que intente dividir dos números. Si el divisor es cero, captura la excepción y muestra un mensaje de error."
   ]
  },
  {
   "cell_type": "code",
   "execution_count": null,
   "id": "baa45551-fc70-4833-a8c3-1bbafee6a345",
   "metadata": {},
   "outputs": [],
   "source": [
    "/*\n",
    "val dividendo: \n",
    "val divisor: \n",
    "\n",
    "// Manejo de excepciones con try-catch\n",
    "try { \n",
    "Esta en apuntes la sintawxi\n",
    "\n",
    "*/"
   ]
  },
  {
   "cell_type": "code",
   "execution_count": null,
   "id": "2c89ccdf-2fff-45e6-b136-6497fd6317cf",
   "metadata": {},
   "outputs": [],
   "source": []
  }
 ],
 "metadata": {
  "kernelspec": {
   "display_name": "Apache Toree - Scala",
   "language": "scala",
   "name": "apache_toree_scala"
  },
  "language_info": {
   "codemirror_mode": "text/x-scala",
   "file_extension": ".scala",
   "mimetype": "text/x-scala",
   "name": "scala",
   "pygments_lexer": "scala",
   "version": "2.12.15"
  }
 },
 "nbformat": 4,
 "nbformat_minor": 5
}
