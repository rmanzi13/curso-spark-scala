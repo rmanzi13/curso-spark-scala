{
 "cells": [
  {
   "cell_type": "markdown",
   "id": "8c05e2b3-3a77-4ada-bf42-b141ba9360ea",
   "metadata": {},
   "source": [
    "### Funciones de Colecciones en Scala (Ejercicios Avanzados)"
   ]
  },
  {
   "cell_type": "markdown",
   "id": "4c872b17-09e6-498b-9eaf-fbb870da1c39",
   "metadata": {},
   "source": [
    "#### **1. Contar palabras únicas en un texto**\n",
    "\n",
    "Dado un párrafo de texto, procesa la información para:\n",
    "\n",
    "**a)** Eliminar signos de puntuación y convertir todo el texto a minúsculas.\n",
    "\n",
    "**b)** Dividirlo en palabras individuales.\n",
    "\n",
    "**c)** Contar la cantidad de veces que aparece cada palabra.\n",
    "\n",
    "**d)** Devolver un mapa con las palabras únicas ordenadas alfabéticamente y su frecuencia.\n"
   ]
  },
  {
   "cell_type": "code",
   "execution_count": null,
   "id": "d0c56bd7-894b-4c74-a8dc-2992a5ac747f",
   "metadata": {},
   "outputs": [],
   "source": [
    "val texto = \"Scala es genial, Scala es poderoso. ¡Scala es increíble!\""
   ]
  },
  {
   "cell_type": "markdown",
   "id": "ff0e6015-f573-4f18-909a-f2cfe7bf40a6",
   "metadata": {},
   "source": [
    "#### **2. Agrupar Anagramas por Longitud:**\n",
    "\n",
    "- Dada una lista de palabras, agrupa los anagramas por su longitud."
   ]
  },
  {
   "cell_type": "code",
   "execution_count": null,
   "id": "bffa99b8-58bd-4a39-b6ae-5439e431c0aa",
   "metadata": {},
   "outputs": [],
   "source": []
  },
  {
   "cell_type": "markdown",
   "id": "bd29152a-cda7-4eac-b96a-6d3bffb544c3",
   "metadata": {},
   "source": [
    "#### **3. Calcular la Varianza de una Lista de Números:**\n",
    "\n",
    "- Dada una lista de números, calcula la varianza. La varianza mide la dispersión de los datos alrededor de la media."
   ]
  },
  {
   "cell_type": "code",
   "execution_count": null,
   "id": "c3f48550-7be6-4627-8e40-cc8929d3fbc6",
   "metadata": {},
   "outputs": [],
   "source": []
  },
  {
   "cell_type": "markdown",
   "id": "4a8383b1-41a4-4da3-b00d-21a78b983693",
   "metadata": {},
   "source": [
    "#### **4. Cálculo de la frecuencia de palabras**\n",
    "\n",
    "Dada una lista de palabras, escribe una función que calcule la frecuencia de aparición de cada palabra y devuelva un mapa donde las claves son las palabras y los valores son las cantidades de veces que aparece cada una.\n",
    "\n",
    "Requisitos:\n",
    "\n",
    "La función debe ser genérica para cualquier lista de palabras (de tipo String).\n",
    "Usa las funciones groupBy y map de las colecciones.\n"
   ]
  },
  {
   "cell_type": "code",
   "execution_count": null,
   "id": "495110f3-57d5-4258-8e49-fb2b098d6b38",
   "metadata": {},
   "outputs": [],
   "source": []
  },
  {
   "cell_type": "markdown",
   "id": "36a59f40-81ce-4e0a-8f70-b4ac820ac474",
   "metadata": {},
   "source": [
    "#### **5. Implementar un Diccionario de Búsqueda de Prefijos:**\n",
    "\n",
    "- Dada una lista de palabras, implementa una función que permita buscar todas las palabras que comienzan con un prefijo dado."
   ]
  },
  {
   "cell_type": "code",
   "execution_count": null,
   "id": "6211f677-12c8-44fb-bf52-8ea106682f40",
   "metadata": {},
   "outputs": [],
   "source": []
  },
  {
   "cell_type": "markdown",
   "id": "a47fa69d-60ef-4dd2-a780-ad66040c035b",
   "metadata": {},
   "source": [
    "#### **6. Ordenamiento Personalizado**\n",
    "\n",
    "- Dada una lista de tuplas (nombre, edad), ordénala primero por edad en orden descendente y luego por nombre en orden ascendente."
   ]
  },
  {
   "cell_type": "code",
   "execution_count": null,
   "id": "3dec4043-3e2d-46b7-aaa1-0b4845bb7913",
   "metadata": {},
   "outputs": [],
   "source": []
  },
  {
   "cell_type": "markdown",
   "id": "f2956a31-0b9a-4841-aba5-6bb03698fd9d",
   "metadata": {},
   "source": [
    "#### **7. Operaciones con Múltiples Colecciones**\n",
    "\n",
    "- Dadas dos listas de números, encuentra los elementos comunes entre ambas listas (intersección)."
   ]
  },
  {
   "cell_type": "code",
   "execution_count": null,
   "id": "a40a4cb1-fce9-4d94-86dc-2825a2e1fe85",
   "metadata": {},
   "outputs": [],
   "source": []
  },
  {
   "cell_type": "markdown",
   "id": "a89a4415-5ccf-4bb0-89d3-05af8df3369c",
   "metadata": {},
   "source": [
    "#### **8. Filtrado y transformación de una lista**\n",
    "\n",
    "**Enunciado**:\n",
    "\n",
    "Dada una lista de números enteros, escribe una función que:\n",
    "\n",
    "Filtre los números que son múltiplos de 3.\n",
    "Multiplique cada número filtrado por 2.\n",
    "Devuelva una nueva lista con los resultados.\n",
    "Requisitos:\n",
    "\n",
    "La función debe ser genérica para cualquier lista de enteros.\n",
    "Usa las funciones filter y map de las colecciones."
   ]
  },
  {
   "cell_type": "code",
   "execution_count": null,
   "id": "9087da93-ff56-4a15-b24a-d51cc747e5b2",
   "metadata": {},
   "outputs": [],
   "source": []
  },
  {
   "cell_type": "markdown",
   "id": "7e44aa05-ad25-4826-9b46-0ecf8fd7cd1b",
   "metadata": {},
   "source": [
    "#### **9. Operaciones con Option**\n",
    "\n",
    "- Dada una lista de Option[Int], filtra los valores que no son None y luego suma los valores restantes."
   ]
  },
  {
   "cell_type": "code",
   "execution_count": null,
   "id": "b567bcbe-e93e-4dd8-90a6-b3fb95654166",
   "metadata": {},
   "outputs": [],
   "source": []
  },
  {
   "cell_type": "markdown",
   "id": "d6c1f32c-b727-4cf1-a609-3c7b8b237e3f",
   "metadata": {},
   "source": [
    "#### **10. Operaciones Avanzadas con Map**\n",
    "\n",
    "- Dada una lista de palabras, cuenta cuántas veces aparece cada palabra y devuelve un mapa con la palabra como clave y la cantidad de ocurrencias como valor."
   ]
  },
  {
   "cell_type": "code",
   "execution_count": null,
   "id": "f6ba2a83-251f-432d-8380-eeb0d9dea97d",
   "metadata": {},
   "outputs": [],
   "source": []
  }
 ],
 "metadata": {
  "kernelspec": {
   "display_name": "Apache Toree - Scala",
   "language": "scala",
   "name": "apache_toree_scala"
  },
  "language_info": {
   "codemirror_mode": "text/x-scala",
   "file_extension": ".scala",
   "mimetype": "text/x-scala",
   "name": "scala",
   "pygments_lexer": "scala",
   "version": "2.12.15"
  }
 },
 "nbformat": 4,
 "nbformat_minor": 5
}
