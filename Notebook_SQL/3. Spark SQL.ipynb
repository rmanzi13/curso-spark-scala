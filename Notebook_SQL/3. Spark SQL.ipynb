{
 "cells": [
  {
   "cell_type": "markdown",
   "id": "48f42679-9d3f-4425-8849-7c0554c03b80",
   "metadata": {},
   "source": [
    "## Spark SQL"
   ]
  },
  {
   "cell_type": "markdown",
   "id": "29699f1e-4c45-4bef-9576-d6999cd00324",
   "metadata": {},
   "source": [
    "### 1. ¿Qué es Spark SQL?"
   ]
  },
  {
   "cell_type": "markdown",
   "id": "3b5e6aab-aed0-43b7-85cd-d792c98f1638",
   "metadata": {},
   "source": [
    "**Spark SQL** es un módulo de Apache Spark que permite ejecutar consultas SQL sobre datos estructurados. Está diseñado para trabajar con DataFrames y Datasets, proporcionando una interfaz unificada para el procesamiento de datos."
   ]
  },
  {
   "cell_type": "markdown",
   "id": "cfb4366c-a7fa-4f1e-a058-22f7dff1822c",
   "metadata": {},
   "source": [
    "**Características principales:**\n",
    "\n",
    "- **Compatibilidad con SQL**: Soporta consultas SQL estándar.\n",
    "\n",
    "- **Optimización**: Utiliza el optimizador Catalyst para mejorar el rendimiento de las consultas.\n",
    "\n",
    "- **Integración**: Funciona con DataFrames y Datasets, permitiendo combinar SQL con código en Scala, Java, Python o R.\n",
    "\n",
    "- **Fuentes de datos**: Puede leer y escribir datos desde y hacia múltiples formatos (CSV, JSON, Parquet, Hive, etc.)."
   ]
  },
  {
   "cell_type": "markdown",
   "id": "eeaa2cca-7599-4d29-adab-7a3818912ee4",
   "metadata": {},
   "source": [
    "### 2. Ejecución de consultas SQL sobre DataFrames"
   ]
  },
  {
   "cell_type": "markdown",
   "id": "8a10e1c3-5b75-44cf-8868-03512a0a2ebd",
   "metadata": {},
   "source": [
    "**Spark SQL** permite ejecutar consultas SQL directamente sobre DataFrames, lo que facilita el análisis de datos para usuarios familiarizados con SQL."
   ]
  },
  {
   "cell_type": "markdown",
   "id": "252c7019-900e-4f16-8166-c39290ff1fd5",
   "metadata": {},
   "source": [
    "**Pasos para ejecutar una consulta SQL:**\n",
    "\n",
    "**1.** Crear un DataFrame.\n",
    "\n",
    "**2.** Registrar el DataFrame como una vista temporal.\n",
    "\n",
    "**3.** Ejecutar la consulta SQL sobre la vista.\n",
    "\n",
    "**Ejemplo:**"
   ]
  },
  {
   "cell_type": "code",
   "execution_count": null,
   "id": "602733c4-db32-4a56-a314-4a57bc19f3e4",
   "metadata": {},
   "outputs": [],
   "source": [
    "// Crear un DataFrame\n",
    "val df = spark.read\n",
    "  .option(\"header\", \"true\")\n",
    "  .csv(\"ruta/al/archivo.csv\")\n",
    "\n",
    "// Registrar el DataFrame como una vista temporal\n",
    "df.createOrReplaceTempView(\"personas\")\n",
    "\n",
    "// Ejecutar una consulta SQL\n",
    "val resultado = spark.sql(\"SELECT * FROM personas WHERE edad > 30\")\n",
    "resultado.show()"
   ]
  },
  {
   "cell_type": "markdown",
   "id": "24decc07-7b47-4a90-b1ad-0d0eec221e84",
   "metadata": {},
   "source": [
    "### 3. Ventajas de usar SQL con Spark"
   ]
  },
  {
   "cell_type": "markdown",
   "id": "26c1a21e-0201-40bf-9644-f6db56f76989",
   "metadata": {},
   "source": [
    "**1.** Facilidad de uso: Los usuarios familiarizados con SQL pueden trabajar con Spark sin necesidad de aprender un nuevo lenguaje.\n",
    "\n",
    "**2.** Optimización automática: Spark SQL utiliza el optimizador Catalyst para mejorar el rendimiento de las consultas.\n",
    "\n",
    "**3.** Integración con DataFrames: Permite combinar SQL con operaciones de DataFrames en el mismo código.\n",
    "\n",
    "**4.** Escalabilidad: Las consultas SQL se ejecutan de manera distribuida en un clúster."
   ]
  },
  {
   "cell_type": "markdown",
   "id": "8c8d12f6-a69d-4fe5-9d30-850c43a8126c",
   "metadata": {},
   "source": [
    "### 4. Sintaxis básica de Spark SQL"
   ]
  },
  {
   "cell_type": "markdown",
   "id": "a5c947aa-d40e-417f-b5d9-b5b947fd6478",
   "metadata": {},
   "source": [
    "Spark SQL soporta la mayoría de las cláusulas SQL estándar. Aquí están las más comunes:\n",
    "\n",
    "**SELECT**:  \n",
    "\n",
    "- Selecciona columnas específicas."
   ]
  },
  {
   "cell_type": "code",
   "execution_count": null,
   "id": "f6504d3e-f5d2-4f05-addb-a621f48e3cee",
   "metadata": {},
   "outputs": [],
   "source": [
    "SELECT nombre, edad FROM personas"
   ]
  },
  {
   "cell_type": "markdown",
   "id": "a51de677-b7d1-430b-a3e9-b969433f4ade",
   "metadata": {},
   "source": [
    "**FROM**:  \n",
    "\n",
    "- Especifica la tabla o vista sobre la que se ejecuta la consulta."
   ]
  },
  {
   "cell_type": "code",
   "execution_count": null,
   "id": "37839b25-4ec4-453e-bfeb-ba176e2a2fe0",
   "metadata": {},
   "outputs": [],
   "source": [
    "SELECT * FROM personas"
   ]
  },
  {
   "cell_type": "markdown",
   "id": "52a38b49-7d77-470e-a6cc-703549955fbe",
   "metadata": {},
   "source": [
    "**WHERE**:  \n",
    "\n",
    "- Filtra filas basadas en una condición."
   ]
  },
  {
   "cell_type": "code",
   "execution_count": null,
   "id": "4bcbe0a2-f105-40a0-ba2c-b55234ec66f9",
   "metadata": {},
   "outputs": [],
   "source": [
    "SELECT * FROM personas WHERE edad > 30"
   ]
  },
  {
   "cell_type": "markdown",
   "id": "2f2305b4-c3b9-4bdc-a34e-92faf496f205",
   "metadata": {},
   "source": [
    "**GROUP BY**:  \n",
    "\n",
    "- Agrupa filas basadas en una o más columnas."
   ]
  },
  {
   "cell_type": "code",
   "execution_count": null,
   "id": "7bb2781d-7eb0-415a-be9d-dcc258d798a7",
   "metadata": {},
   "outputs": [],
   "source": [
    "SELECT ciudad, COUNT(*) FROM personas GROUP BY ciudad"
   ]
  },
  {
   "cell_type": "markdown",
   "id": "953e4267-bb91-4f59-89ee-2715f515cad9",
   "metadata": {},
   "source": [
    "**JOIN**:\n",
    "\n",
    "- Combina filas de dos o más tablas basadas en una condición."
   ]
  },
  {
   "cell_type": "code",
   "execution_count": null,
   "id": "4febd4b7-eb3d-431e-80fb-6054fe4e9dd8",
   "metadata": {},
   "outputs": [],
   "source": [
    "SELECT p.nombre, c.ciudad \n",
    "FROM personas p \n",
    "JOIN ciudades c ON p.ciudad_id = c.id"
   ]
  },
  {
   "cell_type": "markdown",
   "id": "46d2f7ed-9be7-4c8a-a260-c0d4996c50d1",
   "metadata": {},
   "source": [
    "**Funciones SQL comunes**  \n",
    "\n",
    "- Agregación: COUNT(), SUM(), AVG(), MIN(), MAX()."
   ]
  },
  {
   "cell_type": "code",
   "execution_count": null,
   "id": "b8e634ab-c185-4bb6-ad6f-dd79e345103d",
   "metadata": {},
   "outputs": [],
   "source": [
    "SELECT AVG(edad) FROM personas"
   ]
  },
  {
   "cell_type": "markdown",
   "id": "2443566b-2d91-4b62-b52e-a9d4238a96d1",
   "metadata": {},
   "source": [
    "- Manipulación de cadenas: CONCAT(), SUBSTRING(), UPPER(), LOWER().- "
   ]
  },
  {
   "cell_type": "code",
   "execution_count": null,
   "id": "4cdd1cb0-3f41-48f4-8be6-ac27c515e348",
   "metadata": {},
   "outputs": [],
   "source": [
    "SELECT CONCAT(nombre, ' ', apellido) AS nombre_completo FROM personas"
   ]
  },
  {
   "cell_type": "markdown",
   "id": "7140f388-3fb8-4a20-8da8-ee229b07c486",
   "metadata": {},
   "source": [
    "- Funciones de fecha: YEAR(), MONTH(), DAY(), DATE_ADD(), DATEDIFF()."
   ]
  },
  {
   "cell_type": "code",
   "execution_count": null,
   "id": "1f1cb752-bb81-4931-af55-d3fd40eeebeb",
   "metadata": {},
   "outputs": [],
   "source": [
    "SELECT YEAR(fecha_nacimiento) AS año_nacimiento FROM personas"
   ]
  },
  {
   "cell_type": "markdown",
   "id": "08005bcc-420a-4d0b-88c3-b602dd2e05a9",
   "metadata": {},
   "source": [
    "### 5. Vistas temporales y tablas"
   ]
  },
  {
   "cell_type": "markdown",
   "id": "058a17dc-a9b2-4a82-ad29-728f5a2db0ba",
   "metadata": {},
   "source": [
    "**Vistas temporales**:  \n",
    "\n",
    "- Son vistas que existen solo durante la sesión de Spark.\n",
    "\n",
    "- Se crean a partir de DataFrames y permiten ejecutar consultas SQL.\n",
    "\n",
    "- Cómo registrar un DataFrame como una vista temporal:"
   ]
  },
  {
   "cell_type": "code",
   "execution_count": null,
   "id": "3d96c009-d007-423d-8e8d-557e967d895e",
   "metadata": {},
   "outputs": [],
   "source": [
    "df.createOrReplaceTempView(\"personas\")"
   ]
  },
  {
   "cell_type": "markdown",
   "id": "51c29893-352a-4d23-a15c-9bbe29e200e2",
   "metadata": {},
   "source": [
    "- Ejecución de consultas SQL sobre vistas:"
   ]
  },
  {
   "cell_type": "code",
   "execution_count": null,
   "id": "1cfa7dd3-8fdd-4daa-8a35-e8a327e73123",
   "metadata": {},
   "outputs": [],
   "source": [
    "val resultado = spark.sql(\"SELECT * FROM personas WHERE edad > 30\")\n",
    "resultado.show()"
   ]
  },
  {
   "cell_type": "markdown",
   "id": "2c7d626c-3846-42c7-954b-1c7c2d289bc4",
   "metadata": {},
   "source": [
    "**Tablas persistentes**:\n",
    "\n",
    "- Son tablas que se almacenan en un catálogo (por ejemplo, Hive) y persisten más allá de la sesión de Spark.\n",
    "\n",
    "- Se crean usando saveAsTable.\n",
    "\n",
    "- Cómo registrar un DataFrame como una tabla persistente:"
   ]
  },
  {
   "cell_type": "code",
   "execution_count": null,
   "id": "7a099761-6912-4a01-a3bb-88d233c06ea5",
   "metadata": {},
   "outputs": [],
   "source": [
    "df.write.saveAsTable(\"personas_persistentes\")"
   ]
  },
  {
   "cell_type": "markdown",
   "id": "d472495d-a4e5-4f7a-a905-0e93479b01ae",
   "metadata": {},
   "source": [
    "- Ejecución de consultas SQL sobre tablas:"
   ]
  },
  {
   "cell_type": "code",
   "execution_count": null,
   "id": "8cb059df-e03e-46ac-ac4c-2c7aa6283317",
   "metadata": {},
   "outputs": [],
   "source": [
    "val resultado = spark.sql(\"SELECT * FROM personas_persistentes WHERE edad > 30\")\n",
    "resultado.show()"
   ]
  }
 ],
 "metadata": {
  "kernelspec": {
   "display_name": "Apache Toree - Scala",
   "language": "scala",
   "name": "apache_toree_scala"
  },
  "language_info": {
   "codemirror_mode": "text/x-scala",
   "file_extension": ".scala",
   "mimetype": "text/x-scala",
   "name": "scala",
   "pygments_lexer": "scala",
   "version": "2.12.15"
  }
 },
 "nbformat": 4,
 "nbformat_minor": 5
}
