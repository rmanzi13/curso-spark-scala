{
 "cells": [
  {
   "cell_type": "markdown",
   "id": "b38a0179-a0e5-406a-ae99-b703ab6d1537",
   "metadata": {},
   "source": [
    "## Métricas de Modelos de Machine Learning"
   ]
  },
  {
   "cell_type": "markdown",
   "id": "ece8a492-d1c5-46a7-9c4b-f6fa91890b85",
   "metadata": {},
   "source": [
    "### ¿Qué son las métricas?\n",
    "\n",
    "- Las métricas son como \"medidores\" que nos dicen qué tan bien está funcionando un modelo de ML.\n",
    "- Cada métrica se enfoca en un aspecto diferente del rendimiento del modelo.\n",
    "\n",
    "#### Tipos principales de métricas:\n",
    "\n",
    "**1. Para modelos de clasificación** (cuando el modelo predice categorías):\n",
    "\n",
    "  - **Precisión (Accuracy)**: ¿Cuántas predicciones correctas hizo el modelo en total?\n",
    "\n",
    "  - **Precisión (Precision)**: ¿Cuántas de las predicciones positivas del modelo fueron realmente correctas?\n",
    "\n",
    "  - **Recall (Sensibilidad)**: ¿Cuántos de los casos positivos reales detectó el modelo?\n",
    "\n",
    "  - **F1-score**: Un equilibrio entre precisión y recall.\n",
    "\n",
    "  - **Matriz de confusió**: Una tabla que muestra cuántas predicciones fueron correctas e incorrectas, divididas por categorías.\n",
    "    \n",
    "**2. Para modelos de regresión** (cuando el modelo predice números):\n",
    "\n",
    "  - **Error Cuadrático Medio (MSE)**: El promedio de los errores al cuadrado.\n",
    "    \n",
    "  - **Raíz del Error Cuadrático Medio (RMSE)**: La raíz cuadrada del MSE (más fácil de interpretar).\n",
    "\n",
    "  - **Error Absoluto Medio (MAE)**: El promedio de los errores absolutos.\n",
    "\n",
    "  - **R cuadrado (R²)**: ¿Qué tan bien se ajusta el modelo a los datos?\n",
    "\n",
    "#### ¿Para qué sirven?\n",
    "\n",
    "- Ayudan a comparar diferentes modelos y elegir el mejor.\n",
    "\n",
    "- Permiten ajustar los parámetros de un modelo para mejorar su rendimiento.\n",
    "\n",
    "- Proporcionan información sobre las fortalezas y debilidades de un modelo.\n",
    "\n",
    "**En resumen**:\n",
    "\n",
    "Las métricas son herramientas esenciales para evaluar y mejorar los modelos de ML. Nos permiten medir qué tan bien están funcionando y tomar decisiones informadas sobre cóm"
   ]
  }
 ],
 "metadata": {
  "kernelspec": {
   "display_name": "Apache Toree - Scala",
   "language": "scala",
   "name": "apache_toree_scala"
  },
  "language_info": {
   "codemirror_mode": "text/x-scala",
   "file_extension": ".scala",
   "mimetype": "text/x-scala",
   "name": "scala",
   "pygments_lexer": "scala",
   "version": "2.12.15"
  }
 },
 "nbformat": 4,
 "nbformat_minor": 5
}
