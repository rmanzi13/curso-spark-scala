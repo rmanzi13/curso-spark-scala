{
 "cells": [
  {
   "cell_type": "markdown",
   "id": "c6ce9a15-b9f7-4620-9405-a7188db67096",
   "metadata": {},
   "source": [
    "## 1. Definición de Machine Learning y su relevancia en la ciencia de datos\n",
    "Machine Learning (ML) es una rama de la Inteligencia Artificial (IA) que se enfoca en el desarrollo de algoritmos y modelos que permiten a las computadoras aprender patrones a partir de datos, sin ser programados explícitamente. En lugar de seguir instrucciones específicas, los sistemas de ML aprenden de la experiencia (datos) para realizar predicciones o tomar decisiones."
   ]
  },
  {
   "cell_type": "markdown",
   "id": "4cc81de8-f8fd-4e95-8963-cfb30530e683",
   "metadata": {},
   "source": [
    "- Relevancia en la ciencia de datos:\n",
    "\n",
    "   - El ML es una herramienta clave en la ciencia de datos, ya que permite extraer insights y patrones ocultos en grandes volúmenes de datos (Big Data).\n",
    "\n",
    "   - Facilita la toma de decisiones basadas en datos, la automatización de procesos y la creación de sistemas inteligentes.\n",
    "\n",
    "   - Con el crecimiento exponencial de los datos, el ML se ha convertido en un pilar fundamental para empresas y organizaciones que buscan mantenerse competitivas.\n",
    "\n"
   ]
  },
  {
   "cell_type": "markdown",
   "id": "6c2803f6-9bfc-4d3e-aae7-c5e19b836d3c",
   "metadata": {},
   "source": [
    "## 2. Tipos de aprendizaje en Machine Learning\n",
    "Existen tres tipos principales de aprendizaje en ML, cada uno con sus propias características y aplicaciones:"
   ]
  },
  {
   "cell_type": "markdown",
   "id": "be6934c0-c0e6-427d-a4f0-445a3f3f3047",
   "metadata": {},
   "source": [
    "### **1.** Aprendizaje Supervisado (Supervised Learning):\n",
    "\n",
    "- El modelo aprende a partir de datos etiquetados, es decir, datos que ya contienen la respuesta correcta.\n",
    "\n",
    "- El objetivo es predecir resultados para nuevos datos basándose en los patrones aprendidos.\n",
    "\n",
    "- Ejemplos:\n",
    "\n",
    "  - Clasificación: Predecir si un correo es spam o no.\n",
    "\n",
    "  - Regresión: Predecir el precio de una casa en función de sus características."
   ]
  },
  {
   "cell_type": "markdown",
   "id": "5ae37db0-d3cd-4368-b511-fc095ad38cc8",
   "metadata": {},
   "source": [
    "### **2.** Aprendizaje No Supervisado (Unsupervised Learning):\n",
    "\n",
    "- El modelo trabaja con datos no etiquetados y busca patrones o estructuras ocultas.\n",
    "\n",
    "- No hay una respuesta correcta, el objetivo es explorar y organizar los datos.\n",
    "\n",
    "- Ejemplos:\n",
    "\n",
    "  - Clustering: Agrupar clientes con comportamientos similares.\n",
    "\n",
    "  - Reducción de dimensionalidad: Simplificar datos complejos para su análisis.\n"
   ]
  },
  {
   "cell_type": "markdown",
   "id": "f3f48a41-f146-462e-8e52-805312901ba6",
   "metadata": {},
   "source": [
    "### **3.** Aprendizaje Reforzado (Reinforcement Learning):\n",
    "\n",
    "- El modelo aprende mediante interacción con un entorno, recibiendo recompensas o penalizaciones por sus acciones.\n",
    "\n",
    "- El objetivo es maximizar la recompensa acumulada a lo largo del tiempo.\n",
    "\n",
    "- Ejemplos:\n",
    "\n",
    "  - Juegos: Entrenar agentes para jugar videojuegos.\n",
    "\n",
    "  - Robótica: Enseñar a robots a realizar tareas complejas."
   ]
  },
  {
   "cell_type": "markdown",
   "id": "7c36c946-901f-4234-a509-46dcad08b101",
   "metadata": {},
   "source": [
    "## 3. Casos de uso actuales de Machine Learning en diversas industrias\n",
    "El ML está transformando múltiples industrias, aquí algunos ejemplos destacados:"
   ]
  },
  {
   "cell_type": "markdown",
   "id": "d50f8d67-b7e1-48d0-aa7b-4ec020ce4484",
   "metadata": {},
   "source": [
    "### **1.** Salud:\n",
    "\n",
    "- Diagnóstico médico asistido por ML (detección de cáncer, análisis de imágenes médicas).\n",
    "\n",
    "- Predicción de enfermedades basada en historiales clínicos.\n",
    "\n",
    "### **2.** Finanzas:\n",
    "\n",
    "- Detección de fraudes en transacciones bancarias.\n",
    "\n",
    "- Análisis de riesgo crediticio y algoritmos de trading automatizado.\n",
    "\n",
    "### **3.** Retail y E-commerce:\n",
    "\n",
    "- Sistemas de recomendación (productos, películas, música).\n",
    "\n",
    "- Optimización de inventarios y precios dinámicos.\n",
    "\n",
    "### **4.** Transporte y Logística:\n",
    "\n",
    "- Vehículos autónomos (aprendizaje reforzado para la toma de decisiones en tiempo real).\n",
    "\n",
    "- Optimización de rutas de entrega.\n",
    "\n",
    "### **5.** Marketing:\n",
    "\n",
    "- Segmentación de clientes y personalización de campañas publicitarias.\n",
    "\n",
    "- Análisis de sentimientos en redes sociales.\n",
    "\n",
    "### **6.** Manufactura:\n",
    "\n",
    "- Mantenimiento predictivo de maquinaria.\n",
    "\n",
    "- Control de calidad automatizado mediante visión por computadora.\n",
    "\n",
    "### **7.** Energía:\n",
    "\n",
    "- Predicción de demanda energética.\n",
    "\n",
    "- Optimización del uso de recursos en energías renovables.\n",
    "\n"
   ]
  },
  {
   "cell_type": "markdown",
   "id": "39d14913-44e1-45a8-ab5d-3f2b1b191d9f",
   "metadata": {},
   "source": [
    "## 4. Machine Learning en Spark con Scala\n",
    "Apache Spark es una plataforma de procesamiento distribuido que se ha convertido en una herramienta esencial para el desarrollo de aplicaciones de ML a gran escala. Scala, como lenguaje de programación funcional y orientado a objetos, es ampliamente utilizado en el ecosistema de Spark debido a su eficiencia y compatibilidad."
   ]
  },
  {
   "cell_type": "markdown",
   "id": "c526cd65-daed-4c1e-b627-bba161dc5934",
   "metadata": {},
   "source": [
    "- Ventajas de usar Spark para ML:\n",
    "\n",
    "  - Procesamiento distribuido y escalable para grandes volúmenes de datos.\n",
    "\n",
    "  - Librerías integradas como MLlib que facilitan la implementación de algoritmos de ML.\n",
    "\n",
    "  - Soporte para pipelines de datos y modelos complejos.\n",
    "\n",
    "- Ejemplo de uso:\n",
    "\n",
    "  - Entrenar un modelo de clasificación supervisada en Spark utilizando Scala para predecir la probabilidad de abandono de clientes (churn prediction)."
   ]
  },
  {
   "cell_type": "code",
   "execution_count": null,
   "id": "7b7f5a61-a4d0-4be8-afcc-f40baf1dcfe1",
   "metadata": {},
   "outputs": [],
   "source": []
  }
 ],
 "metadata": {
  "kernelspec": {
   "display_name": "Apache Toree - Scala",
   "language": "scala",
   "name": "apache_toree_scala"
  },
  "language_info": {
   "codemirror_mode": "text/x-scala",
   "file_extension": ".scala",
   "mimetype": "text/x-scala",
   "name": "scala",
   "pygments_lexer": "scala",
   "version": "2.12.15"
  }
 },
 "nbformat": 4,
 "nbformat_minor": 5
}
