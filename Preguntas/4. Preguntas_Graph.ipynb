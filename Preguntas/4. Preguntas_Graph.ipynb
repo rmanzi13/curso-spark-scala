{
 "cells": [
  {
   "cell_type": "markdown",
   "id": "d7bfe5ce-b84c-4d34-a752-89ccb32fcdea",
   "metadata": {},
   "source": [
    "## Preguntas_Graph"
   ]
  },
  {
   "cell_type": "markdown",
   "id": "f84b795f-848f-46c1-a89b-532e41dfbc3b",
   "metadata": {},
   "source": [
    "**1.** ¿Qué es GraphX y en qué se diferencia de GraphFrames?\n",
    "\n",
    "**2.** ¿Cómo se encuentran componentes conectados en un grafo?\n",
    "\n",
    "**3.** ¿Qué son los motifs y cómo se utilizan en GraphFrames?\n",
    "\n",
    "**4.** ¿Cómo puedes agregar propiedades a los vértices y aristas en un grafo?\n",
    "\n",
    "**5.** ¿Qué algoritmo de GraphFrames usarías para analizar una red de usuarios y productos?\n",
    "\n",
    "**6.** ¿Cómo se realiza una búsqueda en un grafo en GraphFrames?\n",
    "\n",
    "**7.** ¿Qué es el concepto de expansión de un grafo y cómo se aplica?\n",
    "\n",
    "**8.** ¿Cómo funciona el algoritmo de Triangle Counting en GraphFrames?\n",
    "\n",
    "**9.** ¿Cómo puedes calcular la centralidad en un grafo?\n",
    "\n",
    "**10.** ¿Qué diferencia a GraphX de GraphFrames en cuanto a su implementación?\n"
   ]
  },
  {
   "cell_type": "code",
   "execution_count": null,
   "id": "10f6ea9f-bd71-454d-9b14-ed3b5098035f",
   "metadata": {},
   "outputs": [],
   "source": []
  }
 ],
 "metadata": {
  "kernelspec": {
   "display_name": "Apache Toree - Scala",
   "language": "scala",
   "name": "apache_toree_scala"
  },
  "language_info": {
   "codemirror_mode": "text/x-scala",
   "file_extension": ".scala",
   "mimetype": "text/x-scala",
   "name": "scala",
   "pygments_lexer": "scala",
   "version": "2.12.15"
  }
 },
 "nbformat": 4,
 "nbformat_minor": 5
}
