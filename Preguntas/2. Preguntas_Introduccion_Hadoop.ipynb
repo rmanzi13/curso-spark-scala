{
 "cells": [
  {
   "cell_type": "markdown",
   "id": "f543e531-16ba-4470-b2a8-b0b45259c6db",
   "metadata": {},
   "source": [
    "### Preguntas_Introduccion_Hadoop"
   ]
  },
  {
   "cell_type": "code",
   "execution_count": null,
   "id": "dd93ef57-39ed-4d35-8aac-06950b542cfd",
   "metadata": {},
   "outputs": [],
   "source": [
    "**1.** ¿Qué es un RDD en Spark y cómo se usa?\n",
    "\n",
    "**2.** ¿Cuál es la diferencia entre un RDD y un DataFrame en Spark?\n",
    "\n",
    "**3.** ¿Cómo se realizan consultas SQL en Spark?\n",
    "\n",
    "**4.** ¿Qué es Hive y cómo se integra con Spark?\n",
    "\n",
    "**5.** ¿Qué es un DataFrame y por qué es útil en Spark SQL?\n",
    "\n",
    "**6.**¿Qué operación básica se puede hacer sobre un DataFrame?\n",
    "\n",
    "**1.**¿Qué es el concepto de particionado en Spark?\n",
    "\n",
    "¿Qué es un cluster en Spark?\n",
    "¿Cómo se hace la configuración de Spark en un entorno local?\n",
    "¿Por qué es importante usar particiones en Spark?\n"
   ]
  },
  {
   "cell_type": "markdown",
   "id": "6acc5e94-2f11-4e68-a59e-a7b723c281ec",
   "metadata": {},
   "source": [
    "**1.** ¿Qué es un RDD en Spark y cómo se usa?\n",
    "\r",
    "**2.** \n",
    "¿Cuál es la diferencia entre un RDD y un DataFrame en Spark\n",
    "?**3.** \r\n",
    "¿Cómo se realizan consultas SQL en Spar\n",
    "k**4.** ?\r\n",
    "¿Qué es Hive y cómo se integra con Spa\n",
    "r**5.** k?\r\n",
    "¿Qué es un DataFrame y por qué es útil en Spark \n",
    "S**6.** QL?\r\n",
    "¿Qué operación básica se puede hacer sobre un DataFr**7.** ame?\r\n",
    "¿Qué es el concepto de particionado en S**8.** ¿Qué es un cluster en Spark?\r",
    "**9.** \n",
    "¿Cómo se hace la configuración de Spark en un entorno local?**10** \r\n",
    "¿Por qué es importante usar particiones en Spark?\r\n",
    "park?\r\n"
   ]
  },
  {
   "cell_type": "code",
   "execution_count": null,
   "id": "9bf068fd-94e1-4682-83f8-d6497d3354c3",
   "metadata": {},
   "outputs": [],
   "source": []
  }
 ],
 "metadata": {
  "kernelspec": {
   "display_name": "Apache Toree - Scala",
   "language": "scala",
   "name": "apache_toree_scala"
  },
  "language_info": {
   "codemirror_mode": "text/x-scala",
   "file_extension": ".scala",
   "mimetype": "text/x-scala",
   "name": "scala",
   "pygments_lexer": "scala",
   "version": "2.12.15"
  }
 },
 "nbformat": 4,
 "nbformat_minor": 5
}
