{
 "cells": [
  {
   "cell_type": "markdown",
   "id": "6b01f912-fd4b-4b5c-94c6-81ac993df7f7",
   "metadata": {},
   "source": [
    "### Preguntas Machine Learning MLlib"
   ]
  },
  {
   "cell_type": "markdown",
   "id": "b7fd9fad-2741-47d3-8b91-8c41b2714c2a",
   "metadata": {},
   "source": [
    "**1.** Qué es Spark MLlib?\n",
    "\n",
    "**2.** ¿Cuál es la diferencia entre un Transformer y un Estimator en Spark MLlib?\n",
    "\n",
    "**3.** ¿Qué es un Pipeline en Spark MLlib?\n",
    "\n",
    "**4.** ¿Para qué se usa VectorAssembler en Spark MLlib?\n",
    "\n",
    "**5.** ¿Qué es Cross-Validation y por qué es importante?\n",
    "\n",
    "**6.** ¿Qué es Grid Search y cómo se usa en Spark MLlib?\n",
    "\n",
    "**7.** ¿Cuál es la diferencia entre RMSE y R² en regresión?\n",
    "\n",
    "**8.** ¿Qué métricas se usan comúnmente para evaluar modelos de clasificación?\n",
    "\n",
    "**9.** ¿Cómo se guarda y carga un modelo entrenado en Spark MLlib?\n",
    "\n",
    "**10.** ¿Cuál es la ventaja de usar Random Forest sobre un Árbol de Decisión individual?\r",
    "r."
   ]
  },
  {
   "cell_type": "code",
   "execution_count": null,
   "id": "c11c692a-c987-49fc-91d3-91c741d85994",
   "metadata": {},
   "outputs": [],
   "source": []
  }
 ],
 "metadata": {
  "kernelspec": {
   "display_name": "Apache Toree - Scala",
   "language": "scala",
   "name": "apache_toree_scala"
  },
  "language_info": {
   "codemirror_mode": "text/x-scala",
   "file_extension": ".scala",
   "mimetype": "text/x-scala",
   "name": "scala",
   "pygments_lexer": "scala",
   "version": "2.12.15"
  }
 },
 "nbformat": 4,
 "nbformat_minor": 5
}
