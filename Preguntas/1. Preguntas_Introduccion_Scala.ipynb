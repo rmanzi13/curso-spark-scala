{
 "cells": [
  {
   "cell_type": "markdown",
   "id": "d85127e5-71b9-4675-bf28-665e8bd0e1da",
   "metadata": {},
   "source": [
    "## Preguntas Introduccion a Scala"
   ]
  },
  {
   "cell_type": "markdown",
   "id": "0f99789d-abb3-4609-9362-12409a22018e",
   "metadata": {},
   "source": [
    "**1.** ¿Qué es Scala y en qué se diferencia de otros lenguajes como Java?\n",
    "\n",
    "**2.** ¿Cuáles son las principales características de Scala que lo hacen adecuado para la programación funcional y orientada a objetos?\n",
    "\n",
    "**3.** ¿Qué son las variables inmutables en Scala y cómo se definen?\n",
    "\n",
    "**4** ¿Cómo se definen las variables mutables en Scala y cuál es la diferencia con las inmutables?\n",
    "\n",
    "**5.** Explica la sintaxis básica para definir una función en Scala.\n",
    "\n",
    "**6.** ¿Qué son las expresiones y cómo se diferencian de las declaraciones en Scala?\n",
    "\n",
    "**7.** ¿Cómo puedes crear una lista en Scala? Muestra un ejemplo básico.\n",
    "\n",
    "**8.** ¿Qué es un 'case class' en Scala y para qué se utiliza?\n",
    "\n",
    "**9.** ¿Qué es un 'trait' en Scala y cómo se diferencia de una clase?\n",
    "\n",
    "**10.** ¿Cómo se implementan las estructuras de control básicas como if, else, match en Scala?"
   ]
  },
  {
   "cell_type": "code",
   "execution_count": null,
   "id": "e8e96674-9174-4ce4-ba8f-079a688a08ab",
   "metadata": {},
   "outputs": [],
   "source": []
  }
 ],
 "metadata": {
  "kernelspec": {
   "display_name": "Apache Toree - Scala",
   "language": "scala",
   "name": "apache_toree_scala"
  },
  "language_info": {
   "codemirror_mode": "text/x-scala",
   "file_extension": ".scala",
   "mimetype": "text/x-scala",
   "name": "scala",
   "pygments_lexer": "scala",
   "version": "2.12.15"
  }
 },
 "nbformat": 4,
 "nbformat_minor": 5
}
