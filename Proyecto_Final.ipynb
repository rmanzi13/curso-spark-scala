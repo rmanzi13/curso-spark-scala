{
 "cells": [
  {
   "cell_type": "markdown",
   "id": "b1fe8493-c3c0-4455-8c8d-2c9749f6426d",
   "metadata": {},
   "source": [
    "## Proyecto_Final"
   ]
  },
  {
   "cell_type": "markdown",
   "id": "cc236b26-9b8d-4b33-9dee-24460bdecc53",
   "metadata": {},
   "source": [
    "### **1.** Análisis del Mercado Laboral con Datos de LinkedIn y Spark"
   ]
  },
  {
   "cell_type": "markdown",
   "id": "fea9dc93-8b77-4e23-b949-5b9de00ea694",
   "metadata": {},
   "source": [
    "### **2.** Descripción General del Proyecto:\n",
    "\n",
    "Este proyecto práctico te invita a explorar el dinámico mundo del mercado laboral utilizando datos reales de ofertas de **empleo de LinkedIn**. A través del poder de Spark y Scala, nos sumergiremos en un análisis profundo para descubrir tendencias clave, identificar las empresas líderes en contratación y extraer valiosa información de las descripciones de trabajo.\n",
    "\n",
    "Aprovechando un dataset limpio y bien estructurado, aplicaremos técnicas de Big Data y análisis de datos para responder a preguntas como: ¿Cuáles son las industrias con mayor demanda de talento? ¿Qué habilidades son las más buscadas? ¿Cómo se distribuyen las oportunidades de empleo geográficamente? Y ¿Qué características comparten las empresas que más contratan?\n",
    "\n",
    "Además, exploraremos las relaciones entre empresas y ofertas de trabajo utilizando GraphFrames, permitiéndonos visualizar y analizar la red de conexiones en el mercado laboral.\n",
    "\n",
    "Este proyecto es una oportunidad para consolidar tus conocimientos en **Spark, Scala, Spark SQL y GraphFrames**, mientras trabajas con datos relevantes y actuales. Prepárate para descubrir patrones ocultos, generar visualizaciones impactantes y obtener una visión clara del panorama laboral actual."
   ]
  },
  {
   "cell_type": "markdown",
   "id": "81b55fa4-f71d-4ef4-9947-875cac96472f",
   "metadata": {},
   "source": [
    "### **3.** Dataset"
   ]
  },
  {
   "cell_type": "markdown",
   "id": "c7fd2531-269e-4c0c-921d-1d443048188f",
   "metadata": {},
   "source": [
    "#### **a)** Descripción Dataset:\n",
    "\n",
    "El conjunto de datos de LinkedIn proporciona una visión detallada de 5588 ofertas de empleo, distribuidas en 15 columnas que abarcan información esencial para el análisis del mercado laboral. Este dataset incluye variables clave como el título del puesto, la empresa, la ubicación (ciudad y estado), la industria, el nivel de experiencia, el tipo de trabajo (remoto o en sitio), el número de solicitantes y una descripción detallada de las responsabilidades del puesto. Abarcando una amplia gama de industrias, en especial relacionadas a la ciencia de datos, ingenieria y consultoria, y ubicaciones globales, este conjunto de datos es ideal para aplicar técnicas de Spark y Scala y realizar análisis profundos sobre las tendencias del mercado laboral, la demanda de habilidades y las características de las empresas líderes en contratación."
   ]
  },
  {
   "cell_type": "markdown",
   "id": "d1bfe570-dce7-4632-8d59-7d78dd858671",
   "metadata": {},
   "source": [
    "#### **b)** Datos\n",
    "[Dataset_kaggle](https://www.kaggle.com/datasets/shashankshukla123123/linkedin-job-cleandata)"
   ]
  },
  {
   "cell_type": "markdown",
   "id": "4d65cd44-0a05-4c3b-bcf6-704c021faf4e",
   "metadata": {},
   "source": [
    "#### **c)** Descripción de las variables clave y su significado."
   ]
  },
  {
   "cell_type": "markdown",
   "id": "970954e1-0d3a-4682-8ad5-f4df2c5fbfd8",
   "metadata": {},
   "source": [
    "| Column Name        | Description                                                                                  |\r\n",
    "|--------------------|----------------------------------------------------------------------------------------------|\r\n",
    "| job_ID             | Unique identifier for each job listing.                                                      |\r\n",
    "| designation        | The title or position of the job.                                                             |\r\n",
    "| company_id         | Unique identifier for each company.                                                          |\r\n",
    "| name               | Name of the company offering the job.                                                        |\r\n",
    "| work_type          | Indicates whether the job is remote or on-site.                                              |\r\n",
    "| involvement        | The level of involvement required for the job (e.g., Full-time, Part-time).                  |\r\n",
    "| employees_count    | The count of employees in the company.                                                       |\r\n",
    "| total_applicants   | The total number of applicants for the job.                                                  |\r\n",
    "| linkedin_followers | The number of followers on the company's LinkedIn page.                                      |\r\n",
    "| job_details        | Description of the job and its responsibilities.                                             |\r\n",
    "| details_id         | Unique identifier for the job details.                                                      |\r\n",
    "| industry           | The industry or sector to which the company belongs.                                         |\r\n",
    "| level              | The experience level or seniority associated with the job.                                   |\r\n",
    "| City               | The city where the job is located.                                                           |\r\n",
    "| State              | The state where the job is located.                                                          |\r\n"
   ]
  },
  {
   "cell_type": "markdown",
   "id": "02115c8f-c1c3-4026-8f65-945cc64943ac",
   "metadata": {},
   "source": [
    "### Tipos de Variables"
   ]
  },
  {
   "cell_type": "markdown",
   "id": "0c193b3b-6f22-4dd4-8806-2594a06696f5",
   "metadata": {},
   "source": [
    "#### **1.** Variables categóricas:\n",
    "\n",
    "- **designation**: Puede ser útil para análisis de roles más demandados.\n",
    "- **work_type**: Útil para segmentar trabajos remotos vs. presenciales.\n",
    "- **involvement**: Permite diferenciar entre trabajos de tiempo completo, medio tiempo, etc.\n",
    "- **industry**: Útil para análisis por sector económico.\n",
    "- **level**: Permite clasificar trabajos por nivel de experiencia (junior, senior, etc.).\n",
    "- **City y State**: Útiles para análisis geográficos."
   ]
  },
  {
   "cell_type": "markdown",
   "id": "ef2c2416-0799-441a-9c1f-621f94554a6e",
   "metadata": {},
   "source": [
    "#### **2.** Variables numéricas:\n",
    "\n",
    "- **employees_count**: Puede indicar el tamaño de la empresa.\n",
    "- **total_applicants**: Útil para medir la popularidad de un trabajo.\n",
    "- **linkedin_followers**: Puede ser un indicador de la reputación o visibilidad de la empresa."
   ]
  },
  {
   "cell_type": "markdown",
   "id": "97122f14-1b5a-4d60-b8cc-55cc6eb72d71",
   "metadata": {},
   "source": [
    "#### **3.** Variables de texto:\n",
    "\n",
    "- **job_details**: Puede ser procesado con técnicas de NLP (Procesamiento de Lenguaje Natural) para extraer información relevante, como habilidades requeridas o responsabilidades clave.\n"
   ]
  },
  {
   "cell_type": "markdown",
   "id": "11b88589-49e8-42c4-ad33-104befb3b7e2",
   "metadata": {},
   "source": [
    "#### **4.** Identificadores únicos:\n",
    "\n",
    "- **job_ID, company_id, y details_i**: Son útiles para unir tablas o realizar análisis específicos por trabajo o empresa."
   ]
  },
  {
   "cell_type": "markdown",
   "id": "47de349c-c20b-4860-b396-5b988c6631fd",
   "metadata": {},
   "source": [
    "### **4.** Objetivos del Proyecto:\n",
    "\n",
    "  - Analizar las tendencias del mercado laboral.\n",
    "  - Identificar las empresas con mayor actividad de contratación.\n",
    "  - Extraer información relevante de las descripciones de trabajo.\n",
    "  - Aplicar técnicas de análisis de grafos con Graphframes para ver la relación entre las empresas."
   ]
  },
  {
   "cell_type": "markdown",
   "id": "3e404cc7-d958-40b6-bc2d-984eb80729d3",
   "metadata": {},
   "source": [
    "### **5.** Requisitos Previos:\n",
    "\n",
    "  - Spark con Scala instalado.\n",
    "  - Jupyter Notebook o Zeppelin (opcional).\n",
    "  - Bibliotecas de Spark (Spark SQL, Spark MLlib, Graphframes)."
   ]
  },
  {
   "cell_type": "markdown",
   "id": "e320ffd1-5f8c-4818-b6a3-cc825cf7c5c5",
   "metadata": {},
   "source": [
    "### **6.** Análisis Propuestos:\n",
    "\n",
    "#### **1.** Análisis de la distribución de ofertas de trabajo por industria y ubicación.\n",
    "\n",
    "   **a)** Análisis con Spark SQL\n",
    "   \n",
    "   **b)** Análisis con API de Dataframe\n",
    "   \n",
    "   **c)** Análisis con Graphframes\n",
    "   \n",
    "   **d)** Análisis con MLlib\n",
    "   - Hacer un clustering de las industrias con mayor demanda\n",
    "    \n",
    "#### **2.** Análisis de la relación entre el tamaño de la empresa y el número de solicitantes.\n",
    "\n",
    "   **a)**  Análisis con Spark SQL\n",
    "   \n",
    "   **b)**  Análisis con API de Dataframe\n",
    "   \n",
    "   **c)**  Visualización con GraphFrames\n",
    "   \n",
    "   **d)**  Aplicación de Machine Learning (Regresión)\n",
    "\n",
    "#### **3.** Analisis de las palabras mas usadas en las descripciones de trabajo.\n",
    "\n",
    "   **a)**  Tokenización y Procesamiento de Texto\n",
    "   \n",
    "   **b)**  Contar la Frecuencia de las Palabras\n",
    "   \n",
    "#### **4.** Creación de grafos con Graphframes y analisis de las relaciones entre las empresas.\n",
    "\n",
    "   **a)**  Creación de los Vértices y Bordes\n",
    "   \n",
    "   **b)**  Análisis de la Red de Empresas\n",
    "\n",
    "   - **b1)** Grado de Conexión (Cuántas relaciones tiene cada empresa)\n",
    "       \n",
    "   - **b2)** Identificación de Empresas Más Conectadas (Centralidad)\n",
    "       \n",
    "   - **b3)** Detección de Comunidades Empresariales\n",
    "     \n",
    "     (En Databricks, debes configurar un directorio antes de ejecutar el análisis).\n",
    "       - Ejecuta lo siguiente antes de llamar a connectedComponents:\n",
    "         \n",
    "       // Configurar un directorio de checkpoint en Databricks\n",
    "     \n",
    "        **spark.sparkContext.setCheckpointDir(\"/tmp/checkpoints\")**"
   ]
  },
  {
   "cell_type": "code",
   "execution_count": null,
   "id": "ec9c1314-c556-424c-b533-813624e47779",
   "metadata": {},
   "outputs": [],
   "source": []
  }
 ],
 "metadata": {
  "kernelspec": {
   "display_name": "Apache Toree - Scala",
   "language": "scala",
   "name": "apache_toree_scala"
  },
  "language_info": {
   "codemirror_mode": "text/x-scala",
   "file_extension": ".scala",
   "mimetype": "text/x-scala",
   "name": "scala",
   "pygments_lexer": "scala",
   "version": "2.12.15"
  }
 },
 "nbformat": 4,
 "nbformat_minor": 5
}
