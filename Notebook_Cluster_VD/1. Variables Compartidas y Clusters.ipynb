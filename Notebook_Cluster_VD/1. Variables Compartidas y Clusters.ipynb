{
 "cells": [
  {
   "cell_type": "markdown",
   "id": "8bff599f-8563-4420-94fe-6b3d5c21941a",
   "metadata": {},
   "source": [
    "## Variables Compartidas y Clusters"
   ]
  },
  {
   "cell_type": "markdown",
   "id": "bfdd3677-0a5b-4c4a-878d-691a70963b9c",
   "metadata": {},
   "source": [
    "### 1. Introducción a las Variables Compartidas y Clusters\n",
    "En el contexto de la computación distribuida, las variables compartidas son mecanismos que permiten compartir datos entre los nodos de un clúster de manera eficiente. Estas variables son esenciales para optimizar el rendimiento y reducir la redundancia en operaciones distribuidas, especialmente en frameworks como Apache Spark."
   ]
  },
  {
   "cell_type": "markdown",
   "id": "41f0dacd-d32d-4032-ab98-d68de4a95cce",
   "metadata": {},
   "source": [
    "### 2. Variables Compartidas Distribuidas\n",
    "Las variables compartidas distribuidas son un tipo de variable que se replica en todos los nodos de un clúster, permitiendo que cada nodo acceda a una copia local de los datos. Esto evita la necesidad de enviar grandes volúmenes de datos repetidamente a través de la red, lo que mejora el rendimiento."
   ]
  },
  {
   "cell_type": "markdown",
   "id": "e9d79046-2bd8-460c-92f0-0cbe83df9533",
   "metadata": {},
   "source": [
    "### 3. ¿Qué son las Variables Compartidas?\n",
    "Las variables compartidas son de dos tipos principales:\n",
    "\n",
    "- **Broadcast Variables**: Variables de solo lectura que se envían a todos los nodos del clúster.\n",
    "\n",
    "- **Acumuladores**: Variables que permiten agregar valores de manera distribuida, generalmente para realizar operaciones como conteos o sumas."
   ]
  },
  {
   "cell_type": "markdown",
   "id": "5ba0b396-bf28-43f2-a219-7750ae35b61e",
   "metadata": {},
   "source": [
    "### 4. ¿Qué son las Variables Distribuidas?\n",
    "Las variables distribuidas son aquellas que se almacenan y gestionan en un entorno distribuido, como un clúster. Estas variables pueden ser compartidas entre múltiples tareas o nodos, lo que facilita la ejecución de operaciones paralelas y distribuidas."
   ]
  },
  {
   "cell_type": "markdown",
   "id": "64c4dabe-a550-4ab8-b47d-9e75623ae58c",
   "metadata": {},
   "source": [
    "### 5. Transmisión de Variables (Broadcast Variables)\n",
    "Las Broadcast Variables son útiles cuando se necesita compartir grandes conjuntos de datos, como tablas de búsqueda o modelos de machine learning, con todos los nodos del clúster.\n",
    "\n",
    "- **Casos de uso**:\n",
    "\n",
    "  - **Tablas de búsqueda**: Compartir una tabla de referencia para evitar enviarla repetidamente.\n",
    "\n",
    "  - **Modelos de machine learning**: Distribuir un modelo entrenado para su uso en la inferencia distribuida.\n",
    "\n",
    "- **Ejemplo práctico en Scala con Databricks**:"
   ]
  },
  {
   "cell_type": "code",
   "execution_count": null,
   "id": "59123b58-2746-46ec-a253-1066f1411b40",
   "metadata": {},
   "outputs": [],
   "source": [
    "val broadcastVar = sc.broadcast(Array(1, 2, 3, 4, 5))\n",
    "val result = sc.parallelize(Array(1, 2, 3)).map(x => broadcastVar.value(x))\n",
    "result.collect().foreach(println)"
   ]
  },
  {
   "cell_type": "markdown",
   "id": "5b6e56c9-44b3-4c1f-9ee1-8cb1434377d5",
   "metadata": {},
   "source": [
    "### 6. Acumuladores\n",
    "Los acumuladores son variables que permiten agregar valores de manera distribuida. Son útiles para realizar operaciones como conteos, sumas o estadísticas.\n",
    "\n",
    "- **Casos de uso**:\n",
    "\n",
    "   - **Contadores**: Contar eventos o elementos en un conjunto de datos.\n",
    "\n",
    "   - **Sumas**: Acumular valores numéricos.\n",
    "\n",
    "   - **Estadísticas**: Calcular métricas distribuidas.\n",
    "\n",
    "- Ejemplo práctico en Scala con Databricks:"
   ]
  },
  {
   "cell_type": "code",
   "execution_count": null,
   "id": "0133da07-9b6c-4855-84d4-e3a0e5e55d8b",
   "metadata": {},
   "outputs": [],
   "source": [
    "val accum = sc.longAccumulator(\"Mi Acumulador\")\n",
    "sc.parallelize(Array(1, 2, 3, 4)).foreach(x => accum.add(x))\n",
    "println(accum.value) // Imprime 10"
   ]
  },
  {
   "cell_type": "markdown",
   "id": "fdb46c73-0ec4-4349-869a-210f4ab9603d",
   "metadata": {},
   "source": [
    "### 7. Acumuladores Personalizados\n",
    "En algunos casos, es necesario crear acumuladores personalizados para satisfacer necesidades específicas que no están cubiertas por los acumuladores estándar.\n",
    "\n",
    "- **Creación de acumuladores personalizados**:\n",
    "\n",
    "   - Definir una clase que extienda AccumulatorV2.\n",
    "\n",
    "   - Implementar los métodos necesarios para inicializar, agregar y combinar valores.\n",
    "\n",
    "- **Ejemplo práctico**:"
   ]
  },
  {
   "cell_type": "code",
   "execution_count": null,
   "id": "c90196b1-3c6a-42e7-92b5-8c7f17bfebce",
   "metadata": {},
   "outputs": [],
   "source": [
    "class MiAcumulador extends AccumulatorV2[Int, Int] {\n",
    "  private var _value = 0\n",
    "  def isZero: Boolean = _value == 0\n",
    "  def copy(): MiAcumulador = new MiAcumulador\n",
    "  def reset(): Unit = { _value = 0 }\n",
    "  def add(v: Int): Unit = { _value += v }\n",
    "  def merge(other: AccumulatorV2[Int, Int]): Unit = { _value += other.value }\n",
    "  def value: Int = _value\n",
    "}\n",
    "\n",
    "val miAccum = new MiAcumulador\n",
    "sc.register(miAccum, \"Mi Acumulador Personalizado\")\n",
    "sc.parallelize(Array(1, 2, 3)).foreach(x => miAccum.add(x))\n",
    "println(miAccum.value) // Imprime 6"
   ]
  },
  {
   "cell_type": "markdown",
   "id": "552c2a9b-bbd4-485c-8789-0d7d4659e77d",
   "metadata": {},
   "source": [
    "### 8. Conclusión\n",
    "Las variables compartidas y los acumuladores son herramientas fundamentales en la computación distribuida, especialmente en entornos como Apache Spark. Permiten optimizar el rendimiento, reducir la redundancia y facilitar operaciones complejas en clústeres. Su uso adecuado puede mejorar significativamente la eficiencia de las aplicaciones distribuidas."
   ]
  },
  {
   "cell_type": "code",
   "execution_count": null,
   "id": "b1e7d8d6-0f4f-40af-a3a9-5ecbd7b8b81f",
   "metadata": {},
   "outputs": [],
   "source": []
  }
 ],
 "metadata": {
  "kernelspec": {
   "display_name": "Apache Toree - Scala",
   "language": "scala",
   "name": "apache_toree_scala"
  },
  "language_info": {
   "codemirror_mode": "text/x-scala",
   "file_extension": ".scala",
   "mimetype": "text/x-scala",
   "name": "scala",
   "pygments_lexer": "scala",
   "version": "2.12.15"
  }
 },
 "nbformat": 4,
 "nbformat_minor": 5
}
