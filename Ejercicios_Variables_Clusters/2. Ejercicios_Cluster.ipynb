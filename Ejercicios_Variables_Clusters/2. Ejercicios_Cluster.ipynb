{
 "cells": [
  {
   "cell_type": "markdown",
   "id": "03de59d9-3fab-4e64-9f47-881b09f5f047",
   "metadata": {},
   "source": [
    "##  Ejercicio 1: \n",
    "\n",
    "### Modifica el código para imprimir los identificadores de los ejecutores."
   ]
  },
  {
   "cell_type": "code",
   "execution_count": null,
   "id": "7dfbbe25-a200-4297-ba16-bbfe65578d4a",
   "metadata": {},
   "outputs": [],
   "source": []
  },
  {
   "cell_type": "markdown",
   "id": "bc900578-b121-4689-b782-fc03d7e5b071",
   "metadata": {},
   "source": [
    "## Ejercicio 2 \n",
    "### Agregar una transformación para agrupar las ventas por producto y sumar el tota"
   ]
  },
  {
   "cell_type": "code",
   "execution_count": null,
   "id": "e78eb28e-9793-415f-8c11-cbcc37e36f07",
   "metadata": {},
   "outputs": [],
   "source": []
  },
  {
   "cell_type": "markdown",
   "id": "742dc35b-f52c-4c61-bc9e-94022676ce55",
   "metadata": {},
   "source": [
    "## Ejercicio 3 para alumnos\n",
    "\n",
    "### a) Filtrar palabras que aparezcan más de una vez.\n",
    "  \n",
    "### b) Ordenar las palabras por frecuencia."
   ]
  },
  {
   "cell_type": "code",
   "execution_count": null,
   "id": "adfddaf9-0b8c-4090-a642-a409d58bdaf7",
   "metadata": {},
   "outputs": [],
   "source": []
  },
  {
   "cell_type": "markdown",
   "id": "d549d23c-b0c9-4cbf-befb-6e24d23ba3c5",
   "metadata": {},
   "source": [
    "## Ejercico 4 \n",
    "\n",
    "### Usar StorageLevel.MEMORY_AND_DISK y comparar "
   ]
  },
  {
   "cell_type": "code",
   "execution_count": null,
   "id": "1946ca7d-29ca-4db3-8e3b-b758145e34b8",
   "metadata": {},
   "outputs": [],
   "source": []
  }
 ],
 "metadata": {
  "kernelspec": {
   "display_name": "Apache Toree - Scala",
   "language": "scala",
   "name": "apache_toree_scala"
  },
  "language_info": {
   "codemirror_mode": "text/x-scala",
   "file_extension": ".scala",
   "mimetype": "text/x-scala",
   "name": "scala",
   "pygments_lexer": "scala",
   "version": "2.12.15"
  }
 },
 "nbformat": 4,
 "nbformat_minor": 5
}
